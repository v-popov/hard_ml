{
 "cells": [
  {
   "cell_type": "code",
   "execution_count": 1,
   "metadata": {},
   "outputs": [],
   "source": [
    "import pandas as pd\n",
    "import numpy as np"
   ]
  },
  {
   "cell_type": "code",
   "execution_count": 2,
   "metadata": {},
   "outputs": [],
   "source": [
    "from pandas.plotting import autocorrelation_plot"
   ]
  },
  {
   "cell_type": "code",
   "execution_count": 3,
   "metadata": {},
   "outputs": [],
   "source": [
    "#import visualization libraries\n",
    "import matplotlib.pyplot as plt\n",
    "import seaborn as sns\n",
    "color = sns.color_palette()\n",
    "\n",
    "%matplotlib inline"
   ]
  },
  {
   "cell_type": "code",
   "execution_count": 4,
   "metadata": {},
   "outputs": [],
   "source": [
    "ZX_df = pd.read_csv('ZX10208_agr.csv')"
   ]
  },
  {
   "cell_type": "code",
   "execution_count": 5,
   "metadata": {},
   "outputs": [
    {
     "data": {
      "text/html": [
       "<div>\n",
       "<style scoped>\n",
       "    .dataframe tbody tr th:only-of-type {\n",
       "        vertical-align: middle;\n",
       "    }\n",
       "\n",
       "    .dataframe tbody tr th {\n",
       "        vertical-align: top;\n",
       "    }\n",
       "\n",
       "    .dataframe thead th {\n",
       "        text-align: right;\n",
       "    }\n",
       "</style>\n",
       "<table border=\"1\" class=\"dataframe\">\n",
       "  <thead>\n",
       "    <tr style=\"text-align: right;\">\n",
       "      <th></th>\n",
       "      <th>dates</th>\n",
       "      <th>SKU</th>\n",
       "      <th>price_per_sku</th>\n",
       "      <th>num_purchases</th>\n",
       "    </tr>\n",
       "  </thead>\n",
       "  <tbody>\n",
       "    <tr>\n",
       "      <th>0</th>\n",
       "      <td>2018-04-20</td>\n",
       "      <td>59567</td>\n",
       "      <td>169.19</td>\n",
       "      <td>3</td>\n",
       "    </tr>\n",
       "    <tr>\n",
       "      <th>1</th>\n",
       "      <td>2018-04-24</td>\n",
       "      <td>59567</td>\n",
       "      <td>171.71</td>\n",
       "      <td>3</td>\n",
       "    </tr>\n",
       "    <tr>\n",
       "      <th>2</th>\n",
       "      <td>2018-04-27</td>\n",
       "      <td>59567</td>\n",
       "      <td>174.04</td>\n",
       "      <td>3</td>\n",
       "    </tr>\n",
       "    <tr>\n",
       "      <th>3</th>\n",
       "      <td>2018-04-30</td>\n",
       "      <td>59567</td>\n",
       "      <td>NaN</td>\n",
       "      <td>1</td>\n",
       "    </tr>\n",
       "    <tr>\n",
       "      <th>4</th>\n",
       "      <td>2018-05-03</td>\n",
       "      <td>59567</td>\n",
       "      <td>176.38</td>\n",
       "      <td>2</td>\n",
       "    </tr>\n",
       "    <tr>\n",
       "      <th>...</th>\n",
       "      <td>...</td>\n",
       "      <td>...</td>\n",
       "      <td>...</td>\n",
       "      <td>...</td>\n",
       "    </tr>\n",
       "    <tr>\n",
       "      <th>254</th>\n",
       "      <td>2019-12-23</td>\n",
       "      <td>82947</td>\n",
       "      <td>NaN</td>\n",
       "      <td>1</td>\n",
       "    </tr>\n",
       "    <tr>\n",
       "      <th>255</th>\n",
       "      <td>2019-12-24</td>\n",
       "      <td>82947</td>\n",
       "      <td>195.46</td>\n",
       "      <td>2</td>\n",
       "    </tr>\n",
       "    <tr>\n",
       "      <th>256</th>\n",
       "      <td>2019-12-25</td>\n",
       "      <td>82947</td>\n",
       "      <td>195.21</td>\n",
       "      <td>1</td>\n",
       "    </tr>\n",
       "    <tr>\n",
       "      <th>257</th>\n",
       "      <td>2019-12-26</td>\n",
       "      <td>82947</td>\n",
       "      <td>193.79</td>\n",
       "      <td>1</td>\n",
       "    </tr>\n",
       "    <tr>\n",
       "      <th>258</th>\n",
       "      <td>2019-12-28</td>\n",
       "      <td>82947</td>\n",
       "      <td>194.78</td>\n",
       "      <td>1</td>\n",
       "    </tr>\n",
       "  </tbody>\n",
       "</table>\n",
       "<p>259 rows × 4 columns</p>\n",
       "</div>"
      ],
      "text/plain": [
       "          dates    SKU  price_per_sku  num_purchases\n",
       "0    2018-04-20  59567         169.19              3\n",
       "1    2018-04-24  59567         171.71              3\n",
       "2    2018-04-27  59567         174.04              3\n",
       "3    2018-04-30  59567            NaN              1\n",
       "4    2018-05-03  59567         176.38              2\n",
       "..          ...    ...            ...            ...\n",
       "254  2019-12-23  82947            NaN              1\n",
       "255  2019-12-24  82947         195.46              2\n",
       "256  2019-12-25  82947         195.21              1\n",
       "257  2019-12-26  82947         193.79              1\n",
       "258  2019-12-28  82947         194.78              1\n",
       "\n",
       "[259 rows x 4 columns]"
      ]
     },
     "execution_count": 5,
     "metadata": {},
     "output_type": "execute_result"
    }
   ],
   "source": [
    "ZX_df"
   ]
  },
  {
   "cell_type": "code",
   "execution_count": 5,
   "metadata": {},
   "outputs": [],
   "source": [
    "ZX_df['dates'] = pd.to_datetime(ZX_df.dates)"
   ]
  },
  {
   "cell_type": "code",
   "execution_count": 6,
   "metadata": {},
   "outputs": [],
   "source": [
    "pivot_t = ZX_df.pivot_table(index='dates',columns='SKU', values='price_per_sku')"
   ]
  },
  {
   "cell_type": "code",
   "execution_count": 8,
   "metadata": {},
   "outputs": [
    {
     "data": {
      "text/plain": [
       "<matplotlib.axes._subplots.AxesSubplot at 0x7ffbcf75c350>"
      ]
     },
     "execution_count": 8,
     "metadata": {},
     "output_type": "execute_result"
    },
    {
     "data": {
      "image/png": "[encoded data removed]",
      "text/plain": [
       "<Figure size 864x576 with 1 Axes>"
      ]
     },
     "metadata": {
      "needs_background": "light"
     },
     "output_type": "display_data"
    }
   ],
   "source": [
    "plt.figure(figsize=(12,8))\n",
    "sns.lineplot(data =pivot_t)"
   ]
  },
  {
   "cell_type": "code",
   "execution_count": 6,
   "metadata": {},
   "outputs": [],
   "source": [
    "ZX_df['price_per_sku'] = ZX_df.groupby('SKU').price_per_sku.ffill()"
   ]
  },
  {
   "cell_type": "code",
   "execution_count": 10,
   "metadata": {},
   "outputs": [],
   "source": [
    "pivot_t = ZX_df.pivot_table(index='dates',columns='SKU', values='price_per_sku')"
   ]
  },
  {
   "cell_type": "code",
   "execution_count": 11,
   "metadata": {},
   "outputs": [
    {
     "data": {
      "text/plain": [
       "<matplotlib.axes._subplots.AxesSubplot at 0x7fbecca73450>"
      ]
     },
     "execution_count": 11,
     "metadata": {},
     "output_type": "execute_result"
    },
    {
     "data": {
      "image/png": "[encoded data removed]",
      "text/plain": [
       "<Figure size 864x576 with 1 Axes>"
      ]
     },
     "metadata": {
      "needs_background": "light"
     },
     "output_type": "display_data"
    }
   ],
   "source": [
    "plt.figure(figsize=(12,8))\n",
    "sns.lineplot(data =pivot_t)"
   ]
  },
  {
   "cell_type": "code",
   "execution_count": 8,
   "metadata": {},
   "outputs": [],
   "source": [
    "df_59567 = ZX_df[ZX_df.SKU == 59567]"
   ]
  },
  {
   "cell_type": "code",
   "execution_count": null,
   "metadata": {},
   "outputs": [],
   "source": []
  },
  {
   "cell_type": "code",
   "execution_count": 9,
   "metadata": {},
   "outputs": [
    {
     "name": "stderr",
     "output_type": "stream",
     "text": [
      "/Users/sgafarov/opt/anaconda3/lib/python3.7/site-packages/ipykernel_launcher.py:1: FutureWarning: Treating datetime data as categorical rather than numeric in `.describe` is deprecated and will be removed in a future version of pandas. Specify `datetime_is_numeric=True` to silence this warning and adopt the future behavior now.\n",
      "  \"\"\"Entry point for launching an IPython kernel.\n"
     ]
    },
    {
     "data": {
      "text/plain": [
       "count                     156\n",
       "unique                    156\n",
       "top       2018-12-21 00:00:00\n",
       "freq                        1\n",
       "first     2018-04-20 00:00:00\n",
       "last      2019-04-21 00:00:00\n",
       "Name: dates, dtype: object"
      ]
     },
     "execution_count": 9,
     "metadata": {},
     "output_type": "execute_result"
    }
   ],
   "source": [
    "df_59567.dates.describe()"
   ]
  },
  {
   "cell_type": "code",
   "execution_count": null,
   "metadata": {},
   "outputs": [],
   "source": []
  },
  {
   "cell_type": "code",
   "execution_count": 9,
   "metadata": {},
   "outputs": [],
   "source": [
    "train_df = df_59567[df_59567.dates <= pd.to_datetime('2019-04-01')]\n",
    "test_df = df_59567[df_59567.dates > pd.to_datetime('2019-04-01')]"
   ]
  },
  {
   "cell_type": "code",
   "execution_count": 11,
   "metadata": {},
   "outputs": [
    {
     "data": {
      "text/plain": [
       "(145, 4)"
      ]
     },
     "execution_count": 11,
     "metadata": {},
     "output_type": "execute_result"
    }
   ],
   "source": [
    "train_df.shape"
   ]
  },
  {
   "cell_type": "code",
   "execution_count": 12,
   "metadata": {},
   "outputs": [
    {
     "data": {
      "text/plain": [
       "(11, 4)"
      ]
     },
     "execution_count": 12,
     "metadata": {},
     "output_type": "execute_result"
    }
   ],
   "source": [
    "test_df.shape"
   ]
  },
  {
   "cell_type": "code",
   "execution_count": null,
   "metadata": {},
   "outputs": [],
   "source": []
  },
  {
   "cell_type": "code",
   "execution_count": 18,
   "metadata": {},
   "outputs": [],
   "source": [
    "from statsmodels.tsa.ar_model import AutoReg\n",
    "from statsmodels.tsa.arima.model import ARIMA\n",
    "from statsmodels.tsa.statespace.sarimax import SARIMAX\n",
    "from statsmodels.tsa.vector_ar.var_model import VAR\n",
    "from statsmodels.tsa.statespace.varmax import VARMAX\n",
    "from statsmodels.tsa.holtwinters import SimpleExpSmoothing"
   ]
  },
  {
   "cell_type": "code",
   "execution_count": null,
   "metadata": {},
   "outputs": [],
   "source": []
  },
  {
   "cell_type": "code",
   "execution_count": null,
   "metadata": {},
   "outputs": [],
   "source": []
  },
  {
   "cell_type": "code",
   "execution_count": null,
   "metadata": {},
   "outputs": [],
   "source": []
  },
  {
   "cell_type": "code",
   "execution_count": 19,
   "metadata": {
    "scrolled": false
   },
   "outputs": [
    {
     "data": {
      "text/plain": [
       "<matplotlib.axes._subplots.AxesSubplot at 0x7fbecd564dd0>"
      ]
     },
     "execution_count": 19,
     "metadata": {},
     "output_type": "execute_result"
    },
    {
     "data": {
      "image/png": "[encoded data removed]",
      "text/plain": [
       "<Figure size 864x576 with 1 Axes>"
      ]
     },
     "metadata": {
      "needs_background": "light"
     },
     "output_type": "display_data"
    }
   ],
   "source": [
    "plt.figure(figsize=(12,8))\n",
    "autocorrelation_plot(df_59567.price_per_sku.values)"
   ]
  },
  {
   "cell_type": "code",
   "execution_count": null,
   "metadata": {},
   "outputs": [],
   "source": []
  },
  {
   "cell_type": "code",
   "execution_count": null,
   "metadata": {},
   "outputs": [],
   "source": []
  },
  {
   "cell_type": "code",
   "execution_count": 20,
   "metadata": {},
   "outputs": [],
   "source": [
    "#1 Autoregression\n",
    "AR = AutoReg(train_df.price_per_sku.values, lags=20)\n",
    "AR_model = AR.fit()"
   ]
  },
  {
   "cell_type": "code",
   "execution_count": 21,
   "metadata": {},
   "outputs": [
    {
     "data": {
      "text/plain": [
       "array([ 1.60820207e+01,  1.06938563e+00, -1.46162089e-01, -1.30899380e-01,\n",
       "        1.57571721e-01,  6.47218415e-02, -1.11758222e-01,  5.59600227e-02,\n",
       "       -3.76933446e-02,  1.47311386e-02, -6.18697944e-02,  2.73159049e-01,\n",
       "       -3.18091136e-01,  1.60588852e-01, -7.09107645e-02, -6.92044450e-02,\n",
       "        1.41846291e-01, -1.33862976e-01,  4.72945316e-02,  4.09616542e-02,\n",
       "       -3.34062939e-02])"
      ]
     },
     "execution_count": 21,
     "metadata": {},
     "output_type": "execute_result"
    }
   ],
   "source": [
    "AR_model.params"
   ]
  },
  {
   "cell_type": "code",
   "execution_count": 22,
   "metadata": {},
   "outputs": [
    {
     "data": {
      "text/plain": [
       "array([180.44857402, 180.4443652 , 180.87926656, 181.70071796,\n",
       "       180.70814628, 181.08981343, 181.11552473, 181.10372658,\n",
       "       182.38490989, 182.0267328 , 182.55686698])"
      ]
     },
     "execution_count": 22,
     "metadata": {},
     "output_type": "execute_result"
    }
   ],
   "source": [
    "AR_model.predict(start =len(train_df), end= len(train_df) + len(test_df)-1, \n",
    "                 dynamic=False)"
   ]
  },
  {
   "cell_type": "code",
   "execution_count": 23,
   "metadata": {},
   "outputs": [
    {
     "name": "stderr",
     "output_type": "stream",
     "text": [
      "/Users/sgafarov/opt/anaconda3/lib/python3.7/site-packages/ipykernel_launcher.py:2: SettingWithCopyWarning: \n",
      "A value is trying to be set on a copy of a slice from a DataFrame.\n",
      "Try using .loc[row_indexer,col_indexer] = value instead\n",
      "\n",
      "See the caveats in the documentation: https://pandas.pydata.org/pandas-docs/stable/user_guide/indexing.html#returning-a-view-versus-a-copy\n",
      "  \n"
     ]
    }
   ],
   "source": [
    "test_df['AR_model_prediction'] = AR_model.predict(start =len(train_df), end= len(train_df) + len(test_df)-1, \n",
    "                 dynamic=False)"
   ]
  },
  {
   "cell_type": "code",
   "execution_count": 24,
   "metadata": {},
   "outputs": [
    {
     "data": {
      "text/html": [
       "<div>\n",
       "<style scoped>\n",
       "    .dataframe tbody tr th:only-of-type {\n",
       "        vertical-align: middle;\n",
       "    }\n",
       "\n",
       "    .dataframe tbody tr th {\n",
       "        vertical-align: top;\n",
       "    }\n",
       "\n",
       "    .dataframe thead th {\n",
       "        text-align: right;\n",
       "    }\n",
       "</style>\n",
       "<table border=\"1\" class=\"dataframe\">\n",
       "  <thead>\n",
       "    <tr style=\"text-align: right;\">\n",
       "      <th></th>\n",
       "      <th>dates</th>\n",
       "      <th>SKU</th>\n",
       "      <th>price_per_sku</th>\n",
       "      <th>num_purchases</th>\n",
       "      <th>AR_model_prediction</th>\n",
       "    </tr>\n",
       "  </thead>\n",
       "  <tbody>\n",
       "    <tr>\n",
       "      <th>192</th>\n",
       "      <td>2019-04-02</td>\n",
       "      <td>59567</td>\n",
       "      <td>181.86</td>\n",
       "      <td>2</td>\n",
       "      <td>180.448574</td>\n",
       "    </tr>\n",
       "    <tr>\n",
       "      <th>194</th>\n",
       "      <td>2019-04-06</td>\n",
       "      <td>59567</td>\n",
       "      <td>181.83</td>\n",
       "      <td>2</td>\n",
       "      <td>180.444365</td>\n",
       "    </tr>\n",
       "    <tr>\n",
       "      <th>195</th>\n",
       "      <td>2019-04-08</td>\n",
       "      <td>59567</td>\n",
       "      <td>181.83</td>\n",
       "      <td>1</td>\n",
       "      <td>180.879267</td>\n",
       "    </tr>\n",
       "    <tr>\n",
       "      <th>196</th>\n",
       "      <td>2019-04-09</td>\n",
       "      <td>59567</td>\n",
       "      <td>181.67</td>\n",
       "      <td>1</td>\n",
       "      <td>181.700718</td>\n",
       "    </tr>\n",
       "    <tr>\n",
       "      <th>197</th>\n",
       "      <td>2019-04-10</td>\n",
       "      <td>59567</td>\n",
       "      <td>180.08</td>\n",
       "      <td>2</td>\n",
       "      <td>180.708146</td>\n",
       "    </tr>\n",
       "    <tr>\n",
       "      <th>198</th>\n",
       "      <td>2019-04-11</td>\n",
       "      <td>59567</td>\n",
       "      <td>179.97</td>\n",
       "      <td>2</td>\n",
       "      <td>181.089813</td>\n",
       "    </tr>\n",
       "    <tr>\n",
       "      <th>199</th>\n",
       "      <td>2019-04-12</td>\n",
       "      <td>59567</td>\n",
       "      <td>179.03</td>\n",
       "      <td>1</td>\n",
       "      <td>181.115525</td>\n",
       "    </tr>\n",
       "    <tr>\n",
       "      <th>200</th>\n",
       "      <td>2019-04-13</td>\n",
       "      <td>59567</td>\n",
       "      <td>179.36</td>\n",
       "      <td>1</td>\n",
       "      <td>181.103727</td>\n",
       "    </tr>\n",
       "    <tr>\n",
       "      <th>202</th>\n",
       "      <td>2019-04-16</td>\n",
       "      <td>59567</td>\n",
       "      <td>178.61</td>\n",
       "      <td>2</td>\n",
       "      <td>182.384910</td>\n",
       "    </tr>\n",
       "    <tr>\n",
       "      <th>203</th>\n",
       "      <td>2019-04-18</td>\n",
       "      <td>59567</td>\n",
       "      <td>177.77</td>\n",
       "      <td>1</td>\n",
       "      <td>182.026733</td>\n",
       "    </tr>\n",
       "    <tr>\n",
       "      <th>204</th>\n",
       "      <td>2019-04-21</td>\n",
       "      <td>59567</td>\n",
       "      <td>177.77</td>\n",
       "      <td>1</td>\n",
       "      <td>182.556867</td>\n",
       "    </tr>\n",
       "  </tbody>\n",
       "</table>\n",
       "</div>"
      ],
      "text/plain": [
       "         dates    SKU  price_per_sku  num_purchases  AR_model_prediction\n",
       "192 2019-04-02  59567         181.86              2           180.448574\n",
       "194 2019-04-06  59567         181.83              2           180.444365\n",
       "195 2019-04-08  59567         181.83              1           180.879267\n",
       "196 2019-04-09  59567         181.67              1           181.700718\n",
       "197 2019-04-10  59567         180.08              2           180.708146\n",
       "198 2019-04-11  59567         179.97              2           181.089813\n",
       "199 2019-04-12  59567         179.03              1           181.115525\n",
       "200 2019-04-13  59567         179.36              1           181.103727\n",
       "202 2019-04-16  59567         178.61              2           182.384910\n",
       "203 2019-04-18  59567         177.77              1           182.026733\n",
       "204 2019-04-21  59567         177.77              1           182.556867"
      ]
     },
     "execution_count": 24,
     "metadata": {},
     "output_type": "execute_result"
    }
   ],
   "source": [
    "test_df"
   ]
  },
  {
   "cell_type": "code",
   "execution_count": null,
   "metadata": {},
   "outputs": [],
   "source": []
  },
  {
   "cell_type": "code",
   "execution_count": 45,
   "metadata": {},
   "outputs": [
    {
     "name": "stderr",
     "output_type": "stream",
     "text": [
      "/Users/sgafarov/opt/anaconda3/lib/python3.7/site-packages/statsmodels/base/model.py:568: ConvergenceWarning: Maximum Likelihood optimization failed to converge. Check mle_retvals\n",
      "  \"Check mle_retvals\", ConvergenceWarning)\n"
     ]
    }
   ],
   "source": [
    "# Moving Avarage\n",
    "MA = ARIMA(train_df.price_per_sku.values, order=(0,0,20))\n",
    "MA_model = MA.fit()"
   ]
  },
  {
   "cell_type": "code",
   "execution_count": 44,
   "metadata": {},
   "outputs": [
    {
     "data": {
      "text/plain": [
       "array([180.53606319, 181.14499876, 181.41489575, 182.55466922,\n",
       "       181.9822047 , 182.47017115, 182.31006661, 181.64238174,\n",
       "       182.02806049, 181.34016624, 181.55893436])"
      ]
     },
     "execution_count": 44,
     "metadata": {},
     "output_type": "execute_result"
    }
   ],
   "source": [
    "MA_model.predict(start =len(train_df), end= len(train_df) + len(test_df)-1)"
   ]
  },
  {
   "cell_type": "code",
   "execution_count": 27,
   "metadata": {},
   "outputs": [
    {
     "name": "stderr",
     "output_type": "stream",
     "text": [
      "/Users/sgafarov/opt/anaconda3/lib/python3.7/site-packages/ipykernel_launcher.py:1: SettingWithCopyWarning: \n",
      "A value is trying to be set on a copy of a slice from a DataFrame.\n",
      "Try using .loc[row_indexer,col_indexer] = value instead\n",
      "\n",
      "See the caveats in the documentation: https://pandas.pydata.org/pandas-docs/stable/user_guide/indexing.html#returning-a-view-versus-a-copy\n",
      "  \"\"\"Entry point for launching an IPython kernel.\n"
     ]
    }
   ],
   "source": [
    "test_df['MA_model_prediction'] = MA_model.predict(start =len(train_df), end= len(train_df) + len(test_df)-1)"
   ]
  },
  {
   "cell_type": "code",
   "execution_count": 28,
   "metadata": {},
   "outputs": [
    {
     "data": {
      "text/html": [
       "<div>\n",
       "<style scoped>\n",
       "    .dataframe tbody tr th:only-of-type {\n",
       "        vertical-align: middle;\n",
       "    }\n",
       "\n",
       "    .dataframe tbody tr th {\n",
       "        vertical-align: top;\n",
       "    }\n",
       "\n",
       "    .dataframe thead th {\n",
       "        text-align: right;\n",
       "    }\n",
       "</style>\n",
       "<table border=\"1\" class=\"dataframe\">\n",
       "  <thead>\n",
       "    <tr style=\"text-align: right;\">\n",
       "      <th></th>\n",
       "      <th>dates</th>\n",
       "      <th>SKU</th>\n",
       "      <th>price_per_sku</th>\n",
       "      <th>num_purchases</th>\n",
       "      <th>AR_model_prediction</th>\n",
       "      <th>MA_model_prediction</th>\n",
       "    </tr>\n",
       "  </thead>\n",
       "  <tbody>\n",
       "    <tr>\n",
       "      <th>192</th>\n",
       "      <td>2019-04-02</td>\n",
       "      <td>59567</td>\n",
       "      <td>181.86</td>\n",
       "      <td>2</td>\n",
       "      <td>180.448574</td>\n",
       "      <td>181.141344</td>\n",
       "    </tr>\n",
       "    <tr>\n",
       "      <th>194</th>\n",
       "      <td>2019-04-06</td>\n",
       "      <td>59567</td>\n",
       "      <td>181.83</td>\n",
       "      <td>2</td>\n",
       "      <td>180.444365</td>\n",
       "      <td>180.971612</td>\n",
       "    </tr>\n",
       "    <tr>\n",
       "      <th>195</th>\n",
       "      <td>2019-04-08</td>\n",
       "      <td>59567</td>\n",
       "      <td>181.83</td>\n",
       "      <td>1</td>\n",
       "      <td>180.879267</td>\n",
       "      <td>181.784956</td>\n",
       "    </tr>\n",
       "    <tr>\n",
       "      <th>196</th>\n",
       "      <td>2019-04-09</td>\n",
       "      <td>59567</td>\n",
       "      <td>181.67</td>\n",
       "      <td>1</td>\n",
       "      <td>181.700718</td>\n",
       "      <td>182.459536</td>\n",
       "    </tr>\n",
       "    <tr>\n",
       "      <th>197</th>\n",
       "      <td>2019-04-10</td>\n",
       "      <td>59567</td>\n",
       "      <td>180.08</td>\n",
       "      <td>2</td>\n",
       "      <td>180.708146</td>\n",
       "      <td>181.104239</td>\n",
       "    </tr>\n",
       "    <tr>\n",
       "      <th>198</th>\n",
       "      <td>2019-04-11</td>\n",
       "      <td>59567</td>\n",
       "      <td>179.97</td>\n",
       "      <td>2</td>\n",
       "      <td>181.089813</td>\n",
       "      <td>181.896388</td>\n",
       "    </tr>\n",
       "    <tr>\n",
       "      <th>199</th>\n",
       "      <td>2019-04-12</td>\n",
       "      <td>59567</td>\n",
       "      <td>179.03</td>\n",
       "      <td>1</td>\n",
       "      <td>181.115525</td>\n",
       "      <td>181.058841</td>\n",
       "    </tr>\n",
       "    <tr>\n",
       "      <th>200</th>\n",
       "      <td>2019-04-13</td>\n",
       "      <td>59567</td>\n",
       "      <td>179.36</td>\n",
       "      <td>1</td>\n",
       "      <td>181.103727</td>\n",
       "      <td>181.754725</td>\n",
       "    </tr>\n",
       "    <tr>\n",
       "      <th>202</th>\n",
       "      <td>2019-04-16</td>\n",
       "      <td>59567</td>\n",
       "      <td>178.61</td>\n",
       "      <td>2</td>\n",
       "      <td>182.384910</td>\n",
       "      <td>182.562164</td>\n",
       "    </tr>\n",
       "    <tr>\n",
       "      <th>203</th>\n",
       "      <td>2019-04-18</td>\n",
       "      <td>59567</td>\n",
       "      <td>177.77</td>\n",
       "      <td>1</td>\n",
       "      <td>182.026733</td>\n",
       "      <td>181.310846</td>\n",
       "    </tr>\n",
       "    <tr>\n",
       "      <th>204</th>\n",
       "      <td>2019-04-21</td>\n",
       "      <td>59567</td>\n",
       "      <td>177.77</td>\n",
       "      <td>1</td>\n",
       "      <td>182.556867</td>\n",
       "      <td>182.609678</td>\n",
       "    </tr>\n",
       "  </tbody>\n",
       "</table>\n",
       "</div>"
      ],
      "text/plain": [
       "         dates    SKU  price_per_sku  num_purchases  AR_model_prediction  \\\n",
       "192 2019-04-02  59567         181.86              2           180.448574   \n",
       "194 2019-04-06  59567         181.83              2           180.444365   \n",
       "195 2019-04-08  59567         181.83              1           180.879267   \n",
       "196 2019-04-09  59567         181.67              1           181.700718   \n",
       "197 2019-04-10  59567         180.08              2           180.708146   \n",
       "198 2019-04-11  59567         179.97              2           181.089813   \n",
       "199 2019-04-12  59567         179.03              1           181.115525   \n",
       "200 2019-04-13  59567         179.36              1           181.103727   \n",
       "202 2019-04-16  59567         178.61              2           182.384910   \n",
       "203 2019-04-18  59567         177.77              1           182.026733   \n",
       "204 2019-04-21  59567         177.77              1           182.556867   \n",
       "\n",
       "     MA_model_prediction  \n",
       "192           181.141344  \n",
       "194           180.971612  \n",
       "195           181.784956  \n",
       "196           182.459536  \n",
       "197           181.104239  \n",
       "198           181.896388  \n",
       "199           181.058841  \n",
       "200           181.754725  \n",
       "202           182.562164  \n",
       "203           181.310846  \n",
       "204           182.609678  "
      ]
     },
     "execution_count": 28,
     "metadata": {},
     "output_type": "execute_result"
    }
   ],
   "source": [
    "test_df"
   ]
  },
  {
   "cell_type": "code",
   "execution_count": null,
   "metadata": {},
   "outputs": [],
   "source": []
  },
  {
   "cell_type": "code",
   "execution_count": null,
   "metadata": {},
   "outputs": [],
   "source": []
  },
  {
   "cell_type": "code",
   "execution_count": null,
   "metadata": {},
   "outputs": [],
   "source": []
  },
  {
   "cell_type": "code",
   "execution_count": null,
   "metadata": {},
   "outputs": [],
   "source": []
  },
  {
   "cell_type": "code",
   "execution_count": null,
   "metadata": {},
   "outputs": [],
   "source": []
  },
  {
   "cell_type": "code",
   "execution_count": 38,
   "metadata": {},
   "outputs": [],
   "source": [
    "# Autoregressive moving average(ARMA)\n",
    "ARMA = ARIMA(train_df.price_per_sku.values, order=(1,0,1))\n",
    "ARMA_model = ARMA.fit()"
   ]
  },
  {
   "cell_type": "code",
   "execution_count": 39,
   "metadata": {},
   "outputs": [
    {
     "data": {
      "text/plain": [
       "array([179.97184905, 179.98234841, 179.99237897, 180.00196167,\n",
       "       180.0111165 , 180.01986257, 180.02821814, 180.03620062,\n",
       "       180.04382669, 180.05111226, 180.05807253])"
      ]
     },
     "execution_count": 39,
     "metadata": {},
     "output_type": "execute_result"
    }
   ],
   "source": [
    "ARMA_model.predict(start =len(train_df), end= len(train_df) + len(test_df)-1)"
   ]
  },
  {
   "cell_type": "code",
   "execution_count": 31,
   "metadata": {},
   "outputs": [
    {
     "name": "stderr",
     "output_type": "stream",
     "text": [
      "/Users/sgafarov/opt/anaconda3/lib/python3.7/site-packages/ipykernel_launcher.py:1: SettingWithCopyWarning: \n",
      "A value is trying to be set on a copy of a slice from a DataFrame.\n",
      "Try using .loc[row_indexer,col_indexer] = value instead\n",
      "\n",
      "See the caveats in the documentation: https://pandas.pydata.org/pandas-docs/stable/user_guide/indexing.html#returning-a-view-versus-a-copy\n",
      "  \"\"\"Entry point for launching an IPython kernel.\n"
     ]
    }
   ],
   "source": [
    "test_df['ARMA_model_prediction'] = ARMA_model.predict(start =len(train_df), end= len(train_df) + len(test_df)-1)"
   ]
  },
  {
   "cell_type": "code",
   "execution_count": null,
   "metadata": {},
   "outputs": [],
   "source": []
  },
  {
   "cell_type": "code",
   "execution_count": null,
   "metadata": {},
   "outputs": [],
   "source": []
  },
  {
   "cell_type": "code",
   "execution_count": null,
   "metadata": {},
   "outputs": [],
   "source": []
  },
  {
   "cell_type": "code",
   "execution_count": 64,
   "metadata": {},
   "outputs": [
    {
     "name": "stderr",
     "output_type": "stream",
     "text": [
      "/Users/sgafarov/opt/anaconda3/lib/python3.7/site-packages/statsmodels/tsa/statespace/sarimax.py:963: UserWarning: Non-stationary starting autoregressive parameters found. Using zeros as starting parameters.\n",
      "  warn('Non-stationary starting autoregressive parameters'\n",
      "/Users/sgafarov/opt/anaconda3/lib/python3.7/site-packages/statsmodels/tsa/statespace/sarimax.py:975: UserWarning: Non-invertible starting MA parameters found. Using zeros as starting parameters.\n",
      "  warn('Non-invertible starting MA parameters found.'\n",
      "/Users/sgafarov/opt/anaconda3/lib/python3.7/site-packages/statsmodels/base/model.py:568: ConvergenceWarning: Maximum Likelihood optimization failed to converge. Check mle_retvals\n",
      "  \"Check mle_retvals\", ConvergenceWarning)\n"
     ]
    }
   ],
   "source": [
    "# Autoregressive Integrated Moving Average\n",
    "ARIMA_ = ARIMA(train_df.price_per_sku.values, order=(20,1,20))\n",
    "ARIMA_model = ARIMA_.fit()"
   ]
  },
  {
   "cell_type": "code",
   "execution_count": null,
   "metadata": {},
   "outputs": [],
   "source": []
  },
  {
   "cell_type": "code",
   "execution_count": 51,
   "metadata": {},
   "outputs": [
    {
     "data": {
      "text/plain": [
       "array([180.03640121, 180.10816036, 180.17555951, 180.23886357,\n",
       "       180.29832135, 180.35416654, 180.40661865, 180.45588382,\n",
       "       180.5021557 , 180.54561615, 180.586436  ])"
      ]
     },
     "execution_count": 51,
     "metadata": {},
     "output_type": "execute_result"
    }
   ],
   "source": [
    "ARIMA_model.predict(start =len(train_df), end= len(train_df) + len(test_df)-1)"
   ]
  },
  {
   "cell_type": "code",
   "execution_count": 69,
   "metadata": {},
   "outputs": [
    {
     "name": "stderr",
     "output_type": "stream",
     "text": [
      "/Users/sgafarov/opt/anaconda3/lib/python3.7/site-packages/ipykernel_launcher.py:1: SettingWithCopyWarning: \n",
      "A value is trying to be set on a copy of a slice from a DataFrame.\n",
      "Try using .loc[row_indexer,col_indexer] = value instead\n",
      "\n",
      "See the caveats in the documentation: https://pandas.pydata.org/pandas-docs/stable/user_guide/indexing.html#returning-a-view-versus-a-copy\n",
      "  \"\"\"Entry point for launching an IPython kernel.\n"
     ]
    }
   ],
   "source": [
    "test_df['ARIMA_model_prediction'] = ARIMA_model.predict(start =len(train_df), end= len(train_df) + len(test_df)-1)"
   ]
  },
  {
   "cell_type": "code",
   "execution_count": 53,
   "metadata": {},
   "outputs": [
    {
     "data": {
      "text/html": [
       "<div>\n",
       "<style scoped>\n",
       "    .dataframe tbody tr th:only-of-type {\n",
       "        vertical-align: middle;\n",
       "    }\n",
       "\n",
       "    .dataframe tbody tr th {\n",
       "        vertical-align: top;\n",
       "    }\n",
       "\n",
       "    .dataframe thead th {\n",
       "        text-align: right;\n",
       "    }\n",
       "</style>\n",
       "<table border=\"1\" class=\"dataframe\">\n",
       "  <thead>\n",
       "    <tr style=\"text-align: right;\">\n",
       "      <th></th>\n",
       "      <th>dates</th>\n",
       "      <th>SKU</th>\n",
       "      <th>price_per_sku</th>\n",
       "      <th>num_purchases</th>\n",
       "      <th>AR_model_prediction</th>\n",
       "      <th>MA_model_prediction</th>\n",
       "      <th>ARMA_model_prediction</th>\n",
       "      <th>ARIMA_model_prediction</th>\n",
       "    </tr>\n",
       "  </thead>\n",
       "  <tbody>\n",
       "    <tr>\n",
       "      <th>192</th>\n",
       "      <td>2019-04-02</td>\n",
       "      <td>59567</td>\n",
       "      <td>181.86</td>\n",
       "      <td>2</td>\n",
       "      <td>180.448574</td>\n",
       "      <td>181.141344</td>\n",
       "      <td>180.710981</td>\n",
       "      <td>180.036401</td>\n",
       "    </tr>\n",
       "    <tr>\n",
       "      <th>194</th>\n",
       "      <td>2019-04-06</td>\n",
       "      <td>59567</td>\n",
       "      <td>181.83</td>\n",
       "      <td>2</td>\n",
       "      <td>180.444365</td>\n",
       "      <td>180.971612</td>\n",
       "      <td>180.616855</td>\n",
       "      <td>180.108160</td>\n",
       "    </tr>\n",
       "    <tr>\n",
       "      <th>195</th>\n",
       "      <td>2019-04-08</td>\n",
       "      <td>59567</td>\n",
       "      <td>181.83</td>\n",
       "      <td>1</td>\n",
       "      <td>180.879267</td>\n",
       "      <td>181.784956</td>\n",
       "      <td>180.377470</td>\n",
       "      <td>180.175560</td>\n",
       "    </tr>\n",
       "    <tr>\n",
       "      <th>196</th>\n",
       "      <td>2019-04-09</td>\n",
       "      <td>59567</td>\n",
       "      <td>181.67</td>\n",
       "      <td>1</td>\n",
       "      <td>181.700718</td>\n",
       "      <td>182.459536</td>\n",
       "      <td>181.147074</td>\n",
       "      <td>180.238864</td>\n",
       "    </tr>\n",
       "    <tr>\n",
       "      <th>197</th>\n",
       "      <td>2019-04-10</td>\n",
       "      <td>59567</td>\n",
       "      <td>180.08</td>\n",
       "      <td>2</td>\n",
       "      <td>180.708146</td>\n",
       "      <td>181.104239</td>\n",
       "      <td>178.487079</td>\n",
       "      <td>180.298321</td>\n",
       "    </tr>\n",
       "    <tr>\n",
       "      <th>198</th>\n",
       "      <td>2019-04-11</td>\n",
       "      <td>59567</td>\n",
       "      <td>179.97</td>\n",
       "      <td>2</td>\n",
       "      <td>181.089813</td>\n",
       "      <td>181.896388</td>\n",
       "      <td>179.365294</td>\n",
       "      <td>180.354167</td>\n",
       "    </tr>\n",
       "    <tr>\n",
       "      <th>199</th>\n",
       "      <td>2019-04-12</td>\n",
       "      <td>59567</td>\n",
       "      <td>179.03</td>\n",
       "      <td>1</td>\n",
       "      <td>181.115525</td>\n",
       "      <td>181.058841</td>\n",
       "      <td>178.331751</td>\n",
       "      <td>180.406619</td>\n",
       "    </tr>\n",
       "    <tr>\n",
       "      <th>200</th>\n",
       "      <td>2019-04-13</td>\n",
       "      <td>59567</td>\n",
       "      <td>179.36</td>\n",
       "      <td>1</td>\n",
       "      <td>181.103727</td>\n",
       "      <td>181.754725</td>\n",
       "      <td>178.413759</td>\n",
       "      <td>180.455884</td>\n",
       "    </tr>\n",
       "    <tr>\n",
       "      <th>202</th>\n",
       "      <td>2019-04-16</td>\n",
       "      <td>59567</td>\n",
       "      <td>178.61</td>\n",
       "      <td>2</td>\n",
       "      <td>182.384910</td>\n",
       "      <td>182.562164</td>\n",
       "      <td>180.189759</td>\n",
       "      <td>180.502156</td>\n",
       "    </tr>\n",
       "    <tr>\n",
       "      <th>203</th>\n",
       "      <td>2019-04-18</td>\n",
       "      <td>59567</td>\n",
       "      <td>177.77</td>\n",
       "      <td>1</td>\n",
       "      <td>182.026733</td>\n",
       "      <td>181.310846</td>\n",
       "      <td>179.350564</td>\n",
       "      <td>180.545616</td>\n",
       "    </tr>\n",
       "    <tr>\n",
       "      <th>204</th>\n",
       "      <td>2019-04-21</td>\n",
       "      <td>59567</td>\n",
       "      <td>177.77</td>\n",
       "      <td>1</td>\n",
       "      <td>182.556867</td>\n",
       "      <td>182.609678</td>\n",
       "      <td>180.896032</td>\n",
       "      <td>180.586436</td>\n",
       "    </tr>\n",
       "  </tbody>\n",
       "</table>\n",
       "</div>"
      ],
      "text/plain": [
       "         dates    SKU  price_per_sku  num_purchases  AR_model_prediction  \\\n",
       "192 2019-04-02  59567         181.86              2           180.448574   \n",
       "194 2019-04-06  59567         181.83              2           180.444365   \n",
       "195 2019-04-08  59567         181.83              1           180.879267   \n",
       "196 2019-04-09  59567         181.67              1           181.700718   \n",
       "197 2019-04-10  59567         180.08              2           180.708146   \n",
       "198 2019-04-11  59567         179.97              2           181.089813   \n",
       "199 2019-04-12  59567         179.03              1           181.115525   \n",
       "200 2019-04-13  59567         179.36              1           181.103727   \n",
       "202 2019-04-16  59567         178.61              2           182.384910   \n",
       "203 2019-04-18  59567         177.77              1           182.026733   \n",
       "204 2019-04-21  59567         177.77              1           182.556867   \n",
       "\n",
       "     MA_model_prediction  ARMA_model_prediction  ARIMA_model_prediction  \n",
       "192           181.141344             180.710981              180.036401  \n",
       "194           180.971612             180.616855              180.108160  \n",
       "195           181.784956             180.377470              180.175560  \n",
       "196           182.459536             181.147074              180.238864  \n",
       "197           181.104239             178.487079              180.298321  \n",
       "198           181.896388             179.365294              180.354167  \n",
       "199           181.058841             178.331751              180.406619  \n",
       "200           181.754725             178.413759              180.455884  \n",
       "202           182.562164             180.189759              180.502156  \n",
       "203           181.310846             179.350564              180.545616  \n",
       "204           182.609678             180.896032              180.586436  "
      ]
     },
     "execution_count": 53,
     "metadata": {},
     "output_type": "execute_result"
    }
   ],
   "source": [
    "test_df"
   ]
  },
  {
   "cell_type": "code",
   "execution_count": null,
   "metadata": {},
   "outputs": [],
   "source": []
  },
  {
   "cell_type": "code",
   "execution_count": null,
   "metadata": {},
   "outputs": [],
   "source": []
  },
  {
   "cell_type": "code",
   "execution_count": 54,
   "metadata": {},
   "outputs": [
    {
     "name": "stderr",
     "output_type": "stream",
     "text": [
      "/Users/sgafarov/opt/anaconda3/lib/python3.7/site-packages/statsmodels/tsa/statespace/sarimax.py:963: UserWarning: Non-stationary starting autoregressive parameters found. Using zeros as starting parameters.\n",
      "  warn('Non-stationary starting autoregressive parameters'\n",
      "/Users/sgafarov/opt/anaconda3/lib/python3.7/site-packages/statsmodels/tsa/statespace/sarimax.py:975: UserWarning: Non-invertible starting MA parameters found. Using zeros as starting parameters.\n",
      "  warn('Non-invertible starting MA parameters found.'\n",
      "/Users/sgafarov/opt/anaconda3/lib/python3.7/site-packages/statsmodels/base/model.py:568: ConvergenceWarning: Maximum Likelihood optimization failed to converge. Check mle_retvals\n",
      "  \"Check mle_retvals\", ConvergenceWarning)\n"
     ]
    }
   ],
   "source": [
    "# Seasonal Autoregressive Integrated Moving-Average \n",
    "SARIMA = SARIMAX(train_df.price_per_sku.values, order=(20,1,20), seasonal= (0,0,0,0))\n",
    "SARIMA_model = SARIMA.fit()"
   ]
  },
  {
   "cell_type": "code",
   "execution_count": 55,
   "metadata": {},
   "outputs": [
    {
     "data": {
      "text/plain": [
       "array([180.83348221, 180.48046756, 180.31703176, 181.11388551,\n",
       "       178.70003908, 179.14214423, 177.75482661, 177.77942526,\n",
       "       179.95119152, 178.97000545, 180.37461838])"
      ]
     },
     "execution_count": 55,
     "metadata": {},
     "output_type": "execute_result"
    }
   ],
   "source": [
    "SARIMA_model.predict(start =len(train_df), end= len(train_df) + len(test_df)-1)"
   ]
  },
  {
   "cell_type": "code",
   "execution_count": 56,
   "metadata": {},
   "outputs": [
    {
     "name": "stderr",
     "output_type": "stream",
     "text": [
      "/Users/sgafarov/opt/anaconda3/lib/python3.7/site-packages/ipykernel_launcher.py:1: SettingWithCopyWarning: \n",
      "A value is trying to be set on a copy of a slice from a DataFrame.\n",
      "Try using .loc[row_indexer,col_indexer] = value instead\n",
      "\n",
      "See the caveats in the documentation: https://pandas.pydata.org/pandas-docs/stable/user_guide/indexing.html#returning-a-view-versus-a-copy\n",
      "  \"\"\"Entry point for launching an IPython kernel.\n"
     ]
    }
   ],
   "source": [
    "test_df['SARIMA_model_prediction'] = SARIMA_model.predict(start =len(train_df), end= len(train_df) + len(test_df)-1)"
   ]
  },
  {
   "cell_type": "code",
   "execution_count": 57,
   "metadata": {},
   "outputs": [
    {
     "data": {
      "text/html": [
       "<div>\n",
       "<style scoped>\n",
       "    .dataframe tbody tr th:only-of-type {\n",
       "        vertical-align: middle;\n",
       "    }\n",
       "\n",
       "    .dataframe tbody tr th {\n",
       "        vertical-align: top;\n",
       "    }\n",
       "\n",
       "    .dataframe thead th {\n",
       "        text-align: right;\n",
       "    }\n",
       "</style>\n",
       "<table border=\"1\" class=\"dataframe\">\n",
       "  <thead>\n",
       "    <tr style=\"text-align: right;\">\n",
       "      <th></th>\n",
       "      <th>dates</th>\n",
       "      <th>SKU</th>\n",
       "      <th>price_per_sku</th>\n",
       "      <th>num_purchases</th>\n",
       "      <th>AR_model_prediction</th>\n",
       "      <th>MA_model_prediction</th>\n",
       "      <th>ARMA_model_prediction</th>\n",
       "      <th>ARIMA_model_prediction</th>\n",
       "      <th>SARIMA_model_prediction</th>\n",
       "    </tr>\n",
       "  </thead>\n",
       "  <tbody>\n",
       "    <tr>\n",
       "      <th>192</th>\n",
       "      <td>2019-04-02</td>\n",
       "      <td>59567</td>\n",
       "      <td>181.86</td>\n",
       "      <td>2</td>\n",
       "      <td>180.448574</td>\n",
       "      <td>181.141344</td>\n",
       "      <td>180.710981</td>\n",
       "      <td>180.036401</td>\n",
       "      <td>180.833482</td>\n",
       "    </tr>\n",
       "    <tr>\n",
       "      <th>194</th>\n",
       "      <td>2019-04-06</td>\n",
       "      <td>59567</td>\n",
       "      <td>181.83</td>\n",
       "      <td>2</td>\n",
       "      <td>180.444365</td>\n",
       "      <td>180.971612</td>\n",
       "      <td>180.616855</td>\n",
       "      <td>180.108160</td>\n",
       "      <td>180.480468</td>\n",
       "    </tr>\n",
       "    <tr>\n",
       "      <th>195</th>\n",
       "      <td>2019-04-08</td>\n",
       "      <td>59567</td>\n",
       "      <td>181.83</td>\n",
       "      <td>1</td>\n",
       "      <td>180.879267</td>\n",
       "      <td>181.784956</td>\n",
       "      <td>180.377470</td>\n",
       "      <td>180.175560</td>\n",
       "      <td>180.317032</td>\n",
       "    </tr>\n",
       "    <tr>\n",
       "      <th>196</th>\n",
       "      <td>2019-04-09</td>\n",
       "      <td>59567</td>\n",
       "      <td>181.67</td>\n",
       "      <td>1</td>\n",
       "      <td>181.700718</td>\n",
       "      <td>182.459536</td>\n",
       "      <td>181.147074</td>\n",
       "      <td>180.238864</td>\n",
       "      <td>181.113886</td>\n",
       "    </tr>\n",
       "    <tr>\n",
       "      <th>197</th>\n",
       "      <td>2019-04-10</td>\n",
       "      <td>59567</td>\n",
       "      <td>180.08</td>\n",
       "      <td>2</td>\n",
       "      <td>180.708146</td>\n",
       "      <td>181.104239</td>\n",
       "      <td>178.487079</td>\n",
       "      <td>180.298321</td>\n",
       "      <td>178.700039</td>\n",
       "    </tr>\n",
       "    <tr>\n",
       "      <th>198</th>\n",
       "      <td>2019-04-11</td>\n",
       "      <td>59567</td>\n",
       "      <td>179.97</td>\n",
       "      <td>2</td>\n",
       "      <td>181.089813</td>\n",
       "      <td>181.896388</td>\n",
       "      <td>179.365294</td>\n",
       "      <td>180.354167</td>\n",
       "      <td>179.142144</td>\n",
       "    </tr>\n",
       "    <tr>\n",
       "      <th>199</th>\n",
       "      <td>2019-04-12</td>\n",
       "      <td>59567</td>\n",
       "      <td>179.03</td>\n",
       "      <td>1</td>\n",
       "      <td>181.115525</td>\n",
       "      <td>181.058841</td>\n",
       "      <td>178.331751</td>\n",
       "      <td>180.406619</td>\n",
       "      <td>177.754827</td>\n",
       "    </tr>\n",
       "    <tr>\n",
       "      <th>200</th>\n",
       "      <td>2019-04-13</td>\n",
       "      <td>59567</td>\n",
       "      <td>179.36</td>\n",
       "      <td>1</td>\n",
       "      <td>181.103727</td>\n",
       "      <td>181.754725</td>\n",
       "      <td>178.413759</td>\n",
       "      <td>180.455884</td>\n",
       "      <td>177.779425</td>\n",
       "    </tr>\n",
       "    <tr>\n",
       "      <th>202</th>\n",
       "      <td>2019-04-16</td>\n",
       "      <td>59567</td>\n",
       "      <td>178.61</td>\n",
       "      <td>2</td>\n",
       "      <td>182.384910</td>\n",
       "      <td>182.562164</td>\n",
       "      <td>180.189759</td>\n",
       "      <td>180.502156</td>\n",
       "      <td>179.951192</td>\n",
       "    </tr>\n",
       "    <tr>\n",
       "      <th>203</th>\n",
       "      <td>2019-04-18</td>\n",
       "      <td>59567</td>\n",
       "      <td>177.77</td>\n",
       "      <td>1</td>\n",
       "      <td>182.026733</td>\n",
       "      <td>181.310846</td>\n",
       "      <td>179.350564</td>\n",
       "      <td>180.545616</td>\n",
       "      <td>178.970005</td>\n",
       "    </tr>\n",
       "    <tr>\n",
       "      <th>204</th>\n",
       "      <td>2019-04-21</td>\n",
       "      <td>59567</td>\n",
       "      <td>177.77</td>\n",
       "      <td>1</td>\n",
       "      <td>182.556867</td>\n",
       "      <td>182.609678</td>\n",
       "      <td>180.896032</td>\n",
       "      <td>180.586436</td>\n",
       "      <td>180.374618</td>\n",
       "    </tr>\n",
       "  </tbody>\n",
       "</table>\n",
       "</div>"
      ],
      "text/plain": [
       "         dates    SKU  price_per_sku  num_purchases  AR_model_prediction  \\\n",
       "192 2019-04-02  59567         181.86              2           180.448574   \n",
       "194 2019-04-06  59567         181.83              2           180.444365   \n",
       "195 2019-04-08  59567         181.83              1           180.879267   \n",
       "196 2019-04-09  59567         181.67              1           181.700718   \n",
       "197 2019-04-10  59567         180.08              2           180.708146   \n",
       "198 2019-04-11  59567         179.97              2           181.089813   \n",
       "199 2019-04-12  59567         179.03              1           181.115525   \n",
       "200 2019-04-13  59567         179.36              1           181.103727   \n",
       "202 2019-04-16  59567         178.61              2           182.384910   \n",
       "203 2019-04-18  59567         177.77              1           182.026733   \n",
       "204 2019-04-21  59567         177.77              1           182.556867   \n",
       "\n",
       "     MA_model_prediction  ARMA_model_prediction  ARIMA_model_prediction  \\\n",
       "192           181.141344             180.710981              180.036401   \n",
       "194           180.971612             180.616855              180.108160   \n",
       "195           181.784956             180.377470              180.175560   \n",
       "196           182.459536             181.147074              180.238864   \n",
       "197           181.104239             178.487079              180.298321   \n",
       "198           181.896388             179.365294              180.354167   \n",
       "199           181.058841             178.331751              180.406619   \n",
       "200           181.754725             178.413759              180.455884   \n",
       "202           182.562164             180.189759              180.502156   \n",
       "203           181.310846             179.350564              180.545616   \n",
       "204           182.609678             180.896032              180.586436   \n",
       "\n",
       "     SARIMA_model_prediction  \n",
       "192               180.833482  \n",
       "194               180.480468  \n",
       "195               180.317032  \n",
       "196               181.113886  \n",
       "197               178.700039  \n",
       "198               179.142144  \n",
       "199               177.754827  \n",
       "200               177.779425  \n",
       "202               179.951192  \n",
       "203               178.970005  \n",
       "204               180.374618  "
      ]
     },
     "execution_count": 57,
     "metadata": {},
     "output_type": "execute_result"
    }
   ],
   "source": [
    "test_df"
   ]
  },
  {
   "cell_type": "code",
   "execution_count": 58,
   "metadata": {},
   "outputs": [],
   "source": [
    "# Simple Exponential Smoothing\n",
    "SES = SimpleExpSmoothing(train_df.price_per_sku.values)\n",
    "SES_model = SES.fit()"
   ]
  },
  {
   "cell_type": "code",
   "execution_count": 59,
   "metadata": {},
   "outputs": [
    {
     "data": {
      "text/plain": [
       "array([179.96, 179.96, 179.96, 179.96, 179.96, 179.96, 179.96, 179.96,\n",
       "       179.96, 179.96, 179.96])"
      ]
     },
     "execution_count": 59,
     "metadata": {},
     "output_type": "execute_result"
    }
   ],
   "source": [
    "SES_model.predict(start =len(train_df), end= len(train_df) + len(test_df)-1)"
   ]
  },
  {
   "cell_type": "code",
   "execution_count": 60,
   "metadata": {},
   "outputs": [
    {
     "name": "stderr",
     "output_type": "stream",
     "text": [
      "/Users/sgafarov/opt/anaconda3/lib/python3.7/site-packages/ipykernel_launcher.py:1: SettingWithCopyWarning: \n",
      "A value is trying to be set on a copy of a slice from a DataFrame.\n",
      "Try using .loc[row_indexer,col_indexer] = value instead\n",
      "\n",
      "See the caveats in the documentation: https://pandas.pydata.org/pandas-docs/stable/user_guide/indexing.html#returning-a-view-versus-a-copy\n",
      "  \"\"\"Entry point for launching an IPython kernel.\n"
     ]
    }
   ],
   "source": [
    "test_df['SES_model_prediction'] = SES_model.predict(start =len(train_df), end= len(train_df) + len(test_df)-1)"
   ]
  },
  {
   "cell_type": "code",
   "execution_count": 61,
   "metadata": {},
   "outputs": [
    {
     "data": {
      "text/html": [
       "<div>\n",
       "<style scoped>\n",
       "    .dataframe tbody tr th:only-of-type {\n",
       "        vertical-align: middle;\n",
       "    }\n",
       "\n",
       "    .dataframe tbody tr th {\n",
       "        vertical-align: top;\n",
       "    }\n",
       "\n",
       "    .dataframe thead th {\n",
       "        text-align: right;\n",
       "    }\n",
       "</style>\n",
       "<table border=\"1\" class=\"dataframe\">\n",
       "  <thead>\n",
       "    <tr style=\"text-align: right;\">\n",
       "      <th></th>\n",
       "      <th>dates</th>\n",
       "      <th>SKU</th>\n",
       "      <th>price_per_sku</th>\n",
       "      <th>num_purchases</th>\n",
       "      <th>AR_model_prediction</th>\n",
       "      <th>MA_model_prediction</th>\n",
       "      <th>ARMA_model_prediction</th>\n",
       "      <th>ARIMA_model_prediction</th>\n",
       "      <th>SARIMA_model_prediction</th>\n",
       "      <th>SES_model_prediction</th>\n",
       "    </tr>\n",
       "  </thead>\n",
       "  <tbody>\n",
       "    <tr>\n",
       "      <th>192</th>\n",
       "      <td>2019-04-02</td>\n",
       "      <td>59567</td>\n",
       "      <td>181.86</td>\n",
       "      <td>2</td>\n",
       "      <td>180.448574</td>\n",
       "      <td>181.141344</td>\n",
       "      <td>180.710981</td>\n",
       "      <td>180.036401</td>\n",
       "      <td>180.833482</td>\n",
       "      <td>179.96</td>\n",
       "    </tr>\n",
       "    <tr>\n",
       "      <th>194</th>\n",
       "      <td>2019-04-06</td>\n",
       "      <td>59567</td>\n",
       "      <td>181.83</td>\n",
       "      <td>2</td>\n",
       "      <td>180.444365</td>\n",
       "      <td>180.971612</td>\n",
       "      <td>180.616855</td>\n",
       "      <td>180.108160</td>\n",
       "      <td>180.480468</td>\n",
       "      <td>179.96</td>\n",
       "    </tr>\n",
       "    <tr>\n",
       "      <th>195</th>\n",
       "      <td>2019-04-08</td>\n",
       "      <td>59567</td>\n",
       "      <td>181.83</td>\n",
       "      <td>1</td>\n",
       "      <td>180.879267</td>\n",
       "      <td>181.784956</td>\n",
       "      <td>180.377470</td>\n",
       "      <td>180.175560</td>\n",
       "      <td>180.317032</td>\n",
       "      <td>179.96</td>\n",
       "    </tr>\n",
       "    <tr>\n",
       "      <th>196</th>\n",
       "      <td>2019-04-09</td>\n",
       "      <td>59567</td>\n",
       "      <td>181.67</td>\n",
       "      <td>1</td>\n",
       "      <td>181.700718</td>\n",
       "      <td>182.459536</td>\n",
       "      <td>181.147074</td>\n",
       "      <td>180.238864</td>\n",
       "      <td>181.113886</td>\n",
       "      <td>179.96</td>\n",
       "    </tr>\n",
       "    <tr>\n",
       "      <th>197</th>\n",
       "      <td>2019-04-10</td>\n",
       "      <td>59567</td>\n",
       "      <td>180.08</td>\n",
       "      <td>2</td>\n",
       "      <td>180.708146</td>\n",
       "      <td>181.104239</td>\n",
       "      <td>178.487079</td>\n",
       "      <td>180.298321</td>\n",
       "      <td>178.700039</td>\n",
       "      <td>179.96</td>\n",
       "    </tr>\n",
       "    <tr>\n",
       "      <th>198</th>\n",
       "      <td>2019-04-11</td>\n",
       "      <td>59567</td>\n",
       "      <td>179.97</td>\n",
       "      <td>2</td>\n",
       "      <td>181.089813</td>\n",
       "      <td>181.896388</td>\n",
       "      <td>179.365294</td>\n",
       "      <td>180.354167</td>\n",
       "      <td>179.142144</td>\n",
       "      <td>179.96</td>\n",
       "    </tr>\n",
       "    <tr>\n",
       "      <th>199</th>\n",
       "      <td>2019-04-12</td>\n",
       "      <td>59567</td>\n",
       "      <td>179.03</td>\n",
       "      <td>1</td>\n",
       "      <td>181.115525</td>\n",
       "      <td>181.058841</td>\n",
       "      <td>178.331751</td>\n",
       "      <td>180.406619</td>\n",
       "      <td>177.754827</td>\n",
       "      <td>179.96</td>\n",
       "    </tr>\n",
       "    <tr>\n",
       "      <th>200</th>\n",
       "      <td>2019-04-13</td>\n",
       "      <td>59567</td>\n",
       "      <td>179.36</td>\n",
       "      <td>1</td>\n",
       "      <td>181.103727</td>\n",
       "      <td>181.754725</td>\n",
       "      <td>178.413759</td>\n",
       "      <td>180.455884</td>\n",
       "      <td>177.779425</td>\n",
       "      <td>179.96</td>\n",
       "    </tr>\n",
       "    <tr>\n",
       "      <th>202</th>\n",
       "      <td>2019-04-16</td>\n",
       "      <td>59567</td>\n",
       "      <td>178.61</td>\n",
       "      <td>2</td>\n",
       "      <td>182.384910</td>\n",
       "      <td>182.562164</td>\n",
       "      <td>180.189759</td>\n",
       "      <td>180.502156</td>\n",
       "      <td>179.951192</td>\n",
       "      <td>179.96</td>\n",
       "    </tr>\n",
       "    <tr>\n",
       "      <th>203</th>\n",
       "      <td>2019-04-18</td>\n",
       "      <td>59567</td>\n",
       "      <td>177.77</td>\n",
       "      <td>1</td>\n",
       "      <td>182.026733</td>\n",
       "      <td>181.310846</td>\n",
       "      <td>179.350564</td>\n",
       "      <td>180.545616</td>\n",
       "      <td>178.970005</td>\n",
       "      <td>179.96</td>\n",
       "    </tr>\n",
       "    <tr>\n",
       "      <th>204</th>\n",
       "      <td>2019-04-21</td>\n",
       "      <td>59567</td>\n",
       "      <td>177.77</td>\n",
       "      <td>1</td>\n",
       "      <td>182.556867</td>\n",
       "      <td>182.609678</td>\n",
       "      <td>180.896032</td>\n",
       "      <td>180.586436</td>\n",
       "      <td>180.374618</td>\n",
       "      <td>179.96</td>\n",
       "    </tr>\n",
       "  </tbody>\n",
       "</table>\n",
       "</div>"
      ],
      "text/plain": [
       "         dates    SKU  price_per_sku  num_purchases  AR_model_prediction  \\\n",
       "192 2019-04-02  59567         181.86              2           180.448574   \n",
       "194 2019-04-06  59567         181.83              2           180.444365   \n",
       "195 2019-04-08  59567         181.83              1           180.879267   \n",
       "196 2019-04-09  59567         181.67              1           181.700718   \n",
       "197 2019-04-10  59567         180.08              2           180.708146   \n",
       "198 2019-04-11  59567         179.97              2           181.089813   \n",
       "199 2019-04-12  59567         179.03              1           181.115525   \n",
       "200 2019-04-13  59567         179.36              1           181.103727   \n",
       "202 2019-04-16  59567         178.61              2           182.384910   \n",
       "203 2019-04-18  59567         177.77              1           182.026733   \n",
       "204 2019-04-21  59567         177.77              1           182.556867   \n",
       "\n",
       "     MA_model_prediction  ARMA_model_prediction  ARIMA_model_prediction  \\\n",
       "192           181.141344             180.710981              180.036401   \n",
       "194           180.971612             180.616855              180.108160   \n",
       "195           181.784956             180.377470              180.175560   \n",
       "196           182.459536             181.147074              180.238864   \n",
       "197           181.104239             178.487079              180.298321   \n",
       "198           181.896388             179.365294              180.354167   \n",
       "199           181.058841             178.331751              180.406619   \n",
       "200           181.754725             178.413759              180.455884   \n",
       "202           182.562164             180.189759              180.502156   \n",
       "203           181.310846             179.350564              180.545616   \n",
       "204           182.609678             180.896032              180.586436   \n",
       "\n",
       "     SARIMA_model_prediction  SES_model_prediction  \n",
       "192               180.833482                179.96  \n",
       "194               180.480468                179.96  \n",
       "195               180.317032                179.96  \n",
       "196               181.113886                179.96  \n",
       "197               178.700039                179.96  \n",
       "198               179.142144                179.96  \n",
       "199               177.754827                179.96  \n",
       "200               177.779425                179.96  \n",
       "202               179.951192                179.96  \n",
       "203               178.970005                179.96  \n",
       "204               180.374618                179.96  "
      ]
     },
     "execution_count": 61,
     "metadata": {},
     "output_type": "execute_result"
    }
   ],
   "source": [
    "test_df"
   ]
  },
  {
   "cell_type": "code",
   "execution_count": 8,
   "metadata": {},
   "outputs": [
    {
     "ename": "NameError",
     "evalue": "name 'train_df' is not defined",
     "output_type": "error",
     "traceback": [
      "\u001b[0;31m---------------------------------------------------------------------------\u001b[0m",
      "\u001b[0;31mNameError\u001b[0m                                 Traceback (most recent call last)",
      "\u001b[0;32m<ipython-input-8-ef797c2b3b5b>\u001b[0m in \u001b[0;36m<module>\u001b[0;34m\u001b[0m\n\u001b[0;32m----> 1\u001b[0;31m \u001b[0mtrain_df\u001b[0m\u001b[0;34m\u001b[0m\u001b[0;34m\u001b[0m\u001b[0m\n\u001b[0m",
      "\u001b[0;31mNameError\u001b[0m: name 'train_df' is not defined"
     ]
    }
   ],
   "source": []
  },
  {
   "cell_type": "code",
   "execution_count": null,
   "metadata": {},
   "outputs": [],
   "source": []
  },
  {
   "cell_type": "code",
   "execution_count": null,
   "metadata": {},
   "outputs": [],
   "source": []
  },
  {
   "cell_type": "code",
   "execution_count": null,
   "metadata": {},
   "outputs": [],
   "source": []
  },
  {
   "cell_type": "code",
   "execution_count": null,
   "metadata": {},
   "outputs": [],
   "source": [
    "# VAR\n",
    "# VARMA\n",
    "# VARMAX"
   ]
  },
  {
   "cell_type": "code",
   "execution_count": null,
   "metadata": {},
   "outputs": [],
   "source": []
  },
  {
   "cell_type": "code",
   "execution_count": null,
   "metadata": {},
   "outputs": [],
   "source": []
  },
  {
   "cell_type": "code",
   "execution_count": null,
   "metadata": {},
   "outputs": [],
   "source": []
  },
  {
   "cell_type": "code",
   "execution_count": null,
   "metadata": {},
   "outputs": [],
   "source": []
  },
  {
   "cell_type": "code",
   "execution_count": 14,
   "metadata": {},
   "outputs": [
    {
     "name": "stdout",
     "output_type": "stream",
     "text": [
      "Requirement already satisfied: torchvision in /Users/sgafarov/opt/anaconda3/lib/python3.7/site-packages (0.8.2)\r\n",
      "Requirement already satisfied: pillow>=4.1.1 in /Users/sgafarov/opt/anaconda3/lib/python3.7/site-packages (from torchvision) (7.0.0)\r\n",
      "Requirement already satisfied: torch==1.7.1 in /Users/sgafarov/opt/anaconda3/lib/python3.7/site-packages (from torchvision) (1.7.1)\r\n",
      "Requirement already satisfied: numpy in /Users/sgafarov/opt/anaconda3/lib/python3.7/site-packages (from torchvision) (1.18.1)\r\n",
      "Requirement already satisfied: typing-extensions in /Users/sgafarov/opt/anaconda3/lib/python3.7/site-packages (from torch==1.7.1->torchvision) (3.7.4.3)\r\n"
     ]
    }
   ],
   "source": [
    "! pip install torchvision"
   ]
  },
  {
   "cell_type": "code",
   "execution_count": 15,
   "metadata": {},
   "outputs": [],
   "source": [
    "import torch\n",
    "from torch import nn\n",
    "from torch.autograd import Variable as V\n",
    "from torch import optim\n",
    "import torchvision as tv\n",
    "import torchvision.transforms as tf"
   ]
  },
  {
   "cell_type": "code",
   "execution_count": 17,
   "metadata": {},
   "outputs": [],
   "source": [
    "class LSTM(nn.Module):\n",
    "    def __init__(self, input_size=1, hidden_layer_size=100, output_size=1):\n",
    "        super().__init__()\n",
    "        self.hidden_layer_size = hidden_layer_size\n",
    "\n",
    "        self.lstm = nn.LSTM(input_size, hidden_layer_size)\n",
    "\n",
    "        self.linear = nn.Linear(hidden_layer_size, output_size)\n",
    "\n",
    "        self.hidden_cell = (torch.zeros(1,1,self.hidden_layer_size),\n",
    "                            torch.zeros(1,1,self.hidden_layer_size))\n",
    "\n",
    "    def forward(self, input_seq):\n",
    "        lstm_out, self.hidden_cell = self.lstm(input_seq.view(len(input_seq) ,1, -1), self.hidden_cell)\n",
    "        predictions = self.linear(lstm_out.view(len(input_seq), -1))\n",
    "        return predictions[-1]"
   ]
  },
  {
   "cell_type": "code",
   "execution_count": 18,
   "metadata": {},
   "outputs": [],
   "source": [
    "model = LSTM()\n",
    "loss_function = nn.MSELoss()\n",
    "optimizer = torch.optim.Adam(model.parameters(), lr=0.001)"
   ]
  },
  {
   "cell_type": "code",
   "execution_count": 19,
   "metadata": {},
   "outputs": [],
   "source": [
    "from sklearn.preprocessing import MinMaxScaler\n",
    "\n",
    "scaler = MinMaxScaler(feature_range=(-1, 1))\n",
    "train_data_normalized = scaler.fit_transform(train_df.price_per_sku.values .reshape(-1, 1))"
   ]
  },
  {
   "cell_type": "code",
   "execution_count": 20,
   "metadata": {},
   "outputs": [],
   "source": [
    "train_data_normalized = torch.FloatTensor(train_data_normalized).view(-1)"
   ]
  },
  {
   "cell_type": "code",
   "execution_count": 21,
   "metadata": {},
   "outputs": [
    {
     "data": {
      "text/plain": [
       "tensor([-1.0000, -0.8011, -0.6172, -0.6172, -0.4325, -0.4238, -0.4238, -0.4238,\n",
       "        -0.5927, -0.5927, -0.5927, -0.7680, -0.7624, -0.9116, -0.6093, -0.6030,\n",
       "        -0.6748, -0.6748, -0.5051, -0.6946, -0.5998, -0.5998, -0.5762, -0.5841,\n",
       "        -0.5841, -0.4736, -0.4736, -0.6527, -0.7285, -0.7285, -0.6938, -0.5525,\n",
       "        -0.4230, -0.4230, -0.4878, -0.5122, -0.5122, -0.5122, -0.6275, -0.6275,\n",
       "        -0.4002,  0.1902,  0.6156,  0.3236,  0.3197,  0.3197,  0.6819,  0.6819,\n",
       "         0.6267,  0.6685,  0.6219,  0.6219,  0.6219,  1.0000,  0.7064,  0.7064,\n",
       "         0.6093,  0.5122,  0.2313,  0.2313,  0.2313,  0.0892,  0.0892, -0.0426,\n",
       "         0.2652,  0.2652,  0.3402,  0.2163,  0.1681,  0.1681,  0.0734,  0.0245,\n",
       "        -0.0032,  0.0868,  0.0868, -0.0237,  0.0781,  0.0513,  0.0513,  0.0355,\n",
       "         0.1263,  0.1263,  0.1263,  0.1294,  0.0371,  0.1168,  0.0545,  0.0545,\n",
       "         0.0545,  0.2391,  0.2991,  0.2447,  0.2257,  0.2897,  0.3307,  0.3307,\n",
       "         0.1807,  0.2202,  0.2202,  0.2644,  0.2912,  0.3717,  0.4286,  0.4286,\n",
       "         0.6559,  0.7593,  0.9006,  0.9006,  0.9006,  0.3165,  0.3291,  0.3291,\n",
       "         0.3291,  0.3891,  0.2952,  0.2249,  0.2005,  0.2005,  0.2076,  0.1279,\n",
       "         0.1129,  0.2028,  0.0537,  0.0537,  0.0331,  0.0552,  0.1413,  0.0655,\n",
       "         0.0576,  0.2470,  0.1823,  0.1721,  0.1721, -0.0347,  0.0442,  0.0868,\n",
       "         0.0868,  0.1444, -0.2415, -0.3678, -0.3615, -0.3615, -0.1350, -0.1500,\n",
       "        -0.1500])"
      ]
     },
     "execution_count": 21,
     "metadata": {},
     "output_type": "execute_result"
    }
   ],
   "source": [
    "train_data_normalized"
   ]
  },
  {
   "cell_type": "code",
   "execution_count": 23,
   "metadata": {},
   "outputs": [],
   "source": [
    "def create_inout_sequences(input_data, tw=11):\n",
    "    inout_seq = []\n",
    "    L = len(input_data)\n",
    "    for i in range(L-tw):\n",
    "        train_seq = input_data[i:i+tw]\n",
    "        train_label = input_data[i+tw:i+tw+1]\n",
    "        inout_seq.append((train_seq ,train_label))\n",
    "    return inout_seq"
   ]
  },
  {
   "cell_type": "code",
   "execution_count": 24,
   "metadata": {},
   "outputs": [],
   "source": [
    "train_inout_seq = create_inout_sequences(train_data_normalized, tw=11)"
   ]
  },
  {
   "cell_type": "code",
   "execution_count": 18,
   "metadata": {},
   "outputs": [
    {
     "data": {
      "text/plain": [
       "[(tensor([-1.0000, -0.8011, -0.6172, -0.6172, -0.4325, -0.4238, -0.4238, -0.4238,\n",
       "          -0.5927, -0.5927, -0.5927]),\n",
       "  tensor([-0.7680])),\n",
       " (tensor([-0.8011, -0.6172, -0.6172, -0.4325, -0.4238, -0.4238, -0.4238, -0.5927,\n",
       "          -0.5927, -0.5927, -0.7680]),\n",
       "  tensor([-0.7624])),\n",
       " (tensor([-0.6172, -0.6172, -0.4325, -0.4238, -0.4238, -0.4238, -0.5927, -0.5927,\n",
       "          -0.5927, -0.7680, -0.7624]),\n",
       "  tensor([-0.9116])),\n",
       " (tensor([-0.6172, -0.4325, -0.4238, -0.4238, -0.4238, -0.5927, -0.5927, -0.5927,\n",
       "          -0.7680, -0.7624, -0.9116]),\n",
       "  tensor([-0.6093])),\n",
       " (tensor([-0.4325, -0.4238, -0.4238, -0.4238, -0.5927, -0.5927, -0.5927, -0.7680,\n",
       "          -0.7624, -0.9116, -0.6093]),\n",
       "  tensor([-0.6030])),\n",
       " (tensor([-0.4238, -0.4238, -0.4238, -0.5927, -0.5927, -0.5927, -0.7680, -0.7624,\n",
       "          -0.9116, -0.6093, -0.6030]),\n",
       "  tensor([-0.6748])),\n",
       " (tensor([-0.4238, -0.4238, -0.5927, -0.5927, -0.5927, -0.7680, -0.7624, -0.9116,\n",
       "          -0.6093, -0.6030, -0.6748]),\n",
       "  tensor([-0.6748])),\n",
       " (tensor([-0.4238, -0.5927, -0.5927, -0.5927, -0.7680, -0.7624, -0.9116, -0.6093,\n",
       "          -0.6030, -0.6748, -0.6748]),\n",
       "  tensor([-0.5051])),\n",
       " (tensor([-0.5927, -0.5927, -0.5927, -0.7680, -0.7624, -0.9116, -0.6093, -0.6030,\n",
       "          -0.6748, -0.6748, -0.5051]),\n",
       "  tensor([-0.6946])),\n",
       " (tensor([-0.5927, -0.5927, -0.7680, -0.7624, -0.9116, -0.6093, -0.6030, -0.6748,\n",
       "          -0.6748, -0.5051, -0.6946]),\n",
       "  tensor([-0.5998])),\n",
       " (tensor([-0.5927, -0.7680, -0.7624, -0.9116, -0.6093, -0.6030, -0.6748, -0.6748,\n",
       "          -0.5051, -0.6946, -0.5998]),\n",
       "  tensor([-0.5998])),\n",
       " (tensor([-0.7680, -0.7624, -0.9116, -0.6093, -0.6030, -0.6748, -0.6748, -0.5051,\n",
       "          -0.6946, -0.5998, -0.5998]),\n",
       "  tensor([-0.5762])),\n",
       " (tensor([-0.7624, -0.9116, -0.6093, -0.6030, -0.6748, -0.6748, -0.5051, -0.6946,\n",
       "          -0.5998, -0.5998, -0.5762]),\n",
       "  tensor([-0.5841])),\n",
       " (tensor([-0.9116, -0.6093, -0.6030, -0.6748, -0.6748, -0.5051, -0.6946, -0.5998,\n",
       "          -0.5998, -0.5762, -0.5841]),\n",
       "  tensor([-0.5841])),\n",
       " (tensor([-0.6093, -0.6030, -0.6748, -0.6748, -0.5051, -0.6946, -0.5998, -0.5998,\n",
       "          -0.5762, -0.5841, -0.5841]),\n",
       "  tensor([-0.4736])),\n",
       " (tensor([-0.6030, -0.6748, -0.6748, -0.5051, -0.6946, -0.5998, -0.5998, -0.5762,\n",
       "          -0.5841, -0.5841, -0.4736]),\n",
       "  tensor([-0.4736])),\n",
       " (tensor([-0.6748, -0.6748, -0.5051, -0.6946, -0.5998, -0.5998, -0.5762, -0.5841,\n",
       "          -0.5841, -0.4736, -0.4736]),\n",
       "  tensor([-0.6527])),\n",
       " (tensor([-0.6748, -0.5051, -0.6946, -0.5998, -0.5998, -0.5762, -0.5841, -0.5841,\n",
       "          -0.4736, -0.4736, -0.6527]),\n",
       "  tensor([-0.7285])),\n",
       " (tensor([-0.5051, -0.6946, -0.5998, -0.5998, -0.5762, -0.5841, -0.5841, -0.4736,\n",
       "          -0.4736, -0.6527, -0.7285]),\n",
       "  tensor([-0.7285])),\n",
       " (tensor([-0.6946, -0.5998, -0.5998, -0.5762, -0.5841, -0.5841, -0.4736, -0.4736,\n",
       "          -0.6527, -0.7285, -0.7285]),\n",
       "  tensor([-0.6938])),\n",
       " (tensor([-0.5998, -0.5998, -0.5762, -0.5841, -0.5841, -0.4736, -0.4736, -0.6527,\n",
       "          -0.7285, -0.7285, -0.6938]),\n",
       "  tensor([-0.5525])),\n",
       " (tensor([-0.5998, -0.5762, -0.5841, -0.5841, -0.4736, -0.4736, -0.6527, -0.7285,\n",
       "          -0.7285, -0.6938, -0.5525]),\n",
       "  tensor([-0.4230])),\n",
       " (tensor([-0.5762, -0.5841, -0.5841, -0.4736, -0.4736, -0.6527, -0.7285, -0.7285,\n",
       "          -0.6938, -0.5525, -0.4230]),\n",
       "  tensor([-0.4230])),\n",
       " (tensor([-0.5841, -0.5841, -0.4736, -0.4736, -0.6527, -0.7285, -0.7285, -0.6938,\n",
       "          -0.5525, -0.4230, -0.4230]),\n",
       "  tensor([-0.4878])),\n",
       " (tensor([-0.5841, -0.4736, -0.4736, -0.6527, -0.7285, -0.7285, -0.6938, -0.5525,\n",
       "          -0.4230, -0.4230, -0.4878]),\n",
       "  tensor([-0.5122])),\n",
       " (tensor([-0.4736, -0.4736, -0.6527, -0.7285, -0.7285, -0.6938, -0.5525, -0.4230,\n",
       "          -0.4230, -0.4878, -0.5122]),\n",
       "  tensor([-0.5122])),\n",
       " (tensor([-0.4736, -0.6527, -0.7285, -0.7285, -0.6938, -0.5525, -0.4230, -0.4230,\n",
       "          -0.4878, -0.5122, -0.5122]),\n",
       "  tensor([-0.5122])),\n",
       " (tensor([-0.6527, -0.7285, -0.7285, -0.6938, -0.5525, -0.4230, -0.4230, -0.4878,\n",
       "          -0.5122, -0.5122, -0.5122]),\n",
       "  tensor([-0.6275])),\n",
       " (tensor([-0.7285, -0.7285, -0.6938, -0.5525, -0.4230, -0.4230, -0.4878, -0.5122,\n",
       "          -0.5122, -0.5122, -0.6275]),\n",
       "  tensor([-0.6275])),\n",
       " (tensor([-0.7285, -0.6938, -0.5525, -0.4230, -0.4230, -0.4878, -0.5122, -0.5122,\n",
       "          -0.5122, -0.6275, -0.6275]),\n",
       "  tensor([-0.4002])),\n",
       " (tensor([-0.6938, -0.5525, -0.4230, -0.4230, -0.4878, -0.5122, -0.5122, -0.5122,\n",
       "          -0.6275, -0.6275, -0.4002]),\n",
       "  tensor([0.1902])),\n",
       " (tensor([-0.5525, -0.4230, -0.4230, -0.4878, -0.5122, -0.5122, -0.5122, -0.6275,\n",
       "          -0.6275, -0.4002,  0.1902]),\n",
       "  tensor([0.6156])),\n",
       " (tensor([-0.4230, -0.4230, -0.4878, -0.5122, -0.5122, -0.5122, -0.6275, -0.6275,\n",
       "          -0.4002,  0.1902,  0.6156]),\n",
       "  tensor([0.3236])),\n",
       " (tensor([-0.4230, -0.4878, -0.5122, -0.5122, -0.5122, -0.6275, -0.6275, -0.4002,\n",
       "           0.1902,  0.6156,  0.3236]),\n",
       "  tensor([0.3197])),\n",
       " (tensor([-0.4878, -0.5122, -0.5122, -0.5122, -0.6275, -0.6275, -0.4002,  0.1902,\n",
       "           0.6156,  0.3236,  0.3197]),\n",
       "  tensor([0.3197])),\n",
       " (tensor([-0.5122, -0.5122, -0.5122, -0.6275, -0.6275, -0.4002,  0.1902,  0.6156,\n",
       "           0.3236,  0.3197,  0.3197]),\n",
       "  tensor([0.6819])),\n",
       " (tensor([-0.5122, -0.5122, -0.6275, -0.6275, -0.4002,  0.1902,  0.6156,  0.3236,\n",
       "           0.3197,  0.3197,  0.6819]),\n",
       "  tensor([0.6819])),\n",
       " (tensor([-0.5122, -0.6275, -0.6275, -0.4002,  0.1902,  0.6156,  0.3236,  0.3197,\n",
       "           0.3197,  0.6819,  0.6819]),\n",
       "  tensor([0.6267])),\n",
       " (tensor([-0.6275, -0.6275, -0.4002,  0.1902,  0.6156,  0.3236,  0.3197,  0.3197,\n",
       "           0.6819,  0.6819,  0.6267]),\n",
       "  tensor([0.6685])),\n",
       " (tensor([-0.6275, -0.4002,  0.1902,  0.6156,  0.3236,  0.3197,  0.3197,  0.6819,\n",
       "           0.6819,  0.6267,  0.6685]),\n",
       "  tensor([0.6219])),\n",
       " (tensor([-0.4002,  0.1902,  0.6156,  0.3236,  0.3197,  0.3197,  0.6819,  0.6819,\n",
       "           0.6267,  0.6685,  0.6219]),\n",
       "  tensor([0.6219])),\n",
       " (tensor([0.1902, 0.6156, 0.3236, 0.3197, 0.3197, 0.6819, 0.6819, 0.6267, 0.6685,\n",
       "          0.6219, 0.6219]),\n",
       "  tensor([0.6219])),\n",
       " (tensor([0.6156, 0.3236, 0.3197, 0.3197, 0.6819, 0.6819, 0.6267, 0.6685, 0.6219,\n",
       "          0.6219, 0.6219]),\n",
       "  tensor([1.])),\n",
       " (tensor([0.3236, 0.3197, 0.3197, 0.6819, 0.6819, 0.6267, 0.6685, 0.6219, 0.6219,\n",
       "          0.6219, 1.0000]),\n",
       "  tensor([0.7064])),\n",
       " (tensor([0.3197, 0.3197, 0.6819, 0.6819, 0.6267, 0.6685, 0.6219, 0.6219, 0.6219,\n",
       "          1.0000, 0.7064]),\n",
       "  tensor([0.7064])),\n",
       " (tensor([0.3197, 0.6819, 0.6819, 0.6267, 0.6685, 0.6219, 0.6219, 0.6219, 1.0000,\n",
       "          0.7064, 0.7064]),\n",
       "  tensor([0.6093])),\n",
       " (tensor([0.6819, 0.6819, 0.6267, 0.6685, 0.6219, 0.6219, 0.6219, 1.0000, 0.7064,\n",
       "          0.7064, 0.6093]),\n",
       "  tensor([0.5122])),\n",
       " (tensor([0.6819, 0.6267, 0.6685, 0.6219, 0.6219, 0.6219, 1.0000, 0.7064, 0.7064,\n",
       "          0.6093, 0.5122]),\n",
       "  tensor([0.2313])),\n",
       " (tensor([0.6267, 0.6685, 0.6219, 0.6219, 0.6219, 1.0000, 0.7064, 0.7064, 0.6093,\n",
       "          0.5122, 0.2313]),\n",
       "  tensor([0.2313])),\n",
       " (tensor([0.6685, 0.6219, 0.6219, 0.6219, 1.0000, 0.7064, 0.7064, 0.6093, 0.5122,\n",
       "          0.2313, 0.2313]),\n",
       "  tensor([0.2313])),\n",
       " (tensor([0.6219, 0.6219, 0.6219, 1.0000, 0.7064, 0.7064, 0.6093, 0.5122, 0.2313,\n",
       "          0.2313, 0.2313]),\n",
       "  tensor([0.0892])),\n",
       " (tensor([0.6219, 0.6219, 1.0000, 0.7064, 0.7064, 0.6093, 0.5122, 0.2313, 0.2313,\n",
       "          0.2313, 0.0892]),\n",
       "  tensor([0.0892])),\n",
       " (tensor([0.6219, 1.0000, 0.7064, 0.7064, 0.6093, 0.5122, 0.2313, 0.2313, 0.2313,\n",
       "          0.0892, 0.0892]),\n",
       "  tensor([-0.0426])),\n",
       " (tensor([ 1.0000,  0.7064,  0.7064,  0.6093,  0.5122,  0.2313,  0.2313,  0.2313,\n",
       "           0.0892,  0.0892, -0.0426]),\n",
       "  tensor([0.2652])),\n",
       " (tensor([ 0.7064,  0.7064,  0.6093,  0.5122,  0.2313,  0.2313,  0.2313,  0.0892,\n",
       "           0.0892, -0.0426,  0.2652]),\n",
       "  tensor([0.2652])),\n",
       " (tensor([ 0.7064,  0.6093,  0.5122,  0.2313,  0.2313,  0.2313,  0.0892,  0.0892,\n",
       "          -0.0426,  0.2652,  0.2652]),\n",
       "  tensor([0.3402])),\n",
       " (tensor([ 0.6093,  0.5122,  0.2313,  0.2313,  0.2313,  0.0892,  0.0892, -0.0426,\n",
       "           0.2652,  0.2652,  0.3402]),\n",
       "  tensor([0.2163])),\n",
       " (tensor([ 0.5122,  0.2313,  0.2313,  0.2313,  0.0892,  0.0892, -0.0426,  0.2652,\n",
       "           0.2652,  0.3402,  0.2163]),\n",
       "  tensor([0.1681])),\n",
       " (tensor([ 0.2313,  0.2313,  0.2313,  0.0892,  0.0892, -0.0426,  0.2652,  0.2652,\n",
       "           0.3402,  0.2163,  0.1681]),\n",
       "  tensor([0.1681])),\n",
       " (tensor([ 0.2313,  0.2313,  0.0892,  0.0892, -0.0426,  0.2652,  0.2652,  0.3402,\n",
       "           0.2163,  0.1681,  0.1681]),\n",
       "  tensor([0.0734])),\n",
       " (tensor([ 0.2313,  0.0892,  0.0892, -0.0426,  0.2652,  0.2652,  0.3402,  0.2163,\n",
       "           0.1681,  0.1681,  0.0734]),\n",
       "  tensor([0.0245])),\n",
       " (tensor([ 0.0892,  0.0892, -0.0426,  0.2652,  0.2652,  0.3402,  0.2163,  0.1681,\n",
       "           0.1681,  0.0734,  0.0245]),\n",
       "  tensor([-0.0032])),\n",
       " (tensor([ 0.0892, -0.0426,  0.2652,  0.2652,  0.3402,  0.2163,  0.1681,  0.1681,\n",
       "           0.0734,  0.0245, -0.0032]),\n",
       "  tensor([0.0868])),\n",
       " (tensor([-0.0426,  0.2652,  0.2652,  0.3402,  0.2163,  0.1681,  0.1681,  0.0734,\n",
       "           0.0245, -0.0032,  0.0868]),\n",
       "  tensor([0.0868])),\n",
       " (tensor([ 0.2652,  0.2652,  0.3402,  0.2163,  0.1681,  0.1681,  0.0734,  0.0245,\n",
       "          -0.0032,  0.0868,  0.0868]),\n",
       "  tensor([-0.0237])),\n",
       " (tensor([ 0.2652,  0.3402,  0.2163,  0.1681,  0.1681,  0.0734,  0.0245, -0.0032,\n",
       "           0.0868,  0.0868, -0.0237]),\n",
       "  tensor([0.0781])),\n",
       " (tensor([ 0.3402,  0.2163,  0.1681,  0.1681,  0.0734,  0.0245, -0.0032,  0.0868,\n",
       "           0.0868, -0.0237,  0.0781]),\n",
       "  tensor([0.0513])),\n",
       " (tensor([ 0.2163,  0.1681,  0.1681,  0.0734,  0.0245, -0.0032,  0.0868,  0.0868,\n",
       "          -0.0237,  0.0781,  0.0513]),\n",
       "  tensor([0.0513])),\n",
       " (tensor([ 0.1681,  0.1681,  0.0734,  0.0245, -0.0032,  0.0868,  0.0868, -0.0237,\n",
       "           0.0781,  0.0513,  0.0513]),\n",
       "  tensor([0.0355])),\n",
       " (tensor([ 0.1681,  0.0734,  0.0245, -0.0032,  0.0868,  0.0868, -0.0237,  0.0781,\n",
       "           0.0513,  0.0513,  0.0355]),\n",
       "  tensor([0.1263])),\n",
       " (tensor([ 0.0734,  0.0245, -0.0032,  0.0868,  0.0868, -0.0237,  0.0781,  0.0513,\n",
       "           0.0513,  0.0355,  0.1263]),\n",
       "  tensor([0.1263])),\n",
       " (tensor([ 0.0245, -0.0032,  0.0868,  0.0868, -0.0237,  0.0781,  0.0513,  0.0513,\n",
       "           0.0355,  0.1263,  0.1263]),\n",
       "  tensor([0.1263])),\n",
       " (tensor([-0.0032,  0.0868,  0.0868, -0.0237,  0.0781,  0.0513,  0.0513,  0.0355,\n",
       "           0.1263,  0.1263,  0.1263]),\n",
       "  tensor([0.1294])),\n",
       " (tensor([ 0.0868,  0.0868, -0.0237,  0.0781,  0.0513,  0.0513,  0.0355,  0.1263,\n",
       "           0.1263,  0.1263,  0.1294]),\n",
       "  tensor([0.0371])),\n",
       " (tensor([ 0.0868, -0.0237,  0.0781,  0.0513,  0.0513,  0.0355,  0.1263,  0.1263,\n",
       "           0.1263,  0.1294,  0.0371]),\n",
       "  tensor([0.1168])),\n",
       " (tensor([-0.0237,  0.0781,  0.0513,  0.0513,  0.0355,  0.1263,  0.1263,  0.1263,\n",
       "           0.1294,  0.0371,  0.1168]),\n",
       "  tensor([0.0545])),\n",
       " (tensor([0.0781, 0.0513, 0.0513, 0.0355, 0.1263, 0.1263, 0.1263, 0.1294, 0.0371,\n",
       "          0.1168, 0.0545]),\n",
       "  tensor([0.0545])),\n",
       " (tensor([0.0513, 0.0513, 0.0355, 0.1263, 0.1263, 0.1263, 0.1294, 0.0371, 0.1168,\n",
       "          0.0545, 0.0545]),\n",
       "  tensor([0.0545])),\n",
       " (tensor([0.0513, 0.0355, 0.1263, 0.1263, 0.1263, 0.1294, 0.0371, 0.1168, 0.0545,\n",
       "          0.0545, 0.0545]),\n",
       "  tensor([0.2391])),\n",
       " (tensor([0.0355, 0.1263, 0.1263, 0.1263, 0.1294, 0.0371, 0.1168, 0.0545, 0.0545,\n",
       "          0.0545, 0.2391]),\n",
       "  tensor([0.2991])),\n",
       " (tensor([0.1263, 0.1263, 0.1263, 0.1294, 0.0371, 0.1168, 0.0545, 0.0545, 0.0545,\n",
       "          0.2391, 0.2991]),\n",
       "  tensor([0.2447])),\n",
       " (tensor([0.1263, 0.1263, 0.1294, 0.0371, 0.1168, 0.0545, 0.0545, 0.0545, 0.2391,\n",
       "          0.2991, 0.2447]),\n",
       "  tensor([0.2257])),\n",
       " (tensor([0.1263, 0.1294, 0.0371, 0.1168, 0.0545, 0.0545, 0.0545, 0.2391, 0.2991,\n",
       "          0.2447, 0.2257]),\n",
       "  tensor([0.2897])),\n",
       " (tensor([0.1294, 0.0371, 0.1168, 0.0545, 0.0545, 0.0545, 0.2391, 0.2991, 0.2447,\n",
       "          0.2257, 0.2897]),\n",
       "  tensor([0.3307])),\n",
       " (tensor([0.0371, 0.1168, 0.0545, 0.0545, 0.0545, 0.2391, 0.2991, 0.2447, 0.2257,\n",
       "          0.2897, 0.3307]),\n",
       "  tensor([0.3307])),\n",
       " (tensor([0.1168, 0.0545, 0.0545, 0.0545, 0.2391, 0.2991, 0.2447, 0.2257, 0.2897,\n",
       "          0.3307, 0.3307]),\n",
       "  tensor([0.1807])),\n",
       " (tensor([0.0545, 0.0545, 0.0545, 0.2391, 0.2991, 0.2447, 0.2257, 0.2897, 0.3307,\n",
       "          0.3307, 0.1807]),\n",
       "  tensor([0.2202])),\n",
       " (tensor([0.0545, 0.0545, 0.2391, 0.2991, 0.2447, 0.2257, 0.2897, 0.3307, 0.3307,\n",
       "          0.1807, 0.2202]),\n",
       "  tensor([0.2202])),\n",
       " (tensor([0.0545, 0.2391, 0.2991, 0.2447, 0.2257, 0.2897, 0.3307, 0.3307, 0.1807,\n",
       "          0.2202, 0.2202]),\n",
       "  tensor([0.2644])),\n",
       " (tensor([0.2391, 0.2991, 0.2447, 0.2257, 0.2897, 0.3307, 0.3307, 0.1807, 0.2202,\n",
       "          0.2202, 0.2644]),\n",
       "  tensor([0.2912])),\n",
       " (tensor([0.2991, 0.2447, 0.2257, 0.2897, 0.3307, 0.3307, 0.1807, 0.2202, 0.2202,\n",
       "          0.2644, 0.2912]),\n",
       "  tensor([0.3717])),\n",
       " (tensor([0.2447, 0.2257, 0.2897, 0.3307, 0.3307, 0.1807, 0.2202, 0.2202, 0.2644,\n",
       "          0.2912, 0.3717]),\n",
       "  tensor([0.4286])),\n",
       " (tensor([0.2257, 0.2897, 0.3307, 0.3307, 0.1807, 0.2202, 0.2202, 0.2644, 0.2912,\n",
       "          0.3717, 0.4286]),\n",
       "  tensor([0.4286])),\n",
       " (tensor([0.2897, 0.3307, 0.3307, 0.1807, 0.2202, 0.2202, 0.2644, 0.2912, 0.3717,\n",
       "          0.4286, 0.4286]),\n",
       "  tensor([0.6559])),\n",
       " (tensor([0.3307, 0.3307, 0.1807, 0.2202, 0.2202, 0.2644, 0.2912, 0.3717, 0.4286,\n",
       "          0.4286, 0.6559]),\n",
       "  tensor([0.7593])),\n",
       " (tensor([0.3307, 0.1807, 0.2202, 0.2202, 0.2644, 0.2912, 0.3717, 0.4286, 0.4286,\n",
       "          0.6559, 0.7593]),\n",
       "  tensor([0.9006])),\n",
       " (tensor([0.1807, 0.2202, 0.2202, 0.2644, 0.2912, 0.3717, 0.4286, 0.4286, 0.6559,\n",
       "          0.7593, 0.9006]),\n",
       "  tensor([0.9006])),\n",
       " (tensor([0.2202, 0.2202, 0.2644, 0.2912, 0.3717, 0.4286, 0.4286, 0.6559, 0.7593,\n",
       "          0.9006, 0.9006]),\n",
       "  tensor([0.9006])),\n",
       " (tensor([0.2202, 0.2644, 0.2912, 0.3717, 0.4286, 0.4286, 0.6559, 0.7593, 0.9006,\n",
       "          0.9006, 0.9006]),\n",
       "  tensor([0.3165])),\n",
       " (tensor([0.2644, 0.2912, 0.3717, 0.4286, 0.4286, 0.6559, 0.7593, 0.9006, 0.9006,\n",
       "          0.9006, 0.3165]),\n",
       "  tensor([0.3291])),\n",
       " (tensor([0.2912, 0.3717, 0.4286, 0.4286, 0.6559, 0.7593, 0.9006, 0.9006, 0.9006,\n",
       "          0.3165, 0.3291]),\n",
       "  tensor([0.3291])),\n",
       " (tensor([0.3717, 0.4286, 0.4286, 0.6559, 0.7593, 0.9006, 0.9006, 0.9006, 0.3165,\n",
       "          0.3291, 0.3291]),\n",
       "  tensor([0.3291])),\n",
       " (tensor([0.4286, 0.4286, 0.6559, 0.7593, 0.9006, 0.9006, 0.9006, 0.3165, 0.3291,\n",
       "          0.3291, 0.3291]),\n",
       "  tensor([0.3891])),\n",
       " (tensor([0.4286, 0.6559, 0.7593, 0.9006, 0.9006, 0.9006, 0.3165, 0.3291, 0.3291,\n",
       "          0.3291, 0.3891]),\n",
       "  tensor([0.2952])),\n",
       " (tensor([0.6559, 0.7593, 0.9006, 0.9006, 0.9006, 0.3165, 0.3291, 0.3291, 0.3291,\n",
       "          0.3891, 0.2952]),\n",
       "  tensor([0.2249])),\n",
       " (tensor([0.7593, 0.9006, 0.9006, 0.9006, 0.3165, 0.3291, 0.3291, 0.3291, 0.3891,\n",
       "          0.2952, 0.2249]),\n",
       "  tensor([0.2005])),\n",
       " (tensor([0.9006, 0.9006, 0.9006, 0.3165, 0.3291, 0.3291, 0.3291, 0.3891, 0.2952,\n",
       "          0.2249, 0.2005]),\n",
       "  tensor([0.2005])),\n",
       " (tensor([0.9006, 0.9006, 0.3165, 0.3291, 0.3291, 0.3291, 0.3891, 0.2952, 0.2249,\n",
       "          0.2005, 0.2005]),\n",
       "  tensor([0.2076])),\n",
       " (tensor([0.9006, 0.3165, 0.3291, 0.3291, 0.3291, 0.3891, 0.2952, 0.2249, 0.2005,\n",
       "          0.2005, 0.2076]),\n",
       "  tensor([0.1279])),\n",
       " (tensor([0.3165, 0.3291, 0.3291, 0.3291, 0.3891, 0.2952, 0.2249, 0.2005, 0.2005,\n",
       "          0.2076, 0.1279]),\n",
       "  tensor([0.1129])),\n",
       " (tensor([0.3291, 0.3291, 0.3291, 0.3891, 0.2952, 0.2249, 0.2005, 0.2005, 0.2076,\n",
       "          0.1279, 0.1129]),\n",
       "  tensor([0.2028])),\n",
       " (tensor([0.3291, 0.3291, 0.3891, 0.2952, 0.2249, 0.2005, 0.2005, 0.2076, 0.1279,\n",
       "          0.1129, 0.2028]),\n",
       "  tensor([0.0537])),\n",
       " (tensor([0.3291, 0.3891, 0.2952, 0.2249, 0.2005, 0.2005, 0.2076, 0.1279, 0.1129,\n",
       "          0.2028, 0.0537]),\n",
       "  tensor([0.0537])),\n",
       " (tensor([0.3891, 0.2952, 0.2249, 0.2005, 0.2005, 0.2076, 0.1279, 0.1129, 0.2028,\n",
       "          0.0537, 0.0537]),\n",
       "  tensor([0.0331])),\n",
       " (tensor([0.2952, 0.2249, 0.2005, 0.2005, 0.2076, 0.1279, 0.1129, 0.2028, 0.0537,\n",
       "          0.0537, 0.0331]),\n",
       "  tensor([0.0552])),\n",
       " (tensor([0.2249, 0.2005, 0.2005, 0.2076, 0.1279, 0.1129, 0.2028, 0.0537, 0.0537,\n",
       "          0.0331, 0.0552]),\n",
       "  tensor([0.1413])),\n",
       " (tensor([0.2005, 0.2005, 0.2076, 0.1279, 0.1129, 0.2028, 0.0537, 0.0537, 0.0331,\n",
       "          0.0552, 0.1413]),\n",
       "  tensor([0.0655])),\n",
       " (tensor([0.2005, 0.2076, 0.1279, 0.1129, 0.2028, 0.0537, 0.0537, 0.0331, 0.0552,\n",
       "          0.1413, 0.0655]),\n",
       "  tensor([0.0576])),\n",
       " (tensor([0.2076, 0.1279, 0.1129, 0.2028, 0.0537, 0.0537, 0.0331, 0.0552, 0.1413,\n",
       "          0.0655, 0.0576]),\n",
       "  tensor([0.2470])),\n",
       " (tensor([0.1279, 0.1129, 0.2028, 0.0537, 0.0537, 0.0331, 0.0552, 0.1413, 0.0655,\n",
       "          0.0576, 0.2470]),\n",
       "  tensor([0.1823])),\n",
       " (tensor([0.1129, 0.2028, 0.0537, 0.0537, 0.0331, 0.0552, 0.1413, 0.0655, 0.0576,\n",
       "          0.2470, 0.1823]),\n",
       "  tensor([0.1721])),\n",
       " (tensor([0.2028, 0.0537, 0.0537, 0.0331, 0.0552, 0.1413, 0.0655, 0.0576, 0.2470,\n",
       "          0.1823, 0.1721]),\n",
       "  tensor([0.1721])),\n",
       " (tensor([0.0537, 0.0537, 0.0331, 0.0552, 0.1413, 0.0655, 0.0576, 0.2470, 0.1823,\n",
       "          0.1721, 0.1721]),\n",
       "  tensor([-0.0347])),\n",
       " (tensor([ 0.0537,  0.0331,  0.0552,  0.1413,  0.0655,  0.0576,  0.2470,  0.1823,\n",
       "           0.1721,  0.1721, -0.0347]),\n",
       "  tensor([0.0442])),\n",
       " (tensor([ 0.0331,  0.0552,  0.1413,  0.0655,  0.0576,  0.2470,  0.1823,  0.1721,\n",
       "           0.1721, -0.0347,  0.0442]),\n",
       "  tensor([0.0868])),\n",
       " (tensor([ 0.0552,  0.1413,  0.0655,  0.0576,  0.2470,  0.1823,  0.1721,  0.1721,\n",
       "          -0.0347,  0.0442,  0.0868]),\n",
       "  tensor([0.0868])),\n",
       " (tensor([ 0.1413,  0.0655,  0.0576,  0.2470,  0.1823,  0.1721,  0.1721, -0.0347,\n",
       "           0.0442,  0.0868,  0.0868]),\n",
       "  tensor([0.1444])),\n",
       " (tensor([ 0.0655,  0.0576,  0.2470,  0.1823,  0.1721,  0.1721, -0.0347,  0.0442,\n",
       "           0.0868,  0.0868,  0.1444]),\n",
       "  tensor([-0.2415])),\n",
       " (tensor([ 0.0576,  0.2470,  0.1823,  0.1721,  0.1721, -0.0347,  0.0442,  0.0868,\n",
       "           0.0868,  0.1444, -0.2415]),\n",
       "  tensor([-0.3678])),\n",
       " (tensor([ 0.2470,  0.1823,  0.1721,  0.1721, -0.0347,  0.0442,  0.0868,  0.0868,\n",
       "           0.1444, -0.2415, -0.3678]),\n",
       "  tensor([-0.3615])),\n",
       " (tensor([ 0.1823,  0.1721,  0.1721, -0.0347,  0.0442,  0.0868,  0.0868,  0.1444,\n",
       "          -0.2415, -0.3678, -0.3615]),\n",
       "  tensor([-0.3615])),\n",
       " (tensor([ 0.1721,  0.1721, -0.0347,  0.0442,  0.0868,  0.0868,  0.1444, -0.2415,\n",
       "          -0.3678, -0.3615, -0.3615]),\n",
       "  tensor([-0.1350])),\n",
       " (tensor([ 0.1721, -0.0347,  0.0442,  0.0868,  0.0868,  0.1444, -0.2415, -0.3678,\n",
       "          -0.3615, -0.3615, -0.1350]),\n",
       "  tensor([-0.1500])),\n",
       " (tensor([-0.0347,  0.0442,  0.0868,  0.0868,  0.1444, -0.2415, -0.3678, -0.3615,\n",
       "          -0.3615, -0.1350, -0.1500]),\n",
       "  tensor([-0.1500]))]"
      ]
     },
     "execution_count": 18,
     "metadata": {},
     "output_type": "execute_result"
    }
   ],
   "source": [
    "train_inout_seq"
   ]
  },
  {
   "cell_type": "code",
   "execution_count": 25,
   "metadata": {},
   "outputs": [
    {
     "name": "stdout",
     "output_type": "stream",
     "text": [
      "epoch:   1 loss: 0.01963286\n",
      "epoch:  11 loss: 0.00294601\n",
      "epoch:  21 loss: 0.00068965\n",
      "epoch:  31 loss: 0.00001314\n",
      "epoch:  41 loss: 0.00001977\n",
      "epoch:  51 loss: 0.00000696\n",
      "epoch:  61 loss: 0.00000034\n",
      "epoch:  71 loss: 0.00113138\n",
      "epoch:  79 loss: 0.0009130306\n"
     ]
    }
   ],
   "source": [
    "epochs = 80\n",
    "\n",
    "for i in range(epochs):\n",
    "    for seq, labels in train_inout_seq:\n",
    "        optimizer.zero_grad()\n",
    "        model.hidden_cell = (torch.zeros(1, 1, model.hidden_layer_size),\n",
    "                        torch.zeros(1, 1, model.hidden_layer_size))\n",
    "\n",
    "        y_pred = model(seq)\n",
    "\n",
    "        single_loss = loss_function(y_pred, labels)\n",
    "        single_loss.backward()\n",
    "        optimizer.step()\n",
    "\n",
    "    if i%10 == 1:\n",
    "        print(f'epoch: {i:3} loss: {single_loss.item():10.8f}')\n",
    "\n",
    "print(f'epoch: {i:3} loss: {single_loss.item():10.10f}')"
   ]
  },
  {
   "cell_type": "code",
   "execution_count": 26,
   "metadata": {},
   "outputs": [],
   "source": [
    "test_inputs = train_data_normalized[-11:].tolist()"
   ]
  },
  {
   "cell_type": "code",
   "execution_count": 27,
   "metadata": {},
   "outputs": [],
   "source": [
    "model.eval()\n",
    "\n",
    "for i in range(11):\n",
    "    seq = torch.FloatTensor(test_inputs[-11:])\n",
    "    with torch.no_grad():\n",
    "        model.hidden = (torch.zeros(1, 1, model.hidden_layer_size),\n",
    "                        torch.zeros(1, 1, model.hidden_layer_size))\n",
    "        test_inputs.append(model(seq).item())"
   ]
  },
  {
   "cell_type": "code",
   "execution_count": 28,
   "metadata": {},
   "outputs": [
    {
     "data": {
      "text/plain": [
       "[-0.1597515344619751,\n",
       " -0.14000685513019562,\n",
       " -0.14336520433425903,\n",
       " -0.1471385657787323,\n",
       " -0.14595310389995575,\n",
       " -0.13806748390197754,\n",
       " -0.12750659883022308,\n",
       " -0.11945057660341263,\n",
       " -0.11531810462474823,\n",
       " -0.1131543442606926,\n",
       " -0.11191669851541519]"
      ]
     },
     "execution_count": 28,
     "metadata": {},
     "output_type": "execute_result"
    }
   ],
   "source": [
    "test_inputs[11:]"
   ]
  },
  {
   "cell_type": "code",
   "execution_count": 29,
   "metadata": {},
   "outputs": [
    {
     "name": "stdout",
     "output_type": "stream",
     "text": [
      "[[179.83594806]\n",
      " [180.08611315]\n",
      " [180.04356286]\n",
      " [179.99575437]\n",
      " [180.01077417]\n",
      " [180.11068498]\n",
      " [180.24449139]\n",
      " [180.34656119]\n",
      " [180.39891961]\n",
      " [180.42633446]\n",
      " [180.44201543]]\n"
     ]
    }
   ],
   "source": [
    "actual_predictions = scaler.inverse_transform(np.array(test_inputs[11:] ).reshape(-1, 1))\n",
    "print(actual_predictions)"
   ]
  },
  {
   "cell_type": "code",
   "execution_count": 30,
   "metadata": {},
   "outputs": [
    {
     "data": {
      "image/png": "[encoded data removed]",
      "text/plain": [
       "<Figure size 864x576 with 1 Axes>"
      ]
     },
     "metadata": {
      "needs_background": "light"
     },
     "output_type": "display_data"
    }
   ],
   "source": [
    "plt.figure(figsize=(12,8))\n",
    "x = np.arange(145, 156, 1)\n",
    "plt.autoscale(axis='x', tight=True)\n",
    "plt.plot(df_59567.price_per_sku.values)\n",
    "plt.plot(x,actual_predictions)\n",
    "plt.show()"
   ]
  },
  {
   "cell_type": "code",
   "execution_count": null,
   "metadata": {},
   "outputs": [],
   "source": []
  },
  {
   "cell_type": "code",
   "execution_count": null,
   "metadata": {},
   "outputs": [],
   "source": []
  },
  {
   "cell_type": "code",
   "execution_count": null,
   "metadata": {},
   "outputs": [],
   "source": []
  },
  {
   "cell_type": "code",
   "execution_count": null,
   "metadata": {},
   "outputs": [],
   "source": []
  },
  {
   "cell_type": "code",
   "execution_count": null,
   "metadata": {},
   "outputs": [],
   "source": []
  },
  {
   "cell_type": "code",
   "execution_count": null,
   "metadata": {},
   "outputs": [],
   "source": []
  },
  {
   "cell_type": "markdown",
   "metadata": {},
   "source": [
    "<img src = https://miro.medium.com/max/1131/0*ufWnnvTA9AkjKrfI>"
   ]
  },
  {
   "cell_type": "code",
   "execution_count": 67,
   "metadata": {},
   "outputs": [
    {
     "data": {
      "text/plain": [
       "array([180.83348221, 180.48046756, 180.31703176, 181.11388551,\n",
       "       178.70003908, 179.14214423, 177.75482661, 177.77942526,\n",
       "       179.95119152, 178.97000545, 180.37461838])"
      ]
     },
     "execution_count": 67,
     "metadata": {},
     "output_type": "execute_result"
    }
   ],
   "source": [
    "# Autoregressive Integrated Moving Average with boundaries\n",
    "ARIMA_model.predict(start =len(train_df), end= len(train_df) + len(test_df)-1)\n"
   ]
  },
  {
   "cell_type": "code",
   "execution_count": 68,
   "metadata": {
    "scrolled": true
   },
   "outputs": [
    {
     "data": {
      "text/plain": [
       "array([[178.06782628, 183.59913814],\n",
       "       [176.30886836, 184.65206675],\n",
       "       [175.10077559, 185.53328794],\n",
       "       [175.31448936, 186.91328165],\n",
       "       [172.32181619, 185.07826196],\n",
       "       [172.21648038, 186.06780808],\n",
       "       [170.32541732, 185.18423589],\n",
       "       [169.88163102, 185.67721951],\n",
       "       [171.57015036, 188.33223267],\n",
       "       [170.10741926, 187.83259163],\n",
       "       [171.10699599, 189.64224077]])"
      ]
     },
     "execution_count": 68,
     "metadata": {},
     "output_type": "execute_result"
    }
   ],
   "source": [
    "ARIMA_model.get_forecast(11).conf_int(0.05)"
   ]
  },
  {
   "cell_type": "code",
   "execution_count": null,
   "metadata": {},
   "outputs": [],
   "source": []
  },
  {
   "cell_type": "code",
   "execution_count": 87,
   "metadata": {},
   "outputs": [
    {
     "name": "stderr",
     "output_type": "stream",
     "text": [
      "/Users/sgafarov/opt/anaconda3/lib/python3.7/site-packages/ipykernel_launcher.py:1: SettingWithCopyWarning: \n",
      "A value is trying to be set on a copy of a slice from a DataFrame.\n",
      "Try using .loc[row_indexer,col_indexer] = value instead\n",
      "\n",
      "See the caveats in the documentation: https://pandas.pydata.org/pandas-docs/stable/user_guide/indexing.html#returning-a-view-versus-a-copy\n",
      "  \"\"\"Entry point for launching an IPython kernel.\n",
      "/Users/sgafarov/opt/anaconda3/lib/python3.7/site-packages/ipykernel_launcher.py:2: SettingWithCopyWarning: \n",
      "A value is trying to be set on a copy of a slice from a DataFrame.\n",
      "Try using .loc[row_indexer,col_indexer] = value instead\n",
      "\n",
      "See the caveats in the documentation: https://pandas.pydata.org/pandas-docs/stable/user_guide/indexing.html#returning-a-view-versus-a-copy\n",
      "  \n"
     ]
    }
   ],
   "source": [
    "test_df['ARIMA_low_boundary'] = ARIMA_model.get_forecast(11).conf_int(0.05)[:,0]\n",
    "test_df['ARIMA_high_boundary'] = ARIMA_model.get_forecast(11).conf_int(0.05)[:,1]"
   ]
  },
  {
   "cell_type": "code",
   "execution_count": 89,
   "metadata": {},
   "outputs": [
    {
     "data": {
      "text/plain": [
       "Index(['dates', 'SKU', 'price_per_sku', 'num_purchases', 'AR_model_prediction',\n",
       "       'MA_model_prediction', 'ARMA_model_prediction',\n",
       "       'ARIMA_model_prediction', 'SARIMA_model_prediction',\n",
       "       'SES_model_prediction', 'ARIMA_low_boundary', 'ARIMA_high_boundary'],\n",
       "      dtype='object')"
      ]
     },
     "execution_count": 89,
     "metadata": {},
     "output_type": "execute_result"
    }
   ],
   "source": [
    "test_df.columns"
   ]
  },
  {
   "cell_type": "code",
   "execution_count": 101,
   "metadata": {},
   "outputs": [],
   "source": [
    "col_list = ['dates','price_per_sku','AR_model_prediction',\n",
    "       'MA_model_prediction', 'ARMA_model_prediction',\n",
    "       'ARIMA_model_prediction', 'SARIMA_model_prediction',\n",
    "       'SES_model_prediction', 'ARIMA_low_boundary', 'ARIMA_high_boundary']"
   ]
  },
  {
   "cell_type": "code",
   "execution_count": 102,
   "metadata": {},
   "outputs": [
    {
     "data": {
      "text/plain": [
       "<matplotlib.axes._subplots.AxesSubplot at 0x7fbeb52c1090>"
      ]
     },
     "execution_count": 102,
     "metadata": {},
     "output_type": "execute_result"
    },
    {
     "data": {
      "image/png": "[encoded data removed]",
      "text/plain": [
       "<Figure size 864x576 with 1 Axes>"
      ]
     },
     "metadata": {
      "needs_background": "light"
     },
     "output_type": "display_data"
    }
   ],
   "source": [
    "plt.figure(figsize=(12,8))\n",
    "sns.lineplot(data=test_df[col_list].set_index('dates'), dashes=False,linewidth = 3)"
   ]
  },
  {
   "cell_type": "code",
   "execution_count": 111,
   "metadata": {},
   "outputs": [],
   "source": [
    "pred_columns = ['AR_model_prediction',\n",
    "       'MA_model_prediction', 'ARMA_model_prediction',\n",
    "       'ARIMA_model_prediction', 'SARIMA_model_prediction',\n",
    "       'SES_model_prediction']"
   ]
  },
  {
   "cell_type": "code",
   "execution_count": 112,
   "metadata": {},
   "outputs": [
    {
     "name": "stderr",
     "output_type": "stream",
     "text": [
      "/Users/sgafarov/opt/anaconda3/lib/python3.7/site-packages/ipykernel_launcher.py:1: SettingWithCopyWarning: \n",
      "A value is trying to be set on a copy of a slice from a DataFrame.\n",
      "Try using .loc[row_indexer,col_indexer] = value instead\n",
      "\n",
      "See the caveats in the documentation: https://pandas.pydata.org/pandas-docs/stable/user_guide/indexing.html#returning-a-view-versus-a-copy\n",
      "  \"\"\"Entry point for launching an IPython kernel.\n"
     ]
    }
   ],
   "source": [
    "test_df['mean_predicted_price'] = test_df[pred_columns].mean(axis=1)"
   ]
  },
  {
   "cell_type": "code",
   "execution_count": null,
   "metadata": {},
   "outputs": [],
   "source": []
  },
  {
   "cell_type": "code",
   "execution_count": null,
   "metadata": {},
   "outputs": [],
   "source": []
  },
  {
   "cell_type": "code",
   "execution_count": null,
   "metadata": {},
   "outputs": [],
   "source": []
  },
  {
   "cell_type": "code",
   "execution_count": null,
   "metadata": {},
   "outputs": [],
   "source": []
  },
  {
   "cell_type": "code",
   "execution_count": null,
   "metadata": {},
   "outputs": [],
   "source": []
  },
  {
   "cell_type": "code",
   "execution_count": 114,
   "metadata": {},
   "outputs": [],
   "source": [
    "from sklearn.model_selection import TimeSeriesSplit"
   ]
  },
  {
   "cell_type": "code",
   "execution_count": 115,
   "metadata": {},
   "outputs": [],
   "source": [
    "tss = TimeSeriesSplit(n_splits = 12)\n"
   ]
  },
  {
   "cell_type": "code",
   "execution_count": null,
   "metadata": {},
   "outputs": [],
   "source": []
  },
  {
   "cell_type": "code",
   "execution_count": 113,
   "metadata": {},
   "outputs": [
    {
     "data": {
      "text/plain": [
       "<matplotlib.axes._subplots.AxesSubplot at 0x7fbeb5af3650>"
      ]
     },
     "execution_count": 113,
     "metadata": {},
     "output_type": "execute_result"
    },
    {
     "data": {
      "image/png": "[encoded data removed]",
      "text/plain": [
       "<Figure size 864x576 with 1 Axes>"
      ]
     },
     "metadata": {
      "needs_background": "light"
     },
     "output_type": "display_data"
    }
   ],
   "source": [
    "plt.figure(figsize=(12,8))\n",
    "sns.lineplot(data=test_df[['dates', 'price_per_sku', 'mean_predicted_price']].set_index('dates'), dashes=False,linewidth = 3)"
   ]
  },
  {
   "cell_type": "code",
   "execution_count": null,
   "metadata": {},
   "outputs": [],
   "source": []
  },
  {
   "cell_type": "code",
   "execution_count": null,
   "metadata": {},
   "outputs": [],
   "source": []
  },
  {
   "cell_type": "code",
   "execution_count": null,
   "metadata": {},
   "outputs": [],
   "source": []
  },
  {
   "cell_type": "code",
   "execution_count": null,
   "metadata": {},
   "outputs": [],
   "source": []
  },
  {
   "cell_type": "code",
   "execution_count": null,
   "metadata": {},
   "outputs": [],
   "source": []
  },
  {
   "cell_type": "code",
   "execution_count": null,
   "metadata": {},
   "outputs": [],
   "source": []
  },
  {
   "cell_type": "code",
   "execution_count": 116,
   "metadata": {},
   "outputs": [],
   "source": [
    "from fbprophet import Prophet"
   ]
  },
  {
   "cell_type": "code",
   "execution_count": 117,
   "metadata": {},
   "outputs": [],
   "source": [
    "prophet = Prophet()"
   ]
  },
  {
   "cell_type": "code",
   "execution_count": 118,
   "metadata": {},
   "outputs": [
    {
     "name": "stderr",
     "output_type": "stream",
     "text": [
      "INFO:fbprophet:Disabling yearly seasonality. Run prophet with yearly_seasonality=True to override this.\n",
      "INFO:fbprophet:Disabling daily seasonality. Run prophet with daily_seasonality=True to override this.\n"
     ]
    },
    {
     "data": {
      "text/plain": [
       "<fbprophet.forecaster.Prophet at 0x7fbeb633a310>"
      ]
     },
     "execution_count": 118,
     "metadata": {},
     "output_type": "execute_result"
    }
   ],
   "source": [
    "prophet.fit(train_df[['dates', 'price_per_sku']].rename(columns={'dates':'ds','price_per_sku':'y'}))"
   ]
  },
  {
   "cell_type": "code",
   "execution_count": 119,
   "metadata": {},
   "outputs": [],
   "source": [
    "pred_df = prophet.predict(test_df[['dates']].rename(columns={'dates':'ds'}))"
   ]
  },
  {
   "cell_type": "code",
   "execution_count": 120,
   "metadata": {},
   "outputs": [
    {
     "data": {
      "text/html": [
       "<div>\n",
       "<style scoped>\n",
       "    .dataframe tbody tr th:only-of-type {\n",
       "        vertical-align: middle;\n",
       "    }\n",
       "\n",
       "    .dataframe tbody tr th {\n",
       "        vertical-align: top;\n",
       "    }\n",
       "\n",
       "    .dataframe thead th {\n",
       "        text-align: right;\n",
       "    }\n",
       "</style>\n",
       "<table border=\"1\" class=\"dataframe\">\n",
       "  <thead>\n",
       "    <tr style=\"text-align: right;\">\n",
       "      <th></th>\n",
       "      <th>ds</th>\n",
       "      <th>trend</th>\n",
       "      <th>yhat_lower</th>\n",
       "      <th>yhat_upper</th>\n",
       "      <th>trend_lower</th>\n",
       "      <th>trend_upper</th>\n",
       "      <th>additive_terms</th>\n",
       "      <th>additive_terms_lower</th>\n",
       "      <th>additive_terms_upper</th>\n",
       "      <th>weekly</th>\n",
       "      <th>weekly_lower</th>\n",
       "      <th>weekly_upper</th>\n",
       "      <th>multiplicative_terms</th>\n",
       "      <th>multiplicative_terms_lower</th>\n",
       "      <th>multiplicative_terms_upper</th>\n",
       "      <th>yhat</th>\n",
       "    </tr>\n",
       "  </thead>\n",
       "  <tbody>\n",
       "    <tr>\n",
       "      <th>0</th>\n",
       "      <td>2019-04-02</td>\n",
       "      <td>178.633746</td>\n",
       "      <td>176.271134</td>\n",
       "      <td>181.766508</td>\n",
       "      <td>178.633746</td>\n",
       "      <td>178.633746</td>\n",
       "      <td>0.348957</td>\n",
       "      <td>0.348957</td>\n",
       "      <td>0.348957</td>\n",
       "      <td>0.348957</td>\n",
       "      <td>0.348957</td>\n",
       "      <td>0.348957</td>\n",
       "      <td>0.0</td>\n",
       "      <td>0.0</td>\n",
       "      <td>0.0</td>\n",
       "      <td>178.982703</td>\n",
       "    </tr>\n",
       "    <tr>\n",
       "      <th>1</th>\n",
       "      <td>2019-04-06</td>\n",
       "      <td>178.245861</td>\n",
       "      <td>175.740054</td>\n",
       "      <td>181.125956</td>\n",
       "      <td>178.163647</td>\n",
       "      <td>178.315983</td>\n",
       "      <td>0.135763</td>\n",
       "      <td>0.135763</td>\n",
       "      <td>0.135763</td>\n",
       "      <td>0.135763</td>\n",
       "      <td>0.135763</td>\n",
       "      <td>0.135763</td>\n",
       "      <td>0.0</td>\n",
       "      <td>0.0</td>\n",
       "      <td>0.0</td>\n",
       "      <td>178.381623</td>\n",
       "    </tr>\n",
       "    <tr>\n",
       "      <th>2</th>\n",
       "      <td>2019-04-08</td>\n",
       "      <td>178.051918</td>\n",
       "      <td>174.995343</td>\n",
       "      <td>180.619580</td>\n",
       "      <td>177.869588</td>\n",
       "      <td>178.200631</td>\n",
       "      <td>-0.198890</td>\n",
       "      <td>-0.198890</td>\n",
       "      <td>-0.198890</td>\n",
       "      <td>-0.198890</td>\n",
       "      <td>-0.198890</td>\n",
       "      <td>-0.198890</td>\n",
       "      <td>0.0</td>\n",
       "      <td>0.0</td>\n",
       "      <td>0.0</td>\n",
       "      <td>177.853028</td>\n",
       "    </tr>\n",
       "    <tr>\n",
       "      <th>3</th>\n",
       "      <td>2019-04-09</td>\n",
       "      <td>177.954947</td>\n",
       "      <td>175.688949</td>\n",
       "      <td>180.744188</td>\n",
       "      <td>177.721026</td>\n",
       "      <td>178.148887</td>\n",
       "      <td>0.348957</td>\n",
       "      <td>0.348957</td>\n",
       "      <td>0.348957</td>\n",
       "      <td>0.348957</td>\n",
       "      <td>0.348957</td>\n",
       "      <td>0.348957</td>\n",
       "      <td>0.0</td>\n",
       "      <td>0.0</td>\n",
       "      <td>0.0</td>\n",
       "      <td>178.303904</td>\n",
       "    </tr>\n",
       "    <tr>\n",
       "      <th>4</th>\n",
       "      <td>2019-04-10</td>\n",
       "      <td>177.857975</td>\n",
       "      <td>174.732653</td>\n",
       "      <td>180.143196</td>\n",
       "      <td>177.567031</td>\n",
       "      <td>178.108059</td>\n",
       "      <td>-0.445631</td>\n",
       "      <td>-0.445631</td>\n",
       "      <td>-0.445631</td>\n",
       "      <td>-0.445631</td>\n",
       "      <td>-0.445631</td>\n",
       "      <td>-0.445631</td>\n",
       "      <td>0.0</td>\n",
       "      <td>0.0</td>\n",
       "      <td>0.0</td>\n",
       "      <td>177.412344</td>\n",
       "    </tr>\n",
       "    <tr>\n",
       "      <th>5</th>\n",
       "      <td>2019-04-11</td>\n",
       "      <td>177.761004</td>\n",
       "      <td>174.514339</td>\n",
       "      <td>179.972306</td>\n",
       "      <td>177.405210</td>\n",
       "      <td>178.076767</td>\n",
       "      <td>-0.393023</td>\n",
       "      <td>-0.393023</td>\n",
       "      <td>-0.393023</td>\n",
       "      <td>-0.393023</td>\n",
       "      <td>-0.393023</td>\n",
       "      <td>-0.393023</td>\n",
       "      <td>0.0</td>\n",
       "      <td>0.0</td>\n",
       "      <td>0.0</td>\n",
       "      <td>177.367981</td>\n",
       "    </tr>\n",
       "    <tr>\n",
       "      <th>6</th>\n",
       "      <td>2019-04-12</td>\n",
       "      <td>177.664033</td>\n",
       "      <td>175.779706</td>\n",
       "      <td>181.130611</td>\n",
       "      <td>177.242305</td>\n",
       "      <td>178.045224</td>\n",
       "      <td>0.771600</td>\n",
       "      <td>0.771600</td>\n",
       "      <td>0.771600</td>\n",
       "      <td>0.771600</td>\n",
       "      <td>0.771600</td>\n",
       "      <td>0.771600</td>\n",
       "      <td>0.0</td>\n",
       "      <td>0.0</td>\n",
       "      <td>0.0</td>\n",
       "      <td>178.435632</td>\n",
       "    </tr>\n",
       "    <tr>\n",
       "      <th>7</th>\n",
       "      <td>2019-04-13</td>\n",
       "      <td>177.567061</td>\n",
       "      <td>175.036760</td>\n",
       "      <td>180.399289</td>\n",
       "      <td>177.066251</td>\n",
       "      <td>178.000467</td>\n",
       "      <td>0.135763</td>\n",
       "      <td>0.135763</td>\n",
       "      <td>0.135763</td>\n",
       "      <td>0.135763</td>\n",
       "      <td>0.135763</td>\n",
       "      <td>0.135763</td>\n",
       "      <td>0.0</td>\n",
       "      <td>0.0</td>\n",
       "      <td>0.0</td>\n",
       "      <td>177.702824</td>\n",
       "    </tr>\n",
       "    <tr>\n",
       "      <th>8</th>\n",
       "      <td>2019-04-16</td>\n",
       "      <td>177.276147</td>\n",
       "      <td>174.719525</td>\n",
       "      <td>180.185900</td>\n",
       "      <td>176.584335</td>\n",
       "      <td>177.896250</td>\n",
       "      <td>0.348957</td>\n",
       "      <td>0.348957</td>\n",
       "      <td>0.348957</td>\n",
       "      <td>0.348957</td>\n",
       "      <td>0.348957</td>\n",
       "      <td>0.348957</td>\n",
       "      <td>0.0</td>\n",
       "      <td>0.0</td>\n",
       "      <td>0.0</td>\n",
       "      <td>177.625104</td>\n",
       "    </tr>\n",
       "    <tr>\n",
       "      <th>9</th>\n",
       "      <td>2019-04-18</td>\n",
       "      <td>177.082205</td>\n",
       "      <td>174.076816</td>\n",
       "      <td>179.413327</td>\n",
       "      <td>176.246607</td>\n",
       "      <td>177.854536</td>\n",
       "      <td>-0.393023</td>\n",
       "      <td>-0.393023</td>\n",
       "      <td>-0.393023</td>\n",
       "      <td>-0.393023</td>\n",
       "      <td>-0.393023</td>\n",
       "      <td>-0.393023</td>\n",
       "      <td>0.0</td>\n",
       "      <td>0.0</td>\n",
       "      <td>0.0</td>\n",
       "      <td>176.689182</td>\n",
       "    </tr>\n",
       "    <tr>\n",
       "      <th>10</th>\n",
       "      <td>2019-04-21</td>\n",
       "      <td>176.791291</td>\n",
       "      <td>173.744857</td>\n",
       "      <td>179.425171</td>\n",
       "      <td>175.723565</td>\n",
       "      <td>177.799971</td>\n",
       "      <td>-0.218775</td>\n",
       "      <td>-0.218775</td>\n",
       "      <td>-0.218775</td>\n",
       "      <td>-0.218775</td>\n",
       "      <td>-0.218775</td>\n",
       "      <td>-0.218775</td>\n",
       "      <td>0.0</td>\n",
       "      <td>0.0</td>\n",
       "      <td>0.0</td>\n",
       "      <td>176.572516</td>\n",
       "    </tr>\n",
       "  </tbody>\n",
       "</table>\n",
       "</div>"
      ],
      "text/plain": [
       "           ds       trend  yhat_lower  yhat_upper  trend_lower  trend_upper  \\\n",
       "0  2019-04-02  178.633746  176.271134  181.766508   178.633746   178.633746   \n",
       "1  2019-04-06  178.245861  175.740054  181.125956   178.163647   178.315983   \n",
       "2  2019-04-08  178.051918  174.995343  180.619580   177.869588   178.200631   \n",
       "3  2019-04-09  177.954947  175.688949  180.744188   177.721026   178.148887   \n",
       "4  2019-04-10  177.857975  174.732653  180.143196   177.567031   178.108059   \n",
       "5  2019-04-11  177.761004  174.514339  179.972306   177.405210   178.076767   \n",
       "6  2019-04-12  177.664033  175.779706  181.130611   177.242305   178.045224   \n",
       "7  2019-04-13  177.567061  175.036760  180.399289   177.066251   178.000467   \n",
       "8  2019-04-16  177.276147  174.719525  180.185900   176.584335   177.896250   \n",
       "9  2019-04-18  177.082205  174.076816  179.413327   176.246607   177.854536   \n",
       "10 2019-04-21  176.791291  173.744857  179.425171   175.723565   177.799971   \n",
       "\n",
       "    additive_terms  additive_terms_lower  additive_terms_upper    weekly  \\\n",
       "0         0.348957              0.348957              0.348957  0.348957   \n",
       "1         0.135763              0.135763              0.135763  0.135763   \n",
       "2        -0.198890             -0.198890             -0.198890 -0.198890   \n",
       "3         0.348957              0.348957              0.348957  0.348957   \n",
       "4        -0.445631             -0.445631             -0.445631 -0.445631   \n",
       "5        -0.393023             -0.393023             -0.393023 -0.393023   \n",
       "6         0.771600              0.771600              0.771600  0.771600   \n",
       "7         0.135763              0.135763              0.135763  0.135763   \n",
       "8         0.348957              0.348957              0.348957  0.348957   \n",
       "9        -0.393023             -0.393023             -0.393023 -0.393023   \n",
       "10       -0.218775             -0.218775             -0.218775 -0.218775   \n",
       "\n",
       "    weekly_lower  weekly_upper  multiplicative_terms  \\\n",
       "0       0.348957      0.348957                   0.0   \n",
       "1       0.135763      0.135763                   0.0   \n",
       "2      -0.198890     -0.198890                   0.0   \n",
       "3       0.348957      0.348957                   0.0   \n",
       "4      -0.445631     -0.445631                   0.0   \n",
       "5      -0.393023     -0.393023                   0.0   \n",
       "6       0.771600      0.771600                   0.0   \n",
       "7       0.135763      0.135763                   0.0   \n",
       "8       0.348957      0.348957                   0.0   \n",
       "9      -0.393023     -0.393023                   0.0   \n",
       "10     -0.218775     -0.218775                   0.0   \n",
       "\n",
       "    multiplicative_terms_lower  multiplicative_terms_upper        yhat  \n",
       "0                          0.0                         0.0  178.982703  \n",
       "1                          0.0                         0.0  178.381623  \n",
       "2                          0.0                         0.0  177.853028  \n",
       "3                          0.0                         0.0  178.303904  \n",
       "4                          0.0                         0.0  177.412344  \n",
       "5                          0.0                         0.0  177.367981  \n",
       "6                          0.0                         0.0  178.435632  \n",
       "7                          0.0                         0.0  177.702824  \n",
       "8                          0.0                         0.0  177.625104  \n",
       "9                          0.0                         0.0  176.689182  \n",
       "10                         0.0                         0.0  176.572516  "
      ]
     },
     "execution_count": 120,
     "metadata": {},
     "output_type": "execute_result"
    }
   ],
   "source": [
    "pred_df"
   ]
  },
  {
   "cell_type": "code",
   "execution_count": null,
   "metadata": {},
   "outputs": [],
   "source": []
  },
  {
   "cell_type": "code",
   "execution_count": 121,
   "metadata": {},
   "outputs": [
    {
     "data": {
      "image/png": "[encoded data removed]",
      "text/plain": [
       "<Figure size 720x432 with 1 Axes>"
      ]
     },
     "execution_count": 121,
     "metadata": {},
     "output_type": "execute_result"
    },
    {
     "data": {
      "image/png": "[encoded data removed]",
      "text/plain": [
       "<Figure size 720x432 with 1 Axes>"
      ]
     },
     "metadata": {},
     "output_type": "display_data"
    }
   ],
   "source": [
    "prophet.plot(pred_df)"
   ]
  },
  {
   "cell_type": "code",
   "execution_count": 122,
   "metadata": {},
   "outputs": [
    {
     "data": {
      "image/png": "[encoded data removed]",
      "text/plain": [
       "<Figure size 648x432 with 2 Axes>"
      ]
     },
     "execution_count": 122,
     "metadata": {},
     "output_type": "execute_result"
    },
    {
     "data": {
      "image/png": "[encoded data removed]",
      "text/plain": [
       "<Figure size 648x432 with 2 Axes>"
      ]
     },
     "metadata": {},
     "output_type": "display_data"
    }
   ],
   "source": [
    "prophet.plot_components(pred_df)"
   ]
  },
  {
   "cell_type": "code",
   "execution_count": 133,
   "metadata": {},
   "outputs": [
    {
     "name": "stderr",
     "output_type": "stream",
     "text": [
      "/Users/sgafarov/opt/anaconda3/lib/python3.7/site-packages/ipykernel_launcher.py:1: SettingWithCopyWarning: \n",
      "A value is trying to be set on a copy of a slice from a DataFrame.\n",
      "Try using .loc[row_indexer,col_indexer] = value instead\n",
      "\n",
      "See the caveats in the documentation: https://pandas.pydata.org/pandas-docs/stable/user_guide/indexing.html#returning-a-view-versus-a-copy\n",
      "  \"\"\"Entry point for launching an IPython kernel.\n"
     ]
    }
   ],
   "source": [
    "test_df['prophet_model_prediction'] = pred_df['yhat'].values"
   ]
  },
  {
   "cell_type": "code",
   "execution_count": 134,
   "metadata": {},
   "outputs": [
    {
     "data": {
      "text/plain": [
       "<matplotlib.axes._subplots.AxesSubplot at 0x7fbeb808aed0>"
      ]
     },
     "execution_count": 134,
     "metadata": {},
     "output_type": "execute_result"
    },
    {
     "data": {
      "image/png": "[encoded data removed]",
      "text/plain": [
       "<Figure size 864x576 with 1 Axes>"
      ]
     },
     "metadata": {
      "needs_background": "light"
     },
     "output_type": "display_data"
    }
   ],
   "source": [
    "plt.figure(figsize=(12,8))\n",
    "sns.lineplot(data=test_df[['dates', 'price_per_sku', 'prophet_model_prediction']].set_index('dates'), \n",
    "             dashes=False, linewidth = 3)"
   ]
  },
  {
   "cell_type": "code",
   "execution_count": null,
   "metadata": {},
   "outputs": [],
   "source": []
  },
  {
   "cell_type": "code",
   "execution_count": null,
   "metadata": {},
   "outputs": [],
   "source": []
  },
  {
   "cell_type": "code",
   "execution_count": 33,
   "metadata": {},
   "outputs": [],
   "source": [
    "from sklearn.ensemble import GradientBoostingRegressor"
   ]
  },
  {
   "cell_type": "code",
   "execution_count": 32,
   "metadata": {},
   "outputs": [],
   "source": [
    "GBR = GradientBoostingRegressor()"
   ]
  },
  {
   "cell_type": "code",
   "execution_count": null,
   "metadata": {},
   "outputs": [],
   "source": []
  },
  {
   "cell_type": "code",
   "execution_count": null,
   "metadata": {},
   "outputs": [],
   "source": []
  },
  {
   "cell_type": "code",
   "execution_count": 65,
   "metadata": {},
   "outputs": [],
   "source": [
    "from xgboost.sklearn import XGBRegressor\n",
    "from functools import partial"
   ]
  },
  {
   "cell_type": "markdown",
   "metadata": {},
   "source": [
    "Quantile:\n",
    "$$C(x) = \\left\\{\\begin{array}{cc}(\\alpha-1)|x-q| & \\mbox{if }x<q \\\\ \\alpha|x-q| & \\mbox{if }x\\geq q \\end{array}\\right. $$"
   ]
  },
  {
   "cell_type": "markdown",
   "metadata": {},
   "source": [
    "Split condition:"
   ]
  },
  {
   "cell_type": "markdown",
   "metadata": {},
   "source": [
    "$$\\mathcal{L}_{\\mbox{ split}} = \\frac{\\left(\\sum\\limits_{i \\in I_L}g_j \\right)^2}{\\sum\\limits_{i \\in I_L}h_j+\\lambda}+\\frac{\\left(\\sum\\limits_{i \\in I_R}g_j\\right)^2}{\\sum\\limits_{i \\in I_R}h_j+\\lambda}-\\frac{\\left(\\sum\\limits_{i \\in I}g_j\\right)^2}{\\sum\\limits_{i \\in I}h_j+\\lambda}~~~~\\mbox{for } I_{L} \\cup I_{R} = I $$"
   ]
  },
  {
   "cell_type": "code",
   "execution_count": 45,
   "metadata": {},
   "outputs": [],
   "source": [
    "#@title XGBQuantile Class\n",
    "class XGBQuantile(XGBRegressor):\n",
    "    def __init__(self,quant_alpha=0.95,quant_delta = 1.0,quant_thres=1.0,quant_var =1.0,base_score=0.5, booster='gbtree', colsample_bylevel=1,\n",
    "                colsample_bytree=1, gamma=0, learning_rate=0.1, max_delta_step=0,max_depth=3, min_child_weight=1, missing=None, n_estimators=100,\n",
    "                n_jobs=1, nthread=None, objective='reg:linear', random_state=0,reg_alpha=0, reg_lambda=1, scale_pos_weight=1, seed=None,silent=True, subsample=1):\n",
    "        self.quant_alpha = quant_alpha\n",
    "        self.quant_delta = quant_delta\n",
    "        self.quant_thres = quant_thres\n",
    "        self.quant_var = quant_var\n",
    "    \n",
    "        super().__init__(base_score=base_score, booster=booster, colsample_bylevel=colsample_bylevel,\n",
    "           colsample_bytree=colsample_bytree, gamma=gamma, learning_rate=learning_rate, max_delta_step=max_delta_step,\n",
    "           max_depth=max_depth, min_child_weight=min_child_weight, missing=missing, n_estimators=n_estimators,\n",
    "           n_jobs= n_jobs, nthread=nthread, objective=objective, random_state=random_state,\n",
    "           reg_alpha=reg_alpha, reg_lambda=reg_lambda, scale_pos_weight=scale_pos_weight, seed=seed,\n",
    "           silent=silent, subsample=subsample)\n",
    "\n",
    "        self.test = None\n",
    "  \n",
    "    def fit(self, X, y):\n",
    "        super().set_params(objective=partial(XGBQuantile.quantile_loss,alpha = self.quant_alpha,delta = self.quant_delta,threshold = self.quant_thres,var = self.quant_var) )\n",
    "        super().fit(X,y)\n",
    "        return self\n",
    "  \n",
    "    def predict(self,X):\n",
    "        return super().predict(X)\n",
    "  \n",
    "    def score(self, X, y):\n",
    "        y_pred = super().predict(X)\n",
    "        score = XGBQuantile.quantile_score(y, y_pred, self.quant_alpha)\n",
    "        score = 1./score\n",
    "        return score\n",
    "      \n",
    "    @staticmethod\n",
    "    def quantile_loss(y_true,y_pred,alpha,delta,threshold,var):\n",
    "        x = y_true - y_pred\n",
    "        grad = (x<(alpha-1.0)*delta)*(1.0-alpha)-  ((x>=(alpha-1.0)*delta)& (x<alpha*delta) )*x/delta-alpha*(x>alpha*delta)\n",
    "        hess = ((x>=(alpha-1.0)*delta)& (x<alpha*delta) )/delta \n",
    "\n",
    "        grad = (np.abs(x)<threshold )*grad - (np.abs(x)>=threshold )*(2*np.random.randint(2, size=len(y_true)) -1.0)*var\n",
    "        hess = (np.abs(x)<threshold )*hess + (np.abs(x)>=threshold )\n",
    "        return grad, hess\n",
    "  \n",
    "    @staticmethod\n",
    "    def original_quantile_loss(y_true,y_pred,alpha,delta):\n",
    "        x = y_true - y_pred\n",
    "        grad = (x<(alpha-1.0)*delta)*(1.0-alpha)-((x>=(alpha-1.0)*delta)& (x<alpha*delta) )*x/delta-alpha*(x>alpha*delta)\n",
    "        hess = ((x>=(alpha-1.0)*delta)& (x<alpha*delta) )/delta \n",
    "        return grad,hess\n",
    "\n",
    "  \n",
    "    @staticmethod\n",
    "    def quantile_score(y_true, y_pred, alpha):\n",
    "        score = XGBQuantile.quantile_cost(x=y_true-y_pred,alpha=alpha)\n",
    "        score = np.sum(score)\n",
    "        return score\n",
    "  \n",
    "    @staticmethod\n",
    "    def quantile_cost(x, alpha):\n",
    "        return (alpha-1.0)*x*(x<0)+alpha*x*(x>=0)\n",
    "  \n",
    "    @staticmethod\n",
    "    def get_split_gain(gradient,hessian,l=1):\n",
    "        split_gain = list()\n",
    "        for i in range(gradient.shape[0]):\n",
    "            split_gain.append(np.sum(gradient[:i])**2/(np.sum(hessian[:i])+l)+np.sum(gradient[i:])**2/(np.sum(hessian[i:])+l)-np.sum(gradient)**2/(np.sum(hessian)+l) )\n",
    "    \n",
    "        return np.array(split_gain)\n"
   ]
  },
  {
   "cell_type": "code",
   "execution_count": null,
   "metadata": {},
   "outputs": [],
   "source": []
  }
 ],
 "metadata": {
  "kernelspec": {
   "display_name": "Python 3",
   "language": "python",
   "name": "python3"
  },
  "language_info": {
   "codemirror_mode": {
    "name": "ipython",
    "version": 3
   },
   "file_extension": ".py",
   "mimetype": "text/x-python",
   "name": "python",
   "nbconvert_exporter": "python",
   "pygments_lexer": "ipython3",
   "version": "3.7.6"
  }
 },
 "nbformat": 4,
 "nbformat_minor": 4
}
