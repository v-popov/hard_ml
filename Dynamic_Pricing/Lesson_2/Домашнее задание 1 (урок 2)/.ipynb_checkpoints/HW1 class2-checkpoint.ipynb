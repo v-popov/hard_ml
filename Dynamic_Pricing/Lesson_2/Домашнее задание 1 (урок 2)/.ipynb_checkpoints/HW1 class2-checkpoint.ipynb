{
 "cells": [
  {
   "cell_type": "code",
   "execution_count": 36,
   "metadata": {},
   "outputs": [],
   "source": [
    "import pandas as pd\n",
    "import numpy as np\n",
    "from matplotlib import pyplot as plt\n",
    "import seaborn as sns"
   ]
  },
  {
   "cell_type": "markdown",
   "metadata": {},
   "source": [
    "# EDA"
   ]
  },
  {
   "cell_type": "code",
   "execution_count": 2,
   "metadata": {},
   "outputs": [
    {
     "data": {
      "text/html": [
       "<div>\n",
       "<style scoped>\n",
       "    .dataframe tbody tr th:only-of-type {\n",
       "        vertical-align: middle;\n",
       "    }\n",
       "\n",
       "    .dataframe tbody tr th {\n",
       "        vertical-align: top;\n",
       "    }\n",
       "\n",
       "    .dataframe thead th {\n",
       "        text-align: right;\n",
       "    }\n",
       "</style>\n",
       "<table border=\"1\" class=\"dataframe\">\n",
       "  <thead>\n",
       "    <tr style=\"text-align: right;\">\n",
       "      <th></th>\n",
       "      <th>id</th>\n",
       "      <th>timestamp</th>\n",
       "      <th>full_sq</th>\n",
       "      <th>life_sq</th>\n",
       "      <th>floor</th>\n",
       "      <th>max_floor</th>\n",
       "      <th>material</th>\n",
       "      <th>build_year</th>\n",
       "      <th>num_room</th>\n",
       "      <th>kitch_sq</th>\n",
       "      <th>apartment condition</th>\n",
       "      <th>sub_area</th>\n",
       "      <th>price</th>\n",
       "    </tr>\n",
       "  </thead>\n",
       "  <tbody>\n",
       "    <tr>\n",
       "      <th>0</th>\n",
       "      <td>30392</td>\n",
       "      <td>2014-12-30</td>\n",
       "      <td>60</td>\n",
       "      <td>36.0</td>\n",
       "      <td>6.0</td>\n",
       "      <td>9.0</td>\n",
       "      <td>1.0</td>\n",
       "      <td>1974.0</td>\n",
       "      <td>3.0</td>\n",
       "      <td>5.0</td>\n",
       "      <td>3.0</td>\n",
       "      <td>9</td>\n",
       "      <td>9711800.0</td>\n",
       "    </tr>\n",
       "    <tr>\n",
       "      <th>1</th>\n",
       "      <td>36540</td>\n",
       "      <td>2013-06-28</td>\n",
       "      <td>44</td>\n",
       "      <td>29.0</td>\n",
       "      <td>9.0</td>\n",
       "      <td>NaN</td>\n",
       "      <td>NaN</td>\n",
       "      <td>NaN</td>\n",
       "      <td>NaN</td>\n",
       "      <td>NaN</td>\n",
       "      <td>NaN</td>\n",
       "      <td>19</td>\n",
       "      <td>6643200.0</td>\n",
       "    </tr>\n",
       "    <tr>\n",
       "      <th>2</th>\n",
       "      <td>94669</td>\n",
       "      <td>2013-09-15</td>\n",
       "      <td>62</td>\n",
       "      <td>60.0</td>\n",
       "      <td>4.0</td>\n",
       "      <td>NaN</td>\n",
       "      <td>NaN</td>\n",
       "      <td>NaN</td>\n",
       "      <td>NaN</td>\n",
       "      <td>NaN</td>\n",
       "      <td>NaN</td>\n",
       "      <td>80</td>\n",
       "      <td>5698300.0</td>\n",
       "    </tr>\n",
       "    <tr>\n",
       "      <th>3</th>\n",
       "      <td>17531</td>\n",
       "      <td>2013-12-13</td>\n",
       "      <td>33</td>\n",
       "      <td>18.0</td>\n",
       "      <td>4.0</td>\n",
       "      <td>9.0</td>\n",
       "      <td>1.0</td>\n",
       "      <td>1970.0</td>\n",
       "      <td>1.0</td>\n",
       "      <td>6.0</td>\n",
       "      <td>2.0</td>\n",
       "      <td>15</td>\n",
       "      <td>5055000.0</td>\n",
       "    </tr>\n",
       "    <tr>\n",
       "      <th>4</th>\n",
       "      <td>32159</td>\n",
       "      <td>2014-02-13</td>\n",
       "      <td>37</td>\n",
       "      <td>14.0</td>\n",
       "      <td>1.0</td>\n",
       "      <td>17.0</td>\n",
       "      <td>1.0</td>\n",
       "      <td>1991.0</td>\n",
       "      <td>1.0</td>\n",
       "      <td>1.0</td>\n",
       "      <td>2.0</td>\n",
       "      <td>74</td>\n",
       "      <td>5425000.0</td>\n",
       "    </tr>\n",
       "  </tbody>\n",
       "</table>\n",
       "</div>"
      ],
      "text/plain": [
       "      id   timestamp  full_sq  life_sq  floor  max_floor  material  \\\n",
       "0  30392  2014-12-30       60     36.0    6.0        9.0       1.0   \n",
       "1  36540  2013-06-28       44     29.0    9.0        NaN       NaN   \n",
       "2  94669  2013-09-15       62     60.0    4.0        NaN       NaN   \n",
       "3  17531  2013-12-13       33     18.0    4.0        9.0       1.0   \n",
       "4  32159  2014-02-13       37     14.0    1.0       17.0       1.0   \n",
       "\n",
       "   build_year  num_room  kitch_sq  apartment condition  sub_area      price  \n",
       "0      1974.0       3.0       5.0                  3.0         9  9711800.0  \n",
       "1         NaN       NaN       NaN                  NaN        19  6643200.0  \n",
       "2         NaN       NaN       NaN                  NaN        80  5698300.0  \n",
       "3      1970.0       1.0       6.0                  2.0        15  5055000.0  \n",
       "4      1991.0       1.0       1.0                  2.0        74  5425000.0  "
      ]
     },
     "execution_count": 2,
     "metadata": {},
     "output_type": "execute_result"
    }
   ],
   "source": [
    "data = pd.read_csv('data/HW_train_main_data.csv')\n",
    "data.head()"
   ]
  },
  {
   "cell_type": "code",
   "execution_count": 3,
   "metadata": {},
   "outputs": [
    {
     "name": "stdout",
     "output_type": "stream",
     "text": [
      "<class 'pandas.core.frame.DataFrame'>\n",
      "RangeIndex: 29000 entries, 0 to 28999\n",
      "Data columns (total 13 columns):\n",
      " #   Column               Non-Null Count  Dtype  \n",
      "---  ------               --------------  -----  \n",
      " 0   id                   29000 non-null  int64  \n",
      " 1   timestamp            29000 non-null  object \n",
      " 2   full_sq              29000 non-null  int64  \n",
      " 3   life_sq              22935 non-null  float64\n",
      " 4   floor                28843 non-null  float64\n",
      " 5   max_floor            19887 non-null  float64\n",
      " 6   material             19887 non-null  float64\n",
      " 7   build_year           16059 non-null  float64\n",
      " 8   num_room             19887 non-null  float64\n",
      " 9   kitch_sq             19887 non-null  float64\n",
      " 10  apartment condition  16088 non-null  float64\n",
      " 11  sub_area             29000 non-null  int64  \n",
      " 12  price                29000 non-null  float64\n",
      "dtypes: float64(9), int64(3), object(1)\n",
      "memory usage: 2.9+ MB\n"
     ]
    }
   ],
   "source": [
    "data.info()"
   ]
  },
  {
   "cell_type": "code",
   "execution_count": 4,
   "metadata": {},
   "outputs": [
    {
     "data": {
      "text/html": [
       "<div>\n",
       "<style scoped>\n",
       "    .dataframe tbody tr th:only-of-type {\n",
       "        vertical-align: middle;\n",
       "    }\n",
       "\n",
       "    .dataframe tbody tr th {\n",
       "        vertical-align: top;\n",
       "    }\n",
       "\n",
       "    .dataframe thead th {\n",
       "        text-align: right;\n",
       "    }\n",
       "</style>\n",
       "<table border=\"1\" class=\"dataframe\">\n",
       "  <thead>\n",
       "    <tr style=\"text-align: right;\">\n",
       "      <th></th>\n",
       "      <th>id</th>\n",
       "      <th>full_sq</th>\n",
       "      <th>life_sq</th>\n",
       "      <th>floor</th>\n",
       "      <th>max_floor</th>\n",
       "      <th>material</th>\n",
       "      <th>build_year</th>\n",
       "      <th>num_room</th>\n",
       "      <th>kitch_sq</th>\n",
       "      <th>apartment condition</th>\n",
       "      <th>sub_area</th>\n",
       "      <th>price</th>\n",
       "    </tr>\n",
       "  </thead>\n",
       "  <tbody>\n",
       "    <tr>\n",
       "      <th>count</th>\n",
       "      <td>29000.000000</td>\n",
       "      <td>29000.000000</td>\n",
       "      <td>22935.000000</td>\n",
       "      <td>28843.000000</td>\n",
       "      <td>19887.000000</td>\n",
       "      <td>19887.000000</td>\n",
       "      <td>1.605900e+04</td>\n",
       "      <td>19887.000000</td>\n",
       "      <td>19887.000000</td>\n",
       "      <td>16088.000000</td>\n",
       "      <td>29000.000000</td>\n",
       "      <td>2.900000e+04</td>\n",
       "    </tr>\n",
       "    <tr>\n",
       "      <th>mean</th>\n",
       "      <td>54932.809724</td>\n",
       "      <td>55.235345</td>\n",
       "      <td>34.103248</td>\n",
       "      <td>7.665326</td>\n",
       "      <td>12.560567</td>\n",
       "      <td>1.821491</td>\n",
       "      <td>3.126422e+03</td>\n",
       "      <td>1.908282</td>\n",
       "      <td>6.424297</td>\n",
       "      <td>2.108031</td>\n",
       "      <td>76.503931</td>\n",
       "      <td>7.472051e+06</td>\n",
       "    </tr>\n",
       "    <tr>\n",
       "      <th>std</th>\n",
       "      <td>25981.968682</td>\n",
       "      <td>38.781299</td>\n",
       "      <td>20.911329</td>\n",
       "      <td>5.319891</td>\n",
       "      <td>6.775449</td>\n",
       "      <td>1.475440</td>\n",
       "      <td>1.582194e+05</td>\n",
       "      <td>0.853043</td>\n",
       "      <td>28.960510</td>\n",
       "      <td>0.882274</td>\n",
       "      <td>39.308253</td>\n",
       "      <td>5.056736e+06</td>\n",
       "    </tr>\n",
       "    <tr>\n",
       "      <th>min</th>\n",
       "      <td>10001.000000</td>\n",
       "      <td>0.000000</td>\n",
       "      <td>0.000000</td>\n",
       "      <td>0.000000</td>\n",
       "      <td>0.000000</td>\n",
       "      <td>1.000000</td>\n",
       "      <td>0.000000e+00</td>\n",
       "      <td>0.000000</td>\n",
       "      <td>0.000000</td>\n",
       "      <td>1.000000</td>\n",
       "      <td>0.000000</td>\n",
       "      <td>1.085000e+05</td>\n",
       "    </tr>\n",
       "    <tr>\n",
       "      <th>25%</th>\n",
       "      <td>32382.500000</td>\n",
       "      <td>40.000000</td>\n",
       "      <td>20.000000</td>\n",
       "      <td>3.000000</td>\n",
       "      <td>9.000000</td>\n",
       "      <td>1.000000</td>\n",
       "      <td>1.966000e+03</td>\n",
       "      <td>1.000000</td>\n",
       "      <td>1.000000</td>\n",
       "      <td>1.000000</td>\n",
       "      <td>44.000000</td>\n",
       "      <td>4.957875e+06</td>\n",
       "    </tr>\n",
       "    <tr>\n",
       "      <th>50%</th>\n",
       "      <td>54984.500000</td>\n",
       "      <td>50.000000</td>\n",
       "      <td>30.000000</td>\n",
       "      <td>6.000000</td>\n",
       "      <td>12.000000</td>\n",
       "      <td>1.000000</td>\n",
       "      <td>1.979000e+03</td>\n",
       "      <td>2.000000</td>\n",
       "      <td>6.000000</td>\n",
       "      <td>2.000000</td>\n",
       "      <td>78.000000</td>\n",
       "      <td>6.553400e+06</td>\n",
       "    </tr>\n",
       "    <tr>\n",
       "      <th>75%</th>\n",
       "      <td>77417.500000</td>\n",
       "      <td>64.000000</td>\n",
       "      <td>43.000000</td>\n",
       "      <td>11.000000</td>\n",
       "      <td>17.000000</td>\n",
       "      <td>2.000000</td>\n",
       "      <td>2.005000e+03</td>\n",
       "      <td>2.000000</td>\n",
       "      <td>9.000000</td>\n",
       "      <td>3.000000</td>\n",
       "      <td>105.000000</td>\n",
       "      <td>8.674925e+06</td>\n",
       "    </tr>\n",
       "    <tr>\n",
       "      <th>max</th>\n",
       "      <td>99999.000000</td>\n",
       "      <td>5329.000000</td>\n",
       "      <td>802.000000</td>\n",
       "      <td>77.000000</td>\n",
       "      <td>117.000000</td>\n",
       "      <td>6.000000</td>\n",
       "      <td>2.005201e+07</td>\n",
       "      <td>19.000000</td>\n",
       "      <td>2014.000000</td>\n",
       "      <td>33.000000</td>\n",
       "      <td>145.000000</td>\n",
       "      <td>1.124444e+08</td>\n",
       "    </tr>\n",
       "  </tbody>\n",
       "</table>\n",
       "</div>"
      ],
      "text/plain": [
       "                 id       full_sq       life_sq         floor     max_floor  \\\n",
       "count  29000.000000  29000.000000  22935.000000  28843.000000  19887.000000   \n",
       "mean   54932.809724     55.235345     34.103248      7.665326     12.560567   \n",
       "std    25981.968682     38.781299     20.911329      5.319891      6.775449   \n",
       "min    10001.000000      0.000000      0.000000      0.000000      0.000000   \n",
       "25%    32382.500000     40.000000     20.000000      3.000000      9.000000   \n",
       "50%    54984.500000     50.000000     30.000000      6.000000     12.000000   \n",
       "75%    77417.500000     64.000000     43.000000     11.000000     17.000000   \n",
       "max    99999.000000   5329.000000    802.000000     77.000000    117.000000   \n",
       "\n",
       "           material    build_year      num_room      kitch_sq  \\\n",
       "count  19887.000000  1.605900e+04  19887.000000  19887.000000   \n",
       "mean       1.821491  3.126422e+03      1.908282      6.424297   \n",
       "std        1.475440  1.582194e+05      0.853043     28.960510   \n",
       "min        1.000000  0.000000e+00      0.000000      0.000000   \n",
       "25%        1.000000  1.966000e+03      1.000000      1.000000   \n",
       "50%        1.000000  1.979000e+03      2.000000      6.000000   \n",
       "75%        2.000000  2.005000e+03      2.000000      9.000000   \n",
       "max        6.000000  2.005201e+07     19.000000   2014.000000   \n",
       "\n",
       "       apartment condition      sub_area         price  \n",
       "count         16088.000000  29000.000000  2.900000e+04  \n",
       "mean              2.108031     76.503931  7.472051e+06  \n",
       "std               0.882274     39.308253  5.056736e+06  \n",
       "min               1.000000      0.000000  1.085000e+05  \n",
       "25%               1.000000     44.000000  4.957875e+06  \n",
       "50%               2.000000     78.000000  6.553400e+06  \n",
       "75%               3.000000    105.000000  8.674925e+06  \n",
       "max              33.000000    145.000000  1.124444e+08  "
      ]
     },
     "execution_count": 4,
     "metadata": {},
     "output_type": "execute_result"
    }
   ],
   "source": [
    "data.describe()"
   ]
  },
  {
   "cell_type": "markdown",
   "metadata": {},
   "source": [
    "### Q1"
   ]
  },
  {
   "cell_type": "code",
   "execution_count": 14,
   "metadata": {},
   "outputs": [],
   "source": [
    "top_10_expensive_apts = data.loc[data['price'].argsort()[-10:][::-1], 'id'].values"
   ]
  },
  {
   "cell_type": "code",
   "execution_count": 8,
   "metadata": {},
   "outputs": [
    {
     "data": {
      "text/plain": [
       "0        15120\n",
       "1         9731\n",
       "2        20459\n",
       "3         1349\n",
       "4        13300\n",
       "         ...  \n",
       "28995    15217\n",
       "28996    26225\n",
       "28997     5829\n",
       "28998    27095\n",
       "28999    18117\n",
       "Name: price, Length: 29000, dtype: int64"
      ]
     },
     "execution_count": 8,
     "metadata": {},
     "output_type": "execute_result"
    }
   ],
   "source": [
    "data['price'].argsort()"
   ]
  },
  {
   "cell_type": "markdown",
   "metadata": {},
   "source": [
    "### Q2"
   ]
  },
  {
   "cell_type": "code",
   "execution_count": 22,
   "metadata": {},
   "outputs": [],
   "source": [
    "data['timestamp'] = pd.to_datetime(data['timestamp'])"
   ]
  },
  {
   "cell_type": "code",
   "execution_count": 35,
   "metadata": {},
   "outputs": [],
   "source": [
    "data['year_month'] = data['timestamp'].dt.year.astype(str).str.cat(data['timestamp'].dt.month.astype(str), sep='_')"
   ]
  },
  {
   "cell_type": "code",
   "execution_count": 34,
   "metadata": {},
   "outputs": [
    {
     "data": {
      "text/plain": [
       "0        2014_12\n",
       "1         2013_6\n",
       "2         2013_9\n",
       "3        2013_12\n",
       "4         2014_2\n",
       "          ...   \n",
       "28995     2013_5\n",
       "28996     2014_4\n",
       "28997     2013_9\n",
       "28998    2013_11\n",
       "28999     2014_5\n",
       "Name: timestamp, Length: 29000, dtype: object"
      ]
     },
     "execution_count": 34,
     "metadata": {},
     "output_type": "execute_result"
    }
   ],
   "source": [
    "data['timestamp'].dt.year.astype(str).str.cat(data['timestamp'].dt.month.astype(str), sep='_')"
   ]
  },
  {
   "cell_type": "code",
   "execution_count": 55,
   "metadata": {},
   "outputs": [
    {
     "data": {
      "image/png": "[encoded data removed]",
      "text/plain": [
       "<Figure size 720x360 with 1 Axes>"
      ]
     },
     "metadata": {
      "needs_background": "light"
     },
     "output_type": "display_data"
    }
   ],
   "source": [
    "fig = plt.figure(figsize=[10,5])\n",
    "ax = plt.gca()\n",
    "p = sns.scatterplot(data=data.sort_values(by='year_month'), x='year_month', y='price', ax=ax)\n",
    "locs, labels = plt.xticks()\n",
    "plt.setp(labels, rotation=90);"
   ]
  },
  {
   "cell_type": "markdown",
   "metadata": {},
   "source": [
    "### Q3"
   ]
  },
  {
   "cell_type": "code",
   "execution_count": 65,
   "metadata": {},
   "outputs": [
    {
     "data": {
      "text/plain": [
       "array([98356, 99826, 99400, 94644, 99993, 99904, 99859, 99903, 99354,\n",
       "       99488, 99851, 99706, 99139, 99339, 99479, 99605, 99875, 99916,\n",
       "       99450, 99948, 99901, 99670, 99917, 99499, 99795, 99981, 99829,\n",
       "       99973, 99868, 99885, 99996, 99980, 99946, 99976, 99961, 99999,\n",
       "       99716, 99906, 99687, 99997, 99970, 99953, 99718, 99960, 99966,\n",
       "       99943, 99760], dtype=int64)"
      ]
     },
     "execution_count": 65,
     "metadata": {},
     "output_type": "execute_result"
    }
   ],
   "source": [
    "id_most_expensive_prive_by_month = data.groupby('year_month').max()['id'].values\n",
    "id_most_expensive_prive_by_month"
   ]
  },
  {
   "cell_type": "code",
   "execution_count": 67,
   "metadata": {},
   "outputs": [
    {
     "data": {
      "text/plain": [
       "array([  200,   942,  1700,  1936,  2127,  2679,  2884,  3367,  3591,\n",
       "        4279,  5105,  5376,  5432,  5746,  6428,  6495,  6786,  6863,\n",
       "        8264,  9037,  9439, 10038, 10441, 13060, 13619, 14651, 16590,\n",
       "       16634, 16900, 18004, 18453, 19739, 21472, 21952, 23002, 23517,\n",
       "       24521, 24553, 24777, 24904, 25022, 25417, 25882, 26251, 26843,\n",
       "       26915, 28035], dtype=int64)"
      ]
     },
     "execution_count": 67,
     "metadata": {},
     "output_type": "execute_result"
    }
   ],
   "source": [
    "indices_most_expensive_prive_by_month = data[data['id'].isin(id_most_expensive_prive_by_month)].index.values\n",
    "indices_most_expensive_prive_by_month"
   ]
  },
  {
   "cell_type": "markdown",
   "metadata": {},
   "source": [
    "### Q4"
   ]
  },
  {
   "cell_type": "code",
   "execution_count": null,
   "metadata": {},
   "outputs": [],
   "source": [
    " "
   ]
  }
 ],
 "metadata": {
  "kernelspec": {
   "display_name": "Python 3",
   "language": "python",
   "name": "python3"
  },
  "language_info": {
   "codemirror_mode": {
    "name": "ipython",
    "version": 3
   },
   "file_extension": ".py",
   "mimetype": "text/x-python",
   "name": "python",
   "nbconvert_exporter": "python",
   "pygments_lexer": "ipython3",
   "version": "3.7.6"
  }
 },
 "nbformat": 4,
 "nbformat_minor": 4
}
