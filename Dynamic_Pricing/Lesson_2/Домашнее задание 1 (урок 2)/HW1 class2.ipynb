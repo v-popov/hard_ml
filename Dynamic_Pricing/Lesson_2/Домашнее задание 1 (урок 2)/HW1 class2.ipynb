{
 "cells": [
  {
   "cell_type": "code",
   "execution_count": 1,
   "metadata": {},
   "outputs": [],
   "source": [
    "import pandas as pd\n",
    "import numpy as np\n",
    "from matplotlib import pyplot as plt\n",
    "import seaborn as sns\n",
    "import xgboost as xgb\n",
    "import joblib"
   ]
  },
  {
   "cell_type": "markdown",
   "metadata": {},
   "source": [
    "# EDA"
   ]
  },
  {
   "cell_type": "code",
   "execution_count": 2,
   "metadata": {},
   "outputs": [
    {
     "data": {
      "text/html": [
       "<div>\n",
       "<style scoped>\n",
       "    .dataframe tbody tr th:only-of-type {\n",
       "        vertical-align: middle;\n",
       "    }\n",
       "\n",
       "    .dataframe tbody tr th {\n",
       "        vertical-align: top;\n",
       "    }\n",
       "\n",
       "    .dataframe thead th {\n",
       "        text-align: right;\n",
       "    }\n",
       "</style>\n",
       "<table border=\"1\" class=\"dataframe\">\n",
       "  <thead>\n",
       "    <tr style=\"text-align: right;\">\n",
       "      <th></th>\n",
       "      <th>id</th>\n",
       "      <th>timestamp</th>\n",
       "      <th>full_sq</th>\n",
       "      <th>life_sq</th>\n",
       "      <th>floor</th>\n",
       "      <th>max_floor</th>\n",
       "      <th>material</th>\n",
       "      <th>build_year</th>\n",
       "      <th>num_room</th>\n",
       "      <th>kitch_sq</th>\n",
       "      <th>apartment condition</th>\n",
       "      <th>sub_area</th>\n",
       "      <th>price</th>\n",
       "    </tr>\n",
       "  </thead>\n",
       "  <tbody>\n",
       "    <tr>\n",
       "      <th>0</th>\n",
       "      <td>30392</td>\n",
       "      <td>2014-12-30</td>\n",
       "      <td>60</td>\n",
       "      <td>36.0</td>\n",
       "      <td>6.0</td>\n",
       "      <td>9.0</td>\n",
       "      <td>1.0</td>\n",
       "      <td>1974.0</td>\n",
       "      <td>3.0</td>\n",
       "      <td>5.0</td>\n",
       "      <td>3.0</td>\n",
       "      <td>9</td>\n",
       "      <td>9711800.0</td>\n",
       "    </tr>\n",
       "    <tr>\n",
       "      <th>1</th>\n",
       "      <td>36540</td>\n",
       "      <td>2013-06-28</td>\n",
       "      <td>44</td>\n",
       "      <td>29.0</td>\n",
       "      <td>9.0</td>\n",
       "      <td>NaN</td>\n",
       "      <td>NaN</td>\n",
       "      <td>NaN</td>\n",
       "      <td>NaN</td>\n",
       "      <td>NaN</td>\n",
       "      <td>NaN</td>\n",
       "      <td>19</td>\n",
       "      <td>6643200.0</td>\n",
       "    </tr>\n",
       "    <tr>\n",
       "      <th>2</th>\n",
       "      <td>94669</td>\n",
       "      <td>2013-09-15</td>\n",
       "      <td>62</td>\n",
       "      <td>60.0</td>\n",
       "      <td>4.0</td>\n",
       "      <td>NaN</td>\n",
       "      <td>NaN</td>\n",
       "      <td>NaN</td>\n",
       "      <td>NaN</td>\n",
       "      <td>NaN</td>\n",
       "      <td>NaN</td>\n",
       "      <td>80</td>\n",
       "      <td>5698300.0</td>\n",
       "    </tr>\n",
       "    <tr>\n",
       "      <th>3</th>\n",
       "      <td>17531</td>\n",
       "      <td>2013-12-13</td>\n",
       "      <td>33</td>\n",
       "      <td>18.0</td>\n",
       "      <td>4.0</td>\n",
       "      <td>9.0</td>\n",
       "      <td>1.0</td>\n",
       "      <td>1970.0</td>\n",
       "      <td>1.0</td>\n",
       "      <td>6.0</td>\n",
       "      <td>2.0</td>\n",
       "      <td>15</td>\n",
       "      <td>5055000.0</td>\n",
       "    </tr>\n",
       "    <tr>\n",
       "      <th>4</th>\n",
       "      <td>32159</td>\n",
       "      <td>2014-02-13</td>\n",
       "      <td>37</td>\n",
       "      <td>14.0</td>\n",
       "      <td>1.0</td>\n",
       "      <td>17.0</td>\n",
       "      <td>1.0</td>\n",
       "      <td>1991.0</td>\n",
       "      <td>1.0</td>\n",
       "      <td>1.0</td>\n",
       "      <td>2.0</td>\n",
       "      <td>74</td>\n",
       "      <td>5425000.0</td>\n",
       "    </tr>\n",
       "  </tbody>\n",
       "</table>\n",
       "</div>"
      ],
      "text/plain": [
       "      id   timestamp  full_sq  life_sq  floor  max_floor  material  \\\n",
       "0  30392  2014-12-30       60     36.0    6.0        9.0       1.0   \n",
       "1  36540  2013-06-28       44     29.0    9.0        NaN       NaN   \n",
       "2  94669  2013-09-15       62     60.0    4.0        NaN       NaN   \n",
       "3  17531  2013-12-13       33     18.0    4.0        9.0       1.0   \n",
       "4  32159  2014-02-13       37     14.0    1.0       17.0       1.0   \n",
       "\n",
       "   build_year  num_room  kitch_sq  apartment condition  sub_area      price  \n",
       "0      1974.0       3.0       5.0                  3.0         9  9711800.0  \n",
       "1         NaN       NaN       NaN                  NaN        19  6643200.0  \n",
       "2         NaN       NaN       NaN                  NaN        80  5698300.0  \n",
       "3      1970.0       1.0       6.0                  2.0        15  5055000.0  \n",
       "4      1991.0       1.0       1.0                  2.0        74  5425000.0  "
      ]
     },
     "execution_count": 2,
     "metadata": {},
     "output_type": "execute_result"
    }
   ],
   "source": [
    "data = pd.read_csv('data/HW_train_main_data.csv')\n",
    "data.head()"
   ]
  },
  {
   "cell_type": "code",
   "execution_count": 3,
   "metadata": {},
   "outputs": [
    {
     "name": "stdout",
     "output_type": "stream",
     "text": [
      "<class 'pandas.core.frame.DataFrame'>\n",
      "RangeIndex: 29000 entries, 0 to 28999\n",
      "Data columns (total 13 columns):\n",
      " #   Column               Non-Null Count  Dtype  \n",
      "---  ------               --------------  -----  \n",
      " 0   id                   29000 non-null  int64  \n",
      " 1   timestamp            29000 non-null  object \n",
      " 2   full_sq              29000 non-null  int64  \n",
      " 3   life_sq              22935 non-null  float64\n",
      " 4   floor                28843 non-null  float64\n",
      " 5   max_floor            19887 non-null  float64\n",
      " 6   material             19887 non-null  float64\n",
      " 7   build_year           16059 non-null  float64\n",
      " 8   num_room             19887 non-null  float64\n",
      " 9   kitch_sq             19887 non-null  float64\n",
      " 10  apartment condition  16088 non-null  float64\n",
      " 11  sub_area             29000 non-null  int64  \n",
      " 12  price                29000 non-null  float64\n",
      "dtypes: float64(9), int64(3), object(1)\n",
      "memory usage: 2.9+ MB\n"
     ]
    }
   ],
   "source": [
    "data.info()"
   ]
  },
  {
   "cell_type": "code",
   "execution_count": 4,
   "metadata": {},
   "outputs": [
    {
     "data": {
      "text/html": [
       "<div>\n",
       "<style scoped>\n",
       "    .dataframe tbody tr th:only-of-type {\n",
       "        vertical-align: middle;\n",
       "    }\n",
       "\n",
       "    .dataframe tbody tr th {\n",
       "        vertical-align: top;\n",
       "    }\n",
       "\n",
       "    .dataframe thead th {\n",
       "        text-align: right;\n",
       "    }\n",
       "</style>\n",
       "<table border=\"1\" class=\"dataframe\">\n",
       "  <thead>\n",
       "    <tr style=\"text-align: right;\">\n",
       "      <th></th>\n",
       "      <th>id</th>\n",
       "      <th>full_sq</th>\n",
       "      <th>life_sq</th>\n",
       "      <th>floor</th>\n",
       "      <th>max_floor</th>\n",
       "      <th>material</th>\n",
       "      <th>build_year</th>\n",
       "      <th>num_room</th>\n",
       "      <th>kitch_sq</th>\n",
       "      <th>apartment condition</th>\n",
       "      <th>sub_area</th>\n",
       "      <th>price</th>\n",
       "    </tr>\n",
       "  </thead>\n",
       "  <tbody>\n",
       "    <tr>\n",
       "      <th>count</th>\n",
       "      <td>29000.000000</td>\n",
       "      <td>29000.000000</td>\n",
       "      <td>22935.000000</td>\n",
       "      <td>28843.000000</td>\n",
       "      <td>19887.000000</td>\n",
       "      <td>19887.000000</td>\n",
       "      <td>1.605900e+04</td>\n",
       "      <td>19887.000000</td>\n",
       "      <td>19887.000000</td>\n",
       "      <td>16088.000000</td>\n",
       "      <td>29000.000000</td>\n",
       "      <td>2.900000e+04</td>\n",
       "    </tr>\n",
       "    <tr>\n",
       "      <th>mean</th>\n",
       "      <td>54932.809724</td>\n",
       "      <td>55.235345</td>\n",
       "      <td>34.103248</td>\n",
       "      <td>7.665326</td>\n",
       "      <td>12.560567</td>\n",
       "      <td>1.821491</td>\n",
       "      <td>3.126422e+03</td>\n",
       "      <td>1.908282</td>\n",
       "      <td>6.424297</td>\n",
       "      <td>2.108031</td>\n",
       "      <td>76.503931</td>\n",
       "      <td>7.472051e+06</td>\n",
       "    </tr>\n",
       "    <tr>\n",
       "      <th>std</th>\n",
       "      <td>25981.968682</td>\n",
       "      <td>38.781299</td>\n",
       "      <td>20.911329</td>\n",
       "      <td>5.319891</td>\n",
       "      <td>6.775449</td>\n",
       "      <td>1.475440</td>\n",
       "      <td>1.582194e+05</td>\n",
       "      <td>0.853043</td>\n",
       "      <td>28.960510</td>\n",
       "      <td>0.882274</td>\n",
       "      <td>39.308253</td>\n",
       "      <td>5.056736e+06</td>\n",
       "    </tr>\n",
       "    <tr>\n",
       "      <th>min</th>\n",
       "      <td>10001.000000</td>\n",
       "      <td>0.000000</td>\n",
       "      <td>0.000000</td>\n",
       "      <td>0.000000</td>\n",
       "      <td>0.000000</td>\n",
       "      <td>1.000000</td>\n",
       "      <td>0.000000e+00</td>\n",
       "      <td>0.000000</td>\n",
       "      <td>0.000000</td>\n",
       "      <td>1.000000</td>\n",
       "      <td>0.000000</td>\n",
       "      <td>1.085000e+05</td>\n",
       "    </tr>\n",
       "    <tr>\n",
       "      <th>25%</th>\n",
       "      <td>32382.500000</td>\n",
       "      <td>40.000000</td>\n",
       "      <td>20.000000</td>\n",
       "      <td>3.000000</td>\n",
       "      <td>9.000000</td>\n",
       "      <td>1.000000</td>\n",
       "      <td>1.966000e+03</td>\n",
       "      <td>1.000000</td>\n",
       "      <td>1.000000</td>\n",
       "      <td>1.000000</td>\n",
       "      <td>44.000000</td>\n",
       "      <td>4.957875e+06</td>\n",
       "    </tr>\n",
       "    <tr>\n",
       "      <th>50%</th>\n",
       "      <td>54984.500000</td>\n",
       "      <td>50.000000</td>\n",
       "      <td>30.000000</td>\n",
       "      <td>6.000000</td>\n",
       "      <td>12.000000</td>\n",
       "      <td>1.000000</td>\n",
       "      <td>1.979000e+03</td>\n",
       "      <td>2.000000</td>\n",
       "      <td>6.000000</td>\n",
       "      <td>2.000000</td>\n",
       "      <td>78.000000</td>\n",
       "      <td>6.553400e+06</td>\n",
       "    </tr>\n",
       "    <tr>\n",
       "      <th>75%</th>\n",
       "      <td>77417.500000</td>\n",
       "      <td>64.000000</td>\n",
       "      <td>43.000000</td>\n",
       "      <td>11.000000</td>\n",
       "      <td>17.000000</td>\n",
       "      <td>2.000000</td>\n",
       "      <td>2.005000e+03</td>\n",
       "      <td>2.000000</td>\n",
       "      <td>9.000000</td>\n",
       "      <td>3.000000</td>\n",
       "      <td>105.000000</td>\n",
       "      <td>8.674925e+06</td>\n",
       "    </tr>\n",
       "    <tr>\n",
       "      <th>max</th>\n",
       "      <td>99999.000000</td>\n",
       "      <td>5329.000000</td>\n",
       "      <td>802.000000</td>\n",
       "      <td>77.000000</td>\n",
       "      <td>117.000000</td>\n",
       "      <td>6.000000</td>\n",
       "      <td>2.005201e+07</td>\n",
       "      <td>19.000000</td>\n",
       "      <td>2014.000000</td>\n",
       "      <td>33.000000</td>\n",
       "      <td>145.000000</td>\n",
       "      <td>1.124444e+08</td>\n",
       "    </tr>\n",
       "  </tbody>\n",
       "</table>\n",
       "</div>"
      ],
      "text/plain": [
       "                 id       full_sq       life_sq         floor     max_floor  \\\n",
       "count  29000.000000  29000.000000  22935.000000  28843.000000  19887.000000   \n",
       "mean   54932.809724     55.235345     34.103248      7.665326     12.560567   \n",
       "std    25981.968682     38.781299     20.911329      5.319891      6.775449   \n",
       "min    10001.000000      0.000000      0.000000      0.000000      0.000000   \n",
       "25%    32382.500000     40.000000     20.000000      3.000000      9.000000   \n",
       "50%    54984.500000     50.000000     30.000000      6.000000     12.000000   \n",
       "75%    77417.500000     64.000000     43.000000     11.000000     17.000000   \n",
       "max    99999.000000   5329.000000    802.000000     77.000000    117.000000   \n",
       "\n",
       "           material    build_year      num_room      kitch_sq  \\\n",
       "count  19887.000000  1.605900e+04  19887.000000  19887.000000   \n",
       "mean       1.821491  3.126422e+03      1.908282      6.424297   \n",
       "std        1.475440  1.582194e+05      0.853043     28.960510   \n",
       "min        1.000000  0.000000e+00      0.000000      0.000000   \n",
       "25%        1.000000  1.966000e+03      1.000000      1.000000   \n",
       "50%        1.000000  1.979000e+03      2.000000      6.000000   \n",
       "75%        2.000000  2.005000e+03      2.000000      9.000000   \n",
       "max        6.000000  2.005201e+07     19.000000   2014.000000   \n",
       "\n",
       "       apartment condition      sub_area         price  \n",
       "count         16088.000000  29000.000000  2.900000e+04  \n",
       "mean              2.108031     76.503931  7.472051e+06  \n",
       "std               0.882274     39.308253  5.056736e+06  \n",
       "min               1.000000      0.000000  1.085000e+05  \n",
       "25%               1.000000     44.000000  4.957875e+06  \n",
       "50%               2.000000     78.000000  6.553400e+06  \n",
       "75%               3.000000    105.000000  8.674925e+06  \n",
       "max              33.000000    145.000000  1.124444e+08  "
      ]
     },
     "execution_count": 4,
     "metadata": {},
     "output_type": "execute_result"
    }
   ],
   "source": [
    "data.describe()"
   ]
  },
  {
   "cell_type": "markdown",
   "metadata": {},
   "source": [
    "### Q1"
   ]
  },
  {
   "cell_type": "code",
   "execution_count": 5,
   "metadata": {},
   "outputs": [],
   "source": [
    "top_10_expensive_apts = data.loc[data['price'].argsort()[-10:][::-1], 'id'].values"
   ]
  },
  {
   "cell_type": "code",
   "execution_count": 36,
   "metadata": {},
   "outputs": [
    {
     "data": {
      "text/plain": [
       "array([85073, 14154, 88100, 78059, 91175, 45584, 95572, 63901, 92747,\n",
       "       40136], dtype=int64)"
      ]
     },
     "execution_count": 36,
     "metadata": {},
     "output_type": "execute_result"
    }
   ],
   "source": [
    "top_10_expensive_apts"
   ]
  },
  {
   "cell_type": "code",
   "execution_count": 6,
   "metadata": {},
   "outputs": [
    {
     "data": {
      "text/plain": [
       "0        15120\n",
       "1         9731\n",
       "2        20459\n",
       "3         1349\n",
       "4        13300\n",
       "         ...  \n",
       "28995    15217\n",
       "28996    26225\n",
       "28997     5829\n",
       "28998    27095\n",
       "28999    18117\n",
       "Name: price, Length: 29000, dtype: int64"
      ]
     },
     "execution_count": 6,
     "metadata": {},
     "output_type": "execute_result"
    }
   ],
   "source": [
    "data['price'].argsort()"
   ]
  },
  {
   "cell_type": "markdown",
   "metadata": {},
   "source": [
    "### Q2"
   ]
  },
  {
   "cell_type": "code",
   "execution_count": 7,
   "metadata": {},
   "outputs": [],
   "source": [
    "data['timestamp'] = pd.to_datetime(data['timestamp'])"
   ]
  },
  {
   "cell_type": "code",
   "execution_count": 8,
   "metadata": {},
   "outputs": [],
   "source": [
    "data['year_month'] = data['timestamp'].dt.year.astype(str).str.cat(data['timestamp'].dt.month.astype(str), sep='_')"
   ]
  },
  {
   "cell_type": "code",
   "execution_count": 9,
   "metadata": {},
   "outputs": [
    {
     "data": {
      "text/plain": [
       "0        2014_12\n",
       "1         2013_6\n",
       "2         2013_9\n",
       "3        2013_12\n",
       "4         2014_2\n",
       "          ...   \n",
       "28995     2013_5\n",
       "28996     2014_4\n",
       "28997     2013_9\n",
       "28998    2013_11\n",
       "28999     2014_5\n",
       "Name: timestamp, Length: 29000, dtype: object"
      ]
     },
     "execution_count": 9,
     "metadata": {},
     "output_type": "execute_result"
    }
   ],
   "source": [
    "data['timestamp'].dt.year.astype(str).str.cat(data['timestamp'].dt.month.astype(str), sep='_')"
   ]
  },
  {
   "cell_type": "code",
   "execution_count": 10,
   "metadata": {},
   "outputs": [
    {
     "data": {
      "image/png": "[encoded data removed]",
      "text/plain": [
       "<Figure size 720x360 with 1 Axes>"
      ]
     },
     "metadata": {
      "needs_background": "light"
     },
     "output_type": "display_data"
    }
   ],
   "source": [
    "fig = plt.figure(figsize=[10,5])\n",
    "ax = plt.gca()\n",
    "p = sns.scatterplot(data=data.sort_values(by='year_month'), x='year_month', y='price', ax=ax)\n",
    "locs, labels = plt.xticks()\n",
    "plt.setp(labels, rotation=90);"
   ]
  },
  {
   "cell_type": "markdown",
   "metadata": {},
   "source": [
    "### Q3"
   ]
  },
  {
   "cell_type": "code",
   "execution_count": 81,
   "metadata": {},
   "outputs": [
    {
     "data": {
      "text/html": [
       "<div>\n",
       "<style scoped>\n",
       "    .dataframe tbody tr th:only-of-type {\n",
       "        vertical-align: middle;\n",
       "    }\n",
       "\n",
       "    .dataframe tbody tr th {\n",
       "        vertical-align: top;\n",
       "    }\n",
       "\n",
       "    .dataframe thead th {\n",
       "        text-align: right;\n",
       "    }\n",
       "</style>\n",
       "<table border=\"1\" class=\"dataframe\">\n",
       "  <thead>\n",
       "    <tr style=\"text-align: right;\">\n",
       "      <th></th>\n",
       "      <th>year_month</th>\n",
       "      <th>price</th>\n",
       "      <th>dummy</th>\n",
       "    </tr>\n",
       "  </thead>\n",
       "  <tbody>\n",
       "    <tr>\n",
       "      <th>0</th>\n",
       "      <td>2011_10</td>\n",
       "      <td>999000.0</td>\n",
       "      <td>dummy</td>\n",
       "    </tr>\n",
       "    <tr>\n",
       "      <th>1</th>\n",
       "      <td>2011_11</td>\n",
       "      <td>998000.0</td>\n",
       "      <td>dummy</td>\n",
       "    </tr>\n",
       "    <tr>\n",
       "      <th>2</th>\n",
       "      <td>2011_12</td>\n",
       "      <td>994000.0</td>\n",
       "      <td>dummy</td>\n",
       "    </tr>\n",
       "    <tr>\n",
       "      <th>3</th>\n",
       "      <td>2011_9</td>\n",
       "      <td>9982700.0</td>\n",
       "      <td>dummy</td>\n",
       "    </tr>\n",
       "    <tr>\n",
       "      <th>4</th>\n",
       "      <td>2012_1</td>\n",
       "      <td>9981000.0</td>\n",
       "      <td>dummy</td>\n",
       "    </tr>\n",
       "  </tbody>\n",
       "</table>\n",
       "</div>"
      ],
      "text/plain": [
       "  year_month      price  dummy\n",
       "0    2011_10   999000.0  dummy\n",
       "1    2011_11   998000.0  dummy\n",
       "2    2011_12   994000.0  dummy\n",
       "3     2011_9  9982700.0  dummy\n",
       "4     2012_1  9981000.0  dummy"
      ]
     },
     "execution_count": 81,
     "metadata": {},
     "output_type": "execute_result"
    }
   ],
   "source": [
    "year_month_max_price_df = data.groupby('year_month').agg({'price': max}).reset_index(drop=False)\n",
    "year_month_max_price_df['dummy'] = 'dummy'\n",
    "year_month_max_price_df.head()"
   ]
  },
  {
   "cell_type": "code",
   "execution_count": 71,
   "metadata": {},
   "outputs": [],
   "source": [
    "year_month_max_price_df['price'] = year_month_max_price_df['price'].astype(str)"
   ]
  },
  {
   "cell_type": "code",
   "execution_count": 73,
   "metadata": {},
   "outputs": [],
   "source": [
    "data['price'] = data['price'].astype(str)"
   ]
  },
  {
   "cell_type": "code",
   "execution_count": 85,
   "metadata": {},
   "outputs": [
    {
     "data": {
      "text/html": [
       "<div>\n",
       "<style scoped>\n",
       "    .dataframe tbody tr th:only-of-type {\n",
       "        vertical-align: middle;\n",
       "    }\n",
       "\n",
       "    .dataframe tbody tr th {\n",
       "        vertical-align: top;\n",
       "    }\n",
       "\n",
       "    .dataframe thead th {\n",
       "        text-align: right;\n",
       "    }\n",
       "</style>\n",
       "<table border=\"1\" class=\"dataframe\">\n",
       "  <thead>\n",
       "    <tr style=\"text-align: right;\">\n",
       "      <th></th>\n",
       "      <th>year_month</th>\n",
       "      <th>price</th>\n",
       "      <th>dummy</th>\n",
       "      <th>id</th>\n",
       "      <th>timestamp</th>\n",
       "      <th>full_sq</th>\n",
       "      <th>life_sq</th>\n",
       "      <th>floor</th>\n",
       "      <th>max_floor</th>\n",
       "      <th>material</th>\n",
       "      <th>build_year</th>\n",
       "      <th>num_room</th>\n",
       "      <th>kitch_sq</th>\n",
       "      <th>apartment condition</th>\n",
       "      <th>sub_area</th>\n",
       "    </tr>\n",
       "  </thead>\n",
       "  <tbody>\n",
       "    <tr>\n",
       "      <th>0</th>\n",
       "      <td>2014_12</td>\n",
       "      <td>9711800.0</td>\n",
       "      <td>NaN</td>\n",
       "      <td>30392</td>\n",
       "      <td>2014-12-30</td>\n",
       "      <td>60</td>\n",
       "      <td>36.0</td>\n",
       "      <td>6.0</td>\n",
       "      <td>9.0</td>\n",
       "      <td>1.0</td>\n",
       "      <td>1974.0</td>\n",
       "      <td>3.0</td>\n",
       "      <td>5.0</td>\n",
       "      <td>3.0</td>\n",
       "      <td>9</td>\n",
       "    </tr>\n",
       "    <tr>\n",
       "      <th>1</th>\n",
       "      <td>2013_6</td>\n",
       "      <td>6643200.0</td>\n",
       "      <td>NaN</td>\n",
       "      <td>36540</td>\n",
       "      <td>2013-06-28</td>\n",
       "      <td>44</td>\n",
       "      <td>29.0</td>\n",
       "      <td>9.0</td>\n",
       "      <td>NaN</td>\n",
       "      <td>NaN</td>\n",
       "      <td>NaN</td>\n",
       "      <td>NaN</td>\n",
       "      <td>NaN</td>\n",
       "      <td>NaN</td>\n",
       "      <td>19</td>\n",
       "    </tr>\n",
       "    <tr>\n",
       "      <th>2</th>\n",
       "      <td>2013_9</td>\n",
       "      <td>5698300.0</td>\n",
       "      <td>NaN</td>\n",
       "      <td>94669</td>\n",
       "      <td>2013-09-15</td>\n",
       "      <td>62</td>\n",
       "      <td>60.0</td>\n",
       "      <td>4.0</td>\n",
       "      <td>NaN</td>\n",
       "      <td>NaN</td>\n",
       "      <td>NaN</td>\n",
       "      <td>NaN</td>\n",
       "      <td>NaN</td>\n",
       "      <td>NaN</td>\n",
       "      <td>80</td>\n",
       "    </tr>\n",
       "    <tr>\n",
       "      <th>3</th>\n",
       "      <td>2013_12</td>\n",
       "      <td>5055000.0</td>\n",
       "      <td>NaN</td>\n",
       "      <td>17531</td>\n",
       "      <td>2013-12-13</td>\n",
       "      <td>33</td>\n",
       "      <td>18.0</td>\n",
       "      <td>4.0</td>\n",
       "      <td>9.0</td>\n",
       "      <td>1.0</td>\n",
       "      <td>1970.0</td>\n",
       "      <td>1.0</td>\n",
       "      <td>6.0</td>\n",
       "      <td>2.0</td>\n",
       "      <td>15</td>\n",
       "    </tr>\n",
       "    <tr>\n",
       "      <th>4</th>\n",
       "      <td>2014_2</td>\n",
       "      <td>5425000.0</td>\n",
       "      <td>NaN</td>\n",
       "      <td>32159</td>\n",
       "      <td>2014-02-13</td>\n",
       "      <td>37</td>\n",
       "      <td>14.0</td>\n",
       "      <td>1.0</td>\n",
       "      <td>17.0</td>\n",
       "      <td>1.0</td>\n",
       "      <td>1991.0</td>\n",
       "      <td>1.0</td>\n",
       "      <td>1.0</td>\n",
       "      <td>2.0</td>\n",
       "      <td>74</td>\n",
       "    </tr>\n",
       "  </tbody>\n",
       "</table>\n",
       "</div>"
      ],
      "text/plain": [
       "  year_month      price dummy     id  timestamp  full_sq  life_sq  floor  \\\n",
       "0    2014_12  9711800.0   NaN  30392 2014-12-30       60     36.0    6.0   \n",
       "1     2013_6  6643200.0   NaN  36540 2013-06-28       44     29.0    9.0   \n",
       "2     2013_9  5698300.0   NaN  94669 2013-09-15       62     60.0    4.0   \n",
       "3    2013_12  5055000.0   NaN  17531 2013-12-13       33     18.0    4.0   \n",
       "4     2014_2  5425000.0   NaN  32159 2014-02-13       37     14.0    1.0   \n",
       "\n",
       "   max_floor  material  build_year  num_room  kitch_sq  apartment condition  \\\n",
       "0        9.0       1.0      1974.0       3.0       5.0                  3.0   \n",
       "1        NaN       NaN         NaN       NaN       NaN                  NaN   \n",
       "2        NaN       NaN         NaN       NaN       NaN                  NaN   \n",
       "3        9.0       1.0      1970.0       1.0       6.0                  2.0   \n",
       "4       17.0       1.0      1991.0       1.0       1.0                  2.0   \n",
       "\n",
       "   sub_area  \n",
       "0         9  \n",
       "1        19  \n",
       "2        80  \n",
       "3        15  \n",
       "4        74  "
      ]
     },
     "execution_count": 85,
     "metadata": {},
     "output_type": "execute_result"
    }
   ],
   "source": [
    "q = year_month_max_price_df.merge(data, on=['year_month', 'price'], how='right', suffixes=('_x', '_y'))\n",
    "q.head()"
   ]
  },
  {
   "cell_type": "code",
   "execution_count": 98,
   "metadata": {},
   "outputs": [
    {
     "data": {
      "text/plain": [
       "array([ 999000,  998000,  994000, 9982700, 9981000,  990900, 9770200,\n",
       "        986000,  997900,  999900,  999900,  995000, 9978800, 9963000,\n",
       "        992000,  994000,  994000, 9982700, 9929800, 9995000, 9989800,\n",
       "       9990000, 9990000,  996000,  999000,  999900, 9972000, 9998500,\n",
       "       9961900,  998000,  997900,  998000, 9998800, 9974400, 9999000,\n",
       "       9990100, 9993600, 9978900, 9991800,  997000,  998000, 9969800,\n",
       "        995900, 9990000, 9978800, 9969700, 9965300,  999000,  991000,\n",
       "       9996500])"
      ]
     },
     "execution_count": 98,
     "metadata": {},
     "output_type": "execute_result"
    }
   ],
   "source": [
    "q.loc[q.dummy.notnull()].sort_values(by='year_month')['price'].astype(float).astype(int).values"
   ]
  },
  {
   "cell_type": "code",
   "execution_count": 104,
   "metadata": {},
   "outputs": [
    {
     "data": {
      "text/plain": [
       "array([28642, 25038, 27831, 14972, 26229, 22593, 22639, 14130, 17489,\n",
       "       26687, 26686, 11151, 12938,  7855,  3664, 15963, 15964, 26141,\n",
       "        3305, 24994, 11770, 24724, 24723,  5460, 11118, 17712, 15051,\n",
       "       19918, 11721, 25831, 21582, 16622, 27048, 26790, 14571, 25437,\n",
       "       23883, 22543, 25419, 14886,  8426, 25328, 27801,  7242, 24250,\n",
       "       14108, 18158,  6559,  5766, 24353], dtype=int64)"
      ]
     },
     "execution_count": 104,
     "metadata": {},
     "output_type": "execute_result"
    }
   ],
   "source": [
    "indices_most_expensive_prive_by_month = q.loc[q.dummy.notnull()].sort_values(by='year_month')['price'].index.values\n",
    "indices_most_expensive_prive_by_month"
   ]
  },
  {
   "cell_type": "code",
   "execution_count": 101,
   "metadata": {},
   "outputs": [],
   "source": [
    "# id_most_expensive_prive_by_month = data.groupby('year_month').max()['id'].values\n",
    "# id_most_expensive_prive_by_month"
   ]
  },
  {
   "cell_type": "code",
   "execution_count": 102,
   "metadata": {},
   "outputs": [],
   "source": [
    "# indices_most_expensive_prive_by_month = data[data['id'].isin(id_most_expensive_prive_by_month)].index.values\n",
    "# indices_most_expensive_prive_by_month"
   ]
  },
  {
   "cell_type": "markdown",
   "metadata": {},
   "source": [
    "### Q4"
   ]
  },
  {
   "cell_type": "code",
   "execution_count": 15,
   "metadata": {},
   "outputs": [
    {
     "data": {
      "image/png": "[encoded data removed]",
      "text/plain": [
       "<Figure size 1080x720 with 1 Axes>"
      ]
     },
     "metadata": {
      "needs_background": "light"
     },
     "output_type": "display_data"
    }
   ],
   "source": [
    "fig = plt.figure(figsize=[15,10])\n",
    "ax = plt.gca()\n",
    "sns.boxplot(data=data, x='year_month', y='price', ax=ax)\n",
    "locs, labels = plt.xticks()\n",
    "plt.setp(labels, rotation=90);"
   ]
  },
  {
   "cell_type": "markdown",
   "metadata": {},
   "source": [
    "### Q5"
   ]
  },
  {
   "cell_type": "code",
   "execution_count": 16,
   "metadata": {},
   "outputs": [
    {
     "data": {
      "text/plain": [
       "array([95156, 95936, 32115, 49518, 41202], dtype=int64)"
      ]
     },
     "execution_count": 16,
     "metadata": {},
     "output_type": "execute_result"
    }
   ],
   "source": [
    "top_5_largest_apts = data.loc[data['full_sq'].argsort()[-5:][::-1], 'id'].values\n",
    "top_5_largest_apts"
   ]
  },
  {
   "cell_type": "code",
   "execution_count": 17,
   "metadata": {},
   "outputs": [
    {
     "data": {
      "text/html": [
       "<div>\n",
       "<style scoped>\n",
       "    .dataframe tbody tr th:only-of-type {\n",
       "        vertical-align: middle;\n",
       "    }\n",
       "\n",
       "    .dataframe tbody tr th {\n",
       "        vertical-align: top;\n",
       "    }\n",
       "\n",
       "    .dataframe thead th {\n",
       "        text-align: right;\n",
       "    }\n",
       "</style>\n",
       "<table border=\"1\" class=\"dataframe\">\n",
       "  <thead>\n",
       "    <tr style=\"text-align: right;\">\n",
       "      <th></th>\n",
       "      <th>id</th>\n",
       "      <th>timestamp</th>\n",
       "      <th>full_sq</th>\n",
       "      <th>life_sq</th>\n",
       "      <th>floor</th>\n",
       "      <th>max_floor</th>\n",
       "      <th>material</th>\n",
       "      <th>build_year</th>\n",
       "      <th>num_room</th>\n",
       "      <th>kitch_sq</th>\n",
       "      <th>apartment condition</th>\n",
       "      <th>sub_area</th>\n",
       "      <th>price</th>\n",
       "      <th>year_month</th>\n",
       "    </tr>\n",
       "  </thead>\n",
       "  <tbody>\n",
       "    <tr>\n",
       "      <th>6172</th>\n",
       "      <td>32115</td>\n",
       "      <td>2014-10-20</td>\n",
       "      <td>639</td>\n",
       "      <td>637.0</td>\n",
       "      <td>18.0</td>\n",
       "      <td>19.0</td>\n",
       "      <td>4.0</td>\n",
       "      <td>2016.0</td>\n",
       "      <td>2.0</td>\n",
       "      <td>10.0</td>\n",
       "      <td>1.0</td>\n",
       "      <td>134</td>\n",
       "      <td>5150400.0</td>\n",
       "      <td>2014_10</td>\n",
       "    </tr>\n",
       "    <tr>\n",
       "      <th>9283</th>\n",
       "      <td>49518</td>\n",
       "      <td>2013-02-12</td>\n",
       "      <td>636</td>\n",
       "      <td>38.0</td>\n",
       "      <td>3.0</td>\n",
       "      <td>NaN</td>\n",
       "      <td>NaN</td>\n",
       "      <td>NaN</td>\n",
       "      <td>NaN</td>\n",
       "      <td>NaN</td>\n",
       "      <td>NaN</td>\n",
       "      <td>55</td>\n",
       "      <td>11148600.0</td>\n",
       "      <td>2013_2</td>\n",
       "    </tr>\n",
       "    <tr>\n",
       "      <th>13473</th>\n",
       "      <td>41202</td>\n",
       "      <td>2014-05-15</td>\n",
       "      <td>635</td>\n",
       "      <td>NaN</td>\n",
       "      <td>3.0</td>\n",
       "      <td>17.0</td>\n",
       "      <td>1.0</td>\n",
       "      <td>NaN</td>\n",
       "      <td>2.0</td>\n",
       "      <td>0.0</td>\n",
       "      <td>NaN</td>\n",
       "      <td>72</td>\n",
       "      <td>6138600.0</td>\n",
       "      <td>2014_5</td>\n",
       "    </tr>\n",
       "    <tr>\n",
       "      <th>18260</th>\n",
       "      <td>95936</td>\n",
       "      <td>2012-07-16</td>\n",
       "      <td>731</td>\n",
       "      <td>44.0</td>\n",
       "      <td>12.0</td>\n",
       "      <td>NaN</td>\n",
       "      <td>NaN</td>\n",
       "      <td>NaN</td>\n",
       "      <td>NaN</td>\n",
       "      <td>NaN</td>\n",
       "      <td>NaN</td>\n",
       "      <td>133</td>\n",
       "      <td>13753500.0</td>\n",
       "      <td>2012_7</td>\n",
       "    </tr>\n",
       "    <tr>\n",
       "      <th>19303</th>\n",
       "      <td>95156</td>\n",
       "      <td>2012-09-19</td>\n",
       "      <td>5329</td>\n",
       "      <td>22.0</td>\n",
       "      <td>13.0</td>\n",
       "      <td>NaN</td>\n",
       "      <td>NaN</td>\n",
       "      <td>NaN</td>\n",
       "      <td>NaN</td>\n",
       "      <td>NaN</td>\n",
       "      <td>NaN</td>\n",
       "      <td>10</td>\n",
       "      <td>6841300.0</td>\n",
       "      <td>2012_9</td>\n",
       "    </tr>\n",
       "  </tbody>\n",
       "</table>\n",
       "</div>"
      ],
      "text/plain": [
       "          id  timestamp  full_sq  life_sq  floor  max_floor  material  \\\n",
       "6172   32115 2014-10-20      639    637.0   18.0       19.0       4.0   \n",
       "9283   49518 2013-02-12      636     38.0    3.0        NaN       NaN   \n",
       "13473  41202 2014-05-15      635      NaN    3.0       17.0       1.0   \n",
       "18260  95936 2012-07-16      731     44.0   12.0        NaN       NaN   \n",
       "19303  95156 2012-09-19     5329     22.0   13.0        NaN       NaN   \n",
       "\n",
       "       build_year  num_room  kitch_sq  apartment condition  sub_area  \\\n",
       "6172       2016.0       2.0      10.0                  1.0       134   \n",
       "9283          NaN       NaN       NaN                  NaN        55   \n",
       "13473         NaN       2.0       0.0                  NaN        72   \n",
       "18260         NaN       NaN       NaN                  NaN       133   \n",
       "19303         NaN       NaN       NaN                  NaN        10   \n",
       "\n",
       "            price year_month  \n",
       "6172    5150400.0    2014_10  \n",
       "9283   11148600.0     2013_2  \n",
       "13473   6138600.0     2014_5  \n",
       "18260  13753500.0     2012_7  \n",
       "19303   6841300.0     2012_9  "
      ]
     },
     "execution_count": 17,
     "metadata": {},
     "output_type": "execute_result"
    }
   ],
   "source": [
    "data[data['id'].isin(top_5_largest_apts)]"
   ]
  },
  {
   "cell_type": "markdown",
   "metadata": {},
   "source": [
    "### Q6"
   ]
  },
  {
   "cell_type": "code",
   "execution_count": 24,
   "metadata": {},
   "outputs": [
    {
     "data": {
      "text/plain": [
       "6065"
      ]
     },
     "execution_count": 24,
     "metadata": {},
     "output_type": "execute_result"
    }
   ],
   "source": [
    "num_missing_life_sq = data.life_sq.isna().sum()\n",
    "num_missing_life_sq"
   ]
  },
  {
   "cell_type": "markdown",
   "metadata": {},
   "source": [
    "### Q7"
   ]
  },
  {
   "cell_type": "code",
   "execution_count": 27,
   "metadata": {},
   "outputs": [],
   "source": [
    "data['life_sq'].fillna(data['life_sq'].median(), inplace=True)"
   ]
  },
  {
   "cell_type": "code",
   "execution_count": 28,
   "metadata": {},
   "outputs": [
    {
     "data": {
      "text/plain": [
       "0"
      ]
     },
     "execution_count": 28,
     "metadata": {},
     "output_type": "execute_result"
    }
   ],
   "source": [
    "data.life_sq.isna().sum()"
   ]
  },
  {
   "cell_type": "markdown",
   "metadata": {},
   "source": [
    "### Q8"
   ]
  },
  {
   "cell_type": "code",
   "execution_count": 34,
   "metadata": {},
   "outputs": [
    {
     "data": {
      "text/plain": [
       "0.33711308742057877"
      ]
     },
     "execution_count": 34,
     "metadata": {},
     "output_type": "execute_result"
    }
   ],
   "source": [
    "corr1 = np.corrcoef(data.price, data.full_sq)[0,1]\n",
    "corr1"
   ]
  },
  {
   "cell_type": "code",
   "execution_count": 35,
   "metadata": {},
   "outputs": [
    {
     "data": {
      "text/plain": [
       "0.386558583114445"
      ]
     },
     "execution_count": 35,
     "metadata": {},
     "output_type": "execute_result"
    }
   ],
   "source": [
    "corr2 = np.corrcoef(data.price, data.life_sq )[0,1]\n",
    "corr2"
   ]
  },
  {
   "cell_type": "markdown",
   "metadata": {},
   "source": [
    "## Combining all in one file"
   ]
  },
  {
   "cell_type": "code",
   "execution_count": 105,
   "metadata": {},
   "outputs": [],
   "source": [
    "with open('part1.csv', 'wb+') as f:\n",
    "    np.savetxt(f, top_10_expensive_apts.reshape(1,-1), fmt=\"%d\", delimiter=',')\n",
    "    np.savetxt(f, indices_most_expensive_prive_by_month.reshape(1,-1), fmt=\"%d\", delimiter=',')\n",
    "    np.savetxt(f, top_5_largest_apts.reshape(1,-1), fmt=\"%d\", delimiter=',')\n",
    "    np.savetxt(f, num_missing_life_sq.reshape(1,-1), fmt=\"%d\", delimiter=',')\n",
    "    np.savetxt(f, np.array([corr1, corr2]).reshape(1,-1), delimiter=',', newline='')\n",
    "    #np.savetxt(f, corr2.reshape(1,-1), delimiter=',', newline='')"
   ]
  },
  {
   "cell_type": "code",
   "execution_count": 44,
   "metadata": {},
   "outputs": [
    {
     "data": {
      "text/plain": [
       "(1, 10)"
      ]
     },
     "execution_count": 44,
     "metadata": {},
     "output_type": "execute_result"
    }
   ],
   "source": [
    "top_10_expensive_apts.reshape(1,-1).shape"
   ]
  },
  {
   "cell_type": "markdown",
   "metadata": {},
   "source": [
    "# Part 2"
   ]
  },
  {
   "cell_type": "code",
   "execution_count": 467,
   "metadata": {},
   "outputs": [],
   "source": [
    "HW_train_additional_data = pd.read_csv('data/HW_train_additional_data.csv')\n",
    "HW_test_additional_data = pd.read_csv('data/HW_test_additional_data.csv')"
   ]
  },
  {
   "cell_type": "code",
   "execution_count": 468,
   "metadata": {},
   "outputs": [],
   "source": [
    "# HW_train_additional_data.info()\n",
    "# HW_train_additional_data.head()"
   ]
  },
  {
   "cell_type": "code",
   "execution_count": 469,
   "metadata": {},
   "outputs": [
    {
     "name": "stdout",
     "output_type": "stream",
     "text": [
      "<class 'pandas.core.frame.DataFrame'>\n",
      "RangeIndex: 1000 entries, 0 to 999\n",
      "Data columns (total 19 columns):\n",
      " #   Column                           Non-Null Count  Dtype  \n",
      "---  ------                           --------------  -----  \n",
      " 0   id                               1000 non-null   int64  \n",
      " 1   population                       1000 non-null   int64  \n",
      " 2   indust_part                      1000 non-null   float64\n",
      " 3   preschool_facilities             1000 non-null   int64  \n",
      " 4   school_facilities                1000 non-null   int64  \n",
      " 5   hospital_beds_raion              544 non-null    float64\n",
      " 6   healthcare_facilities            1000 non-null   int64  \n",
      " 7   university_num                   1000 non-null   int64  \n",
      " 8   sport_objects_facilities         1000 non-null   int64  \n",
      " 9   additional_education_facilities  1000 non-null   int64  \n",
      " 10  culture_objects_facilities       1000 non-null   int64  \n",
      " 11  shopping_centers_facilities      1000 non-null   int64  \n",
      " 12  office_num                       1000 non-null   int64  \n",
      " 13  green_part                       1000 non-null   float64\n",
      " 14  prom_part                        1000 non-null   float64\n",
      " 15  cafe_count                       1000 non-null   int64  \n",
      " 16  church_facilities                1000 non-null   int64  \n",
      " 17  mosque                           1000 non-null   int64  \n",
      " 18  leisure_facilities               1000 non-null   int64  \n",
      "dtypes: float64(4), int64(15)\n",
      "memory usage: 148.6 KB\n"
     ]
    },
    {
     "data": {
      "text/html": [
       "<div>\n",
       "<style scoped>\n",
       "    .dataframe tbody tr th:only-of-type {\n",
       "        vertical-align: middle;\n",
       "    }\n",
       "\n",
       "    .dataframe tbody tr th {\n",
       "        vertical-align: top;\n",
       "    }\n",
       "\n",
       "    .dataframe thead th {\n",
       "        text-align: right;\n",
       "    }\n",
       "</style>\n",
       "<table border=\"1\" class=\"dataframe\">\n",
       "  <thead>\n",
       "    <tr style=\"text-align: right;\">\n",
       "      <th></th>\n",
       "      <th>id</th>\n",
       "      <th>population</th>\n",
       "      <th>indust_part</th>\n",
       "      <th>preschool_facilities</th>\n",
       "      <th>school_facilities</th>\n",
       "      <th>hospital_beds_raion</th>\n",
       "      <th>healthcare_facilities</th>\n",
       "      <th>university_num</th>\n",
       "      <th>sport_objects_facilities</th>\n",
       "      <th>additional_education_facilities</th>\n",
       "      <th>culture_objects_facilities</th>\n",
       "      <th>shopping_centers_facilities</th>\n",
       "      <th>office_num</th>\n",
       "      <th>green_part</th>\n",
       "      <th>prom_part</th>\n",
       "      <th>cafe_count</th>\n",
       "      <th>church_facilities</th>\n",
       "      <th>mosque</th>\n",
       "      <th>leisure_facilities</th>\n",
       "    </tr>\n",
       "  </thead>\n",
       "  <tbody>\n",
       "    <tr>\n",
       "      <th>0</th>\n",
       "      <td>30307</td>\n",
       "      <td>247469</td>\n",
       "      <td>0.090799</td>\n",
       "      <td>13</td>\n",
       "      <td>14</td>\n",
       "      <td>NaN</td>\n",
       "      <td>5</td>\n",
       "      <td>0</td>\n",
       "      <td>16</td>\n",
       "      <td>16</td>\n",
       "      <td>0</td>\n",
       "      <td>15</td>\n",
       "      <td>2</td>\n",
       "      <td>12.16</td>\n",
       "      <td>0.00</td>\n",
       "      <td>5</td>\n",
       "      <td>0</td>\n",
       "      <td>0</td>\n",
       "      <td>0</td>\n",
       "    </tr>\n",
       "    <tr>\n",
       "      <th>1</th>\n",
       "      <td>87380</td>\n",
       "      <td>2546</td>\n",
       "      <td>0.034656</td>\n",
       "      <td>0</td>\n",
       "      <td>0</td>\n",
       "      <td>NaN</td>\n",
       "      <td>0</td>\n",
       "      <td>0</td>\n",
       "      <td>0</td>\n",
       "      <td>0</td>\n",
       "      <td>0</td>\n",
       "      <td>0</td>\n",
       "      <td>0</td>\n",
       "      <td>15.45</td>\n",
       "      <td>2.78</td>\n",
       "      <td>0</td>\n",
       "      <td>0</td>\n",
       "      <td>0</td>\n",
       "      <td>0</td>\n",
       "    </tr>\n",
       "    <tr>\n",
       "      <th>2</th>\n",
       "      <td>12874</td>\n",
       "      <td>4001</td>\n",
       "      <td>0.007122</td>\n",
       "      <td>0</td>\n",
       "      <td>0</td>\n",
       "      <td>NaN</td>\n",
       "      <td>0</td>\n",
       "      <td>0</td>\n",
       "      <td>0</td>\n",
       "      <td>0</td>\n",
       "      <td>0</td>\n",
       "      <td>1</td>\n",
       "      <td>0</td>\n",
       "      <td>15.29</td>\n",
       "      <td>2.83</td>\n",
       "      <td>1</td>\n",
       "      <td>0</td>\n",
       "      <td>0</td>\n",
       "      <td>0</td>\n",
       "    </tr>\n",
       "    <tr>\n",
       "      <th>3</th>\n",
       "      <td>57688</td>\n",
       "      <td>129207</td>\n",
       "      <td>0.007720</td>\n",
       "      <td>6</td>\n",
       "      <td>6</td>\n",
       "      <td>NaN</td>\n",
       "      <td>0</td>\n",
       "      <td>0</td>\n",
       "      <td>4</td>\n",
       "      <td>2</td>\n",
       "      <td>0</td>\n",
       "      <td>4</td>\n",
       "      <td>2</td>\n",
       "      <td>13.80</td>\n",
       "      <td>0.00</td>\n",
       "      <td>4</td>\n",
       "      <td>0</td>\n",
       "      <td>0</td>\n",
       "      <td>0</td>\n",
       "    </tr>\n",
       "    <tr>\n",
       "      <th>4</th>\n",
       "      <td>43433</td>\n",
       "      <td>122873</td>\n",
       "      <td>0.175055</td>\n",
       "      <td>4</td>\n",
       "      <td>4</td>\n",
       "      <td>NaN</td>\n",
       "      <td>1</td>\n",
       "      <td>0</td>\n",
       "      <td>6</td>\n",
       "      <td>0</td>\n",
       "      <td>0</td>\n",
       "      <td>0</td>\n",
       "      <td>3</td>\n",
       "      <td>0.01</td>\n",
       "      <td>0.00</td>\n",
       "      <td>4</td>\n",
       "      <td>1</td>\n",
       "      <td>0</td>\n",
       "      <td>0</td>\n",
       "    </tr>\n",
       "  </tbody>\n",
       "</table>\n",
       "</div>"
      ],
      "text/plain": [
       "      id  population  indust_part  preschool_facilities  school_facilities  \\\n",
       "0  30307      247469     0.090799                    13                 14   \n",
       "1  87380        2546     0.034656                     0                  0   \n",
       "2  12874        4001     0.007122                     0                  0   \n",
       "3  57688      129207     0.007720                     6                  6   \n",
       "4  43433      122873     0.175055                     4                  4   \n",
       "\n",
       "   hospital_beds_raion  healthcare_facilities  university_num  \\\n",
       "0                  NaN                      5               0   \n",
       "1                  NaN                      0               0   \n",
       "2                  NaN                      0               0   \n",
       "3                  NaN                      0               0   \n",
       "4                  NaN                      1               0   \n",
       "\n",
       "   sport_objects_facilities  additional_education_facilities  \\\n",
       "0                        16                               16   \n",
       "1                         0                                0   \n",
       "2                         0                                0   \n",
       "3                         4                                2   \n",
       "4                         6                                0   \n",
       "\n",
       "   culture_objects_facilities  shopping_centers_facilities  office_num  \\\n",
       "0                           0                           15           2   \n",
       "1                           0                            0           0   \n",
       "2                           0                            1           0   \n",
       "3                           0                            4           2   \n",
       "4                           0                            0           3   \n",
       "\n",
       "   green_part  prom_part  cafe_count  church_facilities  mosque  \\\n",
       "0       12.16       0.00           5                  0       0   \n",
       "1       15.45       2.78           0                  0       0   \n",
       "2       15.29       2.83           1                  0       0   \n",
       "3       13.80       0.00           4                  0       0   \n",
       "4        0.01       0.00           4                  1       0   \n",
       "\n",
       "   leisure_facilities  \n",
       "0                   0  \n",
       "1                   0  \n",
       "2                   0  \n",
       "3                   0  \n",
       "4                   0  "
      ]
     },
     "execution_count": 469,
     "metadata": {},
     "output_type": "execute_result"
    }
   ],
   "source": [
    "HW_test_additional_data.info()\n",
    "HW_test_additional_data.head()"
   ]
  },
  {
   "cell_type": "code",
   "execution_count": 470,
   "metadata": {},
   "outputs": [],
   "source": [
    "HW_train_main_data = pd.read_csv('data/HW_train_main_data.csv')\n",
    "HW_test_main_data = pd.read_csv('data/HW_test_main_data.csv')"
   ]
  },
  {
   "cell_type": "code",
   "execution_count": 471,
   "metadata": {},
   "outputs": [],
   "source": [
    "# HW_train_main_data.info()\n",
    "# HW_train_main_data.head()"
   ]
  },
  {
   "cell_type": "code",
   "execution_count": 472,
   "metadata": {},
   "outputs": [
    {
     "name": "stdout",
     "output_type": "stream",
     "text": [
      "<class 'pandas.core.frame.DataFrame'>\n",
      "RangeIndex: 1000 entries, 0 to 999\n",
      "Data columns (total 12 columns):\n",
      " #   Column               Non-Null Count  Dtype  \n",
      "---  ------               --------------  -----  \n",
      " 0   id                   1000 non-null   int64  \n",
      " 1   timestamp            1000 non-null   object \n",
      " 2   full_sq              1000 non-null   int64  \n",
      " 3   life_sq              797 non-null    float64\n",
      " 4   floor                995 non-null    float64\n",
      " 5   max_floor            688 non-null    float64\n",
      " 6   material             688 non-null    float64\n",
      " 7   build_year           559 non-null    float64\n",
      " 8   num_room             688 non-null    float64\n",
      " 9   kitch_sq             688 non-null    float64\n",
      " 10  apartment condition  565 non-null    float64\n",
      " 11  sub_area             1000 non-null   int64  \n",
      "dtypes: float64(8), int64(3), object(1)\n",
      "memory usage: 93.9+ KB\n"
     ]
    },
    {
     "data": {
      "text/html": [
       "<div>\n",
       "<style scoped>\n",
       "    .dataframe tbody tr th:only-of-type {\n",
       "        vertical-align: middle;\n",
       "    }\n",
       "\n",
       "    .dataframe tbody tr th {\n",
       "        vertical-align: top;\n",
       "    }\n",
       "\n",
       "    .dataframe thead th {\n",
       "        text-align: right;\n",
       "    }\n",
       "</style>\n",
       "<table border=\"1\" class=\"dataframe\">\n",
       "  <thead>\n",
       "    <tr style=\"text-align: right;\">\n",
       "      <th></th>\n",
       "      <th>id</th>\n",
       "      <th>timestamp</th>\n",
       "      <th>full_sq</th>\n",
       "      <th>life_sq</th>\n",
       "      <th>floor</th>\n",
       "      <th>max_floor</th>\n",
       "      <th>material</th>\n",
       "      <th>build_year</th>\n",
       "      <th>num_room</th>\n",
       "      <th>kitch_sq</th>\n",
       "      <th>apartment condition</th>\n",
       "      <th>sub_area</th>\n",
       "    </tr>\n",
       "  </thead>\n",
       "  <tbody>\n",
       "    <tr>\n",
       "      <th>0</th>\n",
       "      <td>30307</td>\n",
       "      <td>2014-04-20</td>\n",
       "      <td>74</td>\n",
       "      <td>43.0</td>\n",
       "      <td>13.0</td>\n",
       "      <td>14.0</td>\n",
       "      <td>1.0</td>\n",
       "      <td>1996.0</td>\n",
       "      <td>3.0</td>\n",
       "      <td>10.0</td>\n",
       "      <td>2.0</td>\n",
       "      <td>60</td>\n",
       "    </tr>\n",
       "    <tr>\n",
       "      <th>1</th>\n",
       "      <td>87380</td>\n",
       "      <td>2015-01-17</td>\n",
       "      <td>29</td>\n",
       "      <td>NaN</td>\n",
       "      <td>6.0</td>\n",
       "      <td>17.0</td>\n",
       "      <td>1.0</td>\n",
       "      <td>NaN</td>\n",
       "      <td>1.0</td>\n",
       "      <td>1.0</td>\n",
       "      <td>1.0</td>\n",
       "      <td>87</td>\n",
       "    </tr>\n",
       "    <tr>\n",
       "      <th>2</th>\n",
       "      <td>12874</td>\n",
       "      <td>2014-07-08</td>\n",
       "      <td>80</td>\n",
       "      <td>NaN</td>\n",
       "      <td>8.0</td>\n",
       "      <td>17.0</td>\n",
       "      <td>1.0</td>\n",
       "      <td>NaN</td>\n",
       "      <td>3.0</td>\n",
       "      <td>1.0</td>\n",
       "      <td>NaN</td>\n",
       "      <td>103</td>\n",
       "    </tr>\n",
       "    <tr>\n",
       "      <th>3</th>\n",
       "      <td>57688</td>\n",
       "      <td>2013-01-15</td>\n",
       "      <td>53</td>\n",
       "      <td>NaN</td>\n",
       "      <td>4.0</td>\n",
       "      <td>NaN</td>\n",
       "      <td>NaN</td>\n",
       "      <td>NaN</td>\n",
       "      <td>NaN</td>\n",
       "      <td>NaN</td>\n",
       "      <td>NaN</td>\n",
       "      <td>80</td>\n",
       "    </tr>\n",
       "    <tr>\n",
       "      <th>4</th>\n",
       "      <td>43433</td>\n",
       "      <td>2012-06-15</td>\n",
       "      <td>36</td>\n",
       "      <td>19.0</td>\n",
       "      <td>16.0</td>\n",
       "      <td>NaN</td>\n",
       "      <td>NaN</td>\n",
       "      <td>NaN</td>\n",
       "      <td>NaN</td>\n",
       "      <td>NaN</td>\n",
       "      <td>NaN</td>\n",
       "      <td>117</td>\n",
       "    </tr>\n",
       "  </tbody>\n",
       "</table>\n",
       "</div>"
      ],
      "text/plain": [
       "      id   timestamp  full_sq  life_sq  floor  max_floor  material  \\\n",
       "0  30307  2014-04-20       74     43.0   13.0       14.0       1.0   \n",
       "1  87380  2015-01-17       29      NaN    6.0       17.0       1.0   \n",
       "2  12874  2014-07-08       80      NaN    8.0       17.0       1.0   \n",
       "3  57688  2013-01-15       53      NaN    4.0        NaN       NaN   \n",
       "4  43433  2012-06-15       36     19.0   16.0        NaN       NaN   \n",
       "\n",
       "   build_year  num_room  kitch_sq  apartment condition  sub_area  \n",
       "0      1996.0       3.0      10.0                  2.0        60  \n",
       "1         NaN       1.0       1.0                  1.0        87  \n",
       "2         NaN       3.0       1.0                  NaN       103  \n",
       "3         NaN       NaN       NaN                  NaN        80  \n",
       "4         NaN       NaN       NaN                  NaN       117  "
      ]
     },
     "execution_count": 472,
     "metadata": {},
     "output_type": "execute_result"
    }
   ],
   "source": [
    "HW_test_main_data.info()\n",
    "HW_test_main_data.head()"
   ]
  },
  {
   "cell_type": "code",
   "execution_count": 473,
   "metadata": {},
   "outputs": [
    {
     "data": {
      "text/plain": [
       "(29000, 31)"
      ]
     },
     "execution_count": 473,
     "metadata": {},
     "output_type": "execute_result"
    }
   ],
   "source": [
    "train_combined = HW_train_main_data.merge(HW_train_additional_data, on='id')\n",
    "train_combined.shape"
   ]
  },
  {
   "cell_type": "code",
   "execution_count": 474,
   "metadata": {},
   "outputs": [
    {
     "data": {
      "text/plain": [
       "(1000, 30)"
      ]
     },
     "execution_count": 474,
     "metadata": {},
     "output_type": "execute_result"
    }
   ],
   "source": [
    "test_combined = HW_test_main_data.merge(HW_test_additional_data, on='id')\n",
    "test_combined.shape"
   ]
  },
  {
   "cell_type": "markdown",
   "metadata": {},
   "source": [
    "## EDA"
   ]
  },
  {
   "cell_type": "code",
   "execution_count": 475,
   "metadata": {},
   "outputs": [
    {
     "name": "stdout",
     "output_type": "stream",
     "text": [
      "<class 'pandas.core.frame.DataFrame'>\n",
      "Int64Index: 29000 entries, 0 to 28999\n",
      "Data columns (total 31 columns):\n",
      " #   Column                           Non-Null Count  Dtype  \n",
      "---  ------                           --------------  -----  \n",
      " 0   id                               29000 non-null  int64  \n",
      " 1   timestamp                        29000 non-null  object \n",
      " 2   full_sq                          29000 non-null  int64  \n",
      " 3   life_sq                          22935 non-null  float64\n",
      " 4   floor                            28843 non-null  float64\n",
      " 5   max_floor                        19887 non-null  float64\n",
      " 6   material                         19887 non-null  float64\n",
      " 7   build_year                       16059 non-null  float64\n",
      " 8   num_room                         19887 non-null  float64\n",
      " 9   kitch_sq                         19887 non-null  float64\n",
      " 10  apartment condition              16088 non-null  float64\n",
      " 11  sub_area                         29000 non-null  int64  \n",
      " 12  price                            29000 non-null  float64\n",
      " 13  population                       29000 non-null  int64  \n",
      " 14  indust_part                      29000 non-null  float64\n",
      " 15  preschool_facilities             29000 non-null  int64  \n",
      " 16  school_facilities                29000 non-null  int64  \n",
      " 17  hospital_beds_raion              15253 non-null  float64\n",
      " 18  healthcare_facilities            29000 non-null  int64  \n",
      " 19  university_num                   29000 non-null  int64  \n",
      " 20  sport_objects_facilities         29000 non-null  int64  \n",
      " 21  additional_education_facilities  29000 non-null  int64  \n",
      " 22  culture_objects_facilities       29000 non-null  int64  \n",
      " 23  shopping_centers_facilities      29000 non-null  int64  \n",
      " 24  office_num                       29000 non-null  int64  \n",
      " 25  green_part                       29000 non-null  float64\n",
      " 26  prom_part                        29000 non-null  float64\n",
      " 27  cafe_count                       29000 non-null  int64  \n",
      " 28  church_facilities                29000 non-null  int64  \n",
      " 29  mosque                           29000 non-null  int64  \n",
      " 30  leisure_facilities               29000 non-null  int64  \n",
      "dtypes: float64(13), int64(17), object(1)\n",
      "memory usage: 7.1+ MB\n"
     ]
    }
   ],
   "source": [
    "train_combined.info()"
   ]
  },
  {
   "cell_type": "markdown",
   "metadata": {},
   "source": [
    "## Data Preparation"
   ]
  },
  {
   "cell_type": "code",
   "execution_count": 90,
   "metadata": {},
   "outputs": [],
   "source": [
    "HW_train_additional_data = pd.read_csv('data/HW_train_additional_data.csv')\n",
    "HW_test_additional_data = pd.read_csv('data/HW_test_additional_data.csv')\n",
    "\n",
    "HW_train_main_data = pd.read_csv('data/HW_train_main_data.csv')\n",
    "HW_test_main_data = pd.read_csv('data/HW_test_main_data.csv')\n",
    "\n",
    "train_combined = HW_train_main_data.merge(HW_train_additional_data, on='id')\n",
    "test_combined = HW_test_main_data.merge(HW_test_additional_data, on='id')"
   ]
  },
  {
   "cell_type": "code",
   "execution_count": 91,
   "metadata": {},
   "outputs": [
    {
     "name": "stdout",
     "output_type": "stream",
     "text": [
      "30.0\n"
     ]
    }
   ],
   "source": [
    "train_combined = train_combined[train_combined['floor'] < 29]\n",
    "life_sq_imputer = train_combined['life_sq'].median()\n",
    "print(life_sq_imputer)\n",
    "train_combined['life_sq'].fillna(train_combined['life_sq'].median(), inplace=True)"
   ]
  },
  {
   "cell_type": "code",
   "execution_count": 14,
   "metadata": {},
   "outputs": [
    {
     "name": "stderr",
     "output_type": "stream",
     "text": [
      "C:\\Users\\victor\\AppData\\Roaming\\Python\\Python37\\site-packages\\seaborn\\_decorators.py:43: FutureWarning: Pass the following variable as a keyword arg: x. From version 0.12, the only valid positional argument will be `data`, and passing other arguments without an explicit keyword will result in an error or misinterpretation.\n",
      "  FutureWarning\n"
     ]
    },
    {
     "data": {
      "text/plain": [
       "<matplotlib.axes._subplots.AxesSubplot at 0x1ea0f857ac8>"
      ]
     },
     "execution_count": 14,
     "metadata": {},
     "output_type": "execute_result"
    },
    {
     "data": {
      "image/png": "[encoded data removed]",
      "text/plain": [
       "<Figure size 432x288 with 1 Axes>"
      ]
     },
     "metadata": {
      "needs_background": "light"
     },
     "output_type": "display_data"
    }
   ],
   "source": [
    "sns.boxplot(train_combined['floor'])"
   ]
  },
  {
   "cell_type": "code",
   "execution_count": 92,
   "metadata": {},
   "outputs": [],
   "source": [
    "def save_data(train_combined):\n",
    "    x_train = train_combined.drop(columns=['price'])\n",
    "    y_train = train_combined['price']\n",
    "\n",
    "    joblib.dump(x_train, 'x_train.j')\n",
    "    joblib.dump(y_train, 'y_train.j')\n",
    "\n",
    "def plug_date_features(df):\n",
    "    df['timestamp'] = pd.to_datetime(df['timestamp'])\n",
    "    df['year'] = df['timestamp'].dt.year\n",
    "    df['month'] = df['timestamp'].dt.month\n",
    "    return df\n",
    "\n",
    "def drop_features(df):\n",
    "    return df.drop(columns=['id', 'timestamp'])\n",
    "\n",
    "def drop_many_missings_rows(df, threshold=7):\n",
    "    many_missingness_rows_inds = df.isna().sum(axis=1) > threshold\n",
    "    print(f\"Dropping {many_missingness_rows_inds.sum()}/{len(df)} records\")\n",
    "    return df.drop(index=np.where(many_missingness_rows_inds)[0])\n",
    "\n",
    "def drop_many_missings_columns(df, threshold=8000):\n",
    "    many_missingness_cols_inds = np.where(df.isna().sum(axis=0) > threshold)[0]\n",
    "    columns_to_drop = df.columns[many_missingness_cols_inds]\n",
    "    print(f\"Dropping {len(columns_to_drop)}/{len(df.columns)} columns:\")\n",
    "    for col in columns_to_drop:\n",
    "        print(f\"\\t{col}\")\n",
    "    return df.drop(columns=columns_to_drop), columns_to_drop\n",
    "\n",
    "def fillna_median(df):\n",
    "    cols_with_missing_vals = df.columns[np.where(df.isna().any())[0]]\n",
    "    filling_mapping = {}\n",
    "    for col in cols_with_missing_vals:\n",
    "        #value_to_fill = df[col].median()\n",
    "        value_to_fill = df[col].median()\n",
    "        filling_mapping[col] = value_to_fill\n",
    "        print(f\"Column {col}: Filling NA with {value_to_fill}\")\n",
    "        df.fillna(value_to_fill, inplace=True)\n",
    "    return df, filling_mapping\n",
    "\n",
    "def get_outliers(df, q):\n",
    "    q_left = df.quantile(q)\n",
    "    q_right = df.quantile(1-q)\n",
    "    return q_left, q_right\n",
    "\n",
    "def cap_outliers(df, q_left, q_right):\n",
    "    for col in df.columns:\n",
    "        less_inds = df[col] < q_left[col]\n",
    "        greater_inds = df[col] > q_right[col]\n",
    "        outliers_inds = less_inds | greater_inds\n",
    "        print(f\"Column {col} has {outliers_inds.sum()} outliers\")\n",
    "        df.loc[less_inds, col] = q_left[col]\n",
    "        df.loc[greater_inds, col] = q_right[col]\n",
    "    return df\n",
    "\n",
    "def drop_outliers(df, q_left, q_right):\n",
    "    return df[~((df < q_left |(df > q_right)).any(axis=1))]\n",
    "\n",
    "def feature_engineering(df):\n",
    "    for col in df.columns:\n",
    "        if col != 'price':\n",
    "            df[f\"{col}_p2\"] = np.power(df[col], 2)\n",
    "            df[f\"{col}_p05\"] = np.sqrt(df[col])\n",
    "            df[f\"{col}_log\"] = np.log(df[col]+1)\n",
    "    return df"
   ]
  },
  {
   "cell_type": "code",
   "execution_count": 93,
   "metadata": {},
   "outputs": [],
   "source": [
    "#train_combined = plug_date_features(train_combined)\n",
    "train_combined = drop_features(train_combined)"
   ]
  },
  {
   "cell_type": "code",
   "execution_count": 230,
   "metadata": {},
   "outputs": [
    {
     "name": "stdout",
     "output_type": "stream",
     "text": [
      "Dropping 0/19883 records\n",
      "Dropping 1/16 columns:\n",
      "\thospital_beds_raion\n",
      "Column build_year: Filling NA with 1979.0\n",
      "Column apartment condition: Filling NA with 2.0\n"
     ]
    }
   ],
   "source": [
    "train_combined = plug_date_features(train_combined)\n",
    "train_combined = drop_features(train_combined)\n",
    "train_combined = train_combined[train_combined['num_room'] < 10]\n",
    "train_combined.drop(columns=['mosque', 'prom_part', 'month', 'healthcare_facilities', 'sub_area',\n",
    "       'university_num', 'green_part', 'preschool_facilities', 'floor',\n",
    "       'shopping_centers_facilities', 'material', 'life_sq', 'year',\n",
    "       'max_floor', 'additional_education_facilities'], inplace=True)\n",
    "\n",
    "train_combined = drop_many_missings_rows(train_combined)\n",
    "train_combined, dropped_columns = drop_many_missings_columns(train_combined)\n",
    "#q_left, q_right = get_outliers(train_combined, 0.05)\n",
    "#train_combined = cap_outliers(train_combined, q_left, q_right)\n",
    "#train_combined = drop_outliers(train_combined, q_left, q_right)\n",
    "#train_combined = train_combined[train_combined['full_sq'] <= 1000]\n",
    "#train_combined = train_combined[train_combined['culture_objects_facilities'] < 10]\n",
    "train_combined, filling_mapping = fillna_median(train_combined)\n",
    "#train_combined = feature_engineering(train_combined)\n",
    "train_combined.reset_index(drop=True, inplace=True)"
   ]
  },
  {
   "cell_type": "code",
   "execution_count": 94,
   "metadata": {},
   "outputs": [
    {
     "name": "stdout",
     "output_type": "stream",
     "text": [
      "train_combined shape: (28802, 29)\n"
     ]
    }
   ],
   "source": [
    "print(f'train_combined shape: {train_combined.shape}')\n",
    "save_data(train_combined)"
   ]
  },
  {
   "cell_type": "code",
   "execution_count": 419,
   "metadata": {},
   "outputs": [
    {
     "name": "stdout",
     "output_type": "stream",
     "text": [
      "Column full_sq has 508 outliers\n",
      "Column life_sq has 333 outliers\n",
      "Column floor has 211 outliers\n",
      "Column sub_area has 367 outliers\n",
      "Column price has 579 outliers\n",
      "Column population has 0 outliers\n",
      "Column indust_part has 283 outliers\n",
      "Column preschool_facilities has 0 outliers\n",
      "Column school_facilities has 0 outliers\n",
      "Column healthcare_facilities has 287 outliers\n",
      "Column university_num has 47 outliers\n",
      "Column sport_objects_facilities has 0 outliers\n",
      "Column additional_education_facilities has 0 outliers\n",
      "Column culture_objects_facilities has 0 outliers\n",
      "Column shopping_centers_facilities has 0 outliers\n",
      "Column office_num has 0 outliers\n",
      "Column green_part has 293 outliers\n",
      "Column prom_part has 290 outliers\n",
      "Column cafe_count has 34 outliers\n",
      "Column church_facilities has 1 outliers\n",
      "Column mosque has 147 outliers\n",
      "Column leisure_facilities has 257 outliers\n",
      "Column year has 0 outliers\n",
      "Column month has 0 outliers\n"
     ]
    }
   ],
   "source": [
    "# detecting_ourliers \n"
   ]
  },
  {
   "cell_type": "code",
   "execution_count": 316,
   "metadata": {},
   "outputs": [
    {
     "data": {
      "text/plain": [
       "full_sq                                 27.0\n",
       "life_sq                                  1.0\n",
       "floor                                    1.0\n",
       "max_floor                                0.0\n",
       "material                                 1.0\n",
       "num_room                                 1.0\n",
       "kitch_sq                                 0.0\n",
       "sub_area                                 1.0\n",
       "price                              1016830.0\n",
       "population                            2546.0\n",
       "indust_part                              0.0\n",
       "preschool_facilities                     0.0\n",
       "school_facilities                        0.0\n",
       "healthcare_facilities                    0.0\n",
       "university_num                           0.0\n",
       "sport_objects_facilities                 0.0\n",
       "additional_education_facilities          0.0\n",
       "culture_objects_facilities               0.0\n",
       "shopping_centers_facilities              0.0\n",
       "office_num                               0.0\n",
       "green_part                               0.0\n",
       "prom_part                                0.0\n",
       "cafe_count                               0.0\n",
       "church_facilities                        0.0\n",
       "mosque                                   0.0\n",
       "leisure_facilities                       0.0\n",
       "year                                  2011.0\n",
       "month                                    1.0\n",
       "Name: 0.01, dtype: float64"
      ]
     },
     "execution_count": 316,
     "metadata": {},
     "output_type": "execute_result"
    }
   ],
   "source": [
    "q_left"
   ]
  },
  {
   "cell_type": "code",
   "execution_count": 317,
   "metadata": {},
   "outputs": [
    {
     "data": {
      "text/html": [
       "<div>\n",
       "<style scoped>\n",
       "    .dataframe tbody tr th:only-of-type {\n",
       "        vertical-align: middle;\n",
       "    }\n",
       "\n",
       "    .dataframe tbody tr th {\n",
       "        vertical-align: top;\n",
       "    }\n",
       "\n",
       "    .dataframe thead th {\n",
       "        text-align: right;\n",
       "    }\n",
       "</style>\n",
       "<table border=\"1\" class=\"dataframe\">\n",
       "  <thead>\n",
       "    <tr style=\"text-align: right;\">\n",
       "      <th></th>\n",
       "      <th>full_sq</th>\n",
       "      <th>life_sq</th>\n",
       "      <th>floor</th>\n",
       "      <th>max_floor</th>\n",
       "      <th>material</th>\n",
       "      <th>num_room</th>\n",
       "      <th>kitch_sq</th>\n",
       "      <th>sub_area</th>\n",
       "      <th>price</th>\n",
       "      <th>population</th>\n",
       "      <th>...</th>\n",
       "      <th>shopping_centers_facilities</th>\n",
       "      <th>office_num</th>\n",
       "      <th>green_part</th>\n",
       "      <th>prom_part</th>\n",
       "      <th>cafe_count</th>\n",
       "      <th>church_facilities</th>\n",
       "      <th>mosque</th>\n",
       "      <th>leisure_facilities</th>\n",
       "      <th>year</th>\n",
       "      <th>month</th>\n",
       "    </tr>\n",
       "  </thead>\n",
       "  <tbody>\n",
       "    <tr>\n",
       "      <th>66</th>\n",
       "      <td>15</td>\n",
       "      <td>15.0</td>\n",
       "      <td>6.0</td>\n",
       "      <td>30.0</td>\n",
       "      <td>30.0</td>\n",
       "      <td>30.0</td>\n",
       "      <td>30.0</td>\n",
       "      <td>145</td>\n",
       "      <td>1113000.0</td>\n",
       "      <td>123000</td>\n",
       "      <td>...</td>\n",
       "      <td>2</td>\n",
       "      <td>2</td>\n",
       "      <td>14.54</td>\n",
       "      <td>0.00</td>\n",
       "      <td>7</td>\n",
       "      <td>2</td>\n",
       "      <td>0</td>\n",
       "      <td>0</td>\n",
       "      <td>2012</td>\n",
       "      <td>3</td>\n",
       "    </tr>\n",
       "    <tr>\n",
       "      <th>69</th>\n",
       "      <td>4</td>\n",
       "      <td>1.0</td>\n",
       "      <td>1.0</td>\n",
       "      <td>1.0</td>\n",
       "      <td>1.0</td>\n",
       "      <td>1.0</td>\n",
       "      <td>1.0</td>\n",
       "      <td>103</td>\n",
       "      <td>6487600.0</td>\n",
       "      <td>4001</td>\n",
       "      <td>...</td>\n",
       "      <td>1</td>\n",
       "      <td>0</td>\n",
       "      <td>15.29</td>\n",
       "      <td>2.83</td>\n",
       "      <td>1</td>\n",
       "      <td>0</td>\n",
       "      <td>0</td>\n",
       "      <td>0</td>\n",
       "      <td>2014</td>\n",
       "      <td>9</td>\n",
       "    </tr>\n",
       "    <tr>\n",
       "      <th>74</th>\n",
       "      <td>67</td>\n",
       "      <td>49.0</td>\n",
       "      <td>9.0</td>\n",
       "      <td>30.0</td>\n",
       "      <td>30.0</td>\n",
       "      <td>30.0</td>\n",
       "      <td>30.0</td>\n",
       "      <td>37</td>\n",
       "      <td>1005000.0</td>\n",
       "      <td>174831</td>\n",
       "      <td>...</td>\n",
       "      <td>7</td>\n",
       "      <td>1</td>\n",
       "      <td>42.51</td>\n",
       "      <td>0.00</td>\n",
       "      <td>2</td>\n",
       "      <td>0</td>\n",
       "      <td>0</td>\n",
       "      <td>0</td>\n",
       "      <td>2013</td>\n",
       "      <td>3</td>\n",
       "    </tr>\n",
       "    <tr>\n",
       "      <th>100</th>\n",
       "      <td>20</td>\n",
       "      <td>13.0</td>\n",
       "      <td>4.0</td>\n",
       "      <td>30.0</td>\n",
       "      <td>30.0</td>\n",
       "      <td>30.0</td>\n",
       "      <td>30.0</td>\n",
       "      <td>40</td>\n",
       "      <td>4014300.0</td>\n",
       "      <td>104434</td>\n",
       "      <td>...</td>\n",
       "      <td>1</td>\n",
       "      <td>4</td>\n",
       "      <td>5.80</td>\n",
       "      <td>0.00</td>\n",
       "      <td>6</td>\n",
       "      <td>0</td>\n",
       "      <td>0</td>\n",
       "      <td>0</td>\n",
       "      <td>2013</td>\n",
       "      <td>1</td>\n",
       "    </tr>\n",
       "    <tr>\n",
       "      <th>142</th>\n",
       "      <td>65</td>\n",
       "      <td>38.0</td>\n",
       "      <td>8.0</td>\n",
       "      <td>12.0</td>\n",
       "      <td>1.0</td>\n",
       "      <td>3.0</td>\n",
       "      <td>8.0</td>\n",
       "      <td>82</td>\n",
       "      <td>1009000.0</td>\n",
       "      <td>175518</td>\n",
       "      <td>...</td>\n",
       "      <td>9</td>\n",
       "      <td>6</td>\n",
       "      <td>1.57</td>\n",
       "      <td>0.00</td>\n",
       "      <td>3</td>\n",
       "      <td>1</td>\n",
       "      <td>0</td>\n",
       "      <td>0</td>\n",
       "      <td>2014</td>\n",
       "      <td>1</td>\n",
       "    </tr>\n",
       "    <tr>\n",
       "      <th>...</th>\n",
       "      <td>...</td>\n",
       "      <td>...</td>\n",
       "      <td>...</td>\n",
       "      <td>...</td>\n",
       "      <td>...</td>\n",
       "      <td>...</td>\n",
       "      <td>...</td>\n",
       "      <td>...</td>\n",
       "      <td>...</td>\n",
       "      <td>...</td>\n",
       "      <td>...</td>\n",
       "      <td>...</td>\n",
       "      <td>...</td>\n",
       "      <td>...</td>\n",
       "      <td>...</td>\n",
       "      <td>...</td>\n",
       "      <td>...</td>\n",
       "      <td>...</td>\n",
       "      <td>...</td>\n",
       "      <td>...</td>\n",
       "      <td>...</td>\n",
       "    </tr>\n",
       "    <tr>\n",
       "      <th>27444</th>\n",
       "      <td>18</td>\n",
       "      <td>13.0</td>\n",
       "      <td>2.0</td>\n",
       "      <td>5.0</td>\n",
       "      <td>2.0</td>\n",
       "      <td>1.0</td>\n",
       "      <td>2.0</td>\n",
       "      <td>12</td>\n",
       "      <td>3933700.0</td>\n",
       "      <td>104410</td>\n",
       "      <td>...</td>\n",
       "      <td>2</td>\n",
       "      <td>4</td>\n",
       "      <td>0.00</td>\n",
       "      <td>64.26</td>\n",
       "      <td>0</td>\n",
       "      <td>0</td>\n",
       "      <td>0</td>\n",
       "      <td>1</td>\n",
       "      <td>2013</td>\n",
       "      <td>9</td>\n",
       "    </tr>\n",
       "    <tr>\n",
       "      <th>27494</th>\n",
       "      <td>1</td>\n",
       "      <td>1.0</td>\n",
       "      <td>1.0</td>\n",
       "      <td>1.0</td>\n",
       "      <td>1.0</td>\n",
       "      <td>1.0</td>\n",
       "      <td>1.0</td>\n",
       "      <td>94</td>\n",
       "      <td>5488600.0</td>\n",
       "      <td>21819</td>\n",
       "      <td>...</td>\n",
       "      <td>2</td>\n",
       "      <td>3</td>\n",
       "      <td>11.66</td>\n",
       "      <td>0.97</td>\n",
       "      <td>0</td>\n",
       "      <td>1</td>\n",
       "      <td>0</td>\n",
       "      <td>0</td>\n",
       "      <td>2015</td>\n",
       "      <td>1</td>\n",
       "    </tr>\n",
       "    <tr>\n",
       "      <th>27513</th>\n",
       "      <td>102</td>\n",
       "      <td>0.0</td>\n",
       "      <td>17.0</td>\n",
       "      <td>0.0</td>\n",
       "      <td>4.0</td>\n",
       "      <td>3.0</td>\n",
       "      <td>0.0</td>\n",
       "      <td>102</td>\n",
       "      <td>12995300.0</td>\n",
       "      <td>9553</td>\n",
       "      <td>...</td>\n",
       "      <td>0</td>\n",
       "      <td>1</td>\n",
       "      <td>17.94</td>\n",
       "      <td>1.51</td>\n",
       "      <td>0</td>\n",
       "      <td>0</td>\n",
       "      <td>0</td>\n",
       "      <td>0</td>\n",
       "      <td>2014</td>\n",
       "      <td>7</td>\n",
       "    </tr>\n",
       "    <tr>\n",
       "      <th>27534</th>\n",
       "      <td>83</td>\n",
       "      <td>73.0</td>\n",
       "      <td>14.0</td>\n",
       "      <td>30.0</td>\n",
       "      <td>30.0</td>\n",
       "      <td>30.0</td>\n",
       "      <td>30.0</td>\n",
       "      <td>74</td>\n",
       "      <td>725700.0</td>\n",
       "      <td>111023</td>\n",
       "      <td>...</td>\n",
       "      <td>1</td>\n",
       "      <td>0</td>\n",
       "      <td>0.00</td>\n",
       "      <td>0.00</td>\n",
       "      <td>3</td>\n",
       "      <td>0</td>\n",
       "      <td>0</td>\n",
       "      <td>0</td>\n",
       "      <td>2012</td>\n",
       "      <td>6</td>\n",
       "    </tr>\n",
       "    <tr>\n",
       "      <th>27542</th>\n",
       "      <td>18</td>\n",
       "      <td>11.0</td>\n",
       "      <td>5.0</td>\n",
       "      <td>5.0</td>\n",
       "      <td>2.0</td>\n",
       "      <td>1.0</td>\n",
       "      <td>3.0</td>\n",
       "      <td>84</td>\n",
       "      <td>4060600.0</td>\n",
       "      <td>139322</td>\n",
       "      <td>...</td>\n",
       "      <td>2</td>\n",
       "      <td>7</td>\n",
       "      <td>0.04</td>\n",
       "      <td>5.08</td>\n",
       "      <td>0</td>\n",
       "      <td>0</td>\n",
       "      <td>0</td>\n",
       "      <td>0</td>\n",
       "      <td>2014</td>\n",
       "      <td>2</td>\n",
       "    </tr>\n",
       "  </tbody>\n",
       "</table>\n",
       "<p>682 rows × 28 columns</p>\n",
       "</div>"
      ],
      "text/plain": [
       "       full_sq  life_sq  floor  max_floor  material  num_room  kitch_sq  \\\n",
       "66          15     15.0    6.0       30.0      30.0      30.0      30.0   \n",
       "69           4      1.0    1.0        1.0       1.0       1.0       1.0   \n",
       "74          67     49.0    9.0       30.0      30.0      30.0      30.0   \n",
       "100         20     13.0    4.0       30.0      30.0      30.0      30.0   \n",
       "142         65     38.0    8.0       12.0       1.0       3.0       8.0   \n",
       "...        ...      ...    ...        ...       ...       ...       ...   \n",
       "27444       18     13.0    2.0        5.0       2.0       1.0       2.0   \n",
       "27494        1      1.0    1.0        1.0       1.0       1.0       1.0   \n",
       "27513      102      0.0   17.0        0.0       4.0       3.0       0.0   \n",
       "27534       83     73.0   14.0       30.0      30.0      30.0      30.0   \n",
       "27542       18     11.0    5.0        5.0       2.0       1.0       3.0   \n",
       "\n",
       "       sub_area       price  population  ...  shopping_centers_facilities  \\\n",
       "66          145   1113000.0      123000  ...                            2   \n",
       "69          103   6487600.0        4001  ...                            1   \n",
       "74           37   1005000.0      174831  ...                            7   \n",
       "100          40   4014300.0      104434  ...                            1   \n",
       "142          82   1009000.0      175518  ...                            9   \n",
       "...         ...         ...         ...  ...                          ...   \n",
       "27444        12   3933700.0      104410  ...                            2   \n",
       "27494        94   5488600.0       21819  ...                            2   \n",
       "27513       102  12995300.0        9553  ...                            0   \n",
       "27534        74    725700.0      111023  ...                            1   \n",
       "27542        84   4060600.0      139322  ...                            2   \n",
       "\n",
       "       office_num  green_part  prom_part  cafe_count  church_facilities  \\\n",
       "66              2       14.54       0.00           7                  2   \n",
       "69              0       15.29       2.83           1                  0   \n",
       "74              1       42.51       0.00           2                  0   \n",
       "100             4        5.80       0.00           6                  0   \n",
       "142             6        1.57       0.00           3                  1   \n",
       "...           ...         ...        ...         ...                ...   \n",
       "27444           4        0.00      64.26           0                  0   \n",
       "27494           3       11.66       0.97           0                  1   \n",
       "27513           1       17.94       1.51           0                  0   \n",
       "27534           0        0.00       0.00           3                  0   \n",
       "27542           7        0.04       5.08           0                  0   \n",
       "\n",
       "       mosque  leisure_facilities  year  month  \n",
       "66          0                   0  2012      3  \n",
       "69          0                   0  2014      9  \n",
       "74          0                   0  2013      3  \n",
       "100         0                   0  2013      1  \n",
       "142         0                   0  2014      1  \n",
       "...       ...                 ...   ...    ...  \n",
       "27444       0                   1  2013      9  \n",
       "27494       0                   0  2015      1  \n",
       "27513       0                   0  2014      7  \n",
       "27534       0                   0  2012      6  \n",
       "27542       0                   0  2014      2  \n",
       "\n",
       "[682 rows x 28 columns]"
      ]
     },
     "execution_count": 317,
     "metadata": {},
     "output_type": "execute_result"
    }
   ],
   "source": [
    "train_combined[(train_combined < q_left).any(axis=1)]"
   ]
  },
  {
   "cell_type": "code",
   "execution_count": 318,
   "metadata": {},
   "outputs": [
    {
     "data": {
      "text/plain": [
       "full_sq                            6.700000e+01\n",
       "life_sq                            4.900000e+01\n",
       "floor                              9.000000e+00\n",
       "max_floor                          3.000000e+01\n",
       "material                           3.000000e+01\n",
       "num_room                           3.000000e+01\n",
       "kitch_sq                           3.000000e+01\n",
       "sub_area                           3.700000e+01\n",
       "price                              1.005000e+06\n",
       "population                         1.748310e+05\n",
       "indust_part                        3.717782e-02\n",
       "preschool_facilities               7.000000e+00\n",
       "school_facilities                  7.000000e+00\n",
       "healthcare_facilities              1.000000e+00\n",
       "university_num                     0.000000e+00\n",
       "sport_objects_facilities           7.000000e+00\n",
       "additional_education_facilities    7.000000e+00\n",
       "culture_objects_facilities         0.000000e+00\n",
       "shopping_centers_facilities        7.000000e+00\n",
       "office_num                         1.000000e+00\n",
       "green_part                         4.251000e+01\n",
       "prom_part                          0.000000e+00\n",
       "cafe_count                         2.000000e+00\n",
       "church_facilities                  0.000000e+00\n",
       "mosque                             0.000000e+00\n",
       "leisure_facilities                 0.000000e+00\n",
       "year                               2.013000e+03\n",
       "month                              3.000000e+00\n",
       "Name: 74, dtype: float64"
      ]
     },
     "execution_count": 318,
     "metadata": {},
     "output_type": "execute_result"
    }
   ],
   "source": [
    "train_combined.iloc[74]"
   ]
  },
  {
   "cell_type": "code",
   "execution_count": 322,
   "metadata": {},
   "outputs": [
    {
     "data": {
      "text/plain": [
       "Index(['price'], dtype='object')"
      ]
     },
     "execution_count": 322,
     "metadata": {},
     "output_type": "execute_result"
    }
   ],
   "source": [
    "train_combined.columns[np.where((train_combined < q_left).values[74])[0]]"
   ]
  },
  {
   "cell_type": "code",
   "execution_count": 295,
   "metadata": {},
   "outputs": [
    {
     "data": {
      "text/plain": [
       "array([False, False, False, ..., False, False, False])"
      ]
     },
     "execution_count": 295,
     "metadata": {},
     "output_type": "execute_result"
    }
   ],
   "source": [
    "train_combined.index == 72"
   ]
  },
  {
   "cell_type": "code",
   "execution_count": 284,
   "metadata": {},
   "outputs": [
    {
     "data": {
      "text/plain": [
       "full_sq                                 27.0\n",
       "life_sq                                  1.0\n",
       "floor                                    1.0\n",
       "max_floor                                0.0\n",
       "material                                 1.0\n",
       "num_room                                 1.0\n",
       "kitch_sq                                 0.0\n",
       "sub_area                                 1.0\n",
       "price                              1016830.0\n",
       "population                            2546.0\n",
       "indust_part                              0.0\n",
       "preschool_facilities                     0.0\n",
       "school_facilities                        0.0\n",
       "healthcare_facilities                    0.0\n",
       "university_num                           0.0\n",
       "sport_objects_facilities                 0.0\n",
       "additional_education_facilities          0.0\n",
       "culture_objects_facilities               0.0\n",
       "shopping_centers_facilities              0.0\n",
       "office_num                               0.0\n",
       "green_part                               0.0\n",
       "prom_part                                0.0\n",
       "cafe_count                               0.0\n",
       "church_facilities                        0.0\n",
       "mosque                                   0.0\n",
       "leisure_facilities                       0.0\n",
       "year                                  2011.0\n",
       "month                                    1.0\n",
       "Name: 0.01, dtype: float64"
      ]
     },
     "execution_count": 284,
     "metadata": {},
     "output_type": "execute_result"
    }
   ],
   "source": [
    "q_left"
   ]
  },
  {
   "cell_type": "code",
   "execution_count": 261,
   "metadata": {},
   "outputs": [
    {
     "name": "stdout",
     "output_type": "stream",
     "text": [
      "New Shape: (27566, 28)\n"
     ]
    },
    {
     "data": {
      "text/html": [
       "<div>\n",
       "<style scoped>\n",
       "    .dataframe tbody tr th:only-of-type {\n",
       "        vertical-align: middle;\n",
       "    }\n",
       "\n",
       "    .dataframe tbody tr th {\n",
       "        vertical-align: top;\n",
       "    }\n",
       "\n",
       "    .dataframe thead th {\n",
       "        text-align: right;\n",
       "    }\n",
       "</style>\n",
       "<table border=\"1\" class=\"dataframe\">\n",
       "  <thead>\n",
       "    <tr style=\"text-align: right;\">\n",
       "      <th></th>\n",
       "      <th>full_sq</th>\n",
       "      <th>life_sq</th>\n",
       "      <th>floor</th>\n",
       "      <th>max_floor</th>\n",
       "      <th>material</th>\n",
       "      <th>num_room</th>\n",
       "      <th>kitch_sq</th>\n",
       "      <th>sub_area</th>\n",
       "      <th>price</th>\n",
       "      <th>population</th>\n",
       "      <th>...</th>\n",
       "      <th>shopping_centers_facilities</th>\n",
       "      <th>office_num</th>\n",
       "      <th>green_part</th>\n",
       "      <th>prom_part</th>\n",
       "      <th>cafe_count</th>\n",
       "      <th>church_facilities</th>\n",
       "      <th>mosque</th>\n",
       "      <th>leisure_facilities</th>\n",
       "      <th>year</th>\n",
       "      <th>month</th>\n",
       "    </tr>\n",
       "  </thead>\n",
       "  <tbody>\n",
       "    <tr>\n",
       "      <th>0</th>\n",
       "      <td>60</td>\n",
       "      <td>36.0</td>\n",
       "      <td>6.0</td>\n",
       "      <td>9.0</td>\n",
       "      <td>1.0</td>\n",
       "      <td>3.0</td>\n",
       "      <td>5.0</td>\n",
       "      <td>9</td>\n",
       "      <td>9711800.0</td>\n",
       "      <td>155572</td>\n",
       "      <td>...</td>\n",
       "      <td>16</td>\n",
       "      <td>1</td>\n",
       "      <td>2.86</td>\n",
       "      <td>0.00</td>\n",
       "      <td>0</td>\n",
       "      <td>0</td>\n",
       "      <td>0</td>\n",
       "      <td>0</td>\n",
       "      <td>2014</td>\n",
       "      <td>12</td>\n",
       "    </tr>\n",
       "    <tr>\n",
       "      <th>1</th>\n",
       "      <td>44</td>\n",
       "      <td>29.0</td>\n",
       "      <td>9.0</td>\n",
       "      <td>NaN</td>\n",
       "      <td>NaN</td>\n",
       "      <td>NaN</td>\n",
       "      <td>NaN</td>\n",
       "      <td>19</td>\n",
       "      <td>6643200.0</td>\n",
       "      <td>111874</td>\n",
       "      <td>...</td>\n",
       "      <td>11</td>\n",
       "      <td>5</td>\n",
       "      <td>9.26</td>\n",
       "      <td>2.71</td>\n",
       "      <td>1</td>\n",
       "      <td>0</td>\n",
       "      <td>0</td>\n",
       "      <td>0</td>\n",
       "      <td>2013</td>\n",
       "      <td>6</td>\n",
       "    </tr>\n",
       "    <tr>\n",
       "      <th>2</th>\n",
       "      <td>62</td>\n",
       "      <td>60.0</td>\n",
       "      <td>4.0</td>\n",
       "      <td>NaN</td>\n",
       "      <td>NaN</td>\n",
       "      <td>NaN</td>\n",
       "      <td>NaN</td>\n",
       "      <td>80</td>\n",
       "      <td>5698300.0</td>\n",
       "      <td>129207</td>\n",
       "      <td>...</td>\n",
       "      <td>4</td>\n",
       "      <td>2</td>\n",
       "      <td>13.80</td>\n",
       "      <td>0.00</td>\n",
       "      <td>4</td>\n",
       "      <td>0</td>\n",
       "      <td>0</td>\n",
       "      <td>0</td>\n",
       "      <td>2013</td>\n",
       "      <td>9</td>\n",
       "    </tr>\n",
       "    <tr>\n",
       "      <th>3</th>\n",
       "      <td>33</td>\n",
       "      <td>18.0</td>\n",
       "      <td>4.0</td>\n",
       "      <td>9.0</td>\n",
       "      <td>1.0</td>\n",
       "      <td>1.0</td>\n",
       "      <td>6.0</td>\n",
       "      <td>15</td>\n",
       "      <td>5055000.0</td>\n",
       "      <td>125354</td>\n",
       "      <td>...</td>\n",
       "      <td>2</td>\n",
       "      <td>0</td>\n",
       "      <td>7.46</td>\n",
       "      <td>0.00</td>\n",
       "      <td>1</td>\n",
       "      <td>0</td>\n",
       "      <td>0</td>\n",
       "      <td>0</td>\n",
       "      <td>2013</td>\n",
       "      <td>12</td>\n",
       "    </tr>\n",
       "    <tr>\n",
       "      <th>4</th>\n",
       "      <td>37</td>\n",
       "      <td>14.0</td>\n",
       "      <td>1.0</td>\n",
       "      <td>17.0</td>\n",
       "      <td>1.0</td>\n",
       "      <td>1.0</td>\n",
       "      <td>1.0</td>\n",
       "      <td>74</td>\n",
       "      <td>5425000.0</td>\n",
       "      <td>111023</td>\n",
       "      <td>...</td>\n",
       "      <td>1</td>\n",
       "      <td>0</td>\n",
       "      <td>0.00</td>\n",
       "      <td>0.00</td>\n",
       "      <td>3</td>\n",
       "      <td>0</td>\n",
       "      <td>0</td>\n",
       "      <td>0</td>\n",
       "      <td>2014</td>\n",
       "      <td>2</td>\n",
       "    </tr>\n",
       "  </tbody>\n",
       "</table>\n",
       "<p>5 rows × 28 columns</p>\n",
       "</div>"
      ],
      "text/plain": [
       "   full_sq  life_sq  floor  max_floor  material  num_room  kitch_sq  sub_area  \\\n",
       "0       60     36.0    6.0        9.0       1.0       3.0       5.0         9   \n",
       "1       44     29.0    9.0        NaN       NaN       NaN       NaN        19   \n",
       "2       62     60.0    4.0        NaN       NaN       NaN       NaN        80   \n",
       "3       33     18.0    4.0        9.0       1.0       1.0       6.0        15   \n",
       "4       37     14.0    1.0       17.0       1.0       1.0       1.0        74   \n",
       "\n",
       "       price  population  ...  shopping_centers_facilities  office_num  \\\n",
       "0  9711800.0      155572  ...                           16           1   \n",
       "1  6643200.0      111874  ...                           11           5   \n",
       "2  5698300.0      129207  ...                            4           2   \n",
       "3  5055000.0      125354  ...                            2           0   \n",
       "4  5425000.0      111023  ...                            1           0   \n",
       "\n",
       "   green_part  prom_part  cafe_count  church_facilities  mosque  \\\n",
       "0        2.86       0.00           0                  0       0   \n",
       "1        9.26       2.71           1                  0       0   \n",
       "2       13.80       0.00           4                  0       0   \n",
       "3        7.46       0.00           1                  0       0   \n",
       "4        0.00       0.00           3                  0       0   \n",
       "\n",
       "   leisure_facilities  year  month  \n",
       "0                   0  2014     12  \n",
       "1                   0  2013      6  \n",
       "2                   0  2013      9  \n",
       "3                   0  2013     12  \n",
       "4                   0  2014      2  \n",
       "\n",
       "[5 rows x 28 columns]"
      ]
     },
     "execution_count": 261,
     "metadata": {},
     "output_type": "execute_result"
    }
   ],
   "source": [
    "print(f\"New Shape: {train_combined.shape}\")\n",
    "train_combined.head()"
   ]
  },
  {
   "cell_type": "code",
   "execution_count": 6,
   "metadata": {},
   "outputs": [],
   "source": [
    "\n",
    "# x_test = test_combined.drop(columns=['price'])\n",
    "# y_test = test_combined['price']"
   ]
  },
  {
   "cell_type": "code",
   "execution_count": 458,
   "metadata": {},
   "outputs": [],
   "source": [
    "#dtrain = xgb.DMatrix(x_train, label=y_train)"
   ]
  },
  {
   "cell_type": "code",
   "execution_count": 459,
   "metadata": {},
   "outputs": [
    {
     "data": {
      "text/plain": [
       "['y_train.j']"
      ]
     },
     "execution_count": 459,
     "metadata": {},
     "output_type": "execute_result"
    }
   ],
   "source": [
    "#dtrain.save_binary('train.dmatrix')\n",
    "joblib.dump(x_train, 'x_train.j')\n",
    "joblib.dump(y_train, 'y_train.j')"
   ]
  },
  {
   "cell_type": "code",
   "execution_count": null,
   "metadata": {},
   "outputs": [],
   "source": [
    "#dtest = xgb.DMatrix(x_train, label=y_train)"
   ]
  },
  {
   "cell_type": "markdown",
   "metadata": {},
   "source": [
    "## Modeling"
   ]
  },
  {
   "cell_type": "code",
   "execution_count": 135,
   "metadata": {},
   "outputs": [],
   "source": [
    "from sklearn.model_selection import RandomizedSearchCV\n",
    "#from sklearn.model_selection import train_test_split\n",
    "from sklearn.model_selection import ShuffleSplit"
   ]
  },
  {
   "cell_type": "code",
   "execution_count": 147,
   "metadata": {},
   "outputs": [],
   "source": [
    "cv = ShuffleSplit(n_splits=5, test_size=0.3, random_state=1)\n",
    "\n",
    "params = {\n",
    "        'min_child_weight': [1, 5, 10],\n",
    "        'gamma': [0.5, 1, 1.5, 2, 5],\n",
    "        'subsample': [0.6, 0.8, 1.0],\n",
    "        'colsample_bytree': [0.6, 0.8, 1.0],\n",
    "        'max_depth': [3, 4, 5]\n",
    "        }\n",
    "\n",
    "model = xgb.XGBRegressor(n_jobs=4, n_estimators=3)"
   ]
  },
  {
   "cell_type": "code",
   "execution_count": 150,
   "metadata": {},
   "outputs": [],
   "source": [
    "random_search = RandomizedSearchCV(model, \n",
    "                                   param_distributions=params, \n",
    "                                   n_iter=5, \n",
    "                                   scoring='neg_mean_squared_error', \n",
    "                                   n_jobs=4, \n",
    "                                   cv=cv, \n",
    "                                   verbose=3, \n",
    "                                   random_state=1)"
   ]
  },
  {
   "cell_type": "code",
   "execution_count": 151,
   "metadata": {},
   "outputs": [
    {
     "name": "stdout",
     "output_type": "stream",
     "text": [
      "Fitting 5 folds for each of 5 candidates, totalling 25 fits\n"
     ]
    },
    {
     "name": "stderr",
     "output_type": "stream",
     "text": [
      "[Parallel(n_jobs=4)]: Using backend LokyBackend with 4 concurrent workers.\n"
     ]
    },
    {
     "name": "stdout",
     "output_type": "stream",
     "text": [
      "Wall time: 1.57 s\n"
     ]
    },
    {
     "name": "stderr",
     "output_type": "stream",
     "text": [
      "[Parallel(n_jobs=4)]: Done  25 out of  25 | elapsed:    1.4s finished\n"
     ]
    },
    {
     "data": {
      "text/plain": [
       "RandomizedSearchCV(cv=ShuffleSplit(n_splits=5, random_state=1, test_size=0.3, train_size=None),\n",
       "                   estimator=XGBRegressor(base_score=None, booster=None,\n",
       "                                          colsample_bylevel=None,\n",
       "                                          colsample_bynode=None,\n",
       "                                          colsample_bytree=None, gamma=None,\n",
       "                                          gpu_id=None, importance_type='gain',\n",
       "                                          interaction_constraints=None,\n",
       "                                          learning_rate=None,\n",
       "                                          max_delta_step=None, max_depth=None,\n",
       "                                          min_child_...\n",
       "                                          random_state=None, reg_alpha=None,\n",
       "                                          reg_lambda=None,\n",
       "                                          scale_pos_weight=None, subsample=None,\n",
       "                                          tree_method=None,\n",
       "                                          validate_parameters=None,\n",
       "                                          verbosity=None),\n",
       "                   n_iter=5, n_jobs=4,\n",
       "                   param_distributions={'colsample_bytree': [0.6, 0.8, 1.0],\n",
       "                                        'gamma': [0.5, 1, 1.5, 2, 5],\n",
       "                                        'max_depth': [3, 4, 5],\n",
       "                                        'min_child_weight': [1, 5, 10],\n",
       "                                        'subsample': [0.6, 0.8, 1.0]},\n",
       "                   random_state=1, scoring='neg_mean_squared_error', verbose=3)"
      ]
     },
     "execution_count": 151,
     "metadata": {},
     "output_type": "execute_result"
    }
   ],
   "source": [
    "%%time\n",
    "random_search.fit(x_train,y_train)"
   ]
  },
  {
   "cell_type": "code",
   "execution_count": 154,
   "metadata": {},
   "outputs": [
    {
     "data": {
      "text/plain": [
       "-18893154607392.45"
      ]
     },
     "execution_count": 154,
     "metadata": {},
     "output_type": "execute_result"
    }
   ],
   "source": [
    "random_search.best_score_"
   ]
  },
  {
   "cell_type": "code",
   "execution_count": null,
   "metadata": {},
   "outputs": [],
   "source": [
    "random_search."
   ]
  },
  {
   "cell_type": "code",
   "execution_count": 130,
   "metadata": {},
   "outputs": [],
   "source": [
    "param = {'max_depth': 2, 'eta': 1, 'objective': 'reg:squarederror'}\n",
    "num_round = 10\n",
    "model = xgb.train(dtrain=dtrain, params=param, num_boost_round=3)"
   ]
  },
  {
   "cell_type": "code",
   "execution_count": null,
   "metadata": {},
   "outputs": [],
   "source": [
    "model.predict()"
   ]
  },
  {
   "cell_type": "code",
   "execution_count": 158,
   "metadata": {},
   "outputs": [
    {
     "data": {
      "text/plain": [
       "2.2129378073088386"
      ]
     },
     "execution_count": 158,
     "metadata": {},
     "output_type": "execute_result"
    }
   ],
   "source": [
    "18893154607392.45 / 8537589508838.697"
   ]
  },
  {
   "cell_type": "code",
   "execution_count": 255,
   "metadata": {},
   "outputs": [
    {
     "name": "stdout",
     "output_type": "stream",
     "text": [
      "8537589508838.697 is 2.21 times better than 18893154607392.45\n",
      "8136121348918 is 2.32 times better than 18893154607392.45\n",
      "-7492278697769.455 is -2.52 times better than 18893154607392.45\n",
      "8136121348918 is 1.05 times better than 8537589508838.697\n",
      "-7492278697769.455 is -1.14 times better than 8537589508838.697\n",
      "-7492278697769.455 is -1.09 times better than 8136121348918\n"
     ]
    }
   ],
   "source": [
    "scores = [18893154607392.45, 8537589508838.697, 8136121348918, -7492278697769.455, -8897113477785.029]\n",
    "\n",
    "for score1 in scores:\n",
    "    for score2 in scores:\n",
    "        if score1 > score2:\n",
    "            print(f\"{score2} is {round(score1 / score2, 2)} times better than {score1}\")"
   ]
  },
  {
   "cell_type": "code",
   "execution_count": null,
   "metadata": {},
   "outputs": [],
   "source": [
    "!245000000\n",
    "-8897113477785.029\n",
    "-7492278697769.455\n",
    "-9838043071466\n",
    "-11111410047429.\n",
    "-7186763760837\n",
    "-7408912127406"
   ]
  },
  {
   "cell_type": "code",
   "execution_count": 328,
   "metadata": {},
   "outputs": [
    {
     "data": {
      "text/plain": [
       "78.11091488475017"
      ]
     },
     "execution_count": 328,
     "metadata": {},
     "output_type": "execute_result"
    }
   ],
   "source": [
    "np.sqrt(9838043071466)"
   ]
  },
  {
   "cell_type": "markdown",
   "metadata": {},
   "source": [
    "## Predictions"
   ]
  },
  {
   "cell_type": "markdown",
   "metadata": {},
   "source": [
    "## lasso"
   ]
  },
  {
   "cell_type": "code",
   "execution_count": 582,
   "metadata": {},
   "outputs": [],
   "source": [
    "model = joblib.load('model_lasso.j')"
   ]
  },
  {
   "cell_type": "code",
   "execution_count": 583,
   "metadata": {},
   "outputs": [],
   "source": [
    "ids = test_combined['id']"
   ]
  },
  {
   "cell_type": "code",
   "execution_count": 584,
   "metadata": {},
   "outputs": [],
   "source": [
    "test_combined = plug_date_features(test_combined)"
   ]
  },
  {
   "cell_type": "code",
   "execution_count": 585,
   "metadata": {},
   "outputs": [],
   "source": [
    "test_combined.drop(columns=dropped_columns.tolist() + ['timestamp', 'id'], inplace=True)\n",
    "#test_combined.drop(columns=['timestamp'], inplace=True)"
   ]
  },
  {
   "cell_type": "code",
   "execution_count": 586,
   "metadata": {},
   "outputs": [
    {
     "name": "stdout",
     "output_type": "stream",
     "text": [
      "Column full_sq has 11 outliers\n",
      "Column life_sq has 6 outliers\n",
      "Column floor has 13 outliers\n",
      "Column max_floor has 9 outliers\n",
      "Column material has 0 outliers\n",
      "Column num_room has 1 outliers\n",
      "Column kitch_sq has 6 outliers\n",
      "Column sub_area has 12 outliers\n",
      "Column population has 0 outliers\n",
      "Column indust_part has 10 outliers\n",
      "Column preschool_facilities has 0 outliers\n",
      "Column school_facilities has 0 outliers\n",
      "Column healthcare_facilities has 0 outliers\n",
      "Column university_num has 2 outliers\n",
      "Column sport_objects_facilities has 0 outliers\n",
      "Column additional_education_facilities has 0 outliers\n",
      "Column culture_objects_facilities has 0 outliers\n",
      "Column shopping_centers_facilities has 0 outliers\n",
      "Column office_num has 0 outliers\n",
      "Column green_part has 14 outliers\n",
      "Column prom_part has 14 outliers\n",
      "Column cafe_count has 1 outliers\n",
      "Column church_facilities has 0 outliers\n",
      "Column mosque has 2 outliers\n",
      "Column leisure_facilities has 12 outliers\n",
      "Column year has 0 outliers\n",
      "Column month has 0 outliers\n"
     ]
    }
   ],
   "source": [
    "test_combined = cap_outliers(test_combined, q_left, q_right)"
   ]
  },
  {
   "cell_type": "code",
   "execution_count": 587,
   "metadata": {},
   "outputs": [],
   "source": [
    "for col in filling_mapping:\n",
    "    test_combined[col].fillna(filling_mapping[col], inplace=True)"
   ]
  },
  {
   "cell_type": "code",
   "execution_count": 588,
   "metadata": {},
   "outputs": [],
   "source": [
    "test_combined = feature_engineering(test_combined)"
   ]
  },
  {
   "cell_type": "code",
   "execution_count": 589,
   "metadata": {},
   "outputs": [],
   "source": [
    "sclaer = joblib.load('scaler.j')\n",
    "test_combined = sclaer.transform(test_combined)"
   ]
  },
  {
   "cell_type": "code",
   "execution_count": 592,
   "metadata": {},
   "outputs": [],
   "source": [
    "y_hat = model.predict(test_combined)"
   ]
  },
  {
   "cell_type": "code",
   "execution_count": 594,
   "metadata": {},
   "outputs": [],
   "source": [
    "output_df = pd.DataFrame({'id': ids, 'predicted_price': y_hat})"
   ]
  },
  {
   "cell_type": "code",
   "execution_count": 595,
   "metadata": {},
   "outputs": [],
   "source": [
    "output_df.to_csv('prediction.csv', index=False)"
   ]
  },
  {
   "cell_type": "markdown",
   "metadata": {},
   "source": [
    "## xgboost"
   ]
  },
  {
   "cell_type": "code",
   "execution_count": 82,
   "metadata": {},
   "outputs": [],
   "source": [
    "test_combined = HW_test_main_data.merge(HW_test_additional_data, on='id')"
   ]
  },
  {
   "cell_type": "code",
   "execution_count": 83,
   "metadata": {},
   "outputs": [],
   "source": [
    "test_combined['life_sq'].fillna(life_sq_imputer, inplace=True)"
   ]
  },
  {
   "cell_type": "code",
   "execution_count": 84,
   "metadata": {},
   "outputs": [
    {
     "data": {
      "text/plain": [
       "0"
      ]
     },
     "execution_count": 84,
     "metadata": {},
     "output_type": "execute_result"
    }
   ],
   "source": [
    "test_combined['life_sq'].isna().sum()"
   ]
  },
  {
   "cell_type": "code",
   "execution_count": 85,
   "metadata": {},
   "outputs": [],
   "source": [
    "model = joblib.load('model.j')\n",
    "ids = test_combined['id']\n",
    "#test_combined = plug_date_features(test_combined)\n",
    "test_combined.drop(columns=#dropped_columns.tolist() + \n",
    "                   ['timestamp', 'id'], inplace=True)\n",
    "# test_combined.drop(columns=['mosque', 'university_num', 'prom_part', 'month', 'life_sq', 'sub_area',\n",
    "#        'floor', 'green_part', 'material', 'school_facilities',\n",
    "#        'additional_education_facilities', 'max_floor'], inplace=True)\n",
    "# test_combined.drop(columns=['mosque', 'prom_part', 'month', 'healthcare_facilities', 'sub_area',\n",
    "#        'university_num', 'green_part', 'preschool_facilities', 'floor',\n",
    "#        'shopping_centers_facilities', 'material', 'life_sq', 'year',\n",
    "#        'max_floor', 'additional_education_facilities'], inplace=True)\n",
    "#test_combined = cap_outliers(test_combined, q_left, q_right)\n",
    "# for col in filling_mapping:\n",
    "#     test_combined[col].fillna(filling_mapping[col], inplace=True)\n",
    "#test_combined = feature_engineering(test_combined)"
   ]
  },
  {
   "cell_type": "code",
   "execution_count": 86,
   "metadata": {},
   "outputs": [
    {
     "data": {
      "text/plain": [
       "Index(['full_sq', 'life_sq', 'floor', 'max_floor', 'material', 'build_year',\n",
       "       'num_room', 'kitch_sq', 'apartment condition', 'sub_area', 'population',\n",
       "       'indust_part', 'preschool_facilities', 'school_facilities',\n",
       "       'hospital_beds_raion', 'healthcare_facilities', 'university_num',\n",
       "       'sport_objects_facilities', 'additional_education_facilities',\n",
       "       'culture_objects_facilities', 'shopping_centers_facilities',\n",
       "       'office_num', 'green_part', 'prom_part', 'cafe_count',\n",
       "       'church_facilities', 'mosque', 'leisure_facilities'],\n",
       "      dtype='object')"
      ]
     },
     "execution_count": 86,
     "metadata": {},
     "output_type": "execute_result"
    }
   ],
   "source": [
    "test_combined.columns"
   ]
  },
  {
   "cell_type": "code",
   "execution_count": 87,
   "metadata": {},
   "outputs": [],
   "source": [
    "#q = test_combined.drop(columns=['id', 'timestamp'])\n",
    "y_hat_xgboost = model.predict(test_combined.values)"
   ]
  },
  {
   "cell_type": "code",
   "execution_count": 88,
   "metadata": {},
   "outputs": [],
   "source": [
    "#y_res = y_hat_xgboost * 0.6 + y_hat * 0.4"
   ]
  },
  {
   "cell_type": "code",
   "execution_count": 89,
   "metadata": {},
   "outputs": [],
   "source": [
    "output_df = pd.DataFrame({'id': ids, 'predicted_price': y_hat_xgboost})\n",
    "output_df.to_csv('prediction.csv', index=False)"
   ]
  },
  {
   "cell_type": "code",
   "execution_count": 219,
   "metadata": {},
   "outputs": [],
   "source": [
    "importance_threshold = 0.02\n",
    "sorted_inds_importance = np.argsort(model.feature_importances_)\n",
    "\n",
    "inds_exceed_threshold = model.feature_importances_[sorted_inds_importance] > importance_threshold"
   ]
  },
  {
   "cell_type": "code",
   "execution_count": 220,
   "metadata": {},
   "outputs": [
    {
     "data": {
      "text/plain": [
       "<BarContainer object of 15 artists>"
      ]
     },
     "execution_count": 220,
     "metadata": {},
     "output_type": "execute_result"
    },
    {
     "data": {
      "image/png": "[encoded data removed]",
      "text/plain": [
       "<Figure size 432x288 with 1 Axes>"
      ]
     },
     "metadata": {
      "needs_background": "light"
     },
     "output_type": "display_data"
    }
   ],
   "source": [
    "plt.barh(test_combined.columns[sorted_inds_importance][inds_exceed_threshold], \n",
    "         model.feature_importances_[sorted_inds_importance][inds_exceed_threshold])"
   ]
  },
  {
   "cell_type": "code",
   "execution_count": 221,
   "metadata": {},
   "outputs": [],
   "source": [
    "columns_to_keep = test_combined.columns[sorted_inds_importance][inds_exceed_threshold]\n",
    "columns_to_drop = test_combined.columns[sorted_inds_importance][~inds_exceed_threshold]"
   ]
  },
  {
   "cell_type": "code",
   "execution_count": 222,
   "metadata": {},
   "outputs": [
    {
     "data": {
      "text/plain": [
       "Index(['church_facilities', 'build_year', 'hospital_beds_raion', 'population',\n",
       "       'indust_part', 'cafe_count', 'school_facilities', 'kitch_sq',\n",
       "       'leisure_facilities', 'apartment condition',\n",
       "       'culture_objects_facilities', 'sport_objects_facilities', 'full_sq',\n",
       "       'office_num', 'num_room'],\n",
       "      dtype='object')"
      ]
     },
     "execution_count": 222,
     "metadata": {},
     "output_type": "execute_result"
    }
   ],
   "source": [
    "columns_to_keep"
   ]
  },
  {
   "cell_type": "code",
   "execution_count": 223,
   "metadata": {},
   "outputs": [
    {
     "data": {
      "text/plain": [
       "Index(['mosque', 'prom_part', 'month', 'healthcare_facilities', 'sub_area',\n",
       "       'university_num', 'green_part', 'preschool_facilities', 'floor',\n",
       "       'shopping_centers_facilities', 'material', 'life_sq', 'year',\n",
       "       'max_floor', 'additional_education_facilities'],\n",
       "      dtype='object')"
      ]
     },
     "execution_count": 223,
     "metadata": {},
     "output_type": "execute_result"
    }
   ],
   "source": [
    "columns_to_drop"
   ]
  },
  {
   "cell_type": "code",
   "execution_count": 12,
   "metadata": {},
   "outputs": [
    {
     "data": {
      "text/plain": [
       "array([0.01659551, 0.0046111 , 0.00558089, 0.00730882, 0.00521774,\n",
       "       0.00497488, 0.00526322, 0.00502476, 0.02999508, 0.01032007,\n",
       "       0.00401281, 0.00555801, 0.00680107, 0.00680116, 0.02582941,\n",
       "       0.00423257, 0.00993297, 0.00563041, 0.00683522, 0.0044548 ,\n",
       "       0.00409892, 0.01034034, 0.01186757, 0.        , 0.0209787 ,\n",
       "       0.00528717, 0.00366769, 0.06774584, 0.06105562, 0.00614649,\n",
       "       0.01360405, 0.00452643, 0.00569413, 0.00353693, 0.00334248,\n",
       "       0.00863597, 0.00423703, 0.0051991 , 0.00879649, 0.00558786,\n",
       "       0.00527193, 0.00318863, 0.01093963, 0.00553003, 0.00381824,\n",
       "       0.00338457, 0.00295455, 0.00308815, 0.00719241, 0.00578008,\n",
       "       0.00470806, 0.0070089 , 0.00529892, 0.0039715 , 0.00701345,\n",
       "       0.01215964, 0.007922  , 0.01191187, 0.00380198, 0.00924499,\n",
       "       0.00929301, 0.00559967, 0.00703761, 0.00356815, 0.00969627,\n",
       "       0.01178415, 0.00754605, 0.00332294, 0.0032984 , 0.06907489,\n",
       "       0.00651802, 0.00460922, 0.00493717, 0.00454482, 0.00392325,\n",
       "       0.00742226, 0.02108306, 0.0078448 , 0.00874894, 0.00403747,\n",
       "       0.00303055, 0.02811814, 0.05379733, 0.00326421, 0.00495823,\n",
       "       0.00396177, 0.0045351 , 0.00445592, 0.00492871, 0.00320922,\n",
       "       0.00771324, 0.00464069, 0.01894689, 0.01235414, 0.00319715,\n",
       "       0.02928657, 0.        , 0.        , 0.        , 0.0082686 ,\n",
       "       0.00416069, 0.        , 0.00990122, 0.01636293, 0.00411767,\n",
       "       0.00384944, 0.00309769, 0.00243491], dtype=float32)"
      ]
     },
     "execution_count": 12,
     "metadata": {},
     "output_type": "execute_result"
    }
   ],
   "source": [
    "model.feature_importances_"
   ]
  },
  {
   "cell_type": "code",
   "execution_count": 18,
   "metadata": {},
   "outputs": [
    {
     "data": {
      "text/html": [
       "<div>\n",
       "<style scoped>\n",
       "    .dataframe tbody tr th:only-of-type {\n",
       "        vertical-align: middle;\n",
       "    }\n",
       "\n",
       "    .dataframe tbody tr th {\n",
       "        vertical-align: top;\n",
       "    }\n",
       "\n",
       "    .dataframe thead th {\n",
       "        text-align: right;\n",
       "    }\n",
       "</style>\n",
       "<table border=\"1\" class=\"dataframe\">\n",
       "  <thead>\n",
       "    <tr style=\"text-align: right;\">\n",
       "      <th></th>\n",
       "      <th>full_sq</th>\n",
       "      <th>life_sq</th>\n",
       "      <th>floor</th>\n",
       "      <th>max_floor</th>\n",
       "      <th>material</th>\n",
       "      <th>num_room</th>\n",
       "      <th>kitch_sq</th>\n",
       "      <th>sub_area</th>\n",
       "      <th>price</th>\n",
       "      <th>population</th>\n",
       "      <th>...</th>\n",
       "      <th>shopping_centers_facilities</th>\n",
       "      <th>office_num</th>\n",
       "      <th>green_part</th>\n",
       "      <th>prom_part</th>\n",
       "      <th>cafe_count</th>\n",
       "      <th>church_facilities</th>\n",
       "      <th>mosque</th>\n",
       "      <th>leisure_facilities</th>\n",
       "      <th>year</th>\n",
       "      <th>month</th>\n",
       "    </tr>\n",
       "  </thead>\n",
       "  <tbody>\n",
       "    <tr>\n",
       "      <th>0</th>\n",
       "      <td>60</td>\n",
       "      <td>36.0</td>\n",
       "      <td>6.0</td>\n",
       "      <td>9.0</td>\n",
       "      <td>1.0</td>\n",
       "      <td>3.0</td>\n",
       "      <td>5.0</td>\n",
       "      <td>9</td>\n",
       "      <td>9711800.0</td>\n",
       "      <td>155572</td>\n",
       "      <td>...</td>\n",
       "      <td>16</td>\n",
       "      <td>1</td>\n",
       "      <td>2.86</td>\n",
       "      <td>0.00</td>\n",
       "      <td>0</td>\n",
       "      <td>0</td>\n",
       "      <td>0</td>\n",
       "      <td>0</td>\n",
       "      <td>2014</td>\n",
       "      <td>12</td>\n",
       "    </tr>\n",
       "    <tr>\n",
       "      <th>1</th>\n",
       "      <td>44</td>\n",
       "      <td>29.0</td>\n",
       "      <td>9.0</td>\n",
       "      <td>30.0</td>\n",
       "      <td>30.0</td>\n",
       "      <td>30.0</td>\n",
       "      <td>30.0</td>\n",
       "      <td>19</td>\n",
       "      <td>6643200.0</td>\n",
       "      <td>111874</td>\n",
       "      <td>...</td>\n",
       "      <td>11</td>\n",
       "      <td>5</td>\n",
       "      <td>9.26</td>\n",
       "      <td>2.71</td>\n",
       "      <td>1</td>\n",
       "      <td>0</td>\n",
       "      <td>0</td>\n",
       "      <td>0</td>\n",
       "      <td>2013</td>\n",
       "      <td>6</td>\n",
       "    </tr>\n",
       "    <tr>\n",
       "      <th>2</th>\n",
       "      <td>62</td>\n",
       "      <td>60.0</td>\n",
       "      <td>4.0</td>\n",
       "      <td>30.0</td>\n",
       "      <td>30.0</td>\n",
       "      <td>30.0</td>\n",
       "      <td>30.0</td>\n",
       "      <td>80</td>\n",
       "      <td>5698300.0</td>\n",
       "      <td>129207</td>\n",
       "      <td>...</td>\n",
       "      <td>4</td>\n",
       "      <td>2</td>\n",
       "      <td>13.80</td>\n",
       "      <td>0.00</td>\n",
       "      <td>4</td>\n",
       "      <td>0</td>\n",
       "      <td>0</td>\n",
       "      <td>0</td>\n",
       "      <td>2013</td>\n",
       "      <td>9</td>\n",
       "    </tr>\n",
       "    <tr>\n",
       "      <th>3</th>\n",
       "      <td>33</td>\n",
       "      <td>18.0</td>\n",
       "      <td>4.0</td>\n",
       "      <td>9.0</td>\n",
       "      <td>1.0</td>\n",
       "      <td>1.0</td>\n",
       "      <td>6.0</td>\n",
       "      <td>15</td>\n",
       "      <td>5055000.0</td>\n",
       "      <td>125354</td>\n",
       "      <td>...</td>\n",
       "      <td>2</td>\n",
       "      <td>0</td>\n",
       "      <td>7.46</td>\n",
       "      <td>0.00</td>\n",
       "      <td>1</td>\n",
       "      <td>0</td>\n",
       "      <td>0</td>\n",
       "      <td>0</td>\n",
       "      <td>2013</td>\n",
       "      <td>12</td>\n",
       "    </tr>\n",
       "    <tr>\n",
       "      <th>4</th>\n",
       "      <td>37</td>\n",
       "      <td>14.0</td>\n",
       "      <td>1.0</td>\n",
       "      <td>17.0</td>\n",
       "      <td>1.0</td>\n",
       "      <td>1.0</td>\n",
       "      <td>1.0</td>\n",
       "      <td>74</td>\n",
       "      <td>5425000.0</td>\n",
       "      <td>111023</td>\n",
       "      <td>...</td>\n",
       "      <td>1</td>\n",
       "      <td>0</td>\n",
       "      <td>0.00</td>\n",
       "      <td>0.00</td>\n",
       "      <td>3</td>\n",
       "      <td>0</td>\n",
       "      <td>0</td>\n",
       "      <td>0</td>\n",
       "      <td>2014</td>\n",
       "      <td>2</td>\n",
       "    </tr>\n",
       "    <tr>\n",
       "      <th>...</th>\n",
       "      <td>...</td>\n",
       "      <td>...</td>\n",
       "      <td>...</td>\n",
       "      <td>...</td>\n",
       "      <td>...</td>\n",
       "      <td>...</td>\n",
       "      <td>...</td>\n",
       "      <td>...</td>\n",
       "      <td>...</td>\n",
       "      <td>...</td>\n",
       "      <td>...</td>\n",
       "      <td>...</td>\n",
       "      <td>...</td>\n",
       "      <td>...</td>\n",
       "      <td>...</td>\n",
       "      <td>...</td>\n",
       "      <td>...</td>\n",
       "      <td>...</td>\n",
       "      <td>...</td>\n",
       "      <td>...</td>\n",
       "      <td>...</td>\n",
       "    </tr>\n",
       "    <tr>\n",
       "      <th>27561</th>\n",
       "      <td>28</td>\n",
       "      <td>17.0</td>\n",
       "      <td>1.0</td>\n",
       "      <td>30.0</td>\n",
       "      <td>30.0</td>\n",
       "      <td>30.0</td>\n",
       "      <td>30.0</td>\n",
       "      <td>110</td>\n",
       "      <td>4513500.0</td>\n",
       "      <td>101982</td>\n",
       "      <td>...</td>\n",
       "      <td>0</td>\n",
       "      <td>1</td>\n",
       "      <td>4.88</td>\n",
       "      <td>5.55</td>\n",
       "      <td>1</td>\n",
       "      <td>0</td>\n",
       "      <td>0</td>\n",
       "      <td>0</td>\n",
       "      <td>2013</td>\n",
       "      <td>8</td>\n",
       "    </tr>\n",
       "    <tr>\n",
       "      <th>27562</th>\n",
       "      <td>38</td>\n",
       "      <td>30.0</td>\n",
       "      <td>9.0</td>\n",
       "      <td>17.0</td>\n",
       "      <td>1.0</td>\n",
       "      <td>1.0</td>\n",
       "      <td>1.0</td>\n",
       "      <td>134</td>\n",
       "      <td>4779900.0</td>\n",
       "      <td>75377</td>\n",
       "      <td>...</td>\n",
       "      <td>23</td>\n",
       "      <td>141</td>\n",
       "      <td>12.24</td>\n",
       "      <td>0.00</td>\n",
       "      <td>71</td>\n",
       "      <td>15</td>\n",
       "      <td>0</td>\n",
       "      <td>0</td>\n",
       "      <td>2014</td>\n",
       "      <td>4</td>\n",
       "    </tr>\n",
       "    <tr>\n",
       "      <th>27563</th>\n",
       "      <td>55</td>\n",
       "      <td>30.0</td>\n",
       "      <td>9.0</td>\n",
       "      <td>16.0</td>\n",
       "      <td>1.0</td>\n",
       "      <td>2.0</td>\n",
       "      <td>8.0</td>\n",
       "      <td>38</td>\n",
       "      <td>7260000.0</td>\n",
       "      <td>178264</td>\n",
       "      <td>...</td>\n",
       "      <td>4</td>\n",
       "      <td>4</td>\n",
       "      <td>12.32</td>\n",
       "      <td>0.00</td>\n",
       "      <td>0</td>\n",
       "      <td>0</td>\n",
       "      <td>0</td>\n",
       "      <td>0</td>\n",
       "      <td>2013</td>\n",
       "      <td>9</td>\n",
       "    </tr>\n",
       "    <tr>\n",
       "      <th>27564</th>\n",
       "      <td>37</td>\n",
       "      <td>19.0</td>\n",
       "      <td>3.0</td>\n",
       "      <td>16.0</td>\n",
       "      <td>5.0</td>\n",
       "      <td>1.0</td>\n",
       "      <td>9.0</td>\n",
       "      <td>43</td>\n",
       "      <td>6018000.0</td>\n",
       "      <td>153248</td>\n",
       "      <td>...</td>\n",
       "      <td>11</td>\n",
       "      <td>6</td>\n",
       "      <td>39.80</td>\n",
       "      <td>7.01</td>\n",
       "      <td>3</td>\n",
       "      <td>0</td>\n",
       "      <td>0</td>\n",
       "      <td>0</td>\n",
       "      <td>2013</td>\n",
       "      <td>11</td>\n",
       "    </tr>\n",
       "    <tr>\n",
       "      <th>27565</th>\n",
       "      <td>45</td>\n",
       "      <td>20.0</td>\n",
       "      <td>12.0</td>\n",
       "      <td>17.0</td>\n",
       "      <td>6.0</td>\n",
       "      <td>1.0</td>\n",
       "      <td>10.0</td>\n",
       "      <td>101</td>\n",
       "      <td>2389000.0</td>\n",
       "      <td>32241</td>\n",
       "      <td>...</td>\n",
       "      <td>1</td>\n",
       "      <td>0</td>\n",
       "      <td>1.40</td>\n",
       "      <td>16.74</td>\n",
       "      <td>0</td>\n",
       "      <td>0</td>\n",
       "      <td>0</td>\n",
       "      <td>0</td>\n",
       "      <td>2014</td>\n",
       "      <td>5</td>\n",
       "    </tr>\n",
       "  </tbody>\n",
       "</table>\n",
       "<p>27566 rows × 28 columns</p>\n",
       "</div>"
      ],
      "text/plain": [
       "       full_sq  life_sq  floor  max_floor  material  num_room  kitch_sq  \\\n",
       "0           60     36.0    6.0        9.0       1.0       3.0       5.0   \n",
       "1           44     29.0    9.0       30.0      30.0      30.0      30.0   \n",
       "2           62     60.0    4.0       30.0      30.0      30.0      30.0   \n",
       "3           33     18.0    4.0        9.0       1.0       1.0       6.0   \n",
       "4           37     14.0    1.0       17.0       1.0       1.0       1.0   \n",
       "...        ...      ...    ...        ...       ...       ...       ...   \n",
       "27561       28     17.0    1.0       30.0      30.0      30.0      30.0   \n",
       "27562       38     30.0    9.0       17.0       1.0       1.0       1.0   \n",
       "27563       55     30.0    9.0       16.0       1.0       2.0       8.0   \n",
       "27564       37     19.0    3.0       16.0       5.0       1.0       9.0   \n",
       "27565       45     20.0   12.0       17.0       6.0       1.0      10.0   \n",
       "\n",
       "       sub_area      price  population  ...  shopping_centers_facilities  \\\n",
       "0             9  9711800.0      155572  ...                           16   \n",
       "1            19  6643200.0      111874  ...                           11   \n",
       "2            80  5698300.0      129207  ...                            4   \n",
       "3            15  5055000.0      125354  ...                            2   \n",
       "4            74  5425000.0      111023  ...                            1   \n",
       "...         ...        ...         ...  ...                          ...   \n",
       "27561       110  4513500.0      101982  ...                            0   \n",
       "27562       134  4779900.0       75377  ...                           23   \n",
       "27563        38  7260000.0      178264  ...                            4   \n",
       "27564        43  6018000.0      153248  ...                           11   \n",
       "27565       101  2389000.0       32241  ...                            1   \n",
       "\n",
       "       office_num  green_part  prom_part  cafe_count  church_facilities  \\\n",
       "0               1        2.86       0.00           0                  0   \n",
       "1               5        9.26       2.71           1                  0   \n",
       "2               2       13.80       0.00           4                  0   \n",
       "3               0        7.46       0.00           1                  0   \n",
       "4               0        0.00       0.00           3                  0   \n",
       "...           ...         ...        ...         ...                ...   \n",
       "27561           1        4.88       5.55           1                  0   \n",
       "27562         141       12.24       0.00          71                 15   \n",
       "27563           4       12.32       0.00           0                  0   \n",
       "27564           6       39.80       7.01           3                  0   \n",
       "27565           0        1.40      16.74           0                  0   \n",
       "\n",
       "       mosque  leisure_facilities  year  month  \n",
       "0           0                   0  2014     12  \n",
       "1           0                   0  2013      6  \n",
       "2           0                   0  2013      9  \n",
       "3           0                   0  2013     12  \n",
       "4           0                   0  2014      2  \n",
       "...       ...                 ...   ...    ...  \n",
       "27561       0                   0  2013      8  \n",
       "27562       0                   0  2014      4  \n",
       "27563       0                   0  2013      9  \n",
       "27564       0                   0  2013     11  \n",
       "27565       0                   0  2014      5  \n",
       "\n",
       "[27566 rows x 28 columns]"
      ]
     },
     "execution_count": 18,
     "metadata": {},
     "output_type": "execute_result"
    }
   ],
   "source": [
    "train_combined"
   ]
  },
  {
   "cell_type": "code",
   "execution_count": 19,
   "metadata": {},
   "outputs": [
    {
     "data": {
      "text/html": [
       "<div>\n",
       "<style scoped>\n",
       "    .dataframe tbody tr th:only-of-type {\n",
       "        vertical-align: middle;\n",
       "    }\n",
       "\n",
       "    .dataframe tbody tr th {\n",
       "        vertical-align: top;\n",
       "    }\n",
       "\n",
       "    .dataframe thead th {\n",
       "        text-align: right;\n",
       "    }\n",
       "</style>\n",
       "<table border=\"1\" class=\"dataframe\">\n",
       "  <thead>\n",
       "    <tr style=\"text-align: right;\">\n",
       "      <th></th>\n",
       "      <th>id</th>\n",
       "      <th>timestamp</th>\n",
       "      <th>full_sq</th>\n",
       "      <th>life_sq</th>\n",
       "      <th>floor</th>\n",
       "      <th>max_floor</th>\n",
       "      <th>material</th>\n",
       "      <th>build_year</th>\n",
       "      <th>num_room</th>\n",
       "      <th>kitch_sq</th>\n",
       "      <th>...</th>\n",
       "      <th>additional_education_facilities</th>\n",
       "      <th>culture_objects_facilities</th>\n",
       "      <th>shopping_centers_facilities</th>\n",
       "      <th>office_num</th>\n",
       "      <th>green_part</th>\n",
       "      <th>prom_part</th>\n",
       "      <th>cafe_count</th>\n",
       "      <th>church_facilities</th>\n",
       "      <th>mosque</th>\n",
       "      <th>leisure_facilities</th>\n",
       "    </tr>\n",
       "  </thead>\n",
       "  <tbody>\n",
       "    <tr>\n",
       "      <th>0</th>\n",
       "      <td>30307</td>\n",
       "      <td>2014-04-20</td>\n",
       "      <td>74</td>\n",
       "      <td>43.0</td>\n",
       "      <td>13.0</td>\n",
       "      <td>14.0</td>\n",
       "      <td>1.0</td>\n",
       "      <td>1996.0</td>\n",
       "      <td>3.0</td>\n",
       "      <td>10.0</td>\n",
       "      <td>...</td>\n",
       "      <td>16</td>\n",
       "      <td>0</td>\n",
       "      <td>15</td>\n",
       "      <td>2</td>\n",
       "      <td>12.16</td>\n",
       "      <td>0.00</td>\n",
       "      <td>5</td>\n",
       "      <td>0</td>\n",
       "      <td>0</td>\n",
       "      <td>0</td>\n",
       "    </tr>\n",
       "    <tr>\n",
       "      <th>1</th>\n",
       "      <td>87380</td>\n",
       "      <td>2015-01-17</td>\n",
       "      <td>29</td>\n",
       "      <td>NaN</td>\n",
       "      <td>6.0</td>\n",
       "      <td>17.0</td>\n",
       "      <td>1.0</td>\n",
       "      <td>NaN</td>\n",
       "      <td>1.0</td>\n",
       "      <td>1.0</td>\n",
       "      <td>...</td>\n",
       "      <td>0</td>\n",
       "      <td>0</td>\n",
       "      <td>0</td>\n",
       "      <td>0</td>\n",
       "      <td>15.45</td>\n",
       "      <td>2.78</td>\n",
       "      <td>0</td>\n",
       "      <td>0</td>\n",
       "      <td>0</td>\n",
       "      <td>0</td>\n",
       "    </tr>\n",
       "    <tr>\n",
       "      <th>2</th>\n",
       "      <td>12874</td>\n",
       "      <td>2014-07-08</td>\n",
       "      <td>80</td>\n",
       "      <td>NaN</td>\n",
       "      <td>8.0</td>\n",
       "      <td>17.0</td>\n",
       "      <td>1.0</td>\n",
       "      <td>NaN</td>\n",
       "      <td>3.0</td>\n",
       "      <td>1.0</td>\n",
       "      <td>...</td>\n",
       "      <td>0</td>\n",
       "      <td>0</td>\n",
       "      <td>1</td>\n",
       "      <td>0</td>\n",
       "      <td>15.29</td>\n",
       "      <td>2.83</td>\n",
       "      <td>1</td>\n",
       "      <td>0</td>\n",
       "      <td>0</td>\n",
       "      <td>0</td>\n",
       "    </tr>\n",
       "    <tr>\n",
       "      <th>3</th>\n",
       "      <td>57688</td>\n",
       "      <td>2013-01-15</td>\n",
       "      <td>53</td>\n",
       "      <td>NaN</td>\n",
       "      <td>4.0</td>\n",
       "      <td>NaN</td>\n",
       "      <td>NaN</td>\n",
       "      <td>NaN</td>\n",
       "      <td>NaN</td>\n",
       "      <td>NaN</td>\n",
       "      <td>...</td>\n",
       "      <td>2</td>\n",
       "      <td>0</td>\n",
       "      <td>4</td>\n",
       "      <td>2</td>\n",
       "      <td>13.80</td>\n",
       "      <td>0.00</td>\n",
       "      <td>4</td>\n",
       "      <td>0</td>\n",
       "      <td>0</td>\n",
       "      <td>0</td>\n",
       "    </tr>\n",
       "    <tr>\n",
       "      <th>4</th>\n",
       "      <td>43433</td>\n",
       "      <td>2012-06-15</td>\n",
       "      <td>36</td>\n",
       "      <td>19.0</td>\n",
       "      <td>16.0</td>\n",
       "      <td>NaN</td>\n",
       "      <td>NaN</td>\n",
       "      <td>NaN</td>\n",
       "      <td>NaN</td>\n",
       "      <td>NaN</td>\n",
       "      <td>...</td>\n",
       "      <td>0</td>\n",
       "      <td>0</td>\n",
       "      <td>0</td>\n",
       "      <td>3</td>\n",
       "      <td>0.01</td>\n",
       "      <td>0.00</td>\n",
       "      <td>4</td>\n",
       "      <td>1</td>\n",
       "      <td>0</td>\n",
       "      <td>0</td>\n",
       "    </tr>\n",
       "    <tr>\n",
       "      <th>...</th>\n",
       "      <td>...</td>\n",
       "      <td>...</td>\n",
       "      <td>...</td>\n",
       "      <td>...</td>\n",
       "      <td>...</td>\n",
       "      <td>...</td>\n",
       "      <td>...</td>\n",
       "      <td>...</td>\n",
       "      <td>...</td>\n",
       "      <td>...</td>\n",
       "      <td>...</td>\n",
       "      <td>...</td>\n",
       "      <td>...</td>\n",
       "      <td>...</td>\n",
       "      <td>...</td>\n",
       "      <td>...</td>\n",
       "      <td>...</td>\n",
       "      <td>...</td>\n",
       "      <td>...</td>\n",
       "      <td>...</td>\n",
       "      <td>...</td>\n",
       "    </tr>\n",
       "    <tr>\n",
       "      <th>995</th>\n",
       "      <td>28684</td>\n",
       "      <td>2015-04-05</td>\n",
       "      <td>54</td>\n",
       "      <td>NaN</td>\n",
       "      <td>2.0</td>\n",
       "      <td>17.0</td>\n",
       "      <td>1.0</td>\n",
       "      <td>NaN</td>\n",
       "      <td>2.0</td>\n",
       "      <td>1.0</td>\n",
       "      <td>...</td>\n",
       "      <td>0</td>\n",
       "      <td>0</td>\n",
       "      <td>0</td>\n",
       "      <td>0</td>\n",
       "      <td>0.00</td>\n",
       "      <td>0.00</td>\n",
       "      <td>0</td>\n",
       "      <td>0</td>\n",
       "      <td>0</td>\n",
       "      <td>0</td>\n",
       "    </tr>\n",
       "    <tr>\n",
       "      <th>996</th>\n",
       "      <td>65212</td>\n",
       "      <td>2014-05-22</td>\n",
       "      <td>78</td>\n",
       "      <td>45.0</td>\n",
       "      <td>5.0</td>\n",
       "      <td>10.0</td>\n",
       "      <td>1.0</td>\n",
       "      <td>1995.0</td>\n",
       "      <td>3.0</td>\n",
       "      <td>10.0</td>\n",
       "      <td>...</td>\n",
       "      <td>16</td>\n",
       "      <td>0</td>\n",
       "      <td>15</td>\n",
       "      <td>2</td>\n",
       "      <td>13.84</td>\n",
       "      <td>0.00</td>\n",
       "      <td>6</td>\n",
       "      <td>0</td>\n",
       "      <td>0</td>\n",
       "      <td>0</td>\n",
       "    </tr>\n",
       "    <tr>\n",
       "      <th>997</th>\n",
       "      <td>11218</td>\n",
       "      <td>2014-12-18</td>\n",
       "      <td>2</td>\n",
       "      <td>1.0</td>\n",
       "      <td>26.0</td>\n",
       "      <td>1.0</td>\n",
       "      <td>1.0</td>\n",
       "      <td>1.0</td>\n",
       "      <td>1.0</td>\n",
       "      <td>1.0</td>\n",
       "      <td>...</td>\n",
       "      <td>0</td>\n",
       "      <td>0</td>\n",
       "      <td>7</td>\n",
       "      <td>2</td>\n",
       "      <td>2.07</td>\n",
       "      <td>20.49</td>\n",
       "      <td>3</td>\n",
       "      <td>0</td>\n",
       "      <td>0</td>\n",
       "      <td>0</td>\n",
       "    </tr>\n",
       "    <tr>\n",
       "      <th>998</th>\n",
       "      <td>57238</td>\n",
       "      <td>2013-06-09</td>\n",
       "      <td>55</td>\n",
       "      <td>33.0</td>\n",
       "      <td>6.0</td>\n",
       "      <td>NaN</td>\n",
       "      <td>NaN</td>\n",
       "      <td>NaN</td>\n",
       "      <td>NaN</td>\n",
       "      <td>NaN</td>\n",
       "      <td>...</td>\n",
       "      <td>3</td>\n",
       "      <td>0</td>\n",
       "      <td>16</td>\n",
       "      <td>1</td>\n",
       "      <td>17.62</td>\n",
       "      <td>0.00</td>\n",
       "      <td>4</td>\n",
       "      <td>0</td>\n",
       "      <td>0</td>\n",
       "      <td>0</td>\n",
       "    </tr>\n",
       "    <tr>\n",
       "      <th>999</th>\n",
       "      <td>26048</td>\n",
       "      <td>2014-06-12</td>\n",
       "      <td>41</td>\n",
       "      <td>NaN</td>\n",
       "      <td>8.0</td>\n",
       "      <td>17.0</td>\n",
       "      <td>1.0</td>\n",
       "      <td>NaN</td>\n",
       "      <td>1.0</td>\n",
       "      <td>1.0</td>\n",
       "      <td>...</td>\n",
       "      <td>4</td>\n",
       "      <td>0</td>\n",
       "      <td>0</td>\n",
       "      <td>0</td>\n",
       "      <td>42.63</td>\n",
       "      <td>5.76</td>\n",
       "      <td>0</td>\n",
       "      <td>0</td>\n",
       "      <td>0</td>\n",
       "      <td>0</td>\n",
       "    </tr>\n",
       "  </tbody>\n",
       "</table>\n",
       "<p>1000 rows × 30 columns</p>\n",
       "</div>"
      ],
      "text/plain": [
       "        id   timestamp  full_sq  life_sq  floor  max_floor  material  \\\n",
       "0    30307  2014-04-20       74     43.0   13.0       14.0       1.0   \n",
       "1    87380  2015-01-17       29      NaN    6.0       17.0       1.0   \n",
       "2    12874  2014-07-08       80      NaN    8.0       17.0       1.0   \n",
       "3    57688  2013-01-15       53      NaN    4.0        NaN       NaN   \n",
       "4    43433  2012-06-15       36     19.0   16.0        NaN       NaN   \n",
       "..     ...         ...      ...      ...    ...        ...       ...   \n",
       "995  28684  2015-04-05       54      NaN    2.0       17.0       1.0   \n",
       "996  65212  2014-05-22       78     45.0    5.0       10.0       1.0   \n",
       "997  11218  2014-12-18        2      1.0   26.0        1.0       1.0   \n",
       "998  57238  2013-06-09       55     33.0    6.0        NaN       NaN   \n",
       "999  26048  2014-06-12       41      NaN    8.0       17.0       1.0   \n",
       "\n",
       "     build_year  num_room  kitch_sq  ...  additional_education_facilities  \\\n",
       "0        1996.0       3.0      10.0  ...                               16   \n",
       "1           NaN       1.0       1.0  ...                                0   \n",
       "2           NaN       3.0       1.0  ...                                0   \n",
       "3           NaN       NaN       NaN  ...                                2   \n",
       "4           NaN       NaN       NaN  ...                                0   \n",
       "..          ...       ...       ...  ...                              ...   \n",
       "995         NaN       2.0       1.0  ...                                0   \n",
       "996      1995.0       3.0      10.0  ...                               16   \n",
       "997         1.0       1.0       1.0  ...                                0   \n",
       "998         NaN       NaN       NaN  ...                                3   \n",
       "999         NaN       1.0       1.0  ...                                4   \n",
       "\n",
       "     culture_objects_facilities  shopping_centers_facilities  office_num  \\\n",
       "0                             0                           15           2   \n",
       "1                             0                            0           0   \n",
       "2                             0                            1           0   \n",
       "3                             0                            4           2   \n",
       "4                             0                            0           3   \n",
       "..                          ...                          ...         ...   \n",
       "995                           0                            0           0   \n",
       "996                           0                           15           2   \n",
       "997                           0                            7           2   \n",
       "998                           0                           16           1   \n",
       "999                           0                            0           0   \n",
       "\n",
       "     green_part  prom_part  cafe_count  church_facilities  mosque  \\\n",
       "0         12.16       0.00           5                  0       0   \n",
       "1         15.45       2.78           0                  0       0   \n",
       "2         15.29       2.83           1                  0       0   \n",
       "3         13.80       0.00           4                  0       0   \n",
       "4          0.01       0.00           4                  1       0   \n",
       "..          ...        ...         ...                ...     ...   \n",
       "995        0.00       0.00           0                  0       0   \n",
       "996       13.84       0.00           6                  0       0   \n",
       "997        2.07      20.49           3                  0       0   \n",
       "998       17.62       0.00           4                  0       0   \n",
       "999       42.63       5.76           0                  0       0   \n",
       "\n",
       "     leisure_facilities  \n",
       "0                     0  \n",
       "1                     0  \n",
       "2                     0  \n",
       "3                     0  \n",
       "4                     0  \n",
       "..                  ...  \n",
       "995                   0  \n",
       "996                   0  \n",
       "997                   0  \n",
       "998                   0  \n",
       "999                   0  \n",
       "\n",
       "[1000 rows x 30 columns]"
      ]
     },
     "execution_count": 19,
     "metadata": {},
     "output_type": "execute_result"
    }
   ],
   "source": [
    "test_combined"
   ]
  },
  {
   "cell_type": "code",
   "execution_count": null,
   "metadata": {},
   "outputs": [],
   "source": []
  }
 ],
 "metadata": {
  "kernelspec": {
   "display_name": "Python 3",
   "language": "python",
   "name": "python3"
  },
  "language_info": {
   "codemirror_mode": {
    "name": "ipython",
    "version": 3
   },
   "file_extension": ".py",
   "mimetype": "text/x-python",
   "name": "python",
   "nbconvert_exporter": "python",
   "pygments_lexer": "ipython3",
   "version": "3.7.6"
  }
 },
 "nbformat": 4,
 "nbformat_minor": 4
}
