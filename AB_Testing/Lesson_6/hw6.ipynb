{
 "cells": [
  {
   "cell_type": "code",
   "execution_count": 1,
   "metadata": {
    "ExecuteTime": {
     "end_time": "2021-06-18T00:57:33.494285Z",
     "start_time": "2021-06-18T00:57:33.267083Z"
    }
   },
   "outputs": [],
   "source": [
    "import numpy as np\n",
    "import pandas as pd\n",
    "\n",
    "\n",
    "def calculate_linearized_metric(\n",
    "    df, value_name, user_id_name, list_user_id, date_name, period, metric_name, kappa=None\n",
    "):\n",
    "    \"\"\"Вычисляет значение линеаризованной метрики для списка пользователей в определённый период.\n",
    "    \n",
    "    df - pd.DataFrame, датафрейм с данными\n",
    "    value_name - str, название столбца со значениями для вычисления целевой метрики\n",
    "    user_id_name - str, название столбца с идентификаторами пользователей\n",
    "    list_user_id - List[int], список идентификаторов пользователей, для которых нужно посчитать метрики\n",
    "    date_name - str, название столбца с датами\n",
    "    period - dict, словарь с датами начала и конца периода, за который нужно посчитать метрики.\n",
    "        Пример, {'begin': '2020-01-01', 'end': '2020-01-08'}. Дата начала периода входит в\n",
    "        полуинтервал, а дата окончания нет, то есть '2020-01-01' <= date < '2020-01-08'.\n",
    "    metric_name - str, название полученной метрики\n",
    "    kappa - float, коэффициент в функции линеаризации.\n",
    "        Если None, то посчитать как ratio метрику по имеющимся данным.\n",
    "\n",
    "    return - pd.DataFrame, со столбцами [user_id_name, metric_name], кол-во строк должно быть равно\n",
    "        кол-ву элементов в списке list_user_id.\n",
    "    \"\"\"\n",
    "    # YOUR_CODE_HERE\n",
    "    date_filter = (period['begin'] <= df[date_name]) & (df[date_name] < period['end'])\n",
    "    sub_df = df[date_filter]\n",
    "    \n",
    "    sub_df = sub_df.query(f\"{user_id_name} in @list_user_id\")\n",
    "    \n",
    "    aggregation = sub_df.groupby(user_id_name).agg(x = (value_name, 'sum'),\n",
    "                                                   y = (value_name, 'count'))\n",
    "    if kappa is None:\n",
    "        kappa = aggregation.sum().x / aggregation.sum().y\n",
    "    \n",
    "    linearized = aggregation.x - kappa * aggregation.y\n",
    "    \n",
    "    ans = pd.DataFrame({user_id_name: aggregation.index, metric_name: linearized})\n",
    "    \n",
    "    remaining_user_ids = np.array(list_user_id)[np.isin(list_user_id, ans[user_id_name], invert=True)]\n",
    "    ans = pd.concat((ans, pd.DataFrame({user_id_name: remaining_user_ids, metric_name: 0.})))\n",
    "    \n",
    "    return ans.reset_index(drop=True)"
   ]
  },
  {
   "cell_type": "code",
   "execution_count": 2,
   "metadata": {
    "ExecuteTime": {
     "end_time": "2021-06-18T00:57:33.510282Z",
     "start_time": "2021-06-18T00:57:33.495278Z"
    }
   },
   "outputs": [
    {
     "data": {
      "text/html": [
       "<div>\n",
       "<style scoped>\n",
       "    .dataframe tbody tr th:only-of-type {\n",
       "        vertical-align: middle;\n",
       "    }\n",
       "\n",
       "    .dataframe tbody tr th {\n",
       "        vertical-align: top;\n",
       "    }\n",
       "\n",
       "    .dataframe thead th {\n",
       "        text-align: right;\n",
       "    }\n",
       "</style>\n",
       "<table border=\"1\" class=\"dataframe\">\n",
       "  <thead>\n",
       "    <tr style=\"text-align: right;\">\n",
       "      <th></th>\n",
       "      <th>value_name2</th>\n",
       "      <th>user_id_name2</th>\n",
       "      <th>date_name2</th>\n",
       "    </tr>\n",
       "  </thead>\n",
       "  <tbody>\n",
       "    <tr>\n",
       "      <th>0</th>\n",
       "      <td>17</td>\n",
       "      <td>5002</td>\n",
       "      <td>2019-03-16</td>\n",
       "    </tr>\n",
       "    <tr>\n",
       "      <th>1</th>\n",
       "      <td>18</td>\n",
       "      <td>5003</td>\n",
       "      <td>2019-04-30</td>\n",
       "    </tr>\n",
       "    <tr>\n",
       "      <th>2</th>\n",
       "      <td>7</td>\n",
       "      <td>5001</td>\n",
       "      <td>2019-06-16</td>\n",
       "    </tr>\n",
       "    <tr>\n",
       "      <th>3</th>\n",
       "      <td>19</td>\n",
       "      <td>5000</td>\n",
       "      <td>2019-12-25</td>\n",
       "    </tr>\n",
       "    <tr>\n",
       "      <th>4</th>\n",
       "      <td>18</td>\n",
       "      <td>5002</td>\n",
       "      <td>2019-08-12</td>\n",
       "    </tr>\n",
       "    <tr>\n",
       "      <th>5</th>\n",
       "      <td>4</td>\n",
       "      <td>5009</td>\n",
       "      <td>2019-09-08</td>\n",
       "    </tr>\n",
       "    <tr>\n",
       "      <th>6</th>\n",
       "      <td>3</td>\n",
       "      <td>5006</td>\n",
       "      <td>2019-09-30</td>\n",
       "    </tr>\n",
       "    <tr>\n",
       "      <th>7</th>\n",
       "      <td>14</td>\n",
       "      <td>5007</td>\n",
       "      <td>2019-09-04</td>\n",
       "    </tr>\n",
       "    <tr>\n",
       "      <th>8</th>\n",
       "      <td>8</td>\n",
       "      <td>5000</td>\n",
       "      <td>2019-08-08</td>\n",
       "    </tr>\n",
       "    <tr>\n",
       "      <th>9</th>\n",
       "      <td>17</td>\n",
       "      <td>5009</td>\n",
       "      <td>2019-09-25</td>\n",
       "    </tr>\n",
       "    <tr>\n",
       "      <th>10</th>\n",
       "      <td>16</td>\n",
       "      <td>5007</td>\n",
       "      <td>2019-03-20</td>\n",
       "    </tr>\n",
       "    <tr>\n",
       "      <th>11</th>\n",
       "      <td>15</td>\n",
       "      <td>5005</td>\n",
       "      <td>2019-11-03</td>\n",
       "    </tr>\n",
       "    <tr>\n",
       "      <th>12</th>\n",
       "      <td>19</td>\n",
       "      <td>5005</td>\n",
       "      <td>2019-09-14</td>\n",
       "    </tr>\n",
       "    <tr>\n",
       "      <th>13</th>\n",
       "      <td>15</td>\n",
       "      <td>5004</td>\n",
       "      <td>2019-10-16</td>\n",
       "    </tr>\n",
       "    <tr>\n",
       "      <th>14</th>\n",
       "      <td>6</td>\n",
       "      <td>5003</td>\n",
       "      <td>2019-09-17</td>\n",
       "    </tr>\n",
       "    <tr>\n",
       "      <th>15</th>\n",
       "      <td>2</td>\n",
       "      <td>5005</td>\n",
       "      <td>2019-10-20</td>\n",
       "    </tr>\n",
       "    <tr>\n",
       "      <th>16</th>\n",
       "      <td>14</td>\n",
       "      <td>5007</td>\n",
       "      <td>2019-04-18</td>\n",
       "    </tr>\n",
       "    <tr>\n",
       "      <th>17</th>\n",
       "      <td>11</td>\n",
       "      <td>5008</td>\n",
       "      <td>2019-09-23</td>\n",
       "    </tr>\n",
       "    <tr>\n",
       "      <th>18</th>\n",
       "      <td>4</td>\n",
       "      <td>5003</td>\n",
       "      <td>2019-05-22</td>\n",
       "    </tr>\n",
       "    <tr>\n",
       "      <th>19</th>\n",
       "      <td>19</td>\n",
       "      <td>5007</td>\n",
       "      <td>2019-06-05</td>\n",
       "    </tr>\n",
       "  </tbody>\n",
       "</table>\n",
       "</div>"
      ],
      "text/plain": [
       "    value_name2  user_id_name2  date_name2\n",
       "0            17           5002  2019-03-16\n",
       "1            18           5003  2019-04-30\n",
       "2             7           5001  2019-06-16\n",
       "3            19           5000  2019-12-25\n",
       "4            18           5002  2019-08-12\n",
       "5             4           5009  2019-09-08\n",
       "6             3           5006  2019-09-30\n",
       "7            14           5007  2019-09-04\n",
       "8             8           5000  2019-08-08\n",
       "9            17           5009  2019-09-25\n",
       "10           16           5007  2019-03-20\n",
       "11           15           5005  2019-11-03\n",
       "12           19           5005  2019-09-14\n",
       "13           15           5004  2019-10-16\n",
       "14            6           5003  2019-09-17\n",
       "15            2           5005  2019-10-20\n",
       "16           14           5007  2019-04-18\n",
       "17           11           5008  2019-09-23\n",
       "18            4           5003  2019-05-22\n",
       "19           19           5007  2019-06-05"
      ]
     },
     "execution_count": 2,
     "metadata": {},
     "output_type": "execute_result"
    }
   ],
   "source": [
    "size = 20\n",
    "value_name2 = 'value_name2'\n",
    "user_id_name2 = 'user_id_name2'\n",
    "date_name2 = 'date_name2'\n",
    "period2 = {'begin': pd.to_datetime('2017-05-05'), 'end': pd.to_datetime('2019-09-09')}\n",
    "\n",
    "df = pd.DataFrame({value_name2: np.random.randint(1,20,size=size),\n",
    "                   user_id_name2: np.random.choice(np.unique(np.random.randint(5000,5010, size**2)), \n",
    "                                                    replace=True, size=size),\n",
    "                   date_name2: np.random.choice([x.date() for x in pd.date_range('2019-01-01', '2020-01-01')], \n",
    "                                                 replace=True, size=size)})\n",
    "df"
   ]
  },
  {
   "cell_type": "code",
   "execution_count": 3,
   "metadata": {
    "ExecuteTime": {
     "end_time": "2021-06-18T00:57:33.541281Z",
     "start_time": "2021-06-18T00:57:33.517285Z"
    }
   },
   "outputs": [
    {
     "data": {
      "text/plain": [
       "array([5009, 5001, 5005])"
      ]
     },
     "execution_count": 3,
     "metadata": {},
     "output_type": "execute_result"
    }
   ],
   "source": [
    "list_user_id2 = np.random.choice(df[user_id_name2].unique(), replace=False, size=3)\n",
    "list_user_id2"
   ]
  },
  {
   "cell_type": "code",
   "execution_count": 4,
   "metadata": {
    "ExecuteTime": {
     "end_time": "2021-06-18T00:57:33.588287Z",
     "start_time": "2021-06-18T00:57:33.543257Z"
    }
   },
   "outputs": [
    {
     "data": {
      "text/html": [
       "<div>\n",
       "<style scoped>\n",
       "    .dataframe tbody tr th:only-of-type {\n",
       "        vertical-align: middle;\n",
       "    }\n",
       "\n",
       "    .dataframe tbody tr th {\n",
       "        vertical-align: top;\n",
       "    }\n",
       "\n",
       "    .dataframe thead th {\n",
       "        text-align: right;\n",
       "    }\n",
       "</style>\n",
       "<table border=\"1\" class=\"dataframe\">\n",
       "  <thead>\n",
       "    <tr style=\"text-align: right;\">\n",
       "      <th></th>\n",
       "      <th>user_id_name2</th>\n",
       "      <th>metric_name2</th>\n",
       "    </tr>\n",
       "  </thead>\n",
       "  <tbody>\n",
       "    <tr>\n",
       "      <th>0</th>\n",
       "      <td>5001</td>\n",
       "      <td>1.5</td>\n",
       "    </tr>\n",
       "    <tr>\n",
       "      <th>1</th>\n",
       "      <td>5009</td>\n",
       "      <td>-1.5</td>\n",
       "    </tr>\n",
       "    <tr>\n",
       "      <th>2</th>\n",
       "      <td>5005</td>\n",
       "      <td>0.0</td>\n",
       "    </tr>\n",
       "  </tbody>\n",
       "</table>\n",
       "</div>"
      ],
      "text/plain": [
       "   user_id_name2  metric_name2\n",
       "0           5001           1.5\n",
       "1           5009          -1.5\n",
       "2           5005           0.0"
      ]
     },
     "execution_count": 4,
     "metadata": {},
     "output_type": "execute_result"
    }
   ],
   "source": [
    "ans = calculate_linearized_metric(df, value_name2, user_id_name2, list_user_id2, \n",
    "                                  date_name2, period2, 'metric_name2', None)\n",
    "ans"
   ]
  },
  {
   "cell_type": "code",
   "execution_count": 5,
   "metadata": {
    "ExecuteTime": {
     "end_time": "2021-06-18T00:57:33.604263Z",
     "start_time": "2021-06-18T00:57:33.589254Z"
    }
   },
   "outputs": [
    {
     "data": {
      "text/html": [
       "<div>\n",
       "<style scoped>\n",
       "    .dataframe tbody tr th:only-of-type {\n",
       "        vertical-align: middle;\n",
       "    }\n",
       "\n",
       "    .dataframe tbody tr th {\n",
       "        vertical-align: top;\n",
       "    }\n",
       "\n",
       "    .dataframe thead th {\n",
       "        text-align: right;\n",
       "    }\n",
       "</style>\n",
       "<table border=\"1\" class=\"dataframe\">\n",
       "  <thead>\n",
       "    <tr style=\"text-align: right;\">\n",
       "      <th></th>\n",
       "      <th>value_name2</th>\n",
       "      <th>user_id_name2</th>\n",
       "      <th>date_name2</th>\n",
       "    </tr>\n",
       "  </thead>\n",
       "  <tbody>\n",
       "    <tr>\n",
       "      <th>1</th>\n",
       "      <td>18</td>\n",
       "      <td>5003</td>\n",
       "      <td>2019-04-30</td>\n",
       "    </tr>\n",
       "    <tr>\n",
       "      <th>5</th>\n",
       "      <td>4</td>\n",
       "      <td>5009</td>\n",
       "      <td>2019-09-08</td>\n",
       "    </tr>\n",
       "    <tr>\n",
       "      <th>18</th>\n",
       "      <td>4</td>\n",
       "      <td>5003</td>\n",
       "      <td>2019-05-22</td>\n",
       "    </tr>\n",
       "  </tbody>\n",
       "</table>\n",
       "</div>"
      ],
      "text/plain": [
       "    value_name2  user_id_name2  date_name2\n",
       "1            18           5003  2019-04-30\n",
       "5             4           5009  2019-09-08\n",
       "18            4           5003  2019-05-22"
      ]
     },
     "execution_count": 5,
     "metadata": {},
     "output_type": "execute_result"
    }
   ],
   "source": [
    "d1 = period2['begin']\n",
    "d2 = period2['end']\n",
    "q = df.query(\"(user_id_name2 in [5003, 5009]) and (date_name2 >= @d1) and (date_name2 < @d2)\")\n",
    "q"
   ]
  },
  {
   "cell_type": "code",
   "execution_count": 6,
   "metadata": {
    "ExecuteTime": {
     "end_time": "2021-06-18T00:57:33.620253Z",
     "start_time": "2021-06-18T00:57:33.605254Z"
    }
   },
   "outputs": [
    {
     "data": {
      "text/html": [
       "<div>\n",
       "<style scoped>\n",
       "    .dataframe tbody tr th:only-of-type {\n",
       "        vertical-align: middle;\n",
       "    }\n",
       "\n",
       "    .dataframe tbody tr th {\n",
       "        vertical-align: top;\n",
       "    }\n",
       "\n",
       "    .dataframe thead th {\n",
       "        text-align: right;\n",
       "    }\n",
       "</style>\n",
       "<table border=\"1\" class=\"dataframe\">\n",
       "  <thead>\n",
       "    <tr style=\"text-align: right;\">\n",
       "      <th></th>\n",
       "      <th>x</th>\n",
       "      <th>y</th>\n",
       "    </tr>\n",
       "    <tr>\n",
       "      <th>user_id_name2</th>\n",
       "      <th></th>\n",
       "      <th></th>\n",
       "    </tr>\n",
       "  </thead>\n",
       "  <tbody>\n",
       "    <tr>\n",
       "      <th>5003</th>\n",
       "      <td>22</td>\n",
       "      <td>2</td>\n",
       "    </tr>\n",
       "    <tr>\n",
       "      <th>5009</th>\n",
       "      <td>4</td>\n",
       "      <td>1</td>\n",
       "    </tr>\n",
       "  </tbody>\n",
       "</table>\n",
       "</div>"
      ],
      "text/plain": [
       "                x  y\n",
       "user_id_name2       \n",
       "5003           22  2\n",
       "5009            4  1"
      ]
     },
     "execution_count": 6,
     "metadata": {},
     "output_type": "execute_result"
    }
   ],
   "source": [
    "aggregation = q.groupby(user_id_name2).agg(x = (value_name2, 'sum'),\n",
    "                                                    y = (value_name2, 'count'))\n",
    "aggregation"
   ]
  },
  {
   "cell_type": "code",
   "execution_count": 7,
   "metadata": {
    "ExecuteTime": {
     "end_time": "2021-06-18T00:57:33.636256Z",
     "start_time": "2021-06-18T00:57:33.621254Z"
    }
   },
   "outputs": [
    {
     "data": {
      "text/plain": [
       "8.666666666666666"
      ]
     },
     "execution_count": 7,
     "metadata": {},
     "output_type": "execute_result"
    }
   ],
   "source": [
    "kappa = aggregation.sum().x / aggregation.sum().y\n",
    "kappa"
   ]
  },
  {
   "cell_type": "code",
   "execution_count": 8,
   "metadata": {
    "ExecuteTime": {
     "end_time": "2021-06-18T00:57:33.700254Z",
     "start_time": "2021-06-18T00:57:33.638262Z"
    }
   },
   "outputs": [
    {
     "ename": "NameError",
     "evalue": "name 'qwerty' is not defined",
     "output_type": "error",
     "traceback": [
      "\u001b[1;31m---------------------------------------------------------------------------\u001b[0m",
      "\u001b[1;31mNameError\u001b[0m                                 Traceback (most recent call last)",
      "\u001b[1;32m<ipython-input-8-3c8b9f4b983a>\u001b[0m in \u001b[0;36m<module>\u001b[1;34m\u001b[0m\n\u001b[1;32m----> 1\u001b[1;33m \u001b[0mqwerty\u001b[0m\u001b[1;33m\u001b[0m\u001b[1;33m\u001b[0m\u001b[0m\n\u001b[0m",
      "\u001b[1;31mNameError\u001b[0m: name 'qwerty' is not defined"
     ]
    }
   ],
   "source": [
    "qwerty"
   ]
  }
 ],
 "metadata": {
  "kernelspec": {
   "display_name": "Python 3",
   "language": "python",
   "name": "python3"
  },
  "language_info": {
   "codemirror_mode": {
    "name": "ipython",
    "version": 3
   },
   "file_extension": ".py",
   "mimetype": "text/x-python",
   "name": "python",
   "nbconvert_exporter": "python",
   "pygments_lexer": "ipython3",
   "version": "3.7.6"
  }
 },
 "nbformat": 4,
 "nbformat_minor": 4
}
