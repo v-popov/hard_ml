{
 "cells": [
  {
   "cell_type": "code",
   "execution_count": 144,
   "metadata": {
    "ExecuteTime": {
     "end_time": "2021-06-04T03:48:43.070197Z",
     "start_time": "2021-06-04T03:48:43.066170Z"
    }
   },
   "outputs": [],
   "source": [
    "import scipy"
   ]
  },
  {
   "cell_type": "code",
   "execution_count": 132,
   "metadata": {
    "ExecuteTime": {
     "end_time": "2021-06-04T03:46:41.238144Z",
     "start_time": "2021-06-04T03:46:41.233143Z"
    },
    "scrolled": true
   },
   "outputs": [
    {
     "data": {
      "text/plain": [
       "array([56.18194637, 63.76595351, 51.79716109, ..., 45.78595921,\n",
       "       38.42408662, 61.23562377])"
      ]
     },
     "execution_count": 132,
     "metadata": {},
     "output_type": "execute_result"
    }
   ],
   "source": [
    "size=10000\n",
    "#population = np.random.choice(['a','b','c','d'], replace=True, size=size)#.astype(np.int64)\n",
    "population = np.random.normal(50,8, size=size)#.astype(np.int64)\n",
    "population"
   ]
  },
  {
   "cell_type": "code",
   "execution_count": 133,
   "metadata": {
    "ExecuteTime": {
     "end_time": "2021-06-04T03:46:42.375564Z",
     "start_time": "2021-06-04T03:46:42.361567Z"
    }
   },
   "outputs": [
    {
     "data": {
      "text/plain": [
       "50.01587782877474"
      ]
     },
     "execution_count": 133,
     "metadata": {},
     "output_type": "execute_result"
    }
   ],
   "source": [
    "population.mean()"
   ]
  },
  {
   "cell_type": "code",
   "execution_count": 134,
   "metadata": {
    "ExecuteTime": {
     "end_time": "2021-06-04T03:46:43.673427Z",
     "start_time": "2021-06-04T03:46:43.656455Z"
    }
   },
   "outputs": [],
   "source": [
    "unique, counts = np.unique(population, return_counts=True)"
   ]
  },
  {
   "cell_type": "code",
   "execution_count": 135,
   "metadata": {
    "ExecuteTime": {
     "end_time": "2021-06-04T03:46:43.909572Z",
     "start_time": "2021-06-04T03:46:43.904547Z"
    }
   },
   "outputs": [],
   "source": [
    "B = 10000"
   ]
  },
  {
   "cell_type": "code",
   "execution_count": 147,
   "metadata": {
    "ExecuteTime": {
     "end_time": "2021-06-04T03:49:33.388597Z",
     "start_time": "2021-06-04T03:49:30.255963Z"
    }
   },
   "outputs": [],
   "source": [
    "samples_counts = scipy.stats.poisson.rvs(mu=1, size=size*B)"
   ]
  },
  {
   "cell_type": "code",
   "execution_count": 148,
   "metadata": {
    "ExecuteTime": {
     "end_time": "2021-06-04T03:49:36.716857Z",
     "start_time": "2021-06-04T03:49:33.896233Z"
    }
   },
   "outputs": [
    {
     "data": {
      "text/plain": [
       "array([0, 0, 1, ..., 0, 2, 0])"
      ]
     },
     "execution_count": 148,
     "metadata": {},
     "output_type": "execute_result"
    }
   ],
   "source": [
    "samples_counts = np.random.poisson(1, size*B)\n",
    "samples_counts"
   ]
  },
  {
   "cell_type": "code",
   "execution_count": 149,
   "metadata": {
    "ExecuteTime": {
     "end_time": "2021-06-04T03:50:05.906494Z",
     "start_time": "2021-06-04T03:50:05.889487Z"
    }
   },
   "outputs": [
    {
     "data": {
      "text/plain": [
       "array([[0, 0, 1, ..., 0, 1, 0],\n",
       "       [1, 1, 0, ..., 2, 0, 1],\n",
       "       [1, 2, 1, ..., 0, 1, 0],\n",
       "       ...,\n",
       "       [0, 1, 1, ..., 3, 1, 0],\n",
       "       [2, 0, 1, ..., 3, 0, 0],\n",
       "       [2, 3, 1, ..., 0, 2, 0]])"
      ]
     },
     "execution_count": 149,
     "metadata": {},
     "output_type": "execute_result"
    }
   ],
   "source": [
    "samples_counts_matrix = samples_counts.reshape(B,-1)\n",
    "samples_counts_matrix"
   ]
  },
  {
   "cell_type": "code",
   "execution_count": 150,
   "metadata": {
    "ExecuteTime": {
     "end_time": "2021-06-04T03:50:07.979799Z",
     "start_time": "2021-06-04T03:50:07.775962Z"
    }
   },
   "outputs": [
    {
     "data": {
      "text/plain": [
       "array([[  0.        ,   0.        ,  51.79716109, ...,   0.        ,\n",
       "         38.42408662,   0.        ],\n",
       "       [ 56.18194637,  63.76595351,   0.        , ...,  91.57191842,\n",
       "          0.        ,  61.23562377],\n",
       "       [ 56.18194637, 127.53190702,  51.79716109, ...,   0.        ,\n",
       "         38.42408662,   0.        ],\n",
       "       ...,\n",
       "       [  0.        ,  63.76595351,  51.79716109, ..., 137.35787763,\n",
       "         38.42408662,   0.        ],\n",
       "       [112.36389274,   0.        ,  51.79716109, ..., 137.35787763,\n",
       "          0.        ,   0.        ],\n",
       "       [112.36389274, 191.29786053,  51.79716109, ...,   0.        ,\n",
       "         76.84817324,   0.        ]])"
      ]
     },
     "execution_count": 150,
     "metadata": {},
     "output_type": "execute_result"
    }
   ],
   "source": [
    "poisson_samples = samples_counts_matrix * population\n",
    "poisson_samples"
   ]
  },
  {
   "cell_type": "code",
   "execution_count": 139,
   "metadata": {
    "ExecuteTime": {
     "end_time": "2021-06-04T03:46:54.068628Z",
     "start_time": "2021-06-04T03:46:53.976109Z"
    }
   },
   "outputs": [
    {
     "data": {
      "text/plain": [
       "array([50.00719152, 50.36809465, 50.33363499, ..., 50.70434112,\n",
       "       49.78765582, 50.18633115])"
      ]
     },
     "execution_count": 139,
     "metadata": {},
     "output_type": "execute_result"
    }
   ],
   "source": [
    "poisson_samples.mean(axis=1)"
   ]
  },
  {
   "cell_type": "code",
   "execution_count": 140,
   "metadata": {
    "ExecuteTime": {
     "end_time": "2021-06-04T03:47:18.622056Z",
     "start_time": "2021-06-04T03:47:15.481745Z"
    }
   },
   "outputs": [],
   "source": [
    "means_p = []\n",
    "samples_counts = np.random.poisson(1, size*B)\n",
    "samples_counts_matrix = samples_counts.reshape(B,-1)\n",
    "poisson_samples = samples_counts_matrix * population\n",
    "means_p = poisson_samples.mean(axis=1)\n",
    "# for i in range(B):\n",
    "#     each_value_count = np.random.poisson(1, size)\n",
    "#     m = np.sum(population * each_value_count) / np.sum(each_value_count)\n",
    "#     means_p.append(m)"
   ]
  },
  {
   "cell_type": "code",
   "execution_count": 141,
   "metadata": {
    "ExecuteTime": {
     "end_time": "2021-06-04T03:47:21.997784Z",
     "start_time": "2021-06-04T03:47:20.553123Z"
    }
   },
   "outputs": [],
   "source": [
    "means_b = []\n",
    "for i in range(B):\n",
    "    sample_boot = np.random.choice(population, replace=True, size=size)\n",
    "    m = sample_boot.mean()\n",
    "    means_b.append(m)"
   ]
  },
  {
   "cell_type": "code",
   "execution_count": 142,
   "metadata": {
    "ExecuteTime": {
     "end_time": "2021-06-04T03:47:55.451448Z",
     "start_time": "2021-06-04T03:47:55.440449Z"
    }
   },
   "outputs": [
    {
     "data": {
      "text/plain": [
       "50.019365456693016"
      ]
     },
     "execution_count": 142,
     "metadata": {},
     "output_type": "execute_result"
    }
   ],
   "source": [
    "np.mean(means_p)"
   ]
  },
  {
   "cell_type": "code",
   "execution_count": 143,
   "metadata": {
    "ExecuteTime": {
     "end_time": "2021-06-04T03:47:55.827733Z",
     "start_time": "2021-06-04T03:47:55.823732Z"
    }
   },
   "outputs": [
    {
     "data": {
      "text/plain": [
       "50.01467729252875"
      ]
     },
     "execution_count": 143,
     "metadata": {},
     "output_type": "execute_result"
    }
   ],
   "source": [
    "np.mean(means_b)"
   ]
  },
  {
   "cell_type": "code",
   "execution_count": 87,
   "metadata": {
    "ExecuteTime": {
     "end_time": "2021-06-04T03:13:43.666340Z",
     "start_time": "2021-06-04T03:13:43.652891Z"
    }
   },
   "outputs": [],
   "source": [
    "import numpy as np\n",
    "import pandas as pd\n",
    "from scipy.stats import ttest_ind\n",
    "\n",
    "def estimate_first_type_error(df_pilot_group, df_control_group, metric_name, alpha=0.05, n_iter=10000, seed=None):\n",
    "    \"\"\"Оцениваем ошибку первого рода.\n",
    "\n",
    "    Бутстрепим выборки из пилотной и контрольной групп тех же размеров, считаем долю случаев с значимыми отличиями.\n",
    "    \n",
    "    df_pilot_group - pd.DataFrame, датафрейм с данными пилотной группы\n",
    "    df_control_group - pd.DataFrame, датафрейм с данными контрольной группы\n",
    "    metric_name - str, названия столбца с метрикой\n",
    "    alpha - float, уровень значимости для статтеста\n",
    "    n_iter - int, кол-во итераций бутстрапа\n",
    "    seed - int or None, состояние генератора случайных чисел.\n",
    "\n",
    "    return - float, ошибка первого рода\n",
    "    \"\"\"\n",
    "    \n",
    "    pilot_metrics = df_pilot_group[metric_name]\n",
    "    control_metrics = df_control_group[metric_name]\n",
    "    equal_var = np.isclose(np.std(pilot_metrics), np.std(control_metrics), rtol=0.03)\n",
    "    \n",
    "    np.random.seed(seed)\n",
    "    type_1_errors_count = 0\n",
    "    \n",
    "    for _ in range(n_iter):\n",
    "        pilot_b = np.random.choice(pilot_metrics, replace=True, size=len(pilot_metrics))\n",
    "        control_b = np.random.choice(control_metrics, replace=True, size=len(control_metrics))\n",
    "        \n",
    "        _, p_val = ttest_ind(pilot_b, control_b, equal_var=equal_var)\n",
    "        type_1_errors_count += p_val < alpha\n",
    "    \n",
    "    return type_1_errors_count / n_iter\n",
    "        \n",
    "    # YOUR_CODE_HERE"
   ]
  },
  {
   "cell_type": "code",
   "execution_count": 90,
   "metadata": {
    "ExecuteTime": {
     "end_time": "2021-06-04T03:28:31.787821Z",
     "start_time": "2021-06-04T03:28:31.775942Z"
    }
   },
   "outputs": [],
   "source": [
    "import numpy as np\n",
    "import pandas as pd\n",
    "from scipy.stats import ttest_ind\n",
    "\n",
    "\n",
    "def estimate_second_type_error(df_pilot_group, df_control_group, metric_name, effects, alpha=0.05, n_iter=10000, seed=None):\n",
    "    \"\"\"Оцениваем ошибки второго рода.\n",
    "\n",
    "    Бутстрепим выборки из пилотной и контрольной групп тех же размеров, добавляем эффект к пилотной группе,\n",
    "    считаем долю случаев без значимых отличий.\n",
    "    \n",
    "    df_pilot_group - pd.DataFrame, датафрейм с данными пилотной группы\n",
    "    df_control_group - pd.DataFrame, датафрейм с данными контрольной группы\n",
    "    metric_name - str, названия столбца с метрикой\n",
    "    effects - List[float], список размеров эффектов ([1.03] - увеличение на 3%).\n",
    "    alpha - float, уровень значимости для статтеста\n",
    "    n_iter - int, кол-во итераций бутстрапа\n",
    "    seed - int or None, состояние генератора случайных чисел\n",
    "\n",
    "    return - dict, {размер_эффекта: ошибка_второго_рода}\n",
    "    \"\"\"\n",
    "    \n",
    "    pilot_metrics = df_pilot_group[metric_name]\n",
    "    control_metrics = df_control_group[metric_name]\n",
    "    equal_var = np.isclose(np.std(pilot_metrics), np.std(control_metrics), rtol=0.03)\n",
    "    \n",
    "    np.random.seed(seed)\n",
    "    type_2_errors = {}\n",
    "    \n",
    "    for effect in effects:\n",
    "        type_2_errors[effect] = 0.\n",
    "        for _ in range(n_iter):\n",
    "            pilot_b = np.random.choice(pilot_metrics, replace=True, size=len(pilot_metrics))\n",
    "            pilot_b *= effect\n",
    "            control_b = np.random.choice(control_metrics, replace=True, size=len(control_metrics))\n",
    "\n",
    "            _, p_val = ttest_ind(pilot_b, control_b, equal_var=equal_var)\n",
    "            \n",
    "            \n",
    "            type_2_errors[effect] += p_val > alpha\n",
    "        type_2_errors[effect] = type_2_errors[effect] / n_iter\n",
    "    \n",
    "    return type_2_errors"
   ]
  },
  {
   "cell_type": "code",
   "execution_count": 88,
   "metadata": {
    "ExecuteTime": {
     "end_time": "2021-06-04T03:14:23.072805Z",
     "start_time": "2021-06-04T03:14:20.378919Z"
    }
   },
   "outputs": [
    {
     "data": {
      "text/plain": [
       "0.2953"
      ]
     },
     "execution_count": 88,
     "metadata": {},
     "output_type": "execute_result"
    }
   ],
   "source": [
    "estimate_first_type_error(pd.DataFrame({'m': means_b}), pd.DataFrame({'m': means_p}), 'm')"
   ]
  },
  {
   "cell_type": "code",
   "execution_count": 96,
   "metadata": {
    "ExecuteTime": {
     "end_time": "2021-06-04T03:30:19.353230Z",
     "start_time": "2021-06-04T03:30:11.416197Z"
    }
   },
   "outputs": [
    {
     "data": {
      "text/plain": [
       "{1.00003: 0.0106, 0.98: 0.0, 1.0: 0.9529}"
      ]
     },
     "execution_count": 96,
     "metadata": {},
     "output_type": "execute_result"
    }
   ],
   "source": [
    "estimate_second_type_error(pd.DataFrame({'m': means_b}), pd.DataFrame({'m': means_b}), 'm', [1.00003, 0.98, 1.])"
   ]
  },
  {
   "cell_type": "code",
   "execution_count": 80,
   "metadata": {
    "ExecuteTime": {
     "end_time": "2021-06-04T03:07:44.685663Z",
     "start_time": "2021-06-04T03:07:44.659951Z"
    }
   },
   "outputs": [
    {
     "data": {
      "text/plain": [
       "0.007960523587459285"
      ]
     },
     "execution_count": 80,
     "metadata": {},
     "output_type": "execute_result"
    }
   ],
   "source": [
    "np.std(means_p)"
   ]
  },
  {
   "cell_type": "code",
   "execution_count": 84,
   "metadata": {
    "ExecuteTime": {
     "end_time": "2021-06-04T03:09:44.399743Z",
     "start_time": "2021-06-04T03:09:44.371649Z"
    }
   },
   "outputs": [
    {
     "data": {
      "text/plain": [
       "True"
      ]
     },
     "execution_count": 84,
     "metadata": {},
     "output_type": "execute_result"
    }
   ],
   "source": [
    "pilot_std = np.std(means_p)\n",
    "control_std = np.std(means_b)\n",
    "np.isclose(pilot_std, control_std, rtol=0.03)"
   ]
  },
  {
   "cell_type": "code",
   "execution_count": 82,
   "metadata": {
    "ExecuteTime": {
     "end_time": "2021-06-04T03:09:18.592419Z",
     "start_time": "2021-06-04T03:09:18.587774Z"
    }
   },
   "outputs": [
    {
     "data": {
      "text/plain": [
       "(0.007960523587459285, 0.007856357662157582, 1.0132588064063641)"
      ]
     },
     "execution_count": 82,
     "metadata": {},
     "output_type": "execute_result"
    }
   ],
   "source": [
    "pilot_std, control_std, pilot_std/control_std"
   ]
  },
  {
   "cell_type": "code",
   "execution_count": 86,
   "metadata": {
    "ExecuteTime": {
     "end_time": "2021-06-04T03:12:18.708206Z",
     "start_time": "2021-06-04T03:12:18.699236Z"
    }
   },
   "outputs": [
    {
     "data": {
      "text/plain": [
       "2"
      ]
     },
     "execution_count": 86,
     "metadata": {},
     "output_type": "execute_result"
    }
   ],
   "source": [
    "1 + True + False"
   ]
  },
  {
   "cell_type": "code",
   "execution_count": null,
   "metadata": {},
   "outputs": [],
   "source": []
  }
 ],
 "metadata": {
  "kernelspec": {
   "display_name": "Python 3",
   "language": "python",
   "name": "python3"
  },
  "language_info": {
   "codemirror_mode": {
    "name": "ipython",
    "version": 3
   },
   "file_extension": ".py",
   "mimetype": "text/x-python",
   "name": "python",
   "nbconvert_exporter": "python",
   "pygments_lexer": "ipython3",
   "version": "3.7.6"
  }
 },
 "nbformat": 4,
 "nbformat_minor": 4
}
