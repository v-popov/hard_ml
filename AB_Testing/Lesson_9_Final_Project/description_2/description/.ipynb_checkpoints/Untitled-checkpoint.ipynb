{
 "cells": [
  {
   "cell_type": "code",
   "execution_count": 1,
   "metadata": {
    "ExecuteTime": {
     "end_time": "2021-07-03T00:36:11.197288Z",
     "start_time": "2021-07-03T00:36:10.522292Z"
    }
   },
   "outputs": [],
   "source": [
    "import pandas as pd\n",
    "import numpy as np\n",
    "from scipy.stats import ttest_ind, t"
   ]
  },
  {
   "cell_type": "code",
   "execution_count": 2,
   "metadata": {
    "ExecuteTime": {
     "end_time": "2021-07-03T00:36:11.212290Z",
     "start_time": "2021-07-03T00:36:11.198289Z"
    }
   },
   "outputs": [],
   "source": [
    "df_users = pd.read_csv('data/df_users.csv')\n",
    "df_sales = pd.read_csv('data/df_sales.csv')"
   ]
  },
  {
   "cell_type": "code",
   "execution_count": 3,
   "metadata": {
    "ExecuteTime": {
     "end_time": "2021-07-03T00:36:11.227290Z",
     "start_time": "2021-07-03T00:36:11.213291Z"
    }
   },
   "outputs": [
    {
     "data": {
      "text/html": [
       "<div>\n",
       "<style scoped>\n",
       "    .dataframe tbody tr th:only-of-type {\n",
       "        vertical-align: middle;\n",
       "    }\n",
       "\n",
       "    .dataframe tbody tr th {\n",
       "        vertical-align: top;\n",
       "    }\n",
       "\n",
       "    .dataframe thead th {\n",
       "        text-align: right;\n",
       "    }\n",
       "</style>\n",
       "<table border=\"1\" class=\"dataframe\">\n",
       "  <thead>\n",
       "    <tr style=\"text-align: right;\">\n",
       "      <th></th>\n",
       "      <th>user_id</th>\n",
       "      <th>gender</th>\n",
       "      <th>age</th>\n",
       "    </tr>\n",
       "  </thead>\n",
       "  <tbody>\n",
       "    <tr>\n",
       "      <th>0</th>\n",
       "      <td>2481878</td>\n",
       "      <td>0</td>\n",
       "      <td>26</td>\n",
       "    </tr>\n",
       "    <tr>\n",
       "      <th>1</th>\n",
       "      <td>5939953</td>\n",
       "      <td>1</td>\n",
       "      <td>21</td>\n",
       "    </tr>\n",
       "    <tr>\n",
       "      <th>2</th>\n",
       "      <td>6805236</td>\n",
       "      <td>0</td>\n",
       "      <td>23</td>\n",
       "    </tr>\n",
       "    <tr>\n",
       "      <th>3</th>\n",
       "      <td>5333820</td>\n",
       "      <td>0</td>\n",
       "      <td>22</td>\n",
       "    </tr>\n",
       "    <tr>\n",
       "      <th>4</th>\n",
       "      <td>7187024</td>\n",
       "      <td>0</td>\n",
       "      <td>28</td>\n",
       "    </tr>\n",
       "  </tbody>\n",
       "</table>\n",
       "</div>"
      ],
      "text/plain": [
       "   user_id  gender  age\n",
       "0  2481878       0   26\n",
       "1  5939953       1   21\n",
       "2  6805236       0   23\n",
       "3  5333820       0   22\n",
       "4  7187024       0   28"
      ]
     },
     "execution_count": 3,
     "metadata": {},
     "output_type": "execute_result"
    }
   ],
   "source": [
    "df_users.head()"
   ]
  },
  {
   "cell_type": "code",
   "execution_count": 4,
   "metadata": {
    "ExecuteTime": {
     "end_time": "2021-07-03T00:36:11.242291Z",
     "start_time": "2021-07-03T00:36:11.228291Z"
    }
   },
   "outputs": [
    {
     "data": {
      "text/html": [
       "<div>\n",
       "<style scoped>\n",
       "    .dataframe tbody tr th:only-of-type {\n",
       "        vertical-align: middle;\n",
       "    }\n",
       "\n",
       "    .dataframe tbody tr th {\n",
       "        vertical-align: top;\n",
       "    }\n",
       "\n",
       "    .dataframe thead th {\n",
       "        text-align: right;\n",
       "    }\n",
       "</style>\n",
       "<table border=\"1\" class=\"dataframe\">\n",
       "  <thead>\n",
       "    <tr style=\"text-align: right;\">\n",
       "      <th></th>\n",
       "      <th>user_id</th>\n",
       "      <th>day</th>\n",
       "      <th>sales</th>\n",
       "    </tr>\n",
       "  </thead>\n",
       "  <tbody>\n",
       "    <tr>\n",
       "      <th>0</th>\n",
       "      <td>4137940</td>\n",
       "      <td>39</td>\n",
       "      <td>276</td>\n",
       "    </tr>\n",
       "    <tr>\n",
       "      <th>1</th>\n",
       "      <td>3692244</td>\n",
       "      <td>5</td>\n",
       "      <td>30</td>\n",
       "    </tr>\n",
       "    <tr>\n",
       "      <th>2</th>\n",
       "      <td>3527743</td>\n",
       "      <td>32</td>\n",
       "      <td>363</td>\n",
       "    </tr>\n",
       "    <tr>\n",
       "      <th>3</th>\n",
       "      <td>6805236</td>\n",
       "      <td>42</td>\n",
       "      <td>274</td>\n",
       "    </tr>\n",
       "    <tr>\n",
       "      <th>4</th>\n",
       "      <td>6216002</td>\n",
       "      <td>20</td>\n",
       "      <td>421</td>\n",
       "    </tr>\n",
       "  </tbody>\n",
       "</table>\n",
       "</div>"
      ],
      "text/plain": [
       "   user_id  day  sales\n",
       "0  4137940   39    276\n",
       "1  3692244    5     30\n",
       "2  3527743   32    363\n",
       "3  6805236   42    274\n",
       "4  6216002   20    421"
      ]
     },
     "execution_count": 4,
     "metadata": {},
     "output_type": "execute_result"
    }
   ],
   "source": [
    "df_sales.head()"
   ]
  },
  {
   "cell_type": "code",
   "execution_count": 5,
   "metadata": {
    "ExecuteTime": {
     "end_time": "2021-07-03T00:36:11.352291Z",
     "start_time": "2021-07-03T00:36:11.264292Z"
    }
   },
   "outputs": [
    {
     "ename": "NameError",
     "evalue": "name 'calculate_theta' is not defined",
     "output_type": "error",
     "traceback": [
      "\u001b[1;31m---------------------------------------------------------------------------\u001b[0m",
      "\u001b[1;31mNameError\u001b[0m                                 Traceback (most recent call last)",
      "\u001b[1;32m<ipython-input-5-9fe3662db552>\u001b[0m in \u001b[0;36m<module>\u001b[1;34m\u001b[0m\n\u001b[0;32m     23\u001b[0m     \u001b[0mdf_sales\u001b[0m \u001b[1;33m=\u001b[0m \u001b[0mdf_sales_pilot\u001b[0m\u001b[1;33m\u001b[0m\u001b[1;33m\u001b[0m\u001b[0m\n\u001b[0;32m     24\u001b[0m \u001b[1;33m\u001b[0m\u001b[0m\n\u001b[1;32m---> 25\u001b[1;33m \u001b[0mping\u001b[0m\u001b[1;33m(\u001b[0m\u001b[1;33m)\u001b[0m\u001b[1;33m\u001b[0m\u001b[1;33m\u001b[0m\u001b[0m\n\u001b[0m",
      "\u001b[1;32m<ipython-input-5-9fe3662db552>\u001b[0m in \u001b[0;36mping\u001b[1;34m()\u001b[0m\n\u001b[0;32m     15\u001b[0m     \u001b[0mdf_sales_covariate\u001b[0m \u001b[1;33m=\u001b[0m \u001b[0mfull_sales\u001b[0m\u001b[1;33m[\u001b[0m\u001b[0mfull_sales\u001b[0m\u001b[1;33m[\u001b[0m\u001b[1;34m'day'\u001b[0m\u001b[1;33m]\u001b[0m\u001b[1;33m.\u001b[0m\u001b[0misin\u001b[0m\u001b[1;33m(\u001b[0m\u001b[0mnp\u001b[0m\u001b[1;33m.\u001b[0m\u001b[0marange\u001b[0m\u001b[1;33m(\u001b[0m\u001b[1;36m42\u001b[0m\u001b[1;33m,\u001b[0m \u001b[1;36m49\u001b[0m\u001b[1;33m)\u001b[0m\u001b[1;33m)\u001b[0m\u001b[1;33m]\u001b[0m\u001b[1;33m.\u001b[0m\u001b[0mreset_index\u001b[0m\u001b[1;33m(\u001b[0m\u001b[0mdrop\u001b[0m\u001b[1;33m=\u001b[0m\u001b[1;32mTrue\u001b[0m\u001b[1;33m)\u001b[0m\u001b[1;33m\u001b[0m\u001b[1;33m\u001b[0m\u001b[0m\n\u001b[0;32m     16\u001b[0m     \u001b[0mdf_sales_pilot\u001b[0m \u001b[1;33m=\u001b[0m \u001b[0mfull_sales\u001b[0m\u001b[1;33m[\u001b[0m\u001b[0mfull_sales\u001b[0m\u001b[1;33m[\u001b[0m\u001b[1;34m'day'\u001b[0m\u001b[1;33m]\u001b[0m\u001b[1;33m.\u001b[0m\u001b[0misin\u001b[0m\u001b[1;33m(\u001b[0m\u001b[0mnp\u001b[0m\u001b[1;33m.\u001b[0m\u001b[0marange\u001b[0m\u001b[1;33m(\u001b[0m\u001b[1;36m49\u001b[0m\u001b[1;33m,\u001b[0m \u001b[1;36m56\u001b[0m\u001b[1;33m)\u001b[0m\u001b[1;33m)\u001b[0m\u001b[1;33m]\u001b[0m\u001b[1;33m.\u001b[0m\u001b[0mreset_index\u001b[0m\u001b[1;33m(\u001b[0m\u001b[0mdrop\u001b[0m\u001b[1;33m=\u001b[0m\u001b[1;32mTrue\u001b[0m\u001b[1;33m)\u001b[0m\u001b[1;33m\u001b[0m\u001b[1;33m\u001b[0m\u001b[0m\n\u001b[1;32m---> 17\u001b[1;33m     \u001b[0mtheta\u001b[0m \u001b[1;33m=\u001b[0m \u001b[0mcalculate_theta\u001b[0m\u001b[1;33m(\u001b[0m\u001b[0mdf_sales_pilot\u001b[0m\u001b[1;33m.\u001b[0m\u001b[0msales\u001b[0m\u001b[1;33m,\u001b[0m \u001b[0mdf_sales_covariate\u001b[0m\u001b[1;33m.\u001b[0m\u001b[0msales\u001b[0m\u001b[1;33m)\u001b[0m\u001b[1;33m\u001b[0m\u001b[1;33m\u001b[0m\u001b[0m\n\u001b[0m\u001b[0;32m     18\u001b[0m     \u001b[0my_cuped\u001b[0m \u001b[1;33m=\u001b[0m \u001b[0mdf_sales_pilot\u001b[0m\u001b[1;33m.\u001b[0m\u001b[0msales\u001b[0m \u001b[1;33m-\u001b[0m \u001b[0mtheta\u001b[0m \u001b[1;33m*\u001b[0m \u001b[0mdf_sales_covariate\u001b[0m\u001b[1;33m.\u001b[0m\u001b[0msales\u001b[0m\u001b[1;33m\u001b[0m\u001b[1;33m\u001b[0m\u001b[0m\n\u001b[0;32m     19\u001b[0m \u001b[1;33m\u001b[0m\u001b[0m\n",
      "\u001b[1;31mNameError\u001b[0m: name 'calculate_theta' is not defined"
     ]
    }
   ],
   "source": [
    "def ping():\n",
    "    global df_sales\n",
    "    df_sales = df_sales.groupby(['user_id', 'day']).agg(sales=('sales', sum)).reset_index()\n",
    "\n",
    "    min_day = df_sales['day'].min()\n",
    "    max_day = df_sales['day'].max()\n",
    "    full_days_horizon = np.arange(min_day, max_day + 1)\n",
    "\n",
    "    all_users_sales = df_sales.user_id.unique()\n",
    "\n",
    "    full_sales = pd.DataFrame({'user_id': np.repeat(all_users_sales, len(full_days_horizon)),\n",
    "                               'day': np.tile(full_days_horizon, len(all_users_sales))})\n",
    "    full_sales = full_sales.merge(df_sales, on=['user_id', 'day'], how='left').fillna(0.)\n",
    "\n",
    "    df_sales_covariate = full_sales[full_sales['day'].isin(np.arange(42, 49))].reset_index(drop=True)\n",
    "    df_sales_pilot = full_sales[full_sales['day'].isin(np.arange(49, 56))].reset_index(drop=True)\n",
    "    theta = calculate_theta(df_sales_pilot.sales, df_sales_covariate.sales)\n",
    "    y_cuped = df_sales_pilot.sales - theta * df_sales_covariate.sales\n",
    "\n",
    "    df_sales_pilot.sales = y_cuped\n",
    "\n",
    "    # эксперимент проводился с 49 до 55 день включительно\n",
    "    df_sales = df_sales_pilot\n",
    "    \n",
    "ping()"
   ]
  },
  {
   "cell_type": "code",
   "execution_count": 6,
   "metadata": {
    "ExecuteTime": {
     "end_time": "2021-07-03T00:36:11.447289Z",
     "start_time": "2021-07-03T00:36:11.441291Z"
    }
   },
   "outputs": [
    {
     "data": {
      "text/plain": [
       "0"
      ]
     },
     "execution_count": 6,
     "metadata": {},
     "output_type": "execute_result"
    }
   ],
   "source": [
    "df_sales.duplicated(subset=['user_id', 'day']).sum()"
   ]
  },
  {
   "cell_type": "code",
   "execution_count": 7,
   "metadata": {
    "ExecuteTime": {
     "end_time": "2021-07-03T00:36:15.993956Z",
     "start_time": "2021-07-03T00:36:15.976592Z"
    }
   },
   "outputs": [],
   "source": [
    "df_sales = df_sales.groupby(['user_id', 'day']).agg(sales = ('sales', sum)).reset_index()"
   ]
  },
  {
   "cell_type": "code",
   "execution_count": 8,
   "metadata": {
    "ExecuteTime": {
     "end_time": "2021-07-03T00:36:16.907708Z",
     "start_time": "2021-07-03T00:36:16.890044Z"
    }
   },
   "outputs": [
    {
     "data": {
      "text/plain": [
       "0"
      ]
     },
     "execution_count": 8,
     "metadata": {},
     "output_type": "execute_result"
    }
   ],
   "source": [
    "df_sales.duplicated(subset=['user_id', 'day']).sum()"
   ]
  },
  {
   "cell_type": "code",
   "execution_count": 9,
   "metadata": {
    "ExecuteTime": {
     "end_time": "2021-07-03T00:36:17.231038Z",
     "start_time": "2021-07-03T00:36:17.217039Z"
    }
   },
   "outputs": [
    {
     "data": {
      "text/plain": [
       "array([2481878, 5939953, 6805236, 5333820, 7187024, 9150021, 3499507,\n",
       "       9539622, 9161611, 4817623, 9464290, 1874213, 3585159, 7127106,\n",
       "       2295928, 2597063, 6351670, 7455740, 8522692, 7337419, 8837339,\n",
       "       2834344, 7541214, 8797835, 4467299, 8281354, 6216002, 1779850,\n",
       "       6804745, 5617807, 7961790, 7708672, 7122669, 5934212, 8600030,\n",
       "       2757614, 8903496, 8473226, 8941305, 7102072, 8519079, 6141258,\n",
       "       8064815, 4137940, 9661316, 2904838, 8199257, 4525597, 8951556,\n",
       "       7299960, 9894745, 9649086, 8371962, 3688123, 3916257, 5935138,\n",
       "       5935134, 7998418, 8150731, 2727476, 5751273, 8249566, 9802752,\n",
       "       6744044, 8970636, 8747009, 1895060, 8767236, 4038392, 4214314,\n",
       "       9179024, 9870718, 5410401, 1178709, 7380508, 5472676, 7726900,\n",
       "       5420929, 7808348, 6514970, 5319431, 8844393, 8230943, 6375026,\n",
       "       3527743, 2124163, 4667765, 1780374, 6277496, 7806764, 5877338,\n",
       "       3692244, 1279104, 5835333, 5752384, 5939640, 6906034, 3895207,\n",
       "       9978718, 8047968], dtype=int64)"
      ]
     },
     "execution_count": 9,
     "metadata": {},
     "output_type": "execute_result"
    }
   ],
   "source": [
    "df_users.user_id.unique()"
   ]
  },
  {
   "cell_type": "code",
   "execution_count": 10,
   "metadata": {
    "ExecuteTime": {
     "end_time": "2021-07-03T00:36:17.500359Z",
     "start_time": "2021-07-03T00:36:17.488359Z"
    }
   },
   "outputs": [],
   "source": [
    "half_size = 10\n",
    "\n",
    "remaining_users = set(df_sales.user_id.unique())\n",
    "\n",
    "group_a_one = np.random.choice(list(remaining_users), replace=False, size=half_size)\n",
    "remaining_users = remaining_users - set(group_a_one)\n",
    "\n",
    "group_a_two = np.random.choice(list(remaining_users), replace=False, size=half_size)\n",
    "remaining_users = remaining_users - set(group_a_two)\n",
    "\n",
    "group_b = np.random.choice(list(remaining_users), replace=False, size=half_size*2)\n",
    "remaining_users = remaining_users - set(group_b)"
   ]
  },
  {
   "cell_type": "code",
   "execution_count": 11,
   "metadata": {
    "ExecuteTime": {
     "end_time": "2021-07-03T00:36:19.472836Z",
     "start_time": "2021-07-03T00:36:19.464836Z"
    }
   },
   "outputs": [],
   "source": [
    "test = {'group_a_one': list(group_a_one), 'group_a_two': list(group_a_two), 'group_b': list(group_b)}"
   ]
  },
  {
   "cell_type": "code",
   "execution_count": 12,
   "metadata": {
    "ExecuteTime": {
     "end_time": "2021-07-03T00:36:19.662433Z",
     "start_time": "2021-07-03T00:36:19.657432Z"
    }
   },
   "outputs": [
    {
     "data": {
      "text/plain": [
       "array([1178709, 1279104, 1779850, 1780374, 1874213, 1895060, 2124163,\n",
       "       2295928, 2481878, 2597063, 2727476, 2757614, 2834344, 2904838,\n",
       "       3499507, 3527743, 3585159, 3688123, 3692244, 3895207, 3916257,\n",
       "       4038392, 4137940, 4214314, 4467299, 4525597, 4667765, 4817623,\n",
       "       5319431, 5333820, 5410401, 5420929, 5472676, 5617807, 5751273,\n",
       "       5752384, 5835333, 5877338, 5934212, 5935134, 5935138, 5939640,\n",
       "       5939953, 6141258, 6216002, 6277496, 6351670, 6375026, 6514970,\n",
       "       6744044, 6804745, 6805236, 6906034, 7102072, 7122669, 7127106,\n",
       "       7187024, 7299960, 7337419, 7380508, 7455740, 7541214, 7708672,\n",
       "       7726900, 7806764, 7808348, 7961790, 7998418, 8047968, 8064815,\n",
       "       8150731, 8199257, 8230943, 8249566, 8281354, 8371962, 8473226,\n",
       "       8519079, 8522692, 8600030, 8747009, 8767236, 8797835, 8837339,\n",
       "       8844393, 8903496, 8941305, 8951556, 8970636, 9150021, 9161611,\n",
       "       9179024, 9464290, 9539622, 9649086, 9661316, 9802752, 9870718,\n",
       "       9894745, 9978718], dtype=int64)"
      ]
     },
     "execution_count": 12,
     "metadata": {},
     "output_type": "execute_result"
    }
   ],
   "source": [
    "all_users_sales = df_sales.user_id.unique() # ).union(set(df_users.user_id.unique()))\n",
    "all_users_sales"
   ]
  },
  {
   "cell_type": "code",
   "execution_count": 13,
   "metadata": {
    "ExecuteTime": {
     "end_time": "2021-07-03T00:36:19.854435Z",
     "start_time": "2021-07-03T00:36:19.849434Z"
    }
   },
   "outputs": [
    {
     "data": {
      "text/plain": [
       "array([ 0,  1,  2,  3,  4,  5,  6,  7,  8,  9, 10, 11, 12, 13, 14, 15, 16,\n",
       "       17, 18, 19, 20, 21, 22, 23, 24, 25, 26, 27, 28, 29, 30, 31, 32, 33,\n",
       "       34, 35, 36, 37, 38, 39, 40, 41, 42, 43, 44, 45, 46, 47, 48, 49, 50,\n",
       "       51, 52, 53, 54, 55])"
      ]
     },
     "execution_count": 13,
     "metadata": {},
     "output_type": "execute_result"
    }
   ],
   "source": [
    "min_day = df_sales['day'].min()\n",
    "max_day = df_sales['day'].max()\n",
    "\n",
    "full_days_horizon = np.arange(min_day, max_day+1)\n",
    "full_days_horizon"
   ]
  },
  {
   "cell_type": "code",
   "execution_count": 14,
   "metadata": {
    "ExecuteTime": {
     "end_time": "2021-07-03T00:36:20.075432Z",
     "start_time": "2021-07-03T00:36:20.049432Z"
    }
   },
   "outputs": [
    {
     "data": {
      "text/html": [
       "<div>\n",
       "<style scoped>\n",
       "    .dataframe tbody tr th:only-of-type {\n",
       "        vertical-align: middle;\n",
       "    }\n",
       "\n",
       "    .dataframe tbody tr th {\n",
       "        vertical-align: top;\n",
       "    }\n",
       "\n",
       "    .dataframe thead th {\n",
       "        text-align: right;\n",
       "    }\n",
       "</style>\n",
       "<table border=\"1\" class=\"dataframe\">\n",
       "  <thead>\n",
       "    <tr style=\"text-align: right;\">\n",
       "      <th></th>\n",
       "      <th>user_id</th>\n",
       "      <th>day</th>\n",
       "      <th>sales</th>\n",
       "    </tr>\n",
       "  </thead>\n",
       "  <tbody>\n",
       "    <tr>\n",
       "      <th>0</th>\n",
       "      <td>1178709</td>\n",
       "      <td>0</td>\n",
       "      <td>0.0</td>\n",
       "    </tr>\n",
       "    <tr>\n",
       "      <th>1</th>\n",
       "      <td>1178709</td>\n",
       "      <td>1</td>\n",
       "      <td>967.0</td>\n",
       "    </tr>\n",
       "    <tr>\n",
       "      <th>2</th>\n",
       "      <td>1178709</td>\n",
       "      <td>2</td>\n",
       "      <td>0.0</td>\n",
       "    </tr>\n",
       "    <tr>\n",
       "      <th>3</th>\n",
       "      <td>1178709</td>\n",
       "      <td>3</td>\n",
       "      <td>0.0</td>\n",
       "    </tr>\n",
       "    <tr>\n",
       "      <th>4</th>\n",
       "      <td>1178709</td>\n",
       "      <td>4</td>\n",
       "      <td>0.0</td>\n",
       "    </tr>\n",
       "    <tr>\n",
       "      <th>...</th>\n",
       "      <td>...</td>\n",
       "      <td>...</td>\n",
       "      <td>...</td>\n",
       "    </tr>\n",
       "    <tr>\n",
       "      <th>5595</th>\n",
       "      <td>9978718</td>\n",
       "      <td>51</td>\n",
       "      <td>889.0</td>\n",
       "    </tr>\n",
       "    <tr>\n",
       "      <th>5596</th>\n",
       "      <td>9978718</td>\n",
       "      <td>52</td>\n",
       "      <td>0.0</td>\n",
       "    </tr>\n",
       "    <tr>\n",
       "      <th>5597</th>\n",
       "      <td>9978718</td>\n",
       "      <td>53</td>\n",
       "      <td>905.0</td>\n",
       "    </tr>\n",
       "    <tr>\n",
       "      <th>5598</th>\n",
       "      <td>9978718</td>\n",
       "      <td>54</td>\n",
       "      <td>0.0</td>\n",
       "    </tr>\n",
       "    <tr>\n",
       "      <th>5599</th>\n",
       "      <td>9978718</td>\n",
       "      <td>55</td>\n",
       "      <td>0.0</td>\n",
       "    </tr>\n",
       "  </tbody>\n",
       "</table>\n",
       "<p>5600 rows × 3 columns</p>\n",
       "</div>"
      ],
      "text/plain": [
       "      user_id  day  sales\n",
       "0     1178709    0    0.0\n",
       "1     1178709    1  967.0\n",
       "2     1178709    2    0.0\n",
       "3     1178709    3    0.0\n",
       "4     1178709    4    0.0\n",
       "...       ...  ...    ...\n",
       "5595  9978718   51  889.0\n",
       "5596  9978718   52    0.0\n",
       "5597  9978718   53  905.0\n",
       "5598  9978718   54    0.0\n",
       "5599  9978718   55    0.0\n",
       "\n",
       "[5600 rows x 3 columns]"
      ]
     },
     "execution_count": 14,
     "metadata": {},
     "output_type": "execute_result"
    }
   ],
   "source": [
    "full_sales = pd.DataFrame({'user_id': np.repeat(all_users_sales, len(full_days_horizon)),\n",
    "                           'day': np.tile(full_days_horizon, len(all_users_sales))})\n",
    "full_sales = full_sales.merge(df_sales, on=['user_id', 'day'], how='left').fillna(0.)\n",
    "full_sales"
   ]
  },
  {
   "cell_type": "markdown",
   "metadata": {},
   "source": [
    "# Cuped"
   ]
  },
  {
   "cell_type": "code",
   "execution_count": 15,
   "metadata": {
    "ExecuteTime": {
     "end_time": "2021-07-03T00:36:20.573432Z",
     "start_time": "2021-07-03T00:36:20.560435Z"
    }
   },
   "outputs": [],
   "source": [
    "df_sales_covariate = full_sales[full_sales['day'].isin(np.arange(42, 49))].reset_index(drop=True)\n",
    "df_sales_pilot = full_sales[full_sales['day'].isin(np.arange(49, 56))].reset_index(drop=True)"
   ]
  },
  {
   "cell_type": "code",
   "execution_count": 16,
   "metadata": {
    "ExecuteTime": {
     "end_time": "2021-07-03T00:36:20.777432Z",
     "start_time": "2021-07-03T00:36:20.770432Z"
    }
   },
   "outputs": [
    {
     "data": {
      "text/html": [
       "<div>\n",
       "<style scoped>\n",
       "    .dataframe tbody tr th:only-of-type {\n",
       "        vertical-align: middle;\n",
       "    }\n",
       "\n",
       "    .dataframe tbody tr th {\n",
       "        vertical-align: top;\n",
       "    }\n",
       "\n",
       "    .dataframe thead th {\n",
       "        text-align: right;\n",
       "    }\n",
       "</style>\n",
       "<table border=\"1\" class=\"dataframe\">\n",
       "  <thead>\n",
       "    <tr style=\"text-align: right;\">\n",
       "      <th></th>\n",
       "      <th>user_id</th>\n",
       "      <th>day</th>\n",
       "      <th>sales</th>\n",
       "    </tr>\n",
       "  </thead>\n",
       "  <tbody>\n",
       "    <tr>\n",
       "      <th>0</th>\n",
       "      <td>1178709</td>\n",
       "      <td>49</td>\n",
       "      <td>0.0</td>\n",
       "    </tr>\n",
       "    <tr>\n",
       "      <th>1</th>\n",
       "      <td>1178709</td>\n",
       "      <td>50</td>\n",
       "      <td>1719.0</td>\n",
       "    </tr>\n",
       "    <tr>\n",
       "      <th>2</th>\n",
       "      <td>1178709</td>\n",
       "      <td>51</td>\n",
       "      <td>0.0</td>\n",
       "    </tr>\n",
       "    <tr>\n",
       "      <th>3</th>\n",
       "      <td>1178709</td>\n",
       "      <td>52</td>\n",
       "      <td>0.0</td>\n",
       "    </tr>\n",
       "    <tr>\n",
       "      <th>4</th>\n",
       "      <td>1178709</td>\n",
       "      <td>53</td>\n",
       "      <td>1701.0</td>\n",
       "    </tr>\n",
       "    <tr>\n",
       "      <th>5</th>\n",
       "      <td>1178709</td>\n",
       "      <td>54</td>\n",
       "      <td>0.0</td>\n",
       "    </tr>\n",
       "    <tr>\n",
       "      <th>6</th>\n",
       "      <td>1178709</td>\n",
       "      <td>55</td>\n",
       "      <td>1093.0</td>\n",
       "    </tr>\n",
       "    <tr>\n",
       "      <th>7</th>\n",
       "      <td>1279104</td>\n",
       "      <td>49</td>\n",
       "      <td>0.0</td>\n",
       "    </tr>\n",
       "    <tr>\n",
       "      <th>8</th>\n",
       "      <td>1279104</td>\n",
       "      <td>50</td>\n",
       "      <td>1189.0</td>\n",
       "    </tr>\n",
       "    <tr>\n",
       "      <th>9</th>\n",
       "      <td>1279104</td>\n",
       "      <td>51</td>\n",
       "      <td>0.0</td>\n",
       "    </tr>\n",
       "  </tbody>\n",
       "</table>\n",
       "</div>"
      ],
      "text/plain": [
       "   user_id  day   sales\n",
       "0  1178709   49     0.0\n",
       "1  1178709   50  1719.0\n",
       "2  1178709   51     0.0\n",
       "3  1178709   52     0.0\n",
       "4  1178709   53  1701.0\n",
       "5  1178709   54     0.0\n",
       "6  1178709   55  1093.0\n",
       "7  1279104   49     0.0\n",
       "8  1279104   50  1189.0\n",
       "9  1279104   51     0.0"
      ]
     },
     "execution_count": 16,
     "metadata": {},
     "output_type": "execute_result"
    }
   ],
   "source": [
    "df_sales_pilot.head(10)"
   ]
  },
  {
   "cell_type": "code",
   "execution_count": 17,
   "metadata": {
    "ExecuteTime": {
     "end_time": "2021-07-03T00:36:20.994432Z",
     "start_time": "2021-07-03T00:36:20.976433Z"
    }
   },
   "outputs": [
    {
     "data": {
      "text/html": [
       "<div>\n",
       "<style scoped>\n",
       "    .dataframe tbody tr th:only-of-type {\n",
       "        vertical-align: middle;\n",
       "    }\n",
       "\n",
       "    .dataframe tbody tr th {\n",
       "        vertical-align: top;\n",
       "    }\n",
       "\n",
       "    .dataframe thead th {\n",
       "        text-align: right;\n",
       "    }\n",
       "</style>\n",
       "<table border=\"1\" class=\"dataframe\">\n",
       "  <thead>\n",
       "    <tr style=\"text-align: right;\">\n",
       "      <th></th>\n",
       "      <th>user_id</th>\n",
       "      <th>day</th>\n",
       "      <th>sales</th>\n",
       "    </tr>\n",
       "  </thead>\n",
       "  <tbody>\n",
       "    <tr>\n",
       "      <th>0</th>\n",
       "      <td>1178709</td>\n",
       "      <td>42</td>\n",
       "      <td>1488.0</td>\n",
       "    </tr>\n",
       "    <tr>\n",
       "      <th>1</th>\n",
       "      <td>1178709</td>\n",
       "      <td>43</td>\n",
       "      <td>434.0</td>\n",
       "    </tr>\n",
       "    <tr>\n",
       "      <th>2</th>\n",
       "      <td>1178709</td>\n",
       "      <td>44</td>\n",
       "      <td>0.0</td>\n",
       "    </tr>\n",
       "    <tr>\n",
       "      <th>3</th>\n",
       "      <td>1178709</td>\n",
       "      <td>45</td>\n",
       "      <td>1069.0</td>\n",
       "    </tr>\n",
       "    <tr>\n",
       "      <th>4</th>\n",
       "      <td>1178709</td>\n",
       "      <td>46</td>\n",
       "      <td>0.0</td>\n",
       "    </tr>\n",
       "    <tr>\n",
       "      <th>5</th>\n",
       "      <td>1178709</td>\n",
       "      <td>47</td>\n",
       "      <td>1019.0</td>\n",
       "    </tr>\n",
       "    <tr>\n",
       "      <th>6</th>\n",
       "      <td>1178709</td>\n",
       "      <td>48</td>\n",
       "      <td>0.0</td>\n",
       "    </tr>\n",
       "    <tr>\n",
       "      <th>7</th>\n",
       "      <td>1279104</td>\n",
       "      <td>42</td>\n",
       "      <td>0.0</td>\n",
       "    </tr>\n",
       "    <tr>\n",
       "      <th>8</th>\n",
       "      <td>1279104</td>\n",
       "      <td>43</td>\n",
       "      <td>949.0</td>\n",
       "    </tr>\n",
       "    <tr>\n",
       "      <th>9</th>\n",
       "      <td>1279104</td>\n",
       "      <td>44</td>\n",
       "      <td>0.0</td>\n",
       "    </tr>\n",
       "  </tbody>\n",
       "</table>\n",
       "</div>"
      ],
      "text/plain": [
       "   user_id  day   sales\n",
       "0  1178709   42  1488.0\n",
       "1  1178709   43   434.0\n",
       "2  1178709   44     0.0\n",
       "3  1178709   45  1069.0\n",
       "4  1178709   46     0.0\n",
       "5  1178709   47  1019.0\n",
       "6  1178709   48     0.0\n",
       "7  1279104   42     0.0\n",
       "8  1279104   43   949.0\n",
       "9  1279104   44     0.0"
      ]
     },
     "execution_count": 17,
     "metadata": {},
     "output_type": "execute_result"
    }
   ],
   "source": [
    "df_sales_covariate.head(10)"
   ]
  },
  {
   "cell_type": "code",
   "execution_count": 18,
   "metadata": {
    "ExecuteTime": {
     "end_time": "2021-07-03T00:36:21.182432Z",
     "start_time": "2021-07-03T00:36:21.169432Z"
    }
   },
   "outputs": [
    {
     "data": {
      "text/plain": [
       "0.06579005833857511"
      ]
     },
     "execution_count": 18,
     "metadata": {},
     "output_type": "execute_result"
    }
   ],
   "source": [
    "def calculate_theta(y, y_covariate) -> float:\n",
    "    covariance = np.cov(y_covariate, y)[0, 1]\n",
    "    variance = y_covariate.var()\n",
    "    theta = covariance / variance\n",
    "    return theta\n",
    "\n",
    "theta = calculate_theta(df_sales_pilot.sales, df_sales_covariate.sales)\n",
    "theta"
   ]
  },
  {
   "cell_type": "code",
   "execution_count": 19,
   "metadata": {
    "ExecuteTime": {
     "end_time": "2021-07-03T00:36:21.398432Z",
     "start_time": "2021-07-03T00:36:21.360432Z"
    }
   },
   "outputs": [
    {
     "data": {
      "text/html": [
       "<div>\n",
       "<style scoped>\n",
       "    .dataframe tbody tr th:only-of-type {\n",
       "        vertical-align: middle;\n",
       "    }\n",
       "\n",
       "    .dataframe tbody tr th {\n",
       "        vertical-align: top;\n",
       "    }\n",
       "\n",
       "    .dataframe thead th {\n",
       "        text-align: right;\n",
       "    }\n",
       "</style>\n",
       "<table border=\"1\" class=\"dataframe\">\n",
       "  <thead>\n",
       "    <tr style=\"text-align: right;\">\n",
       "      <th></th>\n",
       "      <th>user_id</th>\n",
       "      <th>day</th>\n",
       "      <th>sales</th>\n",
       "    </tr>\n",
       "  </thead>\n",
       "  <tbody>\n",
       "    <tr>\n",
       "      <th>0</th>\n",
       "      <td>1178709</td>\n",
       "      <td>49</td>\n",
       "      <td>-97.895607</td>\n",
       "    </tr>\n",
       "    <tr>\n",
       "      <th>1</th>\n",
       "      <td>1178709</td>\n",
       "      <td>50</td>\n",
       "      <td>1690.447115</td>\n",
       "    </tr>\n",
       "    <tr>\n",
       "      <th>2</th>\n",
       "      <td>1178709</td>\n",
       "      <td>51</td>\n",
       "      <td>0.000000</td>\n",
       "    </tr>\n",
       "    <tr>\n",
       "      <th>3</th>\n",
       "      <td>1178709</td>\n",
       "      <td>52</td>\n",
       "      <td>-70.329572</td>\n",
       "    </tr>\n",
       "    <tr>\n",
       "      <th>4</th>\n",
       "      <td>1178709</td>\n",
       "      <td>53</td>\n",
       "      <td>1701.000000</td>\n",
       "    </tr>\n",
       "    <tr>\n",
       "      <th>...</th>\n",
       "      <td>...</td>\n",
       "      <td>...</td>\n",
       "      <td>...</td>\n",
       "    </tr>\n",
       "    <tr>\n",
       "      <th>695</th>\n",
       "      <td>9978718</td>\n",
       "      <td>51</td>\n",
       "      <td>828.867887</td>\n",
       "    </tr>\n",
       "    <tr>\n",
       "      <th>696</th>\n",
       "      <td>9978718</td>\n",
       "      <td>52</td>\n",
       "      <td>0.000000</td>\n",
       "    </tr>\n",
       "    <tr>\n",
       "      <th>697</th>\n",
       "      <td>9978718</td>\n",
       "      <td>53</td>\n",
       "      <td>846.249478</td>\n",
       "    </tr>\n",
       "    <tr>\n",
       "      <th>698</th>\n",
       "      <td>9978718</td>\n",
       "      <td>54</td>\n",
       "      <td>0.000000</td>\n",
       "    </tr>\n",
       "    <tr>\n",
       "      <th>699</th>\n",
       "      <td>9978718</td>\n",
       "      <td>55</td>\n",
       "      <td>-60.987384</td>\n",
       "    </tr>\n",
       "  </tbody>\n",
       "</table>\n",
       "<p>700 rows × 3 columns</p>\n",
       "</div>"
      ],
      "text/plain": [
       "     user_id  day        sales\n",
       "0    1178709   49   -97.895607\n",
       "1    1178709   50  1690.447115\n",
       "2    1178709   51     0.000000\n",
       "3    1178709   52   -70.329572\n",
       "4    1178709   53  1701.000000\n",
       "..       ...  ...          ...\n",
       "695  9978718   51   828.867887\n",
       "696  9978718   52     0.000000\n",
       "697  9978718   53   846.249478\n",
       "698  9978718   54     0.000000\n",
       "699  9978718   55   -60.987384\n",
       "\n",
       "[700 rows x 3 columns]"
      ]
     },
     "execution_count": 19,
     "metadata": {},
     "output_type": "execute_result"
    }
   ],
   "source": [
    "y_cuped = df_sales_pilot.sales - theta * df_sales_covariate.sales\n",
    "# df_cuped = pd.DataFrame({'user_id': df_sales_pilot.user_id,\n",
    "#                          'sales': y_cuped})\n",
    "# df_cuped\n",
    "\n",
    "df_sales_pilot.sales = y_cuped\n",
    "df_sales_pilot"
   ]
  },
  {
   "cell_type": "code",
   "execution_count": 20,
   "metadata": {
    "ExecuteTime": {
     "end_time": "2021-07-03T00:36:21.619443Z",
     "start_time": "2021-07-03T00:36:21.600432Z"
    }
   },
   "outputs": [
    {
     "data": {
      "text/plain": [
       "0       -97.895607\n",
       "1      1690.447115\n",
       "2         0.000000\n",
       "3       -70.329572\n",
       "4      1701.000000\n",
       "          ...     \n",
       "695     828.867887\n",
       "696       0.000000\n",
       "697     846.249478\n",
       "698       0.000000\n",
       "699     -60.987384\n",
       "Name: sales, Length: 700, dtype: float64"
      ]
     },
     "execution_count": 20,
     "metadata": {},
     "output_type": "execute_result"
    }
   ],
   "source": [
    "y_cuped"
   ]
  },
  {
   "cell_type": "markdown",
   "metadata": {},
   "source": [
    "# Stratification"
   ]
  },
  {
   "cell_type": "code",
   "execution_count": 21,
   "metadata": {
    "ExecuteTime": {
     "end_time": "2021-07-03T00:36:22.827432Z",
     "start_time": "2021-07-03T00:36:22.824432Z"
    }
   },
   "outputs": [],
   "source": [
    "# gender only\n",
    "# binned age only\n",
    "# binned age + gender\n",
    "# different bin size"
   ]
  },
  {
   "cell_type": "code",
   "execution_count": 32,
   "metadata": {
    "ExecuteTime": {
     "end_time": "2021-07-03T00:52:28.726550Z",
     "start_time": "2021-07-03T00:52:28.722561Z"
    }
   },
   "outputs": [],
   "source": [
    "group_a_one = test['group_a_one']\n",
    "group_a_two = test['group_a_two']\n",
    "\n",
    "user_a = group_a_one + group_a_two\n",
    "user_b = test['group_b']"
   ]
  },
  {
   "cell_type": "code",
   "execution_count": 36,
   "metadata": {
    "ExecuteTime": {
     "end_time": "2021-07-03T00:53:26.890404Z",
     "start_time": "2021-07-03T00:53:26.881891Z"
    }
   },
   "outputs": [
    {
     "data": {
      "text/plain": [
       "0    0.64\n",
       "1    0.36\n",
       "Name: gender, dtype: float64"
      ]
     },
     "execution_count": 36,
     "metadata": {},
     "output_type": "execute_result"
    }
   ],
   "source": [
    "# on historical data\n",
    "weights = df_users.gender.value_counts(normalize=True)\n",
    "weights"
   ]
  },
  {
   "cell_type": "code",
   "execution_count": 41,
   "metadata": {
    "ExecuteTime": {
     "end_time": "2021-07-03T00:56:25.657773Z",
     "start_time": "2021-07-03T00:56:25.634757Z"
    }
   },
   "outputs": [
    {
     "data": {
      "text/html": [
       "<div>\n",
       "<style scoped>\n",
       "    .dataframe tbody tr th:only-of-type {\n",
       "        vertical-align: middle;\n",
       "    }\n",
       "\n",
       "    .dataframe tbody tr th {\n",
       "        vertical-align: top;\n",
       "    }\n",
       "\n",
       "    .dataframe thead th {\n",
       "        text-align: right;\n",
       "    }\n",
       "</style>\n",
       "<table border=\"1\" class=\"dataframe\">\n",
       "  <thead>\n",
       "    <tr style=\"text-align: right;\">\n",
       "      <th></th>\n",
       "      <th>user_id</th>\n",
       "      <th>day</th>\n",
       "      <th>sales</th>\n",
       "      <th>gender</th>\n",
       "      <th>age</th>\n",
       "    </tr>\n",
       "  </thead>\n",
       "  <tbody>\n",
       "    <tr>\n",
       "      <th>0</th>\n",
       "      <td>1178709</td>\n",
       "      <td>1</td>\n",
       "      <td>967</td>\n",
       "      <td>0</td>\n",
       "      <td>29</td>\n",
       "    </tr>\n",
       "    <tr>\n",
       "      <th>1</th>\n",
       "      <td>1178709</td>\n",
       "      <td>5</td>\n",
       "      <td>2003</td>\n",
       "      <td>0</td>\n",
       "      <td>29</td>\n",
       "    </tr>\n",
       "    <tr>\n",
       "      <th>2</th>\n",
       "      <td>1178709</td>\n",
       "      <td>6</td>\n",
       "      <td>508</td>\n",
       "      <td>0</td>\n",
       "      <td>29</td>\n",
       "    </tr>\n",
       "    <tr>\n",
       "      <th>3</th>\n",
       "      <td>1178709</td>\n",
       "      <td>7</td>\n",
       "      <td>495</td>\n",
       "      <td>0</td>\n",
       "      <td>29</td>\n",
       "    </tr>\n",
       "    <tr>\n",
       "      <th>4</th>\n",
       "      <td>1178709</td>\n",
       "      <td>10</td>\n",
       "      <td>1560</td>\n",
       "      <td>0</td>\n",
       "      <td>29</td>\n",
       "    </tr>\n",
       "    <tr>\n",
       "      <th>...</th>\n",
       "      <td>...</td>\n",
       "      <td>...</td>\n",
       "      <td>...</td>\n",
       "      <td>...</td>\n",
       "      <td>...</td>\n",
       "    </tr>\n",
       "    <tr>\n",
       "      <th>2788</th>\n",
       "      <td>9978718</td>\n",
       "      <td>46</td>\n",
       "      <td>893</td>\n",
       "      <td>0</td>\n",
       "      <td>30</td>\n",
       "    </tr>\n",
       "    <tr>\n",
       "      <th>2789</th>\n",
       "      <td>9978718</td>\n",
       "      <td>48</td>\n",
       "      <td>927</td>\n",
       "      <td>0</td>\n",
       "      <td>30</td>\n",
       "    </tr>\n",
       "    <tr>\n",
       "      <th>2790</th>\n",
       "      <td>9978718</td>\n",
       "      <td>49</td>\n",
       "      <td>451</td>\n",
       "      <td>0</td>\n",
       "      <td>30</td>\n",
       "    </tr>\n",
       "    <tr>\n",
       "      <th>2791</th>\n",
       "      <td>9978718</td>\n",
       "      <td>51</td>\n",
       "      <td>889</td>\n",
       "      <td>0</td>\n",
       "      <td>30</td>\n",
       "    </tr>\n",
       "    <tr>\n",
       "      <th>2792</th>\n",
       "      <td>9978718</td>\n",
       "      <td>53</td>\n",
       "      <td>905</td>\n",
       "      <td>0</td>\n",
       "      <td>30</td>\n",
       "    </tr>\n",
       "  </tbody>\n",
       "</table>\n",
       "<p>2793 rows × 5 columns</p>\n",
       "</div>"
      ],
      "text/plain": [
       "      user_id  day  sales  gender  age\n",
       "0     1178709    1    967       0   29\n",
       "1     1178709    5   2003       0   29\n",
       "2     1178709    6    508       0   29\n",
       "3     1178709    7    495       0   29\n",
       "4     1178709   10   1560       0   29\n",
       "...       ...  ...    ...     ...  ...\n",
       "2788  9978718   46    893       0   30\n",
       "2789  9978718   48    927       0   30\n",
       "2790  9978718   49    451       0   30\n",
       "2791  9978718   51    889       0   30\n",
       "2792  9978718   53    905       0   30\n",
       "\n",
       "[2793 rows x 5 columns]"
      ]
     },
     "execution_count": 41,
     "metadata": {},
     "output_type": "execute_result"
    }
   ],
   "source": [
    "users_sales_df = df_sales.merge(df_users, on='user_id', how='left')\n",
    "users_sales_df"
   ]
  },
  {
   "cell_type": "code",
   "execution_count": 43,
   "metadata": {
    "ExecuteTime": {
     "end_time": "2021-07-03T00:58:38.901102Z",
     "start_time": "2021-07-03T00:58:38.890106Z"
    }
   },
   "outputs": [
    {
     "data": {
      "text/html": [
       "<div>\n",
       "<style scoped>\n",
       "    .dataframe tbody tr th:only-of-type {\n",
       "        vertical-align: middle;\n",
       "    }\n",
       "\n",
       "    .dataframe tbody tr th {\n",
       "        vertical-align: top;\n",
       "    }\n",
       "\n",
       "    .dataframe thead th {\n",
       "        text-align: right;\n",
       "    }\n",
       "</style>\n",
       "<table border=\"1\" class=\"dataframe\">\n",
       "  <thead>\n",
       "    <tr style=\"text-align: right;\">\n",
       "      <th></th>\n",
       "      <th>user_id</th>\n",
       "      <th>day</th>\n",
       "      <th>sales</th>\n",
       "      <th>gender</th>\n",
       "      <th>age</th>\n",
       "    </tr>\n",
       "  </thead>\n",
       "  <tbody>\n",
       "    <tr>\n",
       "      <th>97</th>\n",
       "      <td>1780374</td>\n",
       "      <td>22</td>\n",
       "      <td>459</td>\n",
       "      <td>0</td>\n",
       "      <td>27</td>\n",
       "    </tr>\n",
       "    <tr>\n",
       "      <th>98</th>\n",
       "      <td>1780374</td>\n",
       "      <td>41</td>\n",
       "      <td>446</td>\n",
       "      <td>0</td>\n",
       "      <td>27</td>\n",
       "    </tr>\n",
       "    <tr>\n",
       "      <th>237</th>\n",
       "      <td>2481878</td>\n",
       "      <td>1</td>\n",
       "      <td>209</td>\n",
       "      <td>0</td>\n",
       "      <td>26</td>\n",
       "    </tr>\n",
       "    <tr>\n",
       "      <th>238</th>\n",
       "      <td>2481878</td>\n",
       "      <td>2</td>\n",
       "      <td>185</td>\n",
       "      <td>0</td>\n",
       "      <td>26</td>\n",
       "    </tr>\n",
       "    <tr>\n",
       "      <th>239</th>\n",
       "      <td>2481878</td>\n",
       "      <td>4</td>\n",
       "      <td>385</td>\n",
       "      <td>0</td>\n",
       "      <td>26</td>\n",
       "    </tr>\n",
       "    <tr>\n",
       "      <th>...</th>\n",
       "      <td>...</td>\n",
       "      <td>...</td>\n",
       "      <td>...</td>\n",
       "      <td>...</td>\n",
       "      <td>...</td>\n",
       "    </tr>\n",
       "    <tr>\n",
       "      <th>2760</th>\n",
       "      <td>9894745</td>\n",
       "      <td>45</td>\n",
       "      <td>619</td>\n",
       "      <td>0</td>\n",
       "      <td>26</td>\n",
       "    </tr>\n",
       "    <tr>\n",
       "      <th>2761</th>\n",
       "      <td>9894745</td>\n",
       "      <td>47</td>\n",
       "      <td>1078</td>\n",
       "      <td>0</td>\n",
       "      <td>26</td>\n",
       "    </tr>\n",
       "    <tr>\n",
       "      <th>2762</th>\n",
       "      <td>9894745</td>\n",
       "      <td>50</td>\n",
       "      <td>1259</td>\n",
       "      <td>0</td>\n",
       "      <td>26</td>\n",
       "    </tr>\n",
       "    <tr>\n",
       "      <th>2763</th>\n",
       "      <td>9894745</td>\n",
       "      <td>53</td>\n",
       "      <td>1694</td>\n",
       "      <td>0</td>\n",
       "      <td>26</td>\n",
       "    </tr>\n",
       "    <tr>\n",
       "      <th>2764</th>\n",
       "      <td>9894745</td>\n",
       "      <td>54</td>\n",
       "      <td>581</td>\n",
       "      <td>0</td>\n",
       "      <td>26</td>\n",
       "    </tr>\n",
       "  </tbody>\n",
       "</table>\n",
       "<p>596 rows × 5 columns</p>\n",
       "</div>"
      ],
      "text/plain": [
       "      user_id  day  sales  gender  age\n",
       "97    1780374   22    459       0   27\n",
       "98    1780374   41    446       0   27\n",
       "237   2481878    1    209       0   26\n",
       "238   2481878    2    185       0   26\n",
       "239   2481878    4    385       0   26\n",
       "...       ...  ...    ...     ...  ...\n",
       "2760  9894745   45    619       0   26\n",
       "2761  9894745   47   1078       0   26\n",
       "2762  9894745   50   1259       0   26\n",
       "2763  9894745   53   1694       0   26\n",
       "2764  9894745   54    581       0   26\n",
       "\n",
       "[596 rows x 5 columns]"
      ]
     },
     "execution_count": 43,
     "metadata": {},
     "output_type": "execute_result"
    }
   ],
   "source": [
    "sales_a = users_sales_df[users_sales_df['user_id'].isin(user_a)]#['sales'].values\n",
    "sales_b = users_sales_df[users_sales_df['user_id'].isin(user_b)]#['sales'].values\n",
    "sales_a"
   ]
  },
  {
   "cell_type": "code",
   "execution_count": 44,
   "metadata": {
    "ExecuteTime": {
     "end_time": "2021-07-03T00:58:43.754074Z",
     "start_time": "2021-07-03T00:58:43.746072Z"
    }
   },
   "outputs": [
    {
     "data": {
      "text/html": [
       "<div>\n",
       "<style scoped>\n",
       "    .dataframe tbody tr th:only-of-type {\n",
       "        vertical-align: middle;\n",
       "    }\n",
       "\n",
       "    .dataframe tbody tr th {\n",
       "        vertical-align: top;\n",
       "    }\n",
       "\n",
       "    .dataframe thead th {\n",
       "        text-align: right;\n",
       "    }\n",
       "</style>\n",
       "<table border=\"1\" class=\"dataframe\">\n",
       "  <thead>\n",
       "    <tr style=\"text-align: right;\">\n",
       "      <th></th>\n",
       "      <th>user_id</th>\n",
       "      <th>day</th>\n",
       "      <th>sales</th>\n",
       "      <th>gender</th>\n",
       "      <th>age</th>\n",
       "    </tr>\n",
       "  </thead>\n",
       "  <tbody>\n",
       "    <tr>\n",
       "      <th>136</th>\n",
       "      <td>1895060</td>\n",
       "      <td>4</td>\n",
       "      <td>1167</td>\n",
       "      <td>1</td>\n",
       "      <td>28</td>\n",
       "    </tr>\n",
       "    <tr>\n",
       "      <th>137</th>\n",
       "      <td>1895060</td>\n",
       "      <td>5</td>\n",
       "      <td>495</td>\n",
       "      <td>1</td>\n",
       "      <td>28</td>\n",
       "    </tr>\n",
       "    <tr>\n",
       "      <th>138</th>\n",
       "      <td>1895060</td>\n",
       "      <td>6</td>\n",
       "      <td>522</td>\n",
       "      <td>1</td>\n",
       "      <td>28</td>\n",
       "    </tr>\n",
       "    <tr>\n",
       "      <th>139</th>\n",
       "      <td>1895060</td>\n",
       "      <td>7</td>\n",
       "      <td>455</td>\n",
       "      <td>1</td>\n",
       "      <td>28</td>\n",
       "    </tr>\n",
       "    <tr>\n",
       "      <th>140</th>\n",
       "      <td>1895060</td>\n",
       "      <td>9</td>\n",
       "      <td>953</td>\n",
       "      <td>1</td>\n",
       "      <td>28</td>\n",
       "    </tr>\n",
       "    <tr>\n",
       "      <th>...</th>\n",
       "      <td>...</td>\n",
       "      <td>...</td>\n",
       "      <td>...</td>\n",
       "      <td>...</td>\n",
       "      <td>...</td>\n",
       "    </tr>\n",
       "    <tr>\n",
       "      <th>2671</th>\n",
       "      <td>9661316</td>\n",
       "      <td>38</td>\n",
       "      <td>630</td>\n",
       "      <td>0</td>\n",
       "      <td>23</td>\n",
       "    </tr>\n",
       "    <tr>\n",
       "      <th>2672</th>\n",
       "      <td>9661316</td>\n",
       "      <td>45</td>\n",
       "      <td>583</td>\n",
       "      <td>0</td>\n",
       "      <td>23</td>\n",
       "    </tr>\n",
       "    <tr>\n",
       "      <th>2673</th>\n",
       "      <td>9661316</td>\n",
       "      <td>48</td>\n",
       "      <td>912</td>\n",
       "      <td>0</td>\n",
       "      <td>23</td>\n",
       "    </tr>\n",
       "    <tr>\n",
       "      <th>2674</th>\n",
       "      <td>9661316</td>\n",
       "      <td>50</td>\n",
       "      <td>634</td>\n",
       "      <td>0</td>\n",
       "      <td>23</td>\n",
       "    </tr>\n",
       "    <tr>\n",
       "      <th>2675</th>\n",
       "      <td>9661316</td>\n",
       "      <td>52</td>\n",
       "      <td>686</td>\n",
       "      <td>0</td>\n",
       "      <td>23</td>\n",
       "    </tr>\n",
       "  </tbody>\n",
       "</table>\n",
       "<p>644 rows × 5 columns</p>\n",
       "</div>"
      ],
      "text/plain": [
       "      user_id  day  sales  gender  age\n",
       "136   1895060    4   1167       1   28\n",
       "137   1895060    5    495       1   28\n",
       "138   1895060    6    522       1   28\n",
       "139   1895060    7    455       1   28\n",
       "140   1895060    9    953       1   28\n",
       "...       ...  ...    ...     ...  ...\n",
       "2671  9661316   38    630       0   23\n",
       "2672  9661316   45    583       0   23\n",
       "2673  9661316   48    912       0   23\n",
       "2674  9661316   50    634       0   23\n",
       "2675  9661316   52    686       0   23\n",
       "\n",
       "[644 rows x 5 columns]"
      ]
     },
     "execution_count": 44,
     "metadata": {},
     "output_type": "execute_result"
    }
   ],
   "source": [
    "sales_b"
   ]
  },
  {
   "cell_type": "code",
   "execution_count": 51,
   "metadata": {
    "ExecuteTime": {
     "end_time": "2021-07-03T00:59:49.124778Z",
     "start_time": "2021-07-03T00:59:49.114777Z"
    }
   },
   "outputs": [
    {
     "data": {
      "text/plain": [
       "611.3150589387263"
      ]
     },
     "execution_count": 51,
     "metadata": {},
     "output_type": "execute_result"
    }
   ],
   "source": [
    "(sales_b.groupby('gender')['sales'].mean() * weights).sum()"
   ]
  },
  {
   "cell_type": "code",
   "execution_count": 37,
   "metadata": {
    "ExecuteTime": {
     "end_time": "2021-07-03T00:53:36.495686Z",
     "start_time": "2021-07-03T00:53:36.490697Z"
    }
   },
   "outputs": [
    {
     "data": {
      "text/plain": [
       "array([0., 0., 0., ..., 0., 0., 0.])"
      ]
     },
     "execution_count": 37,
     "metadata": {},
     "output_type": "execute_result"
    }
   ],
   "source": [
    "sales_b"
   ]
  },
  {
   "cell_type": "code",
   "execution_count": 54,
   "metadata": {
    "ExecuteTime": {
     "end_time": "2021-07-03T01:00:55.863265Z",
     "start_time": "2021-07-03T01:00:55.858266Z"
    }
   },
   "outputs": [
    {
     "data": {
      "text/plain": [
       "611.3150589387263"
      ]
     },
     "execution_count": 54,
     "metadata": {},
     "output_type": "execute_result"
    }
   ],
   "source": [
    "def calc_strat_mean(df, strat_column, target_name, weights):\n",
    "    strat_mean = df.groupby(strat_column)[target_name].mean()\n",
    "    return (strat_mean * weights).sum()\n",
    "\n",
    "calc_strat_mean(sales_b, 'gender', 'sales', weights)"
   ]
  },
  {
   "cell_type": "code",
   "execution_count": 63,
   "metadata": {
    "ExecuteTime": {
     "end_time": "2021-07-03T01:04:28.931122Z",
     "start_time": "2021-07-03T01:04:28.915123Z"
    }
   },
   "outputs": [
    {
     "data": {
      "text/plain": [
       "True"
      ]
     },
     "execution_count": 63,
     "metadata": {},
     "output_type": "execute_result"
    }
   ],
   "source": [
    "not (1 < -2 < 7)"
   ]
  },
  {
   "cell_type": "code",
   "execution_count": null,
   "metadata": {},
   "outputs": [],
   "source": [
    "def calc_strat_var(df: pd.DataFrame, strat_column: str, target_name: str, weights: dict):\n",
    "    \"\"\"Считаем стратифицированную дисперсию.\n",
    "\n",
    "    df - датафрейм с целевой метрикой и данными для стратификации\n",
    "    strat_column - названия столбца по которому проводить стратификацию\n",
    "    target_name - название столбца с целевой переменной\n",
    "    weights - словарь - {название страты: вес страты}\n",
    "    \n",
    "    return: float, var_strat\n",
    "    \"\"\"\n",
    "    strat_var = df.groupby(strat_column)[target_name].var()\n",
    "    return (strat_var * pd.Series(weights)).sum()"
   ]
  },
  {
   "cell_type": "code",
   "execution_count": 24,
   "metadata": {
    "ExecuteTime": {
     "end_time": "2021-07-03T00:36:24.179440Z",
     "start_time": "2021-07-03T00:36:24.160440Z"
    }
   },
   "outputs": [
    {
     "data": {
      "text/plain": [
       "Ttest_indResult(statistic=-1.1574644391318956, pvalue=0.2472061758622636)"
      ]
     },
     "execution_count": 24,
     "metadata": {},
     "output_type": "execute_result"
    }
   ],
   "source": [
    "ttest_ind(sales_a, sales_b)"
   ]
  },
  {
   "cell_type": "code",
   "execution_count": 25,
   "metadata": {
    "ExecuteTime": {
     "end_time": "2021-07-03T00:36:28.243442Z",
     "start_time": "2021-07-03T00:36:28.224441Z"
    }
   },
   "outputs": [
    {
     "data": {
      "text/plain": [
       "1.1574644391318956"
      ]
     },
     "execution_count": 25,
     "metadata": {},
     "output_type": "execute_result"
    }
   ],
   "source": [
    "mu_a = sales_a.mean()\n",
    "mu_b = sales_b.mean()\n",
    "\n",
    "var_a = sales_a.var(ddof=1)\n",
    "var_b = sales_b.var(ddof=1)\n",
    "\n",
    "var_a_norm = var_a / len(sales_a)\n",
    "var_b_norm = var_b / len(sales_b)\n",
    "\n",
    "t_stat = (mu_b - mu_a) / np.sqrt(var_a_norm + var_b_norm)\n",
    "t_stat"
   ]
  },
  {
   "cell_type": "code",
   "execution_count": 31,
   "metadata": {
    "ExecuteTime": {
     "end_time": "2021-07-03T00:37:46.974913Z",
     "start_time": "2021-07-03T00:37:46.969924Z"
    }
   },
   "outputs": [
    {
     "data": {
      "text/plain": [
       "0.0474467825180526"
      ]
     },
     "execution_count": 31,
     "metadata": {},
     "output_type": "execute_result"
    }
   ],
   "source": [
    "(mu_b - mu_a) / np.sqrt(full_sales['sales'].var())"
   ]
  },
  {
   "cell_type": "code",
   "execution_count": 26,
   "metadata": {
    "ExecuteTime": {
     "end_time": "2021-07-03T00:36:32.040439Z",
     "start_time": "2021-07-03T00:36:32.024440Z"
    }
   },
   "outputs": [
    {
     "data": {
      "text/plain": [
       "0.24720617586226346"
      ]
     },
     "execution_count": 26,
     "metadata": {},
     "output_type": "execute_result"
    }
   ],
   "source": [
    "dof_num = (var_a_norm + var_b_norm) ** 2\n",
    "dof_den = var_a_norm ** 2 / (len(sales_a) - 1) + var_b_norm ** 2 / (len(sales_b) - 1)\n",
    "dof = dof_num / dof_den\n",
    "dof = len(sales_a) + len(sales_b) - 2\n",
    "p = (1 - t.cdf(t_stat,df=dof)) * 2\n",
    "p"
   ]
  },
  {
   "cell_type": "code",
   "execution_count": 192,
   "metadata": {
    "ExecuteTime": {
     "end_time": "2021-07-02T02:42:11.665446Z",
     "start_time": "2021-07-02T02:42:11.658933Z"
    }
   },
   "outputs": [
    {
     "data": {
      "text/plain": [
       "2215.6556657516526"
      ]
     },
     "execution_count": 192,
     "metadata": {},
     "output_type": "execute_result"
    }
   ],
   "source": [
    "dof"
   ]
  },
  {
   "cell_type": "code",
   "execution_count": 183,
   "metadata": {
    "ExecuteTime": {
     "end_time": "2021-07-02T01:33:04.917572Z",
     "start_time": "2021-07-02T01:33:04.912572Z"
    }
   },
   "outputs": [
    {
     "data": {
      "text/plain": [
       "0.9997847583800834"
      ]
     },
     "execution_count": 183,
     "metadata": {},
     "output_type": "execute_result"
    }
   ],
   "source": [
    "t.cdf(t_stat,df=dof)"
   ]
  },
  {
   "cell_type": "code",
   "execution_count": 129,
   "metadata": {
    "ExecuteTime": {
     "end_time": "2021-07-02T01:16:54.193570Z",
     "start_time": "2021-07-02T01:16:54.183570Z"
    }
   },
   "outputs": [
    {
     "data": {
      "text/plain": [
       "{'22_0': 0.08,\n",
       " '26_0': 0.07,\n",
       " '25_0': 0.07,\n",
       " '22_1': 0.06,\n",
       " '27_0': 0.06,\n",
       " '23_0': 0.06,\n",
       " '29_0': 0.06,\n",
       " '26_1': 0.05,\n",
       " '28_0': 0.04,\n",
       " '28_1': 0.04,\n",
       " '24_1': 0.04,\n",
       " '34_0': 0.03,\n",
       " '30_0': 0.03,\n",
       " '29_1': 0.03,\n",
       " '21_0': 0.03,\n",
       " '25_1': 0.02,\n",
       " '35_1': 0.02,\n",
       " '33_1': 0.02,\n",
       " '27_1': 0.02,\n",
       " '30_1': 0.02,\n",
       " '32_0': 0.02,\n",
       " '31_0': 0.02,\n",
       " '21_1': 0.02,\n",
       " '36_1': 0.01,\n",
       " '20_0': 0.01,\n",
       " '33_0': 0.01,\n",
       " '38_0': 0.01,\n",
       " '47_0': 0.01,\n",
       " '18_0': 0.01,\n",
       " '35_0': 0.01,\n",
       " '23_1': 0.01,\n",
       " '24_0': 0.01}"
      ]
     },
     "execution_count": 129,
     "metadata": {},
     "output_type": "execute_result"
    }
   ],
   "source": [
    "result = None\n",
    "for strat_column in ['age', 'gender']:\n",
    "    if result is None:\n",
    "        result = df_users[strat_column].astype(str)\n",
    "    else:\n",
    "        result = result + '_' + df_users[strat_column].astype(str)\n",
    "        \n",
    "df_users['strat_key'] = result\n",
    "\n",
    "weights = df_users.strat_key.value_counts(normalize=True).to_dict()\n",
    "weights"
   ]
  },
  {
   "cell_type": "code",
   "execution_count": 131,
   "metadata": {
    "ExecuteTime": {
     "end_time": "2021-07-02T01:17:43.115289Z",
     "start_time": "2021-07-02T01:17:43.111289Z"
    }
   },
   "outputs": [
    {
     "data": {
      "text/plain": [
       "array([  0,   5,  10,  15,  20,  25,  30,  35,  40,  45,  50,  55,  60,\n",
       "        65,  70,  75,  80,  85,  90,  95, 100, 105, 110, 115, 120, 125,\n",
       "       130, 135, 140, 145])"
      ]
     },
     "execution_count": 131,
     "metadata": {},
     "output_type": "execute_result"
    }
   ],
   "source": [
    "bins = np.arange(0, 150, 5)\n",
    "df_users['age_bin'] = pd.cut(df_users.age, bins, right=True, labels=bins[:-1])\n"
   ]
  },
  {
   "cell_type": "code",
   "execution_count": 148,
   "metadata": {
    "ExecuteTime": {
     "end_time": "2021-07-02T01:20:39.452736Z",
     "start_time": "2021-07-02T01:20:39.432124Z"
    }
   },
   "outputs": [
    {
     "data": {
      "text/plain": [
       "0     25\n",
       "1     20\n",
       "2     20\n",
       "3     20\n",
       "4     25\n",
       "      ..\n",
       "95    25\n",
       "96    20\n",
       "97    30\n",
       "98    25\n",
       "99    20\n",
       "Name: age, Length: 100, dtype: category\n",
       "Categories (29, int64): [0 < 5 < 10 < 15 ... 125 < 130 < 135 < 140]"
      ]
     },
     "execution_count": 148,
     "metadata": {},
     "output_type": "execute_result"
    }
   ],
   "source": []
  },
  {
   "cell_type": "code",
   "execution_count": 140,
   "metadata": {
    "ExecuteTime": {
     "end_time": "2021-07-02T01:19:16.326461Z",
     "start_time": "2021-07-02T01:19:16.320463Z"
    }
   },
   "outputs": [
    {
     "data": {
      "text/plain": [
       "0     26\n",
       "1     21\n",
       "2     23\n",
       "3     22\n",
       "4     28\n",
       "      ..\n",
       "95    27\n",
       "96    24\n",
       "97    31\n",
       "98    30\n",
       "99    22\n",
       "Name: age, Length: 100, dtype: int64"
      ]
     },
     "execution_count": 140,
     "metadata": {},
     "output_type": "execute_result"
    }
   ],
   "source": [
    "df_users.age"
   ]
  },
  {
   "cell_type": "code",
   "execution_count": 124,
   "metadata": {
    "ExecuteTime": {
     "end_time": "2021-07-02T01:12:25.796544Z",
     "start_time": "2021-07-02T01:12:25.783557Z"
    }
   },
   "outputs": [
    {
     "data": {
      "text/plain": [
       "0     26_0\n",
       "1     21_1\n",
       "2     23_0\n",
       "3     22_0\n",
       "4     28_0\n",
       "      ... \n",
       "95    27_0\n",
       "96    24_1\n",
       "97    31_0\n",
       "98    30_0\n",
       "99    22_1\n",
       "Length: 100, dtype: object"
      ]
     },
     "execution_count": 124,
     "metadata": {},
     "output_type": "execute_result"
    }
   ],
   "source": [
    "result"
   ]
  },
  {
   "cell_type": "code",
   "execution_count": 126,
   "metadata": {
    "ExecuteTime": {
     "end_time": "2021-07-02T01:16:34.621826Z",
     "start_time": "2021-07-02T01:16:34.616826Z"
    }
   },
   "outputs": [
    {
     "data": {
      "text/plain": [
       "0     2600\n",
       "1     2101\n",
       "2     2300\n",
       "3     2200\n",
       "4     2800\n",
       "      ... \n",
       "95    2700\n",
       "96    2401\n",
       "97    3100\n",
       "98    3000\n",
       "99    2201\n",
       "Length: 100, dtype: int64"
      ]
     },
     "execution_count": 126,
     "metadata": {},
     "output_type": "execute_result"
    }
   ],
   "source": [
    "df_users['age'] * 100 + df_users['gender']"
   ]
  },
  {
   "cell_type": "code",
   "execution_count": null,
   "metadata": {},
   "outputs": [],
   "source": []
  }
 ],
 "metadata": {
  "kernelspec": {
   "display_name": "Python 3",
   "language": "python",
   "name": "python3"
  },
  "language_info": {
   "codemirror_mode": {
    "name": "ipython",
    "version": 3
   },
   "file_extension": ".py",
   "mimetype": "text/x-python",
   "name": "python",
   "nbconvert_exporter": "python",
   "pygments_lexer": "ipython3",
   "version": "3.7.6"
  }
 },
 "nbformat": 4,
 "nbformat_minor": 4
}
