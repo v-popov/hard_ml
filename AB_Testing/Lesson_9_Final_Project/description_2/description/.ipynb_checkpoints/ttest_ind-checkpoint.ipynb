{
 "cells": [
  {
   "cell_type": "code",
   "execution_count": 1,
   "metadata": {
    "ExecuteTime": {
     "end_time": "2021-07-03T17:56:55.830280Z",
     "start_time": "2021-07-03T17:56:55.444283Z"
    }
   },
   "outputs": [],
   "source": [
    "import pandas as pd\n",
    "import numpy as np\n",
    "import scipy.stats as stats# import ttest_ind, t\n",
    "from scipy.stats import t, ttest_ind_from_stats"
   ]
  },
  {
   "cell_type": "code",
   "execution_count": 2,
   "metadata": {
    "ExecuteTime": {
     "end_time": "2021-07-03T17:56:55.862281Z",
     "start_time": "2021-07-03T17:56:55.852283Z"
    }
   },
   "outputs": [
    {
     "name": "stdout",
     "output_type": "stream",
     "text": [
      "1.959963984540054\n",
      "0.975\n"
     ]
    }
   ],
   "source": [
    "# Gaussian Percent Point Function\n",
    "from scipy.stats import norm\n",
    "# define probability\n",
    "p = 0.975\n",
    "# retrieve value <= probability\n",
    "value = norm.ppf(p)\n",
    "print(value)\n",
    "# confirm with cdf\n",
    "p = norm.cdf(value)\n",
    "print(p)"
   ]
  },
  {
   "cell_type": "code",
   "execution_count": 3,
   "metadata": {
    "ExecuteTime": {
     "end_time": "2021-07-03T17:56:56.380280Z",
     "start_time": "2021-07-03T17:56:56.372283Z"
    }
   },
   "outputs": [],
   "source": [
    "df_users = pd.read_csv('data/df_users.csv')\n",
    "df_sales = pd.read_csv('data/df_sales.csv')"
   ]
  },
  {
   "cell_type": "code",
   "execution_count": 4,
   "metadata": {
    "ExecuteTime": {
     "end_time": "2021-07-03T17:56:57.410282Z",
     "start_time": "2021-07-03T17:56:57.404283Z"
    }
   },
   "outputs": [
    {
     "data": {
      "text/plain": [
       "(3877, 3)"
      ]
     },
     "execution_count": 4,
     "metadata": {},
     "output_type": "execute_result"
    }
   ],
   "source": [
    "df_sales.shape"
   ]
  },
  {
   "cell_type": "code",
   "execution_count": 15,
   "metadata": {
    "ExecuteTime": {
     "end_time": "2021-07-03T20:06:48.389183Z",
     "start_time": "2021-07-03T20:06:48.369194Z"
    }
   },
   "outputs": [
    {
     "data": {
      "text/html": [
       "<div>\n",
       "<style scoped>\n",
       "    .dataframe tbody tr th:only-of-type {\n",
       "        vertical-align: middle;\n",
       "    }\n",
       "\n",
       "    .dataframe tbody tr th {\n",
       "        vertical-align: top;\n",
       "    }\n",
       "\n",
       "    .dataframe thead th {\n",
       "        text-align: right;\n",
       "    }\n",
       "</style>\n",
       "<table border=\"1\" class=\"dataframe\">\n",
       "  <thead>\n",
       "    <tr style=\"text-align: right;\">\n",
       "      <th></th>\n",
       "      <th>user_id</th>\n",
       "      <th>day</th>\n",
       "      <th>sales</th>\n",
       "    </tr>\n",
       "  </thead>\n",
       "  <tbody>\n",
       "    <tr>\n",
       "      <th>count</th>\n",
       "      <td>3.877000e+03</td>\n",
       "      <td>3877.000000</td>\n",
       "      <td>3877.000000</td>\n",
       "    </tr>\n",
       "    <tr>\n",
       "      <th>mean</th>\n",
       "      <td>6.291479e+06</td>\n",
       "      <td>27.263864</td>\n",
       "      <td>455.790044</td>\n",
       "    </tr>\n",
       "    <tr>\n",
       "      <th>std</th>\n",
       "      <td>2.355929e+06</td>\n",
       "      <td>16.208913</td>\n",
       "      <td>333.533910</td>\n",
       "    </tr>\n",
       "    <tr>\n",
       "      <th>min</th>\n",
       "      <td>1.178709e+06</td>\n",
       "      <td>0.000000</td>\n",
       "      <td>13.000000</td>\n",
       "    </tr>\n",
       "    <tr>\n",
       "      <th>25%</th>\n",
       "      <td>4.467299e+06</td>\n",
       "      <td>13.000000</td>\n",
       "      <td>217.000000</td>\n",
       "    </tr>\n",
       "    <tr>\n",
       "      <th>50%</th>\n",
       "      <td>6.351670e+06</td>\n",
       "      <td>27.000000</td>\n",
       "      <td>373.000000</td>\n",
       "    </tr>\n",
       "    <tr>\n",
       "      <th>75%</th>\n",
       "      <td>8.371962e+06</td>\n",
       "      <td>42.000000</td>\n",
       "      <td>599.000000</td>\n",
       "    </tr>\n",
       "    <tr>\n",
       "      <th>max</th>\n",
       "      <td>9.978718e+06</td>\n",
       "      <td>55.000000</td>\n",
       "      <td>2483.000000</td>\n",
       "    </tr>\n",
       "  </tbody>\n",
       "</table>\n",
       "</div>"
      ],
      "text/plain": [
       "            user_id          day        sales\n",
       "count  3.877000e+03  3877.000000  3877.000000\n",
       "mean   6.291479e+06    27.263864   455.790044\n",
       "std    2.355929e+06    16.208913   333.533910\n",
       "min    1.178709e+06     0.000000    13.000000\n",
       "25%    4.467299e+06    13.000000   217.000000\n",
       "50%    6.351670e+06    27.000000   373.000000\n",
       "75%    8.371962e+06    42.000000   599.000000\n",
       "max    9.978718e+06    55.000000  2483.000000"
      ]
     },
     "execution_count": 15,
     "metadata": {},
     "output_type": "execute_result"
    }
   ],
   "source": [
    "df_sales.describe()"
   ]
  },
  {
   "cell_type": "code",
   "execution_count": 5,
   "metadata": {
    "ExecuteTime": {
     "end_time": "2021-07-03T17:56:57.634279Z",
     "start_time": "2021-07-03T17:56:57.620283Z"
    }
   },
   "outputs": [
    {
     "data": {
      "text/html": [
       "<div>\n",
       "<style scoped>\n",
       "    .dataframe tbody tr th:only-of-type {\n",
       "        vertical-align: middle;\n",
       "    }\n",
       "\n",
       "    .dataframe tbody tr th {\n",
       "        vertical-align: top;\n",
       "    }\n",
       "\n",
       "    .dataframe thead th {\n",
       "        text-align: right;\n",
       "    }\n",
       "</style>\n",
       "<table border=\"1\" class=\"dataframe\">\n",
       "  <thead>\n",
       "    <tr style=\"text-align: right;\">\n",
       "      <th></th>\n",
       "      <th>user_id</th>\n",
       "      <th>gender</th>\n",
       "      <th>age</th>\n",
       "    </tr>\n",
       "  </thead>\n",
       "  <tbody>\n",
       "    <tr>\n",
       "      <th>0</th>\n",
       "      <td>2481878</td>\n",
       "      <td>0</td>\n",
       "      <td>26</td>\n",
       "    </tr>\n",
       "    <tr>\n",
       "      <th>1</th>\n",
       "      <td>5939953</td>\n",
       "      <td>1</td>\n",
       "      <td>21</td>\n",
       "    </tr>\n",
       "    <tr>\n",
       "      <th>2</th>\n",
       "      <td>6805236</td>\n",
       "      <td>0</td>\n",
       "      <td>23</td>\n",
       "    </tr>\n",
       "    <tr>\n",
       "      <th>3</th>\n",
       "      <td>5333820</td>\n",
       "      <td>0</td>\n",
       "      <td>22</td>\n",
       "    </tr>\n",
       "    <tr>\n",
       "      <th>4</th>\n",
       "      <td>7187024</td>\n",
       "      <td>0</td>\n",
       "      <td>28</td>\n",
       "    </tr>\n",
       "  </tbody>\n",
       "</table>\n",
       "</div>"
      ],
      "text/plain": [
       "   user_id  gender  age\n",
       "0  2481878       0   26\n",
       "1  5939953       1   21\n",
       "2  6805236       0   23\n",
       "3  5333820       0   22\n",
       "4  7187024       0   28"
      ]
     },
     "execution_count": 5,
     "metadata": {},
     "output_type": "execute_result"
    }
   ],
   "source": [
    "df_users.head()"
   ]
  },
  {
   "cell_type": "code",
   "execution_count": 6,
   "metadata": {
    "ExecuteTime": {
     "end_time": "2021-07-03T17:56:57.810283Z",
     "start_time": "2021-07-03T17:56:57.805283Z"
    }
   },
   "outputs": [
    {
     "data": {
      "text/html": [
       "<div>\n",
       "<style scoped>\n",
       "    .dataframe tbody tr th:only-of-type {\n",
       "        vertical-align: middle;\n",
       "    }\n",
       "\n",
       "    .dataframe tbody tr th {\n",
       "        vertical-align: top;\n",
       "    }\n",
       "\n",
       "    .dataframe thead th {\n",
       "        text-align: right;\n",
       "    }\n",
       "</style>\n",
       "<table border=\"1\" class=\"dataframe\">\n",
       "  <thead>\n",
       "    <tr style=\"text-align: right;\">\n",
       "      <th></th>\n",
       "      <th>user_id</th>\n",
       "      <th>day</th>\n",
       "      <th>sales</th>\n",
       "    </tr>\n",
       "  </thead>\n",
       "  <tbody>\n",
       "    <tr>\n",
       "      <th>0</th>\n",
       "      <td>4137940</td>\n",
       "      <td>39</td>\n",
       "      <td>276</td>\n",
       "    </tr>\n",
       "    <tr>\n",
       "      <th>1</th>\n",
       "      <td>3692244</td>\n",
       "      <td>5</td>\n",
       "      <td>30</td>\n",
       "    </tr>\n",
       "    <tr>\n",
       "      <th>2</th>\n",
       "      <td>3527743</td>\n",
       "      <td>32</td>\n",
       "      <td>363</td>\n",
       "    </tr>\n",
       "    <tr>\n",
       "      <th>3</th>\n",
       "      <td>6805236</td>\n",
       "      <td>42</td>\n",
       "      <td>274</td>\n",
       "    </tr>\n",
       "    <tr>\n",
       "      <th>4</th>\n",
       "      <td>6216002</td>\n",
       "      <td>20</td>\n",
       "      <td>421</td>\n",
       "    </tr>\n",
       "  </tbody>\n",
       "</table>\n",
       "</div>"
      ],
      "text/plain": [
       "   user_id  day  sales\n",
       "0  4137940   39    276\n",
       "1  3692244    5     30\n",
       "2  3527743   32    363\n",
       "3  6805236   42    274\n",
       "4  6216002   20    421"
      ]
     },
     "execution_count": 6,
     "metadata": {},
     "output_type": "execute_result"
    }
   ],
   "source": [
    "df_sales.head()"
   ]
  },
  {
   "cell_type": "code",
   "execution_count": 108,
   "metadata": {
    "ExecuteTime": {
     "end_time": "2021-07-03T02:20:18.694257Z",
     "start_time": "2021-07-03T02:20:18.671269Z"
    }
   },
   "outputs": [
    {
     "data": {
      "text/html": [
       "<div>\n",
       "<style scoped>\n",
       "    .dataframe tbody tr th:only-of-type {\n",
       "        vertical-align: middle;\n",
       "    }\n",
       "\n",
       "    .dataframe tbody tr th {\n",
       "        vertical-align: top;\n",
       "    }\n",
       "\n",
       "    .dataframe thead th {\n",
       "        text-align: right;\n",
       "    }\n",
       "</style>\n",
       "<table border=\"1\" class=\"dataframe\">\n",
       "  <thead>\n",
       "    <tr style=\"text-align: right;\">\n",
       "      <th></th>\n",
       "      <th>user_id</th>\n",
       "      <th>day</th>\n",
       "      <th>sales</th>\n",
       "    </tr>\n",
       "  </thead>\n",
       "  <tbody>\n",
       "    <tr>\n",
       "      <th>0</th>\n",
       "      <td>1178709</td>\n",
       "      <td>1</td>\n",
       "      <td>967</td>\n",
       "    </tr>\n",
       "    <tr>\n",
       "      <th>1</th>\n",
       "      <td>1178709</td>\n",
       "      <td>5</td>\n",
       "      <td>2003</td>\n",
       "    </tr>\n",
       "    <tr>\n",
       "      <th>2</th>\n",
       "      <td>1178709</td>\n",
       "      <td>6</td>\n",
       "      <td>508</td>\n",
       "    </tr>\n",
       "    <tr>\n",
       "      <th>3</th>\n",
       "      <td>1178709</td>\n",
       "      <td>7</td>\n",
       "      <td>495</td>\n",
       "    </tr>\n",
       "    <tr>\n",
       "      <th>4</th>\n",
       "      <td>1178709</td>\n",
       "      <td>10</td>\n",
       "      <td>1560</td>\n",
       "    </tr>\n",
       "    <tr>\n",
       "      <th>...</th>\n",
       "      <td>...</td>\n",
       "      <td>...</td>\n",
       "      <td>...</td>\n",
       "    </tr>\n",
       "    <tr>\n",
       "      <th>2788</th>\n",
       "      <td>9978718</td>\n",
       "      <td>46</td>\n",
       "      <td>893</td>\n",
       "    </tr>\n",
       "    <tr>\n",
       "      <th>2789</th>\n",
       "      <td>9978718</td>\n",
       "      <td>48</td>\n",
       "      <td>927</td>\n",
       "    </tr>\n",
       "    <tr>\n",
       "      <th>2790</th>\n",
       "      <td>9978718</td>\n",
       "      <td>49</td>\n",
       "      <td>451</td>\n",
       "    </tr>\n",
       "    <tr>\n",
       "      <th>2791</th>\n",
       "      <td>9978718</td>\n",
       "      <td>51</td>\n",
       "      <td>889</td>\n",
       "    </tr>\n",
       "    <tr>\n",
       "      <th>2792</th>\n",
       "      <td>9978718</td>\n",
       "      <td>53</td>\n",
       "      <td>905</td>\n",
       "    </tr>\n",
       "  </tbody>\n",
       "</table>\n",
       "<p>2793 rows × 3 columns</p>\n",
       "</div>"
      ],
      "text/plain": [
       "      user_id  day  sales\n",
       "0     1178709    1    967\n",
       "1     1178709    5   2003\n",
       "2     1178709    6    508\n",
       "3     1178709    7    495\n",
       "4     1178709   10   1560\n",
       "...       ...  ...    ...\n",
       "2788  9978718   46    893\n",
       "2789  9978718   48    927\n",
       "2790  9978718   49    451\n",
       "2791  9978718   51    889\n",
       "2792  9978718   53    905\n",
       "\n",
       "[2793 rows x 3 columns]"
      ]
     },
     "execution_count": 108,
     "metadata": {},
     "output_type": "execute_result"
    }
   ],
   "source": [
    "df_sales.groupby(['user_id', 'day'])['sales'].sum().reset_index()"
   ]
  },
  {
   "cell_type": "code",
   "execution_count": 5,
   "metadata": {
    "ExecuteTime": {
     "end_time": "2021-07-03T01:33:13.185515Z",
     "start_time": "2021-07-03T01:33:13.155308Z"
    }
   },
   "outputs": [],
   "source": [
    "# эксперимент проводился с 49 до 55 день включительно\n",
    "df_sales = df_sales[\n",
    "    df_sales['day'].isin(np.arange(49, 56))\n",
    "]\n",
    "\n",
    "\n",
    "bins = np.arange(0., 150, 5)\n",
    "bins[-1] = np.inf\n",
    "df_users['age_bin'] = pd.cut(df_users.age, bins, right=False, labels=bins[:-1])\n",
    "df_users['stratum'] = df_users['age_bin'].astype(float) * 100 + df_users['gender']\n",
    "weights = df_users['stratum'].value_counts(normalize=True)\n",
    "\n",
    "\n",
    "\n",
    "def calc_strat_mean(df, strat_column, target_name):\n",
    "    strat_mean = df.groupby(strat_column)[target_name].mean()\n",
    "    return (strat_mean * weights).sum()\n",
    "\n",
    "\n",
    "def calc_strat_var(df, strat_column, target_name):\n",
    "    strat_var = df.groupby(strat_column)[target_name].var()\n",
    "    return (strat_var * weights).sum()\n",
    "\n",
    "def ping():\n",
    "    global df_sales\n",
    "    df_sales = df_sales.merge(df_users, on='user_id', how='left')\n",
    "\n",
    "    \n",
    "def _check_test(test):\n",
    "    group_a_one = test['group_a_one']\n",
    "    group_a_two = test['group_a_two']\n",
    "    group_b = test['group_b']\n",
    "\n",
    "    user_a = group_a_one + group_a_two\n",
    "    user_b = group_b\n",
    "\n",
    "    sales_a = df_sales[df_sales['user_id'].isin(user_a)]#['sales'].values\n",
    "    sales_b = df_sales[df_sales['user_id'].isin(user_b)]#['sales'].values\n",
    "\n",
    "    mu_a = calc_strat_mean(sales_a, 'stratum', 'sales')\n",
    "    mu_b = calc_strat_mean(sales_b, 'stratum', 'sales')\n",
    "\n",
    "    var_a = calc_strat_var(sales_a, 'stratum', 'sales')\n",
    "    var_b = calc_strat_var(sales_b, 'stratum', 'sales')\n",
    "\n",
    "    delta_mean_strat = mu_b - mu_a\n",
    "    std_mean_strat = (var_b / len(sales_b) + var_a / len(sales_a)) ** 0.5\n",
    "\n",
    "    no_effect = delta_mean_strat - 1.96 * std_mean_strat <= 0 <= delta_mean_strat + 1.96 * std_mean_strat\n",
    "\n",
    "    return not no_effect\n",
    "\n",
    "\n",
    "ping()"
   ]
  },
  {
   "cell_type": "code",
   "execution_count": 6,
   "metadata": {
    "ExecuteTime": {
     "end_time": "2021-07-03T01:33:13.201548Z",
     "start_time": "2021-07-03T01:33:13.186515Z"
    }
   },
   "outputs": [
    {
     "data": {
      "text/plain": [
       "140"
      ]
     },
     "execution_count": 6,
     "metadata": {},
     "output_type": "execute_result"
    }
   ],
   "source": [
    "df_sales.duplicated(subset=['user_id', 'day']).sum()"
   ]
  },
  {
   "cell_type": "code",
   "execution_count": 7,
   "metadata": {
    "ExecuteTime": {
     "end_time": "2021-07-03T01:33:13.216960Z",
     "start_time": "2021-07-03T01:33:13.202550Z"
    }
   },
   "outputs": [],
   "source": [
    "# df_sales = df_sales.groupby(['user_id', 'day']).agg(sales = ('sales', sum)).reset_index()"
   ]
  },
  {
   "cell_type": "code",
   "execution_count": 8,
   "metadata": {
    "ExecuteTime": {
     "end_time": "2021-07-03T01:33:13.232513Z",
     "start_time": "2021-07-03T01:33:13.217963Z"
    }
   },
   "outputs": [],
   "source": [
    "# df_sales.duplicated(subset=['user_id', 'day']).sum()"
   ]
  },
  {
   "cell_type": "code",
   "execution_count": 9,
   "metadata": {
    "ExecuteTime": {
     "end_time": "2021-07-03T01:33:13.247688Z",
     "start_time": "2021-07-03T01:33:13.233520Z"
    }
   },
   "outputs": [],
   "source": [
    "# df_users.user_id.unique()"
   ]
  },
  {
   "cell_type": "code",
   "execution_count": 7,
   "metadata": {
    "ExecuteTime": {
     "end_time": "2021-07-03T17:57:01.986281Z",
     "start_time": "2021-07-03T17:57:01.980283Z"
    }
   },
   "outputs": [],
   "source": [
    "half_size = 10\n",
    "\n",
    "remaining_users = set(df_sales.user_id.unique())\n",
    "\n",
    "group_a_one = np.random.choice(list(remaining_users), replace=False, size=half_size)\n",
    "remaining_users = remaining_users - set(group_a_one)\n",
    "\n",
    "group_a_two = np.random.choice(list(remaining_users), replace=False, size=half_size)\n",
    "remaining_users = remaining_users - set(group_a_two)\n",
    "\n",
    "group_b = np.random.choice(list(remaining_users), replace=False, size=half_size*2)\n",
    "remaining_users = remaining_users - set(group_b)\n",
    "\n",
    "test = {'group_a_one': list(group_a_one), 'group_a_two': list(group_a_two), 'group_b': list(group_b)}"
   ]
  },
  {
   "cell_type": "code",
   "execution_count": 8,
   "metadata": {
    "ExecuteTime": {
     "end_time": "2021-07-03T17:57:04.213279Z",
     "start_time": "2021-07-03T17:57:04.188283Z"
    }
   },
   "outputs": [
    {
     "name": "stdout",
     "output_type": "stream",
     "text": [
      "419.041388518024\n",
      "429.041388518024\n",
      "410.80793060718713\n"
     ]
    }
   ],
   "source": [
    "group_a_one = test['group_a_one']\n",
    "group_a_two = test['group_a_two']\n",
    "group_b = test['group_b']\n",
    "\n",
    "user_a = group_a_one + group_a_two\n",
    "user_b = group_b\n",
    "\n",
    "print(df_sales[df_sales['user_id'].isin(user_b)]['sales'].mean())\n",
    "df_sales.loc[df_sales['user_id'].isin(user_b), 'sales'] += 10\n",
    "print(df_sales[df_sales['user_id'].isin(user_b)]['sales'].mean())\n",
    "print(df_sales[df_sales['user_id'].isin(user_a)]['sales'].mean())"
   ]
  },
  {
   "cell_type": "code",
   "execution_count": 9,
   "metadata": {
    "ExecuteTime": {
     "end_time": "2021-07-03T17:57:05.075279Z",
     "start_time": "2021-07-03T17:57:05.060283Z"
    }
   },
   "outputs": [],
   "source": [
    "sales_a = df_sales[\n",
    "    df_sales['user_id'].isin(user_a)\n",
    "][\n",
    "    'sales'\n",
    "].values\n",
    "\n",
    "sales_b = df_sales[\n",
    "    df_sales['user_id'].isin(user_b)\n",
    "][\n",
    "    'sales'\n",
    "].values"
   ]
  },
  {
   "cell_type": "code",
   "execution_count": 11,
   "metadata": {
    "ExecuteTime": {
     "end_time": "2021-07-03T17:57:10.283280Z",
     "start_time": "2021-07-03T17:57:10.268282Z"
    }
   },
   "outputs": [],
   "source": [
    "# def manual_t(mu_a=None, mu_b=None, \n",
    "#              n_a=None, n_b=None, \n",
    "#              var_a=None, var_b=None, \n",
    "#              sales_a=None, sales_b=None):\n",
    "#     if sales_a is not None and sales_b is not None:\n",
    "#         mu_a = sales_a.mean()\n",
    "#         mu_b = sales_b.mean()\n",
    "\n",
    "#         n_a = len(sales_a)\n",
    "#         n_b = len(sales_b)\n",
    "\n",
    "#         var_a = sales_a.var(ddof=1)\n",
    "#         var_b = sales_b.var(ddof=1)\n",
    "\n",
    "#     df = n_a + n_b - 2.0\n",
    "#     svar = ((n_a - 1) * var_a + (n_b - 1) * var_b) / df\n",
    "#     denom = np.sqrt(svar * (1.0 / n_a + 1.0 / n_b))\n",
    "\n",
    "#     d = mu_a - mu_b\n",
    "#     with np.errstate(divide='ignore', invalid='ignore'):\n",
    "#         t_val = np.divide(d, denom)\n",
    "\n",
    "#     prob = 2 * t.sf(np.abs(t_val), df)\n",
    "#     if t_val.ndim == 0:\n",
    "#         t_val = t_val[()]\n",
    "\n",
    "#     return t_val, prob\n",
    "\n",
    "def manual_t(mu_a=None, mu_b=None,\n",
    "             n_a=None, n_b=None,\n",
    "             var_a=None, var_b=None,\n",
    "             sales_a=None, sales_b=None):\n",
    "    if sales_a is not None and sales_b is not None:\n",
    "        print('here')\n",
    "        mu_a = sales_a.mean()\n",
    "        mu_b = sales_b.mean()\n",
    "\n",
    "        n_a = len(sales_a)\n",
    "        n_b = len(sales_b)\n",
    "\n",
    "        var_a = sales_a.var(ddof=1)\n",
    "        var_b = sales_b.var(ddof=1)\n",
    "\n",
    "    df = n_a + n_b - 2.0\n",
    "    svar = ((n_a - 1) * var_a + (n_b - 1) * var_b) / df\n",
    "    denom = np.sqrt(svar * (1.0 / n_a + 1.0 / n_b))\n",
    "\n",
    "    d = mu_a - mu_b\n",
    "    with np.errstate(divide='ignore', invalid='ignore'):\n",
    "        t_val = np.divide(d, denom)\n",
    "\n",
    "    prob = 2 * t.sf(np.abs(t_val), df)\n",
    "    if t_val.ndim == 0:\n",
    "        t_val = t_val[()]\n",
    "\n",
    "    return t_val, prob"
   ]
  },
  {
   "cell_type": "code",
   "execution_count": 12,
   "metadata": {
    "ExecuteTime": {
     "end_time": "2021-07-03T17:57:10.943290Z",
     "start_time": "2021-07-03T17:57:10.924284Z"
    }
   },
   "outputs": [
    {
     "data": {
      "text/plain": [
       "(-1.1409814972976267, 0.25405342213368404)"
      ]
     },
     "execution_count": 12,
     "metadata": {},
     "output_type": "execute_result"
    }
   ],
   "source": [
    "mu_a = sales_a.mean()\n",
    "mu_b = sales_b.mean()\n",
    "\n",
    "n_a = len(sales_a)\n",
    "n_b = len(sales_b)\n",
    "\n",
    "var_a = sales_a.var(ddof=1)\n",
    "var_b = sales_b.var(ddof=1)\n",
    "\n",
    "manual_t(mu_a, mu_b, n_a, n_b, var_a, var_b)"
   ]
  },
  {
   "cell_type": "code",
   "execution_count": 14,
   "metadata": {
    "ExecuteTime": {
     "end_time": "2021-07-03T17:57:56.032550Z",
     "start_time": "2021-07-03T17:57:56.021040Z"
    }
   },
   "outputs": [
    {
     "data": {
      "text/plain": [
       "Ttest_indResult(statistic=-1.1409814972976267, pvalue=0.25405342213368404)"
      ]
     },
     "execution_count": 14,
     "metadata": {},
     "output_type": "execute_result"
    }
   ],
   "source": [
    "ttest_ind_from_stats(mean1=mu_a, std1=np.sqrt(var_a), nobs1=n_a, \n",
    "                     mean2=mu_b, std2=np.sqrt(var_b), nobs2=n_b,\n",
    "                     equal_var=True, alternative=\"two-sided\")"
   ]
  },
  {
   "cell_type": "code",
   "execution_count": 28,
   "metadata": {
    "ExecuteTime": {
     "end_time": "2021-07-03T17:52:01.108845Z",
     "start_time": "2021-07-03T17:52:01.100334Z"
    }
   },
   "outputs": [
    {
     "data": {
      "text/plain": [
       "'1.4.1'"
      ]
     },
     "execution_count": 28,
     "metadata": {},
     "output_type": "execute_result"
    }
   ],
   "source": [
    "import scipy\n",
    "scipy.__version__"
   ]
  },
  {
   "cell_type": "code",
   "execution_count": 19,
   "metadata": {
    "ExecuteTime": {
     "end_time": "2021-07-03T16:04:38.428999Z",
     "start_time": "2021-07-03T16:04:38.418011Z"
    }
   },
   "outputs": [
    {
     "data": {
      "text/plain": [
       "False"
      ]
     },
     "execution_count": 19,
     "metadata": {},
     "output_type": "execute_result"
    }
   ],
   "source": [
    "manual_t(sales_a=sales_a, sales_b=sales_b)[1] < 0.05"
   ]
  },
  {
   "cell_type": "code",
   "execution_count": 12,
   "metadata": {
    "ExecuteTime": {
     "end_time": "2021-07-03T16:01:48.011710Z",
     "start_time": "2021-07-03T16:01:48.002698Z"
    }
   },
   "outputs": [
    {
     "data": {
      "text/plain": [
       "Ttest_indResult(statistic=-0.923323744141151, pvalue=0.3559841025604584)"
      ]
     },
     "execution_count": 12,
     "metadata": {},
     "output_type": "execute_result"
    }
   ],
   "source": [
    "stats.ttest_ind(sales_a, sales_b)"
   ]
  },
  {
   "cell_type": "code",
   "execution_count": 13,
   "metadata": {
    "ExecuteTime": {
     "end_time": "2021-07-03T16:01:50.735570Z",
     "start_time": "2021-07-03T16:01:50.730570Z"
    }
   },
   "outputs": [
    {
     "data": {
      "text/plain": [
       "455.65334021150375"
      ]
     },
     "execution_count": 13,
     "metadata": {},
     "output_type": "execute_result"
    }
   ],
   "source": [
    "df_sales['sales'].mean()"
   ]
  },
  {
   "cell_type": "code",
   "execution_count": 14,
   "metadata": {
    "ExecuteTime": {
     "end_time": "2021-07-03T16:01:51.622602Z",
     "start_time": "2021-07-03T16:01:51.610579Z"
    }
   },
   "outputs": [
    {
     "data": {
      "text/plain": [
       "2       377\n",
       "3       288\n",
       "9       216\n",
       "10      584\n",
       "14      232\n",
       "       ... \n",
       "3867    246\n",
       "3870    812\n",
       "3871    337\n",
       "3874    350\n",
       "3876    233\n",
       "Name: sales, Length: 696, dtype: int64"
      ]
     },
     "execution_count": 14,
     "metadata": {},
     "output_type": "execute_result"
    }
   ],
   "source": [
    "df_sales[df_sales['user_id'].isin(group_b)]['sales'] + 4"
   ]
  },
  {
   "cell_type": "code",
   "execution_count": 101,
   "metadata": {
    "ExecuteTime": {
     "end_time": "2021-07-03T01:35:36.689405Z",
     "start_time": "2021-07-03T01:35:36.666857Z"
    }
   },
   "outputs": [
    {
     "data": {
      "text/plain": [
       "True"
      ]
     },
     "execution_count": 101,
     "metadata": {},
     "output_type": "execute_result"
    }
   ],
   "source": [
    "_check_test(test)"
   ]
  },
  {
   "cell_type": "code",
   "execution_count": 16,
   "metadata": {
    "ExecuteTime": {
     "end_time": "2021-07-03T01:33:13.388563Z",
     "start_time": "2021-07-03T01:33:13.342566Z"
    }
   },
   "outputs": [
    {
     "ename": "NameError",
     "evalue": "name 'qwerty' is not defined",
     "output_type": "error",
     "traceback": [
      "\u001b[1;31m---------------------------------------------------------------------------\u001b[0m",
      "\u001b[1;31mNameError\u001b[0m                                 Traceback (most recent call last)",
      "\u001b[1;32m<ipython-input-16-3c8b9f4b983a>\u001b[0m in \u001b[0;36m<module>\u001b[1;34m\u001b[0m\n\u001b[1;32m----> 1\u001b[1;33m \u001b[0mqwerty\u001b[0m\u001b[1;33m\u001b[0m\u001b[1;33m\u001b[0m\u001b[0m\n\u001b[0m",
      "\u001b[1;31mNameError\u001b[0m: name 'qwerty' is not defined"
     ]
    }
   ],
   "source": [
    "qwerty"
   ]
  },
  {
   "cell_type": "code",
   "execution_count": null,
   "metadata": {
    "ExecuteTime": {
     "end_time": "2021-07-03T01:33:13.389564Z",
     "start_time": "2021-07-03T01:33:12.757Z"
    }
   },
   "outputs": [],
   "source": [
    "all_users_sales = df_sales.user_id.unique() # ).union(set(df_users.user_id.unique()))\n",
    "all_users_sales"
   ]
  },
  {
   "cell_type": "code",
   "execution_count": null,
   "metadata": {
    "ExecuteTime": {
     "end_time": "2021-07-03T01:33:13.390565Z",
     "start_time": "2021-07-03T01:33:12.758Z"
    }
   },
   "outputs": [],
   "source": [
    "min_day = df_sales['day'].min()\n",
    "max_day = df_sales['day'].max()\n",
    "\n",
    "full_days_horizon = np.arange(min_day, max_day+1)\n",
    "full_days_horizon"
   ]
  },
  {
   "cell_type": "code",
   "execution_count": null,
   "metadata": {
    "ExecuteTime": {
     "end_time": "2021-07-03T01:33:13.390565Z",
     "start_time": "2021-07-03T01:33:12.759Z"
    }
   },
   "outputs": [],
   "source": [
    "full_sales = pd.DataFrame({'user_id': np.repeat(all_users_sales, len(full_days_horizon)),\n",
    "                           'day': np.tile(full_days_horizon, len(all_users_sales))})\n",
    "full_sales = full_sales.merge(df_sales, on=['user_id', 'day'], how='left').fillna(0.)\n",
    "full_sales"
   ]
  },
  {
   "cell_type": "markdown",
   "metadata": {},
   "source": [
    "# Cuped"
   ]
  },
  {
   "cell_type": "code",
   "execution_count": null,
   "metadata": {
    "ExecuteTime": {
     "end_time": "2021-07-03T01:33:13.391564Z",
     "start_time": "2021-07-03T01:33:12.760Z"
    }
   },
   "outputs": [],
   "source": [
    "df_sales_covariate = full_sales[full_sales['day'].isin(np.arange(42, 49))].reset_index(drop=True)\n",
    "df_sales_pilot = full_sales[full_sales['day'].isin(np.arange(49, 56))].reset_index(drop=True)"
   ]
  },
  {
   "cell_type": "code",
   "execution_count": null,
   "metadata": {
    "ExecuteTime": {
     "end_time": "2021-07-03T01:33:13.391564Z",
     "start_time": "2021-07-03T01:33:12.761Z"
    }
   },
   "outputs": [],
   "source": [
    "df_sales_pilot.head(10)"
   ]
  },
  {
   "cell_type": "code",
   "execution_count": null,
   "metadata": {
    "ExecuteTime": {
     "end_time": "2021-07-03T01:33:13.392564Z",
     "start_time": "2021-07-03T01:33:12.761Z"
    }
   },
   "outputs": [],
   "source": [
    "df_sales_covariate.head(10)"
   ]
  },
  {
   "cell_type": "code",
   "execution_count": null,
   "metadata": {
    "ExecuteTime": {
     "end_time": "2021-07-03T01:33:13.393563Z",
     "start_time": "2021-07-03T01:33:12.762Z"
    }
   },
   "outputs": [],
   "source": [
    "def calculate_theta(y, y_covariate) -> float:\n",
    "    covariance = np.cov(y_covariate, y)[0, 1]\n",
    "    variance = y_covariate.var()\n",
    "    theta = covariance / variance\n",
    "    return theta\n",
    "\n",
    "theta = calculate_theta(df_sales_pilot.sales, df_sales_covariate.sales)\n",
    "theta"
   ]
  },
  {
   "cell_type": "code",
   "execution_count": null,
   "metadata": {
    "ExecuteTime": {
     "end_time": "2021-07-03T01:33:13.393563Z",
     "start_time": "2021-07-03T01:33:12.763Z"
    }
   },
   "outputs": [],
   "source": [
    "y_cuped = df_sales_pilot.sales - theta * df_sales_covariate.sales\n",
    "# df_cuped = pd.DataFrame({'user_id': df_sales_pilot.user_id,\n",
    "#                          'sales': y_cuped})\n",
    "# df_cuped\n",
    "\n",
    "df_sales_pilot.sales = y_cuped\n",
    "df_sales_pilot"
   ]
  },
  {
   "cell_type": "code",
   "execution_count": null,
   "metadata": {
    "ExecuteTime": {
     "end_time": "2021-07-03T01:33:13.393563Z",
     "start_time": "2021-07-03T01:33:12.764Z"
    }
   },
   "outputs": [],
   "source": [
    "y_cuped"
   ]
  },
  {
   "cell_type": "markdown",
   "metadata": {},
   "source": [
    "# Stratification"
   ]
  },
  {
   "cell_type": "code",
   "execution_count": null,
   "metadata": {
    "ExecuteTime": {
     "end_time": "2021-07-03T01:33:13.394565Z",
     "start_time": "2021-07-03T01:33:12.765Z"
    }
   },
   "outputs": [],
   "source": [
    "# gender only\n",
    "# binned age only\n",
    "# binned age + gender\n",
    "# different bin size"
   ]
  },
  {
   "cell_type": "code",
   "execution_count": null,
   "metadata": {
    "ExecuteTime": {
     "end_time": "2021-07-03T01:33:13.395563Z",
     "start_time": "2021-07-03T01:33:12.766Z"
    }
   },
   "outputs": [],
   "source": [
    "group_a_one = test['group_a_one']\n",
    "group_a_two = test['group_a_two']\n",
    "\n",
    "user_a = group_a_one + group_a_two\n",
    "user_b = test['group_b']"
   ]
  },
  {
   "cell_type": "code",
   "execution_count": null,
   "metadata": {
    "ExecuteTime": {
     "end_time": "2021-07-03T01:33:13.396563Z",
     "start_time": "2021-07-03T01:33:12.767Z"
    }
   },
   "outputs": [],
   "source": [
    "# on historical data\n",
    "weights = df_users.gender.value_counts(normalize=True)\n",
    "weights"
   ]
  },
  {
   "cell_type": "code",
   "execution_count": null,
   "metadata": {
    "ExecuteTime": {
     "end_time": "2021-07-03T01:33:13.396563Z",
     "start_time": "2021-07-03T01:33:12.767Z"
    }
   },
   "outputs": [],
   "source": [
    "users_sales_df = df_sales.merge(df_users, on='user_id', how='left')\n",
    "users_sales_df"
   ]
  },
  {
   "cell_type": "code",
   "execution_count": null,
   "metadata": {
    "ExecuteTime": {
     "end_time": "2021-07-03T01:33:13.397565Z",
     "start_time": "2021-07-03T01:33:12.768Z"
    }
   },
   "outputs": [],
   "source": [
    "sales_a = users_sales_df[users_sales_df['user_id'].isin(user_a)]#['sales'].values\n",
    "sales_b = users_sales_df[users_sales_df['user_id'].isin(user_b)]#['sales'].values\n",
    "sales_a"
   ]
  },
  {
   "cell_type": "code",
   "execution_count": null,
   "metadata": {
    "ExecuteTime": {
     "end_time": "2021-07-03T01:33:13.397565Z",
     "start_time": "2021-07-03T01:33:12.769Z"
    }
   },
   "outputs": [],
   "source": [
    "sales_b"
   ]
  },
  {
   "cell_type": "code",
   "execution_count": null,
   "metadata": {
    "ExecuteTime": {
     "end_time": "2021-07-03T01:33:13.398563Z",
     "start_time": "2021-07-03T01:33:12.770Z"
    }
   },
   "outputs": [],
   "source": [
    "(sales_b.groupby('gender')['sales'].mean() * weights).sum()"
   ]
  },
  {
   "cell_type": "code",
   "execution_count": null,
   "metadata": {
    "ExecuteTime": {
     "end_time": "2021-07-03T01:33:13.399564Z",
     "start_time": "2021-07-03T01:33:12.771Z"
    }
   },
   "outputs": [],
   "source": [
    "sales_b"
   ]
  },
  {
   "cell_type": "code",
   "execution_count": null,
   "metadata": {
    "ExecuteTime": {
     "end_time": "2021-07-03T01:33:13.399564Z",
     "start_time": "2021-07-03T01:33:12.772Z"
    }
   },
   "outputs": [],
   "source": [
    "def calc_strat_mean(df, strat_column, target_name, weights):\n",
    "    strat_mean = df.groupby(strat_column)[target_name].mean()\n",
    "    return (strat_mean * weights).sum()\n",
    "\n",
    "calc_strat_mean(sales_b, 'gender', 'sales', weights)"
   ]
  },
  {
   "cell_type": "code",
   "execution_count": null,
   "metadata": {
    "ExecuteTime": {
     "end_time": "2021-07-03T01:33:13.400564Z",
     "start_time": "2021-07-03T01:33:12.772Z"
    }
   },
   "outputs": [],
   "source": [
    "not (1 < -2 < 7)"
   ]
  },
  {
   "cell_type": "code",
   "execution_count": null,
   "metadata": {
    "ExecuteTime": {
     "end_time": "2021-07-03T01:33:13.400564Z",
     "start_time": "2021-07-03T01:33:12.773Z"
    }
   },
   "outputs": [],
   "source": [
    "def calc_strat_var(df: pd.DataFrame, strat_column: str, target_name: str, weights: dict):\n",
    "    \"\"\"Считаем стратифицированную дисперсию.\n",
    "\n",
    "    df - датафрейм с целевой метрикой и данными для стратификации\n",
    "    strat_column - названия столбца по которому проводить стратификацию\n",
    "    target_name - название столбца с целевой переменной\n",
    "    weights - словарь - {название страты: вес страты}\n",
    "    \n",
    "    return: float, var_strat\n",
    "    \"\"\"\n",
    "    strat_var = df.groupby(strat_column)[target_name].var()\n",
    "    return (strat_var * pd.Series(weights)).sum()"
   ]
  },
  {
   "cell_type": "code",
   "execution_count": null,
   "metadata": {
    "ExecuteTime": {
     "end_time": "2021-07-03T01:33:13.401564Z",
     "start_time": "2021-07-03T01:33:12.774Z"
    }
   },
   "outputs": [],
   "source": [
    "ttest_ind(sales_a, sales_b)"
   ]
  },
  {
   "cell_type": "code",
   "execution_count": null,
   "metadata": {
    "ExecuteTime": {
     "end_time": "2021-07-03T01:33:13.401564Z",
     "start_time": "2021-07-03T01:33:12.775Z"
    }
   },
   "outputs": [],
   "source": [
    "mu_a = sales_a.mean()\n",
    "mu_b = sales_b.mean()\n",
    "\n",
    "var_a = sales_a.var(ddof=1)\n",
    "var_b = sales_b.var(ddof=1)\n",
    "\n",
    "var_a_norm = var_a / len(sales_a)\n",
    "var_b_norm = var_b / len(sales_b)\n",
    "\n",
    "t_stat = (mu_b - mu_a) / np.sqrt(var_a_norm + var_b_norm)\n",
    "t_stat"
   ]
  },
  {
   "cell_type": "code",
   "execution_count": null,
   "metadata": {
    "ExecuteTime": {
     "end_time": "2021-07-03T01:33:13.402564Z",
     "start_time": "2021-07-03T01:33:12.776Z"
    }
   },
   "outputs": [],
   "source": [
    "(mu_b - mu_a) / np.sqrt(full_sales['sales'].var())"
   ]
  },
  {
   "cell_type": "code",
   "execution_count": null,
   "metadata": {
    "ExecuteTime": {
     "end_time": "2021-07-03T01:33:13.402564Z",
     "start_time": "2021-07-03T01:33:12.777Z"
    }
   },
   "outputs": [],
   "source": [
    "dof_num = (var_a_norm + var_b_norm) ** 2\n",
    "dof_den = var_a_norm ** 2 / (len(sales_a) - 1) + var_b_norm ** 2 / (len(sales_b) - 1)\n",
    "dof = dof_num / dof_den\n",
    "dof = len(sales_a) + len(sales_b) - 2\n",
    "p = (1 - t.cdf(t_stat,df=dof)) * 2\n",
    "p"
   ]
  },
  {
   "cell_type": "code",
   "execution_count": null,
   "metadata": {
    "ExecuteTime": {
     "end_time": "2021-07-03T01:33:13.403563Z",
     "start_time": "2021-07-03T01:33:12.778Z"
    }
   },
   "outputs": [],
   "source": [
    "dof"
   ]
  },
  {
   "cell_type": "code",
   "execution_count": null,
   "metadata": {
    "ExecuteTime": {
     "end_time": "2021-07-03T01:33:13.403563Z",
     "start_time": "2021-07-03T01:33:12.778Z"
    }
   },
   "outputs": [],
   "source": [
    "t.cdf(t_stat,df=dof)"
   ]
  },
  {
   "cell_type": "code",
   "execution_count": null,
   "metadata": {
    "ExecuteTime": {
     "end_time": "2021-07-03T01:33:13.404564Z",
     "start_time": "2021-07-03T01:33:12.779Z"
    }
   },
   "outputs": [],
   "source": [
    "result = None\n",
    "for strat_column in ['age', 'gender']:\n",
    "    if result is None:\n",
    "        result = df_users[strat_column].astype(str)\n",
    "    else:\n",
    "        result = result + '_' + df_users[strat_column].astype(str)\n",
    "        \n",
    "df_users['strat_key'] = result\n",
    "\n",
    "weights = df_users.strat_key.value_counts(normalize=True).to_dict()\n",
    "weights"
   ]
  },
  {
   "cell_type": "code",
   "execution_count": null,
   "metadata": {
    "ExecuteTime": {
     "end_time": "2021-07-03T01:33:13.405563Z",
     "start_time": "2021-07-03T01:33:12.780Z"
    }
   },
   "outputs": [],
   "source": [
    "bins = np.arange(0, 150, 5)\n",
    "df_users['age_bin'] = pd.cut(df_users.age, bins, right=True, labels=bins[:-1])\n"
   ]
  },
  {
   "cell_type": "code",
   "execution_count": null,
   "metadata": {
    "ExecuteTime": {
     "end_time": "2021-07-02T01:20:39.452736Z",
     "start_time": "2021-07-02T01:20:39.432124Z"
    }
   },
   "outputs": [],
   "source": []
  },
  {
   "cell_type": "code",
   "execution_count": null,
   "metadata": {
    "ExecuteTime": {
     "end_time": "2021-07-03T01:33:13.405563Z",
     "start_time": "2021-07-03T01:33:12.782Z"
    }
   },
   "outputs": [],
   "source": [
    "df_users.age"
   ]
  },
  {
   "cell_type": "code",
   "execution_count": null,
   "metadata": {
    "ExecuteTime": {
     "end_time": "2021-07-03T01:33:13.406564Z",
     "start_time": "2021-07-03T01:33:12.782Z"
    }
   },
   "outputs": [],
   "source": [
    "result"
   ]
  },
  {
   "cell_type": "code",
   "execution_count": null,
   "metadata": {
    "ExecuteTime": {
     "end_time": "2021-07-03T01:33:13.406564Z",
     "start_time": "2021-07-03T01:33:12.783Z"
    }
   },
   "outputs": [],
   "source": [
    "df_users['age'] * 100 + df_users['gender']"
   ]
  },
  {
   "cell_type": "code",
   "execution_count": null,
   "metadata": {},
   "outputs": [],
   "source": []
  }
 ],
 "metadata": {
  "kernelspec": {
   "display_name": "Python 3",
   "language": "python",
   "name": "python3"
  },
  "language_info": {
   "codemirror_mode": {
    "name": "ipython",
    "version": 3
   },
   "file_extension": ".py",
   "mimetype": "text/x-python",
   "name": "python",
   "nbconvert_exporter": "python",
   "pygments_lexer": "ipython3",
   "version": "3.7.6"
  }
 },
 "nbformat": 4,
 "nbformat_minor": 4
}
