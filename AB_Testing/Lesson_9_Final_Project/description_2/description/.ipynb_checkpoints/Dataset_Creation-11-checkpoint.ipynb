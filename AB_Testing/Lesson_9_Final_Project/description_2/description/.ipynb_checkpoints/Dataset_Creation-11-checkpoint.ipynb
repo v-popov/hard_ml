{
 "cells": [
  {
   "cell_type": "code",
   "execution_count": 1,
   "metadata": {
    "ExecuteTime": {
     "end_time": "2021-07-04T04:36:53.670123Z",
     "start_time": "2021-07-04T04:36:53.089123Z"
    }
   },
   "outputs": [],
   "source": [
    "import pandas as pd\n",
    "import numpy as np\n",
    "from scipy import stats\n",
    "from tqdm.notebook import tqdm\n",
    "\n",
    "import matplotlib.pyplot as plt\n",
    "import seaborn as sns\n",
    "from tqdm.notebook import tqdm\n",
    "\n",
    "\n",
    "titlesize = 24\n",
    "labelsize = 22\n",
    "legendsize = 22\n",
    "xticksize = 18\n",
    "yticksize = xticksize\n",
    "\n",
    "plt.rcParams['legend.markerscale'] = 1.5     # the relative size of legend markers vs. original\n",
    "plt.rcParams['legend.handletextpad'] = 0.5\n",
    "plt.rcParams['legend.labelspacing'] = 0.4    # the vertical space between the legend entries in fraction of fontsize\n",
    "plt.rcParams['legend.borderpad'] = 0.5       # border whitespace in fontsize units\n",
    "plt.rcParams['font.size'] = 12\n",
    "plt.rcParams['font.serif'] = 'Times New Roman'\n",
    "plt.rcParams['axes.labelsize'] = labelsize\n",
    "plt.rcParams['axes.titlesize'] = titlesize\n",
    "plt.rcParams['figure.figsize'] = (10, 8)\n",
    "\n",
    "plt.rc('xtick', labelsize=xticksize)\n",
    "plt.rc('ytick', labelsize=yticksize)\n",
    "plt.rc('legend', fontsize=legendsize)"
   ]
  },
  {
   "cell_type": "code",
   "execution_count": 2,
   "metadata": {
    "ExecuteTime": {
     "end_time": "2021-07-04T04:36:53.685123Z",
     "start_time": "2021-07-04T04:36:53.671123Z"
    }
   },
   "outputs": [],
   "source": [
    "def get_df_users(num_users=10000, prob_gender=0.6, min_age=20, max_age=60):\n",
    "\n",
    "    user_id = np.random.default_rng().choice(89999, size=num_users, replace=False) + 10000\n",
    "    gender = stats.bernoulli(p=prob_gender).rvs(size=num_users)\n",
    "    age = np.random.uniform(min_age, max_age, size=num_users)\n",
    "\n",
    "    df_users = pd.DataFrame({'user_id': user_id, 'gender': gender, 'age': age})\n",
    "    df_users = df_users.astype(int)\n",
    "    return df_users"
   ]
  },
  {
   "cell_type": "code",
   "execution_count": 3,
   "metadata": {
    "ExecuteTime": {
     "end_time": "2021-07-04T04:36:53.701123Z",
     "start_time": "2021-07-04T04:36:53.686123Z"
    }
   },
   "outputs": [],
   "source": [
    "def get_test(df_with_user_id, half_size):\n",
    "    remaining_users = set(df_with_user_id.user_id.unique())\n",
    "\n",
    "    group_a_one = np.random.choice(list(remaining_users), replace=False, size=half_size)\n",
    "    remaining_users = remaining_users - set(group_a_one)\n",
    "\n",
    "    group_a_two = np.random.choice(list(remaining_users), replace=False, size=half_size)\n",
    "    remaining_users = remaining_users - set(group_a_two)\n",
    "\n",
    "    group_b = np.random.choice(list(remaining_users), replace=False, size=half_size*2)\n",
    "    remaining_users = remaining_users - set(group_b)\n",
    "\n",
    "    test = {'group_a_one': list(group_a_one), 'group_a_two': list(group_a_two), 'group_b': list(group_b)}\n",
    "    \n",
    "    return test"
   ]
  },
  {
   "cell_type": "code",
   "execution_count": 4,
   "metadata": {
    "ExecuteTime": {
     "end_time": "2021-07-04T04:36:53.716123Z",
     "start_time": "2021-07-04T04:36:53.702123Z"
    }
   },
   "outputs": [],
   "source": [
    "def get_df_sales(user_id, num_sales, mu, std, days_range=(0, 56)):\n",
    "    user_id_sales = np.random.choice(user_id, replace=True, size=num_sales)\n",
    "    day = np.random.choice(np.arange(*days_range), replace=True, size=num_sales)\n",
    "    sales = np.abs(np.random.normal(mu, std, size=num_sales).round(2))\n",
    "    \n",
    "    return pd.DataFrame({'user_id': user_id_sales, 'day': day, 'sales': sales})"
   ]
  },
  {
   "cell_type": "markdown",
   "metadata": {},
   "source": [
    "# END"
   ]
  },
  {
   "cell_type": "code",
   "execution_count": 5,
   "metadata": {
    "ExecuteTime": {
     "end_time": "2021-07-04T04:36:53.731123Z",
     "start_time": "2021-07-04T04:36:53.717123Z"
    }
   },
   "outputs": [],
   "source": [
    "def plot_pvalue_ecdf(pvalues, title=None):\n",
    "    fig, (ax1, ax2) = plt.subplots(1, 2, figsize=(12, 4))\n",
    "\n",
    "    if title:\n",
    "        plt.suptitle(title)\n",
    "\n",
    "    sns.histplot(pvalues, ax=ax1, bins=20, stat='density')\n",
    "    ax1.plot([0,1],[1,1], 'k--')\n",
    "    ax1.set_xlabel('p-value')\n",
    "    ax1.set_xticks(np.arange(0,1.1, 0.2), minor=False)\n",
    "    ax1.set_xlim((0,1))\n",
    "\n",
    "    sns.ecdfplot(pvalues, ax=ax2)\n",
    "    ax2.set_ylabel('Probability')\n",
    "    ax2.set_xlabel('p-value')\n",
    "    ax2.grid()\n",
    "    ax2.set_xticks(np.arange(0,1.1, 0.2), minor=False)\n",
    "    ax2.set_yticks(np.arange(0,1.1, 0.2), minor=False)\n",
    "    ax2.set_xlim((0,1))"
   ]
  },
  {
   "cell_type": "code",
   "execution_count": 6,
   "metadata": {
    "ExecuteTime": {
     "end_time": "2021-07-04T04:36:53.746457Z",
     "start_time": "2021-07-04T04:36:53.732123Z"
    }
   },
   "outputs": [],
   "source": [
    "def _check_test(test, df_sales, df_users):\n",
    "    group_a_one = test['group_a_one']\n",
    "    group_a_two = test['group_a_two']\n",
    "    group_b = test['group_b']\n",
    "    \n",
    "    p_val_aa, point_diff_aa = check_two_groups(df_sales, df_users, group_a_one, group_a_two)\n",
    "\n",
    "    user_a = group_a_one + group_a_two\n",
    "    user_b = group_b\n",
    "\n",
    "    p_val_ab, point_diff_ab = check_two_groups(df_sales, df_users, user_a, user_b)\n",
    "\n",
    "    return p_val_aa, point_diff_aa, p_val_ab, point_diff_ab\n",
    "\n",
    "#_check_test(test)"
   ]
  },
  {
   "cell_type": "code",
   "execution_count": 7,
   "metadata": {
    "ExecuteTime": {
     "end_time": "2021-07-04T04:36:53.761834Z",
     "start_time": "2021-07-04T04:36:53.747458Z"
    }
   },
   "outputs": [],
   "source": [
    "def run_experiments(num_experiments=1000, half_size=1000,\n",
    "                    mu_a1=500, mu_a2=500,std_a1=300, std_a2=300,\n",
    "                    mu_b=515, std_b=300, shift_b_mean=0,\n",
    "                    df_users_params=None):\n",
    "\n",
    "    p_vals_aa = []\n",
    "    p_vals_ab = []\n",
    "    point_diffs_aa = []\n",
    "    point_diffs_ab = []\n",
    "\n",
    "    for _ in tqdm(range(num_experiments)):\n",
    "        df_users = get_df_users() if df_users_params is None else get_df_users(**df_users_params)\n",
    "\n",
    "        test = get_test(df_users, half_size)\n",
    "\n",
    "        df_sales_a1 = get_df_sales(test['group_a_one'], num_sales=half_size, mu=mu_a1, std=std_a1)\n",
    "        df_sales_a2 = get_df_sales(test['group_a_two'], num_sales=half_size, mu=mu_a2, std=std_a2)\n",
    "        df_sales_b = get_df_sales(test['group_b'], num_sales=2*half_size, mu=mu_b, std=std_b)\n",
    "        df_sales_b['sales'] += shift_b_mean\n",
    "\n",
    "        df_sales = pd.concat((df_sales_a1, df_sales_a2, df_sales_b), axis=0, ignore_index=True)\n",
    "        \n",
    "        df_users, df_sales = preprocess_df_users_sales(df_users, df_sales)\n",
    "\n",
    "        p_val_aa, point_diff_aa, p_val_ab, point_diff_ab = _check_test(test, df_sales, df_users)\n",
    "        p_vals_aa.append(p_val_aa)\n",
    "        p_vals_ab.append(p_val_ab)\n",
    "        point_diffs_aa.append(point_diff_aa)\n",
    "        point_diffs_ab.append(point_diff_ab)\n",
    "        \n",
    "    return p_vals_aa, point_diffs_aa, p_vals_ab, point_diffs_ab"
   ]
  },
  {
   "cell_type": "markdown",
   "metadata": {},
   "source": [
    "# EXPERIMETS (START)"
   ]
  },
  {
   "cell_type": "code",
   "execution_count": 8,
   "metadata": {
    "ExecuteTime": {
     "end_time": "2021-07-04T04:36:53.777834Z",
     "start_time": "2021-07-04T04:36:53.762835Z"
    }
   },
   "outputs": [],
   "source": [
    "def _calc_strat_mean(df, strat_column, target_name, weights):\n",
    "    strat_mean = df.groupby(strat_column)[target_name].mean()\n",
    "    return (strat_mean * weights).sum()\n",
    "\n",
    "\n",
    "def _calc_strat_var(df, strat_column, target_name, weights):\n",
    "    strat_var = df.groupby(strat_column)[target_name].var()\n",
    "    return (strat_var * weights).sum()\n",
    "\n",
    "\n",
    "def check_two_groups(df_sales, df_users, user_a, user_b):\n",
    "    weights = df_users['stratum'].value_counts(normalize=True)\n",
    "    \n",
    "    sales_a = df_sales[df_sales['user_id'].isin(user_a)]\n",
    "    sales_b = df_sales[df_sales['user_id'].isin(user_b)]\n",
    "    \n",
    "    sales_a = sales_a[sales_a['sales'] < np.percentile(sales_a['sales'], 99)]\n",
    "    sales_b = sales_b[sales_b['sales'] < np.percentile(sales_b['sales'], 99)]\n",
    "    \n",
    "    mu_a = _calc_strat_mean(sales_a, 'stratum', 'sales', weights)\n",
    "    mu_b = _calc_strat_mean(sales_b, 'stratum', 'sales', weights)\n",
    "\n",
    "    n_a = len(sales_a)\n",
    "    n_b = len(sales_b)\n",
    "    \n",
    "    var_a = _calc_strat_var(sales_a, 'stratum', 'sales', weights)\n",
    "    var_b = _calc_strat_var(sales_b, 'stratum', 'sales', weights)\n",
    "    \n",
    "    \n",
    "    point_diff = sales_b['sales'].mean() - sales_a['sales'].mean()\n",
    "    return stats.ttest_ind_from_stats(mean1=mu_a, std1=np.sqrt(var_a), nobs1=n_a,\n",
    "                                    mean2=mu_b, std2=np.sqrt(var_b), nobs2=n_b,\n",
    "                                    equal_var=True, alternative=\"two-sided\")[1], point_diff\n",
    "\n",
    "def preprocess_df_users_sales(df_users, df_sales):\n",
    "    df_sales = df_sales[df_sales['day'].isin(np.arange(49, 56))]\n",
    "    df_sales = df_sales.groupby(['user_id', 'day']).agg(sales=('sales', sum)).reset_index()\n",
    "    bins = np.arange(0., 150, 5)\n",
    "    bins[-1] = np.inf\n",
    "    df_users['age_bin'] = pd.cut(df_users.age, bins, right=False, labels=bins[:-1])\n",
    "    df_users['stratum'] = df_users['age_bin'].astype(float) * 100 + df_users['gender']\n",
    "    \n",
    "    df_sales = df_sales.merge(df_users, on='user_id', how='left')\n",
    "    \n",
    "    return df_users, df_sales"
   ]
  },
  {
   "cell_type": "code",
   "execution_count": 9,
   "metadata": {
    "ExecuteTime": {
     "end_time": "2021-07-04T04:36:53.809355Z",
     "start_time": "2021-07-04T04:36:53.778835Z"
    }
   },
   "outputs": [],
   "source": [
    "num_experiments=1000\n",
    "half_size=2000\n",
    "mu_a1=mu_a2=500 \n",
    "std_a1=std_a2=300\n",
    "mu_b=mu_a1\n",
    "std_b=300\n",
    "shift_b_mean=15\n",
    "\n",
    "df_users = get_df_users()\n",
    "\n",
    "test = get_test(df_users, half_size)\n",
    "\n",
    "df_sales_a1 = get_df_sales(test['group_a_one'], num_sales=half_size, mu=mu_a1, std=std_a1)\n",
    "df_sales_a2 = get_df_sales(test['group_a_two'], num_sales=half_size, mu=mu_a2, std=std_a2)\n",
    "df_sales_b = get_df_sales(test['group_b'], num_sales=2*half_size, mu=mu_b, std=std_b)\n",
    "df_sales_b['sales'] += shift_b_mean\n",
    "df_sales = pd.concat((df_sales_a1, df_sales_a2, df_sales_b), axis=0, ignore_index=True)"
   ]
  },
  {
   "cell_type": "code",
   "execution_count": 10,
   "metadata": {
    "ExecuteTime": {
     "end_time": "2021-07-04T04:36:53.824359Z",
     "start_time": "2021-07-04T04:36:53.810360Z"
    }
   },
   "outputs": [
    {
     "data": {
      "text/html": [
       "<div>\n",
       "<style scoped>\n",
       "    .dataframe tbody tr th:only-of-type {\n",
       "        vertical-align: middle;\n",
       "    }\n",
       "\n",
       "    .dataframe tbody tr th {\n",
       "        vertical-align: top;\n",
       "    }\n",
       "\n",
       "    .dataframe thead th {\n",
       "        text-align: right;\n",
       "    }\n",
       "</style>\n",
       "<table border=\"1\" class=\"dataframe\">\n",
       "  <thead>\n",
       "    <tr style=\"text-align: right;\">\n",
       "      <th></th>\n",
       "      <th>user_id</th>\n",
       "      <th>day</th>\n",
       "      <th>sales</th>\n",
       "    </tr>\n",
       "  </thead>\n",
       "  <tbody>\n",
       "    <tr>\n",
       "      <th>0</th>\n",
       "      <td>55828</td>\n",
       "      <td>35</td>\n",
       "      <td>724.36</td>\n",
       "    </tr>\n",
       "    <tr>\n",
       "      <th>1</th>\n",
       "      <td>32830</td>\n",
       "      <td>51</td>\n",
       "      <td>212.33</td>\n",
       "    </tr>\n",
       "    <tr>\n",
       "      <th>2</th>\n",
       "      <td>54095</td>\n",
       "      <td>53</td>\n",
       "      <td>254.66</td>\n",
       "    </tr>\n",
       "    <tr>\n",
       "      <th>3</th>\n",
       "      <td>32897</td>\n",
       "      <td>6</td>\n",
       "      <td>426.10</td>\n",
       "    </tr>\n",
       "    <tr>\n",
       "      <th>4</th>\n",
       "      <td>33315</td>\n",
       "      <td>34</td>\n",
       "      <td>403.79</td>\n",
       "    </tr>\n",
       "    <tr>\n",
       "      <th>...</th>\n",
       "      <td>...</td>\n",
       "      <td>...</td>\n",
       "      <td>...</td>\n",
       "    </tr>\n",
       "    <tr>\n",
       "      <th>7995</th>\n",
       "      <td>16395</td>\n",
       "      <td>48</td>\n",
       "      <td>395.32</td>\n",
       "    </tr>\n",
       "    <tr>\n",
       "      <th>7996</th>\n",
       "      <td>99805</td>\n",
       "      <td>26</td>\n",
       "      <td>357.33</td>\n",
       "    </tr>\n",
       "    <tr>\n",
       "      <th>7997</th>\n",
       "      <td>46309</td>\n",
       "      <td>34</td>\n",
       "      <td>153.03</td>\n",
       "    </tr>\n",
       "    <tr>\n",
       "      <th>7998</th>\n",
       "      <td>48913</td>\n",
       "      <td>46</td>\n",
       "      <td>650.46</td>\n",
       "    </tr>\n",
       "    <tr>\n",
       "      <th>7999</th>\n",
       "      <td>83120</td>\n",
       "      <td>50</td>\n",
       "      <td>256.15</td>\n",
       "    </tr>\n",
       "  </tbody>\n",
       "</table>\n",
       "<p>8000 rows × 3 columns</p>\n",
       "</div>"
      ],
      "text/plain": [
       "      user_id  day   sales\n",
       "0       55828   35  724.36\n",
       "1       32830   51  212.33\n",
       "2       54095   53  254.66\n",
       "3       32897    6  426.10\n",
       "4       33315   34  403.79\n",
       "...       ...  ...     ...\n",
       "7995    16395   48  395.32\n",
       "7996    99805   26  357.33\n",
       "7997    46309   34  153.03\n",
       "7998    48913   46  650.46\n",
       "7999    83120   50  256.15\n",
       "\n",
       "[8000 rows x 3 columns]"
      ]
     },
     "execution_count": 10,
     "metadata": {},
     "output_type": "execute_result"
    }
   ],
   "source": [
    "df_sales"
   ]
  },
  {
   "cell_type": "code",
   "execution_count": 11,
   "metadata": {
    "ExecuteTime": {
     "end_time": "2021-07-04T04:36:53.887359Z",
     "start_time": "2021-07-04T04:36:53.825361Z"
    }
   },
   "outputs": [
    {
     "name": "stderr",
     "output_type": "stream",
     "text": [
      "C:\\ProgramData\\Anaconda3\\lib\\site-packages\\ipykernel_launcher.py:2: SettingWithCopyWarning: \n",
      "A value is trying to be set on a copy of a slice from a DataFrame.\n",
      "Try using .loc[row_indexer,col_indexer] = value instead\n",
      "\n",
      "See the caveats in the documentation: https://pandas.pydata.org/pandas-docs/stable/user_guide/indexing.html#returning-a-view-versus-a-copy\n",
      "  \n",
      "C:\\Users\\victor\\AppData\\Roaming\\Python\\Python37\\site-packages\\scipy\\stats\\_distn_infrastructure.py:2007: RuntimeWarning: invalid value encountered in less_equal\n",
      "  cond2 = cond0 & (x <= _a)\n",
      "C:\\ProgramData\\Anaconda3\\lib\\site-packages\\ipykernel_launcher.py:61: RuntimeWarning: invalid value encountered in less\n"
     ]
    },
    {
     "data": {
      "text/plain": [
       "array([False, False, False, False])"
      ]
     },
     "execution_count": 11,
     "metadata": {},
     "output_type": "execute_result"
    }
   ],
   "source": [
    "df_sales_cov = df_sales[df_sales['day'].isin(np.arange(42, 49))]\n",
    "df_sales_cov['day'] += 7\n",
    "\n",
    "# эксперимент проводился с 49 до 55 день включительно\n",
    "df_sales = df_sales[df_sales['day'].isin(np.arange(49, 56))]\n",
    "\n",
    "\n",
    "def calculate_theta(y_control, y_pilot, y_control_cov, y_pilot_cov) -> float:\n",
    "    y = np.hstack([y_control, y_pilot])\n",
    "    y_cov = np.hstack([y_control_cov, y_pilot_cov])\n",
    "    covariance = np.cov(y_cov, y)[0, 1]\n",
    "    variance = y_cov.var()\n",
    "    theta = covariance / variance\n",
    "    return theta\n",
    "\n",
    "def linearize(df, kappa=None):\n",
    "    aggregation = df.groupby(['user_id', 'day']).agg(x=('sales', 'sum'),\n",
    "                                                     y=('sales', 'count'))\n",
    "    if kappa is None:\n",
    "        kappa = aggregation.sum().x / aggregation.sum().y\n",
    "\n",
    "    linearized = aggregation.x - kappa * aggregation.y\n",
    "    linearized = linearized.reset_index(name='sales')\n",
    "\n",
    "    return linearized, kappa\n",
    "\n",
    "group_a_one = test['group_a_one']\n",
    "group_a_two = test['group_a_two']\n",
    "group_b = test['group_b']\n",
    "\n",
    "user_a = group_a_one + group_a_two\n",
    "user_b = group_b\n",
    "\n",
    "\n",
    "sales_a = df_sales[df_sales['user_id'].isin(user_a)]\n",
    "sales_b = df_sales[df_sales['user_id'].isin(user_b)]\n",
    "\n",
    "sales_a, kappa = linearize(sales_a)\n",
    "sales_b, _ = linearize(sales_b, kappa)\n",
    "\n",
    "\n",
    "sales_a_cov = df_sales_cov[df_sales_cov['user_id'].isin(user_a)]\n",
    "sales_b_cov = df_sales_cov[df_sales_cov['user_id'].isin(user_b)]\n",
    "\n",
    "sales_a_cov, kappa = linearize(sales_a_cov)\n",
    "sales_b_cov, _ = linearize(sales_b_cov, kappa)\n",
    "\n",
    "\n",
    "sales_a = sales_a.merge(sales_a_cov, on=['user_id', 'day'], how='left', suffixes=('', '_cov'))\n",
    "sales_a.fillna(0., inplace=True)\n",
    "sales_b = sales_b.merge(sales_b_cov, on=['user_id', 'day'], how='left', suffixes=('', '_cov'))\n",
    "sales_b.fillna(0., inplace=True)\n",
    "\n",
    "theta = calculate_theta(y_control=sales_a['sales'], y_pilot=sales_b['sales'],\n",
    "                        y_control_cov=sales_a['sales_cov'], y_pilot_cov=sales_b['sales_cov'])\n",
    "\n",
    "\n",
    "sales_a_cuped = sales_a['sales'] - theta * sales_a['sales_cov']\n",
    "sales_b_cuped = sales_b['sales'] - theta * sales_b['sales_cov']\n",
    "\n",
    "stats.ttest_ind(sales_a_cuped, sales_b_cuped)[1] < 0.05"
   ]
  },
  {
   "cell_type": "code",
   "execution_count": 14,
   "metadata": {
    "ExecuteTime": {
     "end_time": "2021-07-04T04:37:07.129851Z",
     "start_time": "2021-07-04T04:37:07.107853Z"
    }
   },
   "outputs": [
    {
     "data": {
      "text/html": [
       "<div>\n",
       "<style scoped>\n",
       "    .dataframe tbody tr th:only-of-type {\n",
       "        vertical-align: middle;\n",
       "    }\n",
       "\n",
       "    .dataframe tbody tr th {\n",
       "        vertical-align: top;\n",
       "    }\n",
       "\n",
       "    .dataframe thead th {\n",
       "        text-align: right;\n",
       "    }\n",
       "</style>\n",
       "<table border=\"1\" class=\"dataframe\">\n",
       "  <thead>\n",
       "    <tr style=\"text-align: right;\">\n",
       "      <th></th>\n",
       "      <th>user_id</th>\n",
       "      <th>day</th>\n",
       "      <th>sales</th>\n",
       "      <th>sales_cov</th>\n",
       "    </tr>\n",
       "  </thead>\n",
       "  <tbody>\n",
       "    <tr>\n",
       "      <th>0</th>\n",
       "      <td>10658</td>\n",
       "      <td>53</td>\n",
       "      <td>-87.311477</td>\n",
       "      <td>0.0</td>\n",
       "    </tr>\n",
       "    <tr>\n",
       "      <th>1</th>\n",
       "      <td>10734</td>\n",
       "      <td>53</td>\n",
       "      <td>-91.781477</td>\n",
       "      <td>0.0</td>\n",
       "    </tr>\n",
       "    <tr>\n",
       "      <th>2</th>\n",
       "      <td>10986</td>\n",
       "      <td>55</td>\n",
       "      <td>542.538523</td>\n",
       "      <td>0.0</td>\n",
       "    </tr>\n",
       "    <tr>\n",
       "      <th>3</th>\n",
       "      <td>11082</td>\n",
       "      <td>52</td>\n",
       "      <td>173.318523</td>\n",
       "      <td>0.0</td>\n",
       "    </tr>\n",
       "    <tr>\n",
       "      <th>4</th>\n",
       "      <td>11541</td>\n",
       "      <td>51</td>\n",
       "      <td>586.948523</td>\n",
       "      <td>0.0</td>\n",
       "    </tr>\n",
       "    <tr>\n",
       "      <th>...</th>\n",
       "      <td>...</td>\n",
       "      <td>...</td>\n",
       "      <td>...</td>\n",
       "      <td>...</td>\n",
       "    </tr>\n",
       "    <tr>\n",
       "      <th>491</th>\n",
       "      <td>98931</td>\n",
       "      <td>52</td>\n",
       "      <td>548.268523</td>\n",
       "      <td>0.0</td>\n",
       "    </tr>\n",
       "    <tr>\n",
       "      <th>492</th>\n",
       "      <td>98979</td>\n",
       "      <td>49</td>\n",
       "      <td>-49.191477</td>\n",
       "      <td>0.0</td>\n",
       "    </tr>\n",
       "    <tr>\n",
       "      <th>493</th>\n",
       "      <td>99551</td>\n",
       "      <td>50</td>\n",
       "      <td>-295.351477</td>\n",
       "      <td>0.0</td>\n",
       "    </tr>\n",
       "    <tr>\n",
       "      <th>494</th>\n",
       "      <td>99585</td>\n",
       "      <td>52</td>\n",
       "      <td>331.368523</td>\n",
       "      <td>0.0</td>\n",
       "    </tr>\n",
       "    <tr>\n",
       "      <th>495</th>\n",
       "      <td>99721</td>\n",
       "      <td>55</td>\n",
       "      <td>-145.631477</td>\n",
       "      <td>0.0</td>\n",
       "    </tr>\n",
       "  </tbody>\n",
       "</table>\n",
       "<p>496 rows × 4 columns</p>\n",
       "</div>"
      ],
      "text/plain": [
       "     user_id  day       sales  sales_cov\n",
       "0      10658   53  -87.311477        0.0\n",
       "1      10734   53  -91.781477        0.0\n",
       "2      10986   55  542.538523        0.0\n",
       "3      11082   52  173.318523        0.0\n",
       "4      11541   51  586.948523        0.0\n",
       "..       ...  ...         ...        ...\n",
       "491    98931   52  548.268523        0.0\n",
       "492    98979   49  -49.191477        0.0\n",
       "493    99551   50 -295.351477        0.0\n",
       "494    99585   52  331.368523        0.0\n",
       "495    99721   55 -145.631477        0.0\n",
       "\n",
       "[496 rows x 4 columns]"
      ]
     },
     "execution_count": 14,
     "metadata": {},
     "output_type": "execute_result"
    }
   ],
   "source": [
    "sales_a['sales']"
   ]
  },
  {
   "cell_type": "code",
   "execution_count": 12,
   "metadata": {
    "ExecuteTime": {
     "end_time": "2021-07-04T04:36:53.951359Z",
     "start_time": "2021-07-04T04:36:53.888360Z"
    }
   },
   "outputs": [
    {
     "ename": "NameError",
     "evalue": "name 'qwerty' is not defined",
     "output_type": "error",
     "traceback": [
      "\u001b[1;31m---------------------------------------------------------------------------\u001b[0m",
      "\u001b[1;31mNameError\u001b[0m                                 Traceback (most recent call last)",
      "\u001b[1;32m<ipython-input-12-3c8b9f4b983a>\u001b[0m in \u001b[0;36m<module>\u001b[1;34m\u001b[0m\n\u001b[1;32m----> 1\u001b[1;33m \u001b[0mqwerty\u001b[0m\u001b[1;33m\u001b[0m\u001b[1;33m\u001b[0m\u001b[0m\n\u001b[0m",
      "\u001b[1;31mNameError\u001b[0m: name 'qwerty' is not defined"
     ]
    }
   ],
   "source": [
    "qwerty"
   ]
  },
  {
   "cell_type": "code",
   "execution_count": null,
   "metadata": {
    "ExecuteTime": {
     "end_time": "2021-07-04T04:36:53.952359Z",
     "start_time": "2021-07-04T04:36:53.099Z"
    }
   },
   "outputs": [],
   "source": [
    "df_sales_cov"
   ]
  },
  {
   "cell_type": "code",
   "execution_count": null,
   "metadata": {
    "ExecuteTime": {
     "end_time": "2021-07-04T04:36:53.953360Z",
     "start_time": "2021-07-04T04:36:53.099Z"
    }
   },
   "outputs": [],
   "source": [
    "group_a_one = test['group_a_one']\n",
    "group_a_two = test['group_a_two']\n",
    "group_b = test['group_b']\n",
    "\n",
    "user_a = group_a_one + group_a_two\n",
    "user_b = group_b\n",
    "\n",
    "\n",
    "sales_a = df_sales[df_sales['user_id'].isin(user_a)]\n",
    "sales_b = df_sales[df_sales['user_id'].isin(user_b)]\n",
    "\n",
    "sales_a, kappa = linearize(sales_a)\n",
    "sales_b, _ = linearize(sales_b, kappa)"
   ]
  },
  {
   "cell_type": "code",
   "execution_count": null,
   "metadata": {
    "ExecuteTime": {
     "end_time": "2021-07-04T04:36:53.953360Z",
     "start_time": "2021-07-04T04:36:53.100Z"
    }
   },
   "outputs": [],
   "source": [
    "sales_a"
   ]
  },
  {
   "cell_type": "code",
   "execution_count": null,
   "metadata": {
    "ExecuteTime": {
     "end_time": "2021-07-04T04:36:53.954359Z",
     "start_time": "2021-07-04T04:36:53.101Z"
    }
   },
   "outputs": [],
   "source": [
    "sales_a_cov = df_sales_cov[df_sales_cov['user_id'].isin(user_a)]\n",
    "sales_b_cov = df_sales_cov[df_sales_cov['user_id'].isin(user_b)]"
   ]
  },
  {
   "cell_type": "code",
   "execution_count": null,
   "metadata": {
    "ExecuteTime": {
     "end_time": "2021-07-04T04:36:53.954359Z",
     "start_time": "2021-07-04T04:36:53.102Z"
    }
   },
   "outputs": [],
   "source": [
    "df_sales_cov"
   ]
  },
  {
   "cell_type": "code",
   "execution_count": null,
   "metadata": {
    "ExecuteTime": {
     "end_time": "2021-07-04T04:36:53.955359Z",
     "start_time": "2021-07-04T04:36:53.102Z"
    }
   },
   "outputs": [],
   "source": [
    "sales_b_cov"
   ]
  },
  {
   "cell_type": "code",
   "execution_count": null,
   "metadata": {
    "ExecuteTime": {
     "end_time": "2021-07-04T04:36:53.955359Z",
     "start_time": "2021-07-04T04:36:53.104Z"
    }
   },
   "outputs": [],
   "source": [
    "sales_a_cov, kappa = linearize(sales_a_cov)\n",
    "sales_b_cov, _ = linearize(sales_b_cov, kappa)"
   ]
  },
  {
   "cell_type": "code",
   "execution_count": null,
   "metadata": {
    "ExecuteTime": {
     "end_time": "2021-07-04T04:36:53.956360Z",
     "start_time": "2021-07-04T04:36:53.105Z"
    }
   },
   "outputs": [],
   "source": [
    "sales_a = sales_a.merge(sales_a_cov, on=['user_id', 'day'], how='left', suffixes=('', '_cov'))\n",
    "sales_a.fillna(0., inplace=True)\n",
    "sales_b = sales_b.merge(sales_b_cov, on=['user_id', 'day'], how='left', suffixes=('', '_cov'))\n",
    "sales_b.fillna(0., inplace=True)"
   ]
  },
  {
   "cell_type": "code",
   "execution_count": null,
   "metadata": {
    "ExecuteTime": {
     "end_time": "2021-07-04T04:36:53.957359Z",
     "start_time": "2021-07-04T04:36:53.105Z"
    }
   },
   "outputs": [],
   "source": [
    "theta = calculate_theta(y_control=sales_a['sales'], y_pilot=sales_b['sales'],\n",
    "                        y_control_cov=sales_a['sales_cov'], y_pilot_cov=sales_b['sales_cov'])"
   ]
  },
  {
   "cell_type": "code",
   "execution_count": null,
   "metadata": {
    "ExecuteTime": {
     "end_time": "2021-07-04T04:36:53.957359Z",
     "start_time": "2021-07-04T04:36:53.106Z"
    }
   },
   "outputs": [],
   "source": [
    "sales_a_cuped = sales_a['sales'] - theta * sales_a['sales_cov']\n",
    "sales_b_cuped = sales_b['sales'] - theta * sales_b['sales_cov']"
   ]
  },
  {
   "cell_type": "code",
   "execution_count": null,
   "metadata": {
    "ExecuteTime": {
     "end_time": "2021-07-04T04:36:53.958359Z",
     "start_time": "2021-07-04T04:36:53.107Z"
    }
   },
   "outputs": [],
   "source": [
    "sales_a_cuped"
   ]
  },
  {
   "cell_type": "code",
   "execution_count": null,
   "metadata": {
    "ExecuteTime": {
     "end_time": "2021-07-04T04:36:53.959360Z",
     "start_time": "2021-07-04T04:36:53.107Z"
    }
   },
   "outputs": [],
   "source": [
    "stats.ttest_ind(sales_a_cuped, sales_b_cuped)[1] < 0.05"
   ]
  },
  {
   "cell_type": "code",
   "execution_count": null,
   "metadata": {
    "ExecuteTime": {
     "end_time": "2021-07-04T04:36:53.959360Z",
     "start_time": "2021-07-04T04:36:53.108Z"
    }
   },
   "outputs": [],
   "source": [
    "qwerty"
   ]
  },
  {
   "cell_type": "code",
   "execution_count": null,
   "metadata": {
    "ExecuteTime": {
     "end_time": "2021-07-04T04:36:53.960363Z",
     "start_time": "2021-07-04T04:36:53.109Z"
    }
   },
   "outputs": [],
   "source": [
    "def check_linearization(a, b):\n",
    "    \"\"\"Проверка гипотезы с помощью линеаризации.\n",
    "    \n",
    "    a: List[np.array], список множеств длин сессий пользователей контрольной группы\n",
    "    b: List[np.array], список множеств длин сессий пользователей пилотной группы\n",
    "    \n",
    "    return: pvalue и точечную оценку.\n",
    "    \"\"\"\n",
    "    a_x = np.array([np.sum(row) for row in a])\n",
    "    a_y = np.array([len(row) for row in a])\n",
    "    b_x = np.array([np.sum(row) for row in b])\n",
    "    b_y = np.array([len(row) for row in b])\n",
    "    coef = np.sum(a_x) / np.sum(a_y)\n",
    "    a_lin = a_x - coef * a_y\n",
    "    b_lin = b_x - coef * b_y\n",
    "    _, pvalue = stats.ttest_ind(a_lin, b_lin)\n",
    "    delta = np.mean(b_lin) - np.mean(a_lin)\n",
    "    return pvalue, delta"
   ]
  },
  {
   "cell_type": "markdown",
   "metadata": {},
   "source": [
    "# EXPERIMENTS (END)"
   ]
  },
  {
   "cell_type": "code",
   "execution_count": null,
   "metadata": {
    "ExecuteTime": {
     "end_time": "2021-07-04T04:36:53.961359Z",
     "start_time": "2021-07-04T04:36:53.110Z"
    }
   },
   "outputs": [],
   "source": [
    "p_vals_aa, point_diffs_aa, p_vals_ab, point_diffs_ab = run_experiments(num_experiments=num_experiments, \n",
    "                                                                       half_size=half_size,\n",
    "                                                                       mu_a1=mu_a1, \n",
    "                                                                       mu_a2=mu_a2,\n",
    "                                                                       std_a1=std_a1, \n",
    "                                                                       std_a2=std_a2,\n",
    "                                                                       mu_b=mu_b, \n",
    "                                                                       std_b=std_b,\n",
    "                                                                       shift_b_mean=shift_b_mean)\n",
    "\n",
    "plot_pvalue_ecdf(p_vals_aa, title='Распределение p-value: AA')\n",
    "plot_pvalue_ecdf(p_vals_ab, title='Распределение p-value: AB')\n",
    "\n",
    "significant_aa = np.array(p_vals_aa) < 0.05\n",
    "significant_ab = np.array(p_vals_ab) < 0.05\n",
    "\n",
    "significant_ab_but_not_aa = ((significant_ab).astype(int) - (significant_aa).astype(int)) == 1\n",
    "\n",
    "print(f'# Significant AB: {significant_ab.sum()}/{num_experiments}')\n",
    "print(f'# Significant AB (AA-adjusted): {significant_ab_but_not_aa.sum()}/{num_experiments}')\n",
    "\n",
    "true_delta = mu_b + shift_b_mean - mu_a1\n",
    "actual_effect_present = (np.array(point_diffs_ab) >= true_delta)\n",
    "\n",
    "print(f'# Point diff AB >= true_diff: {actual_effect_present.sum()}')\n",
    "print(f'# Point diff AA >= true_diff: {(np.array(point_diffs_aa) >= true_delta).sum()}')\n",
    "\n",
    "print(f'# TP: {(actual_effect_present & significant_ab).sum()}')\n",
    "print(f'# TP (AA-adjusted): {(actual_effect_present & significant_ab_but_not_aa).sum()}')\n",
    "\n",
    "print(f'# FP: {(significant_ab & (~actual_effect_present)).sum()}')\n",
    "print(f'# FP (AA-adjusted): {(significant_ab_but_not_aa & (~actual_effect_present)).sum()}')"
   ]
  },
  {
   "cell_type": "code",
   "execution_count": null,
   "metadata": {},
   "outputs": [],
   "source": []
  }
 ],
 "metadata": {
  "kernelspec": {
   "display_name": "Python 3",
   "language": "python",
   "name": "python3"
  },
  "language_info": {
   "codemirror_mode": {
    "name": "ipython",
    "version": 3
   },
   "file_extension": ".py",
   "mimetype": "text/x-python",
   "name": "python",
   "nbconvert_exporter": "python",
   "pygments_lexer": "ipython3",
   "version": "3.7.6"
  }
 },
 "nbformat": 4,
 "nbformat_minor": 4
}
