{
 "cells": [
  {
   "cell_type": "code",
   "execution_count": 1,
   "metadata": {
    "ExecuteTime": {
     "end_time": "2021-07-03T23:31:57.732764Z",
     "start_time": "2021-07-03T23:31:57.165768Z"
    }
   },
   "outputs": [],
   "source": [
    "import pandas as pd\n",
    "import numpy as np\n",
    "from scipy import stats\n",
    "from tqdm.notebook import tqdm\n",
    "\n",
    "import matplotlib.pyplot as plt\n",
    "import seaborn as sns\n",
    "from tqdm.notebook import tqdm\n",
    "\n",
    "\n",
    "titlesize = 24\n",
    "labelsize = 22\n",
    "legendsize = 22\n",
    "xticksize = 18\n",
    "yticksize = xticksize\n",
    "\n",
    "plt.rcParams['legend.markerscale'] = 1.5     # the relative size of legend markers vs. original\n",
    "plt.rcParams['legend.handletextpad'] = 0.5\n",
    "plt.rcParams['legend.labelspacing'] = 0.4    # the vertical space between the legend entries in fraction of fontsize\n",
    "plt.rcParams['legend.borderpad'] = 0.5       # border whitespace in fontsize units\n",
    "plt.rcParams['font.size'] = 12\n",
    "plt.rcParams['font.serif'] = 'Times New Roman'\n",
    "plt.rcParams['axes.labelsize'] = labelsize\n",
    "plt.rcParams['axes.titlesize'] = titlesize\n",
    "plt.rcParams['figure.figsize'] = (10, 8)\n",
    "\n",
    "plt.rc('xtick', labelsize=xticksize)\n",
    "plt.rc('ytick', labelsize=yticksize)\n",
    "plt.rc('legend', fontsize=legendsize)"
   ]
  },
  {
   "cell_type": "code",
   "execution_count": 2,
   "metadata": {
    "ExecuteTime": {
     "end_time": "2021-07-03T23:31:57.747764Z",
     "start_time": "2021-07-03T23:31:57.733767Z"
    }
   },
   "outputs": [],
   "source": [
    "def get_df_users(num_users=10000, prob_gender=0.6, min_age=20, max_age=60):\n",
    "\n",
    "    user_id = np.random.default_rng().choice(89999, size=num_users, replace=False) + 10000\n",
    "    gender = stats.bernoulli(p=prob_gender).rvs(size=num_users)\n",
    "    age = np.random.uniform(min_age, max_age, size=num_users)\n",
    "\n",
    "    df_users = pd.DataFrame({'user_id': user_id, 'gender': gender, 'age': age})\n",
    "    df_users = df_users.astype(int)\n",
    "    return df_users"
   ]
  },
  {
   "cell_type": "code",
   "execution_count": 3,
   "metadata": {
    "ExecuteTime": {
     "end_time": "2021-07-03T23:31:57.763124Z",
     "start_time": "2021-07-03T23:31:57.748765Z"
    }
   },
   "outputs": [],
   "source": [
    "def get_test(df_with_user_id, half_size):\n",
    "    remaining_users = set(df_with_user_id.user_id.unique())\n",
    "\n",
    "    group_a_one = np.random.choice(list(remaining_users), replace=False, size=half_size)\n",
    "    remaining_users = remaining_users - set(group_a_one)\n",
    "\n",
    "    group_a_two = np.random.choice(list(remaining_users), replace=False, size=half_size)\n",
    "    remaining_users = remaining_users - set(group_a_two)\n",
    "\n",
    "    group_b = np.random.choice(list(remaining_users), replace=False, size=half_size*2)\n",
    "    remaining_users = remaining_users - set(group_b)\n",
    "\n",
    "    test = {'group_a_one': list(group_a_one), 'group_a_two': list(group_a_two), 'group_b': list(group_b)}\n",
    "    \n",
    "    return test"
   ]
  },
  {
   "cell_type": "code",
   "execution_count": 4,
   "metadata": {
    "ExecuteTime": {
     "end_time": "2021-07-03T23:31:57.778754Z",
     "start_time": "2021-07-03T23:31:57.764125Z"
    }
   },
   "outputs": [],
   "source": [
    "def get_df_sales(user_id, num_sales, mu, std, days_range=(0, 56)):\n",
    "    user_id_sales = np.random.choice(user_id, replace=True, size=num_sales)\n",
    "    day = np.random.choice(np.arange(*days_range), replace=True, size=num_sales)\n",
    "    sales = np.abs(np.random.normal(mu, std, size=num_sales).round(2))\n",
    "    \n",
    "    return pd.DataFrame({'user_id': user_id_sales, 'day': day, 'sales': sales})"
   ]
  },
  {
   "cell_type": "code",
   "execution_count": 5,
   "metadata": {
    "ExecuteTime": {
     "end_time": "2021-07-03T23:31:57.793735Z",
     "start_time": "2021-07-03T23:31:57.779760Z"
    }
   },
   "outputs": [],
   "source": [
    "# half_size = 1000\n",
    "# mu_a1 = mu_a2 = 500\n",
    "# std_a1 = std_a2 = 300\n",
    "# mu_b = 600\n",
    "# std_b = 300\n",
    "\n",
    "# df_users = get_df_users()\n",
    "\n",
    "# test = get_test(df_users, half_size)\n",
    "\n",
    "# df_sales_a1 = get_df_sales(test['group_a_one'], num_sales=half_size, mu=mu_a1, std=std_a1)\n",
    "# df_sales_a2 = get_df_sales(test['group_a_two'], num_sales=half_size, mu=mu_a2, std=std_a2)\n",
    "# df_sales_b = get_df_sales(test['group_b'], num_sales=2*half_size, mu=mu_b, std=std_b)\n",
    "\n",
    "# sales_df = pd.concat((df_sales_a1, df_sales_a2, df_sales_b), axis=0, ignore_index=True)"
   ]
  },
  {
   "cell_type": "markdown",
   "metadata": {},
   "source": [
    "# END"
   ]
  },
  {
   "cell_type": "code",
   "execution_count": 6,
   "metadata": {
    "ExecuteTime": {
     "end_time": "2021-07-03T23:31:57.809741Z",
     "start_time": "2021-07-03T23:31:57.794736Z"
    }
   },
   "outputs": [],
   "source": [
    "def plot_pvalue_ecdf(pvalues, title=None):\n",
    "    fig, (ax1, ax2) = plt.subplots(1, 2, figsize=(12, 4))\n",
    "\n",
    "    if title:\n",
    "        plt.suptitle(title)\n",
    "\n",
    "    sns.histplot(pvalues, ax=ax1, bins=20, stat='density')\n",
    "    ax1.plot([0,1],[1,1], 'k--')\n",
    "    ax1.set_xlabel('p-value')\n",
    "    ax1.set_xticks(np.arange(0,1.1, 0.2), minor=False)\n",
    "    ax1.set_xlim((0,1))\n",
    "\n",
    "    sns.ecdfplot(pvalues, ax=ax2)\n",
    "    ax2.set_ylabel('Probability')\n",
    "    ax2.set_xlabel('p-value')\n",
    "    ax2.grid()\n",
    "    ax2.set_xticks(np.arange(0,1.1, 0.2), minor=False)\n",
    "    ax2.set_yticks(np.arange(0,1.1, 0.2), minor=False)\n",
    "    ax2.set_xlim((0,1))"
   ]
  },
  {
   "cell_type": "code",
   "execution_count": 7,
   "metadata": {
    "ExecuteTime": {
     "end_time": "2021-07-03T23:31:57.825244Z",
     "start_time": "2021-07-03T23:31:57.810742Z"
    }
   },
   "outputs": [],
   "source": [
    "def _check_test(test, df_sales, df_users):\n",
    "    group_a_one = test['group_a_one']\n",
    "    group_a_two = test['group_a_two']\n",
    "    group_b = test['group_b']\n",
    "    \n",
    "    p_val_aa, point_diff_aa = check_two_groups(df_sales, df_users, group_a_one, group_a_two)\n",
    "\n",
    "    user_a = group_a_one + group_a_two\n",
    "    user_b = group_b\n",
    "\n",
    "    p_val_ab, point_diff_ab = check_two_groups(df_sales, df_users, user_a, user_b)\n",
    "\n",
    "    return p_val_aa, point_diff_aa, p_val_ab, point_diff_ab\n",
    "\n",
    "#_check_test(test)"
   ]
  },
  {
   "cell_type": "code",
   "execution_count": 8,
   "metadata": {
    "ExecuteTime": {
     "end_time": "2021-07-03T23:31:57.841191Z",
     "start_time": "2021-07-03T23:31:57.826244Z"
    }
   },
   "outputs": [],
   "source": [
    "def run_experiments(num_experiments=1000, half_size=1000,\n",
    "                    mu_a1=500, mu_a2=500,std_a1=300, std_a2=300,\n",
    "                    mu_b=515, std_b=300, shift_b_mean=0,\n",
    "                    df_users_params=None):\n",
    "\n",
    "    p_vals_aa = []\n",
    "    p_vals_ab = []\n",
    "    point_diffs_aa = []\n",
    "    point_diffs_ab = []\n",
    "\n",
    "    for _ in tqdm(range(num_experiments)):\n",
    "        df_users = get_df_users() if df_users_params is None else get_df_users(**df_users_params)\n",
    "\n",
    "        test = get_test(df_users, half_size)\n",
    "\n",
    "        df_sales_a1 = get_df_sales(test['group_a_one'], num_sales=half_size, mu=mu_a1, std=std_a1)\n",
    "        df_sales_a2 = get_df_sales(test['group_a_two'], num_sales=half_size, mu=mu_a2, std=std_a2)\n",
    "        df_sales_b = get_df_sales(test['group_b'], num_sales=2*half_size, mu=mu_b, std=std_b)\n",
    "        df_sales_b['sales'] += shift_b_mean\n",
    "        \n",
    "        df_sales = pd.concat((df_sales_a1, df_sales_a2, df_sales_b), axis=0, ignore_index=True)\n",
    "        \n",
    "        df_users, df_sales = preprocess_df_users_sales(df_users, df_sales)\n",
    "\n",
    "        p_val_aa, point_diff_aa, p_val_ab, point_diff_ab = _check_test(test, df_sales, df_users)\n",
    "        p_vals_aa.append(p_val_aa)\n",
    "        p_vals_ab.append(p_val_ab)\n",
    "        point_diffs_aa.append(point_diff_aa)\n",
    "        point_diffs_ab.append(point_diff_ab)\n",
    "        \n",
    "    return p_vals_aa, point_diffs_aa, p_vals_ab, point_diffs_ab"
   ]
  },
  {
   "cell_type": "markdown",
   "metadata": {},
   "source": [
    "# EXPERIMETS (START)"
   ]
  },
  {
   "cell_type": "code",
   "execution_count": 9,
   "metadata": {
    "ExecuteTime": {
     "end_time": "2021-07-03T23:31:57.857218Z",
     "start_time": "2021-07-03T23:31:57.842192Z"
    }
   },
   "outputs": [],
   "source": [
    "def check_two_groups(df_sales, df_users, user_a, user_b):\n",
    "    sales_a = df_sales[df_sales['user_id'].isin(user_a)]['sales'].values\n",
    "    sales_b = df_sales[df_sales['user_id'].isin(user_b)]['sales'].values\n",
    "    point_diff = sales_b.mean() - sales_a.mean()\n",
    "    return stats.ttest_ind(sales_a, sales_b)[1], point_diff\n",
    "\n",
    "def preprocess_df_users_sales(df_users, df_sales):\n",
    "    df_sales = df_sales[df_sales['day'].isin(np.arange(49, 56))]\n",
    "    return df_users, df_sales"
   ]
  },
  {
   "cell_type": "code",
   "execution_count": 10,
   "metadata": {
    "ExecuteTime": {
     "end_time": "2021-07-03T23:31:57.872229Z",
     "start_time": "2021-07-03T23:31:57.858219Z"
    }
   },
   "outputs": [],
   "source": [
    "num_experiments=10000\n",
    "half_size=2000\n",
    "mu_a1=mu_a2=500 \n",
    "std_a1=std_a2=300\n",
    "mu_b=mu_a1\n",
    "std_b=300\n",
    "shift_b_mean=15"
   ]
  },
  {
   "cell_type": "markdown",
   "metadata": {},
   "source": [
    "# EXPERIMENTS (END)"
   ]
  },
  {
   "cell_type": "code",
   "execution_count": 14,
   "metadata": {
    "ExecuteTime": {
     "end_time": "2021-07-03T23:33:04.361567Z",
     "start_time": "2021-07-03T23:32:53.161067Z"
    }
   },
   "outputs": [
    {
     "data": {
      "application/vnd.jupyter.widget-view+json": {
       "model_id": "66c5000523d845caa7086c4097373335",
       "version_major": 2,
       "version_minor": 0
      },
      "text/plain": [
       "HBox(children=(HTML(value=''), FloatProgress(value=0.0, max=1000.0), HTML(value='')))"
      ]
     },
     "metadata": {},
     "output_type": "display_data"
    },
    {
     "name": "stdout",
     "output_type": "stream",
     "text": [
      "\n",
      "# Significant AB: 138/1000\n",
      "# Significant AB (AA-adjusted): 127/1000\n",
      "# Point diff AB >= true_diff: 520\n",
      "# Point diff AA >= true_diff: 251\n",
      "# TP: 134\n",
      "# TP (AA-adjusted): 123\n",
      "# FP: 4\n",
      "# FP (AA-adjusted): 4\n"
     ]
    },
    {
     "data": {
      "image/png": "[encoded data removed]",
      "text/plain": [
       "<Figure size 864x288 with 2 Axes>"
      ]
     },
     "metadata": {
      "needs_background": "light"
     },
     "output_type": "display_data"
    },
    {
     "data": {
      "image/png": "[encoded data removed]",
      "text/plain": [
       "<Figure size 864x288 with 2 Axes>"
      ]
     },
     "metadata": {
      "needs_background": "light"
     },
     "output_type": "display_data"
    }
   ],
   "source": [
    "p_vals_aa, point_diffs_aa, p_vals_ab, point_diffs_ab = run_experiments(num_experiments=num_experiments, \n",
    "                                                                       half_size=half_size,\n",
    "                                                                       mu_a1=mu_a1, \n",
    "                                                                       mu_a2=mu_a2,\n",
    "                                                                       std_a1=std_a1, \n",
    "                                                                       std_a2=std_a2,\n",
    "                                                                       mu_b=mu_b, \n",
    "                                                                       std_b=std_b,\n",
    "                                                                       shift_b_mean=shift_b_mean)\n",
    "\n",
    "plot_pvalue_ecdf(p_vals_aa, title='Распределение p-value: AA')\n",
    "plot_pvalue_ecdf(p_vals_ab, title='Распределение p-value: AB')\n",
    "\n",
    "significant_aa = np.array(p_vals_aa) < 0.05\n",
    "significant_ab = np.array(p_vals_ab) < 0.05\n",
    "\n",
    "significant_ab_but_not_aa = ((significant_ab).astype(int) - (significant_aa).astype(int)) == 1\n",
    "\n",
    "print(f'# Significant AB: {significant_ab.sum()}/{num_experiments}')\n",
    "print(f'# Significant AB (AA-adjusted): {significant_ab_but_not_aa.sum()}/{num_experiments}')\n",
    "\n",
    "true_delta = mu_b + shift_b_mean - mu_a1\n",
    "actual_effect_present = (np.array(point_diffs_ab) >= true_delta)\n",
    "\n",
    "print(f'# Point diff AB >= true_diff: {actual_effect_present.sum()}')\n",
    "print(f'# Point diff AA >= true_diff: {(np.array(point_diffs_aa) >= true_delta).sum()}')\n",
    "\n",
    "print(f'# TP: {(actual_effect_present & significant_ab).sum()}')\n",
    "print(f'# TP (AA-adjusted): {(actual_effect_present & significant_ab_but_not_aa).sum()}')\n",
    "\n",
    "print(f'# FP: {(significant_ab & (~actual_effect_present)).sum()}')\n",
    "print(f'# FP (AA-adjusted): {(significant_ab_but_not_aa & (~actual_effect_present)).sum()}')"
   ]
  },
  {
   "cell_type": "code",
   "execution_count": null,
   "metadata": {},
   "outputs": [],
   "source": []
  }
 ],
 "metadata": {
  "kernelspec": {
   "display_name": "Python 3",
   "language": "python",
   "name": "python3"
  },
  "language_info": {
   "codemirror_mode": {
    "name": "ipython",
    "version": 3
   },
   "file_extension": ".py",
   "mimetype": "text/x-python",
   "name": "python",
   "nbconvert_exporter": "python",
   "pygments_lexer": "ipython3",
   "version": "3.7.6"
  }
 },
 "nbformat": 4,
 "nbformat_minor": 4
}
