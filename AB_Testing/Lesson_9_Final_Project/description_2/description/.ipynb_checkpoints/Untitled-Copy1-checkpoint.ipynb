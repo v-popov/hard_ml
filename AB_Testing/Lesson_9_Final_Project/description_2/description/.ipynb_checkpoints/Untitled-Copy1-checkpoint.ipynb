{
 "cells": [
  {
   "cell_type": "code",
   "execution_count": 1,
   "metadata": {
    "ExecuteTime": {
     "end_time": "2021-07-03T01:32:59.593544Z",
     "start_time": "2021-07-03T01:32:59.225238Z"
    }
   },
   "outputs": [],
   "source": [
    "import pandas as pd\n",
    "import numpy as np\n",
    "from scipy.stats import ttest_ind, t"
   ]
  },
  {
   "cell_type": "code",
   "execution_count": 2,
   "metadata": {
    "ExecuteTime": {
     "end_time": "2021-07-03T01:32:59.608548Z",
     "start_time": "2021-07-03T01:32:59.594557Z"
    }
   },
   "outputs": [],
   "source": [
    "df_users = pd.read_csv('data/df_users.csv')\n",
    "df_sales = pd.read_csv('data/df_sales.csv')"
   ]
  },
  {
   "cell_type": "code",
   "execution_count": 3,
   "metadata": {
    "ExecuteTime": {
     "end_time": "2021-07-03T01:32:59.624547Z",
     "start_time": "2021-07-03T01:32:59.609548Z"
    }
   },
   "outputs": [
    {
     "data": {
      "text/html": [
       "<div>\n",
       "<style scoped>\n",
       "    .dataframe tbody tr th:only-of-type {\n",
       "        vertical-align: middle;\n",
       "    }\n",
       "\n",
       "    .dataframe tbody tr th {\n",
       "        vertical-align: top;\n",
       "    }\n",
       "\n",
       "    .dataframe thead th {\n",
       "        text-align: right;\n",
       "    }\n",
       "</style>\n",
       "<table border=\"1\" class=\"dataframe\">\n",
       "  <thead>\n",
       "    <tr style=\"text-align: right;\">\n",
       "      <th></th>\n",
       "      <th>user_id</th>\n",
       "      <th>gender</th>\n",
       "      <th>age</th>\n",
       "    </tr>\n",
       "  </thead>\n",
       "  <tbody>\n",
       "    <tr>\n",
       "      <th>0</th>\n",
       "      <td>2481878</td>\n",
       "      <td>0</td>\n",
       "      <td>26</td>\n",
       "    </tr>\n",
       "    <tr>\n",
       "      <th>1</th>\n",
       "      <td>5939953</td>\n",
       "      <td>1</td>\n",
       "      <td>21</td>\n",
       "    </tr>\n",
       "    <tr>\n",
       "      <th>2</th>\n",
       "      <td>6805236</td>\n",
       "      <td>0</td>\n",
       "      <td>23</td>\n",
       "    </tr>\n",
       "    <tr>\n",
       "      <th>3</th>\n",
       "      <td>5333820</td>\n",
       "      <td>0</td>\n",
       "      <td>22</td>\n",
       "    </tr>\n",
       "    <tr>\n",
       "      <th>4</th>\n",
       "      <td>7187024</td>\n",
       "      <td>0</td>\n",
       "      <td>28</td>\n",
       "    </tr>\n",
       "  </tbody>\n",
       "</table>\n",
       "</div>"
      ],
      "text/plain": [
       "   user_id  gender  age\n",
       "0  2481878       0   26\n",
       "1  5939953       1   21\n",
       "2  6805236       0   23\n",
       "3  5333820       0   22\n",
       "4  7187024       0   28"
      ]
     },
     "execution_count": 3,
     "metadata": {},
     "output_type": "execute_result"
    }
   ],
   "source": [
    "df_users.head()"
   ]
  },
  {
   "cell_type": "code",
   "execution_count": 4,
   "metadata": {
    "ExecuteTime": {
     "end_time": "2021-07-03T01:32:59.639547Z",
     "start_time": "2021-07-03T01:32:59.625548Z"
    }
   },
   "outputs": [
    {
     "data": {
      "text/html": [
       "<div>\n",
       "<style scoped>\n",
       "    .dataframe tbody tr th:only-of-type {\n",
       "        vertical-align: middle;\n",
       "    }\n",
       "\n",
       "    .dataframe tbody tr th {\n",
       "        vertical-align: top;\n",
       "    }\n",
       "\n",
       "    .dataframe thead th {\n",
       "        text-align: right;\n",
       "    }\n",
       "</style>\n",
       "<table border=\"1\" class=\"dataframe\">\n",
       "  <thead>\n",
       "    <tr style=\"text-align: right;\">\n",
       "      <th></th>\n",
       "      <th>user_id</th>\n",
       "      <th>day</th>\n",
       "      <th>sales</th>\n",
       "    </tr>\n",
       "  </thead>\n",
       "  <tbody>\n",
       "    <tr>\n",
       "      <th>0</th>\n",
       "      <td>4137940</td>\n",
       "      <td>39</td>\n",
       "      <td>276</td>\n",
       "    </tr>\n",
       "    <tr>\n",
       "      <th>1</th>\n",
       "      <td>3692244</td>\n",
       "      <td>5</td>\n",
       "      <td>30</td>\n",
       "    </tr>\n",
       "    <tr>\n",
       "      <th>2</th>\n",
       "      <td>3527743</td>\n",
       "      <td>32</td>\n",
       "      <td>363</td>\n",
       "    </tr>\n",
       "    <tr>\n",
       "      <th>3</th>\n",
       "      <td>6805236</td>\n",
       "      <td>42</td>\n",
       "      <td>274</td>\n",
       "    </tr>\n",
       "    <tr>\n",
       "      <th>4</th>\n",
       "      <td>6216002</td>\n",
       "      <td>20</td>\n",
       "      <td>421</td>\n",
       "    </tr>\n",
       "  </tbody>\n",
       "</table>\n",
       "</div>"
      ],
      "text/plain": [
       "   user_id  day  sales\n",
       "0  4137940   39    276\n",
       "1  3692244    5     30\n",
       "2  3527743   32    363\n",
       "3  6805236   42    274\n",
       "4  6216002   20    421"
      ]
     },
     "execution_count": 4,
     "metadata": {},
     "output_type": "execute_result"
    }
   ],
   "source": [
    "df_sales.head()"
   ]
  },
  {
   "cell_type": "code",
   "execution_count": 5,
   "metadata": {
    "ExecuteTime": {
     "end_time": "2021-07-03T01:32:59.670553Z",
     "start_time": "2021-07-03T01:32:59.640548Z"
    }
   },
   "outputs": [],
   "source": [
    "# эксперимент проводился с 49 до 55 день включительно\n",
    "df_sales = df_sales[\n",
    "    df_sales['day'].isin(np.arange(49, 56))\n",
    "]\n",
    "\n",
    "\n",
    "bins = np.arange(0., 150, 5)\n",
    "bins[-1] = np.inf\n",
    "df_users['age_bin'] = pd.cut(df_users.age, bins, right=False, labels=bins[:-1])\n",
    "df_users['stratum'] = df_users['age_bin'].astype(float) * 100 + df_users['gender']\n",
    "weights = df_users['stratum'].value_counts(normalize=True)\n",
    "\n",
    "\n",
    "\n",
    "def calc_strat_mean(df, strat_column, target_name):\n",
    "    strat_mean = df.groupby(strat_column)[target_name].mean()\n",
    "    return (strat_mean * weights).sum()\n",
    "\n",
    "\n",
    "def calc_strat_var(df, strat_column, target_name):\n",
    "    strat_var = df.groupby(strat_column)[target_name].var()\n",
    "    return (strat_var * weights).sum()\n",
    "\n",
    "def ping():\n",
    "    global df_sales\n",
    "    df_sales = df_sales.merge(df_users, on='user_id', how='left')\n",
    "\n",
    "    \n",
    "def _check_test(test):\n",
    "    group_a_one = test['group_a_one']\n",
    "    group_a_two = test['group_a_two']\n",
    "    group_b = test['group_b']\n",
    "\n",
    "    user_a = group_a_one + group_a_two\n",
    "    user_b = group_b\n",
    "\n",
    "    sales_a = df_sales[df_sales['user_id'].isin(user_a)]#['sales'].values\n",
    "    sales_b = df_sales[df_sales['user_id'].isin(user_b)]#['sales'].values\n",
    "\n",
    "    mu_a = calc_strat_mean(sales_a, 'stratum', 'sales')\n",
    "    mu_b = calc_strat_mean(sales_b, 'stratum', 'sales')\n",
    "\n",
    "    var_a = calc_strat_var(sales_a, 'stratum', 'sales')\n",
    "    var_b = calc_strat_var(sales_b, 'stratum', 'sales')\n",
    "\n",
    "    delta_mean_strat = mu_b - mu_a\n",
    "    std_mean_strat = (var_b / len(sales_b) + var_a / len(sales_a)) ** 0.5\n",
    "\n",
    "    no_effect = delta_mean_strat - 1.96 * std_mean_strat <= 0 <= delta_mean_strat + 1.96 * std_mean_strat\n",
    "\n",
    "    return not no_effect\n",
    "\n",
    "\n",
    "ping()"
   ]
  },
  {
   "cell_type": "code",
   "execution_count": 6,
   "metadata": {
    "ExecuteTime": {
     "end_time": "2021-07-03T01:32:59.686621Z",
     "start_time": "2021-07-03T01:32:59.671555Z"
    }
   },
   "outputs": [
    {
     "data": {
      "text/plain": [
       "140"
      ]
     },
     "execution_count": 6,
     "metadata": {},
     "output_type": "execute_result"
    }
   ],
   "source": [
    "df_sales.duplicated(subset=['user_id', 'day']).sum()"
   ]
  },
  {
   "cell_type": "code",
   "execution_count": 7,
   "metadata": {
    "ExecuteTime": {
     "end_time": "2021-07-03T01:32:59.702632Z",
     "start_time": "2021-07-03T01:32:59.687621Z"
    }
   },
   "outputs": [],
   "source": [
    "# df_sales = df_sales.groupby(['user_id', 'day']).agg(sales = ('sales', sum)).reset_index()"
   ]
  },
  {
   "cell_type": "code",
   "execution_count": 8,
   "metadata": {
    "ExecuteTime": {
     "end_time": "2021-07-03T01:32:59.717925Z",
     "start_time": "2021-07-03T01:32:59.703633Z"
    }
   },
   "outputs": [],
   "source": [
    "# df_sales.duplicated(subset=['user_id', 'day']).sum()"
   ]
  },
  {
   "cell_type": "code",
   "execution_count": 9,
   "metadata": {
    "ExecuteTime": {
     "end_time": "2021-07-03T01:32:59.733546Z",
     "start_time": "2021-07-03T01:32:59.718926Z"
    }
   },
   "outputs": [],
   "source": [
    "# df_users.user_id.unique()"
   ]
  },
  {
   "cell_type": "code",
   "execution_count": 10,
   "metadata": {
    "ExecuteTime": {
     "end_time": "2021-07-03T01:32:59.749561Z",
     "start_time": "2021-07-03T01:32:59.734548Z"
    }
   },
   "outputs": [],
   "source": [
    "half_size = 10\n",
    "\n",
    "remaining_users = set(df_sales.user_id.unique())\n",
    "\n",
    "group_a_one = np.random.choice(list(remaining_users), replace=False, size=half_size)\n",
    "remaining_users = remaining_users - set(group_a_one)\n",
    "\n",
    "group_a_two = np.random.choice(list(remaining_users), replace=False, size=half_size)\n",
    "remaining_users = remaining_users - set(group_a_two)\n",
    "\n",
    "group_b = np.random.choice(list(remaining_users), replace=False, size=half_size*2)\n",
    "remaining_users = remaining_users - set(group_b)"
   ]
  },
  {
   "cell_type": "code",
   "execution_count": 11,
   "metadata": {
    "ExecuteTime": {
     "end_time": "2021-07-03T01:32:59.764898Z",
     "start_time": "2021-07-03T01:32:59.750565Z"
    }
   },
   "outputs": [],
   "source": [
    "test = {'group_a_one': list(group_a_one), 'group_a_two': list(group_a_two), 'group_b': list(group_b)}"
   ]
  },
  {
   "cell_type": "code",
   "execution_count": 12,
   "metadata": {
    "ExecuteTime": {
     "end_time": "2021-07-03T01:32:59.779914Z",
     "start_time": "2021-07-03T01:32:59.765905Z"
    }
   },
   "outputs": [
    {
     "name": "stdout",
     "output_type": "stream",
     "text": [
      "484.2450980392157\n",
      "530.9230769230769\n"
     ]
    },
    {
     "name": "stderr",
     "output_type": "stream",
     "text": [
      "C:\\ProgramData\\Anaconda3\\lib\\site-packages\\ipykernel_launcher.py:4: SettingWithCopyWarning: \n",
      "A value is trying to be set on a copy of a slice from a DataFrame.\n",
      "Try using .loc[row_indexer,col_indexer] = value instead\n",
      "\n",
      "See the caveats in the documentation: https://pandas.pydata.org/pandas-docs/stable/user_guide/indexing.html#returning-a-view-versus-a-copy\n",
      "  after removing the cwd from sys.path.\n"
     ]
    }
   ],
   "source": [
    "group_a_one = test['group_a_one']\n",
    "group_a_two = test['group_a_two']\n",
    "group_b = test['group_b']\n",
    "df_sales[df_sales['user_id'].isin(group_b)]['sales'] = df_sales[df_sales['user_id'].isin(group_b)]['sales'] + 10\n",
    "print(df_sales[df_sales['user_id'].isin(group_b)]['sales'].mean())\n",
    "print(df_sales[df_sales['user_id'].isin(group_a_one)]['sales'].mean())"
   ]
  },
  {
   "cell_type": "code",
   "execution_count": 13,
   "metadata": {
    "ExecuteTime": {
     "end_time": "2021-07-03T01:32:59.795903Z",
     "start_time": "2021-07-03T01:32:59.780920Z"
    }
   },
   "outputs": [
    {
     "data": {
      "text/plain": [
       "452.9073275862069"
      ]
     },
     "execution_count": 13,
     "metadata": {},
     "output_type": "execute_result"
    }
   ],
   "source": [
    "df_sales['sales'].mean()"
   ]
  },
  {
   "cell_type": "code",
   "execution_count": 14,
   "metadata": {
    "ExecuteTime": {
     "end_time": "2021-07-03T01:32:59.811618Z",
     "start_time": "2021-07-03T01:32:59.796906Z"
    }
   },
   "outputs": [
    {
     "data": {
      "text/plain": [
       "2       83\n",
       "3      585\n",
       "6      409\n",
       "11     622\n",
       "20     675\n",
       "      ... \n",
       "435    909\n",
       "441    531\n",
       "442    820\n",
       "448    327\n",
       "455    990\n",
       "Name: sales, Length: 102, dtype: int64"
      ]
     },
     "execution_count": 14,
     "metadata": {},
     "output_type": "execute_result"
    }
   ],
   "source": [
    "df_sales[df_sales['user_id'].isin(group_b)]['sales'] + 4"
   ]
  },
  {
   "cell_type": "code",
   "execution_count": 15,
   "metadata": {
    "ExecuteTime": {
     "end_time": "2021-07-03T01:32:59.827620Z",
     "start_time": "2021-07-03T01:32:59.812618Z"
    }
   },
   "outputs": [
    {
     "data": {
      "text/plain": [
       "False"
      ]
     },
     "execution_count": 15,
     "metadata": {},
     "output_type": "execute_result"
    }
   ],
   "source": [
    "_check_test(test)"
   ]
  },
  {
   "cell_type": "code",
   "execution_count": 16,
   "metadata": {
    "ExecuteTime": {
     "end_time": "2021-07-03T01:32:59.889618Z",
     "start_time": "2021-07-03T01:32:59.828618Z"
    }
   },
   "outputs": [
    {
     "ename": "NameError",
     "evalue": "name 'qwerty' is not defined",
     "output_type": "error",
     "traceback": [
      "\u001b[1;31m---------------------------------------------------------------------------\u001b[0m",
      "\u001b[1;31mNameError\u001b[0m                                 Traceback (most recent call last)",
      "\u001b[1;32m<ipython-input-16-3c8b9f4b983a>\u001b[0m in \u001b[0;36m<module>\u001b[1;34m\u001b[0m\n\u001b[1;32m----> 1\u001b[1;33m \u001b[0mqwerty\u001b[0m\u001b[1;33m\u001b[0m\u001b[1;33m\u001b[0m\u001b[0m\n\u001b[0m",
      "\u001b[1;31mNameError\u001b[0m: name 'qwerty' is not defined"
     ]
    }
   ],
   "source": [
    "qwerty"
   ]
  },
  {
   "cell_type": "code",
   "execution_count": null,
   "metadata": {
    "ExecuteTime": {
     "end_time": "2021-07-03T01:32:59.890620Z",
     "start_time": "2021-07-03T01:32:59.236Z"
    }
   },
   "outputs": [],
   "source": [
    "all_users_sales = df_sales.user_id.unique() # ).union(set(df_users.user_id.unique()))\n",
    "all_users_sales"
   ]
  },
  {
   "cell_type": "code",
   "execution_count": null,
   "metadata": {
    "ExecuteTime": {
     "end_time": "2021-07-03T01:32:59.891618Z",
     "start_time": "2021-07-03T01:32:59.237Z"
    }
   },
   "outputs": [],
   "source": [
    "min_day = df_sales['day'].min()\n",
    "max_day = df_sales['day'].max()\n",
    "\n",
    "full_days_horizon = np.arange(min_day, max_day+1)\n",
    "full_days_horizon"
   ]
  },
  {
   "cell_type": "code",
   "execution_count": null,
   "metadata": {
    "ExecuteTime": {
     "end_time": "2021-07-03T01:32:59.892620Z",
     "start_time": "2021-07-03T01:32:59.238Z"
    }
   },
   "outputs": [],
   "source": [
    "full_sales = pd.DataFrame({'user_id': np.repeat(all_users_sales, len(full_days_horizon)),\n",
    "                           'day': np.tile(full_days_horizon, len(all_users_sales))})\n",
    "full_sales = full_sales.merge(df_sales, on=['user_id', 'day'], how='left').fillna(0.)\n",
    "full_sales"
   ]
  },
  {
   "cell_type": "markdown",
   "metadata": {},
   "source": [
    "# Cuped"
   ]
  },
  {
   "cell_type": "code",
   "execution_count": null,
   "metadata": {
    "ExecuteTime": {
     "end_time": "2021-07-03T01:32:59.892620Z",
     "start_time": "2021-07-03T01:32:59.238Z"
    }
   },
   "outputs": [],
   "source": [
    "df_sales_covariate = full_sales[full_sales['day'].isin(np.arange(42, 49))].reset_index(drop=True)\n",
    "df_sales_pilot = full_sales[full_sales['day'].isin(np.arange(49, 56))].reset_index(drop=True)"
   ]
  },
  {
   "cell_type": "code",
   "execution_count": null,
   "metadata": {
    "ExecuteTime": {
     "end_time": "2021-07-03T01:32:59.893620Z",
     "start_time": "2021-07-03T01:32:59.239Z"
    }
   },
   "outputs": [],
   "source": [
    "df_sales_pilot.head(10)"
   ]
  },
  {
   "cell_type": "code",
   "execution_count": null,
   "metadata": {
    "ExecuteTime": {
     "end_time": "2021-07-03T01:32:59.893620Z",
     "start_time": "2021-07-03T01:32:59.240Z"
    }
   },
   "outputs": [],
   "source": [
    "df_sales_covariate.head(10)"
   ]
  },
  {
   "cell_type": "code",
   "execution_count": null,
   "metadata": {
    "ExecuteTime": {
     "end_time": "2021-07-03T01:32:59.894619Z",
     "start_time": "2021-07-03T01:32:59.240Z"
    }
   },
   "outputs": [],
   "source": [
    "def calculate_theta(y, y_covariate) -> float:\n",
    "    covariance = np.cov(y_covariate, y)[0, 1]\n",
    "    variance = y_covariate.var()\n",
    "    theta = covariance / variance\n",
    "    return theta\n",
    "\n",
    "theta = calculate_theta(df_sales_pilot.sales, df_sales_covariate.sales)\n",
    "theta"
   ]
  },
  {
   "cell_type": "code",
   "execution_count": null,
   "metadata": {
    "ExecuteTime": {
     "end_time": "2021-07-03T01:32:59.895619Z",
     "start_time": "2021-07-03T01:32:59.241Z"
    }
   },
   "outputs": [],
   "source": [
    "y_cuped = df_sales_pilot.sales - theta * df_sales_covariate.sales\n",
    "# df_cuped = pd.DataFrame({'user_id': df_sales_pilot.user_id,\n",
    "#                          'sales': y_cuped})\n",
    "# df_cuped\n",
    "\n",
    "df_sales_pilot.sales = y_cuped\n",
    "df_sales_pilot"
   ]
  },
  {
   "cell_type": "code",
   "execution_count": null,
   "metadata": {
    "ExecuteTime": {
     "end_time": "2021-07-03T01:32:59.895619Z",
     "start_time": "2021-07-03T01:32:59.242Z"
    }
   },
   "outputs": [],
   "source": [
    "y_cuped"
   ]
  },
  {
   "cell_type": "markdown",
   "metadata": {},
   "source": [
    "# Stratification"
   ]
  },
  {
   "cell_type": "code",
   "execution_count": null,
   "metadata": {
    "ExecuteTime": {
     "end_time": "2021-07-03T01:32:59.896619Z",
     "start_time": "2021-07-03T01:32:59.243Z"
    }
   },
   "outputs": [],
   "source": [
    "# gender only\n",
    "# binned age only\n",
    "# binned age + gender\n",
    "# different bin size"
   ]
  },
  {
   "cell_type": "code",
   "execution_count": null,
   "metadata": {
    "ExecuteTime": {
     "end_time": "2021-07-03T01:32:59.896619Z",
     "start_time": "2021-07-03T01:32:59.243Z"
    }
   },
   "outputs": [],
   "source": [
    "group_a_one = test['group_a_one']\n",
    "group_a_two = test['group_a_two']\n",
    "\n",
    "user_a = group_a_one + group_a_two\n",
    "user_b = test['group_b']"
   ]
  },
  {
   "cell_type": "code",
   "execution_count": null,
   "metadata": {
    "ExecuteTime": {
     "end_time": "2021-07-03T01:32:59.897619Z",
     "start_time": "2021-07-03T01:32:59.244Z"
    }
   },
   "outputs": [],
   "source": [
    "# on historical data\n",
    "weights = df_users.gender.value_counts(normalize=True)\n",
    "weights"
   ]
  },
  {
   "cell_type": "code",
   "execution_count": null,
   "metadata": {
    "ExecuteTime": {
     "end_time": "2021-07-03T01:32:59.897619Z",
     "start_time": "2021-07-03T01:32:59.245Z"
    }
   },
   "outputs": [],
   "source": [
    "users_sales_df = df_sales.merge(df_users, on='user_id', how='left')\n",
    "users_sales_df"
   ]
  },
  {
   "cell_type": "code",
   "execution_count": null,
   "metadata": {
    "ExecuteTime": {
     "end_time": "2021-07-03T01:32:59.897619Z",
     "start_time": "2021-07-03T01:32:59.245Z"
    }
   },
   "outputs": [],
   "source": [
    "sales_a = users_sales_df[users_sales_df['user_id'].isin(user_a)]#['sales'].values\n",
    "sales_b = users_sales_df[users_sales_df['user_id'].isin(user_b)]#['sales'].values\n",
    "sales_a"
   ]
  },
  {
   "cell_type": "code",
   "execution_count": null,
   "metadata": {
    "ExecuteTime": {
     "end_time": "2021-07-03T01:32:59.898619Z",
     "start_time": "2021-07-03T01:32:59.246Z"
    }
   },
   "outputs": [],
   "source": [
    "sales_b"
   ]
  },
  {
   "cell_type": "code",
   "execution_count": null,
   "metadata": {
    "ExecuteTime": {
     "end_time": "2021-07-03T01:32:59.899620Z",
     "start_time": "2021-07-03T01:32:59.246Z"
    }
   },
   "outputs": [],
   "source": [
    "(sales_b.groupby('gender')['sales'].mean() * weights).sum()"
   ]
  },
  {
   "cell_type": "code",
   "execution_count": null,
   "metadata": {
    "ExecuteTime": {
     "end_time": "2021-07-03T01:32:59.899620Z",
     "start_time": "2021-07-03T01:32:59.247Z"
    }
   },
   "outputs": [],
   "source": [
    "sales_b"
   ]
  },
  {
   "cell_type": "code",
   "execution_count": null,
   "metadata": {
    "ExecuteTime": {
     "end_time": "2021-07-03T01:32:59.900618Z",
     "start_time": "2021-07-03T01:32:59.248Z"
    }
   },
   "outputs": [],
   "source": [
    "def calc_strat_mean(df, strat_column, target_name, weights):\n",
    "    strat_mean = df.groupby(strat_column)[target_name].mean()\n",
    "    return (strat_mean * weights).sum()\n",
    "\n",
    "calc_strat_mean(sales_b, 'gender', 'sales', weights)"
   ]
  },
  {
   "cell_type": "code",
   "execution_count": null,
   "metadata": {
    "ExecuteTime": {
     "end_time": "2021-07-03T01:32:59.901620Z",
     "start_time": "2021-07-03T01:32:59.248Z"
    }
   },
   "outputs": [],
   "source": [
    "not (1 < -2 < 7)"
   ]
  },
  {
   "cell_type": "code",
   "execution_count": null,
   "metadata": {
    "ExecuteTime": {
     "end_time": "2021-07-03T01:32:59.901620Z",
     "start_time": "2021-07-03T01:32:59.249Z"
    }
   },
   "outputs": [],
   "source": [
    "def calc_strat_var(df: pd.DataFrame, strat_column: str, target_name: str, weights: dict):\n",
    "    \"\"\"Считаем стратифицированную дисперсию.\n",
    "\n",
    "    df - датафрейм с целевой метрикой и данными для стратификации\n",
    "    strat_column - названия столбца по которому проводить стратификацию\n",
    "    target_name - название столбца с целевой переменной\n",
    "    weights - словарь - {название страты: вес страты}\n",
    "    \n",
    "    return: float, var_strat\n",
    "    \"\"\"\n",
    "    strat_var = df.groupby(strat_column)[target_name].var()\n",
    "    return (strat_var * pd.Series(weights)).sum()"
   ]
  },
  {
   "cell_type": "code",
   "execution_count": null,
   "metadata": {
    "ExecuteTime": {
     "end_time": "2021-07-03T01:32:59.902619Z",
     "start_time": "2021-07-03T01:32:59.250Z"
    }
   },
   "outputs": [],
   "source": [
    "ttest_ind(sales_a, sales_b)"
   ]
  },
  {
   "cell_type": "code",
   "execution_count": null,
   "metadata": {
    "ExecuteTime": {
     "end_time": "2021-07-03T01:32:59.903618Z",
     "start_time": "2021-07-03T01:32:59.250Z"
    }
   },
   "outputs": [],
   "source": [
    "mu_a = sales_a.mean()\n",
    "mu_b = sales_b.mean()\n",
    "\n",
    "var_a = sales_a.var(ddof=1)\n",
    "var_b = sales_b.var(ddof=1)\n",
    "\n",
    "var_a_norm = var_a / len(sales_a)\n",
    "var_b_norm = var_b / len(sales_b)\n",
    "\n",
    "t_stat = (mu_b - mu_a) / np.sqrt(var_a_norm + var_b_norm)\n",
    "t_stat"
   ]
  },
  {
   "cell_type": "code",
   "execution_count": null,
   "metadata": {
    "ExecuteTime": {
     "end_time": "2021-07-03T01:32:59.903618Z",
     "start_time": "2021-07-03T01:32:59.251Z"
    }
   },
   "outputs": [],
   "source": [
    "(mu_b - mu_a) / np.sqrt(full_sales['sales'].var())"
   ]
  },
  {
   "cell_type": "code",
   "execution_count": null,
   "metadata": {
    "ExecuteTime": {
     "end_time": "2021-07-03T01:32:59.904619Z",
     "start_time": "2021-07-03T01:32:59.252Z"
    }
   },
   "outputs": [],
   "source": [
    "dof_num = (var_a_norm + var_b_norm) ** 2\n",
    "dof_den = var_a_norm ** 2 / (len(sales_a) - 1) + var_b_norm ** 2 / (len(sales_b) - 1)\n",
    "dof = dof_num / dof_den\n",
    "dof = len(sales_a) + len(sales_b) - 2\n",
    "p = (1 - t.cdf(t_stat,df=dof)) * 2\n",
    "p"
   ]
  },
  {
   "cell_type": "code",
   "execution_count": null,
   "metadata": {
    "ExecuteTime": {
     "end_time": "2021-07-03T01:32:59.904619Z",
     "start_time": "2021-07-03T01:32:59.252Z"
    }
   },
   "outputs": [],
   "source": [
    "dof"
   ]
  },
  {
   "cell_type": "code",
   "execution_count": null,
   "metadata": {
    "ExecuteTime": {
     "end_time": "2021-07-03T01:32:59.905618Z",
     "start_time": "2021-07-03T01:32:59.253Z"
    }
   },
   "outputs": [],
   "source": [
    "t.cdf(t_stat,df=dof)"
   ]
  },
  {
   "cell_type": "code",
   "execution_count": null,
   "metadata": {
    "ExecuteTime": {
     "end_time": "2021-07-03T01:32:59.905618Z",
     "start_time": "2021-07-03T01:32:59.254Z"
    }
   },
   "outputs": [],
   "source": [
    "result = None\n",
    "for strat_column in ['age', 'gender']:\n",
    "    if result is None:\n",
    "        result = df_users[strat_column].astype(str)\n",
    "    else:\n",
    "        result = result + '_' + df_users[strat_column].astype(str)\n",
    "        \n",
    "df_users['strat_key'] = result\n",
    "\n",
    "weights = df_users.strat_key.value_counts(normalize=True).to_dict()\n",
    "weights"
   ]
  },
  {
   "cell_type": "code",
   "execution_count": null,
   "metadata": {
    "ExecuteTime": {
     "end_time": "2021-07-03T01:32:59.906618Z",
     "start_time": "2021-07-03T01:32:59.254Z"
    }
   },
   "outputs": [],
   "source": [
    "bins = np.arange(0, 150, 5)\n",
    "df_users['age_bin'] = pd.cut(df_users.age, bins, right=True, labels=bins[:-1])\n"
   ]
  },
  {
   "cell_type": "code",
   "execution_count": null,
   "metadata": {
    "ExecuteTime": {
     "end_time": "2021-07-02T01:20:39.452736Z",
     "start_time": "2021-07-02T01:20:39.432124Z"
    }
   },
   "outputs": [],
   "source": []
  },
  {
   "cell_type": "code",
   "execution_count": null,
   "metadata": {
    "ExecuteTime": {
     "end_time": "2021-07-03T01:32:59.907619Z",
     "start_time": "2021-07-03T01:32:59.255Z"
    }
   },
   "outputs": [],
   "source": [
    "df_users.age"
   ]
  },
  {
   "cell_type": "code",
   "execution_count": null,
   "metadata": {
    "ExecuteTime": {
     "end_time": "2021-07-03T01:32:59.907619Z",
     "start_time": "2021-07-03T01:32:59.256Z"
    }
   },
   "outputs": [],
   "source": [
    "result"
   ]
  },
  {
   "cell_type": "code",
   "execution_count": null,
   "metadata": {
    "ExecuteTime": {
     "end_time": "2021-07-03T01:32:59.908618Z",
     "start_time": "2021-07-03T01:32:59.257Z"
    }
   },
   "outputs": [],
   "source": [
    "df_users['age'] * 100 + df_users['gender']"
   ]
  },
  {
   "cell_type": "code",
   "execution_count": null,
   "metadata": {},
   "outputs": [],
   "source": []
  }
 ],
 "metadata": {
  "kernelspec": {
   "display_name": "Python 3",
   "language": "python",
   "name": "python3"
  },
  "language_info": {
   "codemirror_mode": {
    "name": "ipython",
    "version": 3
   },
   "file_extension": ".py",
   "mimetype": "text/x-python",
   "name": "python",
   "nbconvert_exporter": "python",
   "pygments_lexer": "ipython3",
   "version": "3.7.6"
  }
 },
 "nbformat": 4,
 "nbformat_minor": 4
}
