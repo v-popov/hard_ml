{
 "cells": [
  {
   "cell_type": "code",
   "execution_count": 47,
   "metadata": {
    "ExecuteTime": {
     "end_time": "2021-06-05T22:19:05.533960Z",
     "start_time": "2021-06-05T22:19:05.522221Z"
    }
   },
   "outputs": [],
   "source": [
    "import numpy as np\n",
    "import pandas as pd\n",
    "\n",
    "\n",
    "def calculate_sales_metrics(df, cost_name, date_name, sale_id_name, period, filters=None):\n",
    "    \"\"\"Вычисляет метрики по продажам.\n",
    "    \n",
    "    df - pd.DataFrame, датафрейм с данными. Пример\n",
    "        pd.DataFrame(\n",
    "            [[820, '2021-04-03', 1, 213]],\n",
    "            columns=['cost', 'date', 'sale_id', 'shop_id']\n",
    "        )\n",
    "    cost_name - str, название столбца с стоимостью товара\n",
    "    date_name - str, название столбца с датой покупки\n",
    "    sale_id_name - str, название столбца с идентификатором покупки (в одной покупке может быть несколько товаров)\n",
    "    period - dict, словарь с датами начала и конца периода пилота.\n",
    "        Пример, {'begin': '2020-01-01', 'end': '2020-01-08'}.\n",
    "        Дата начала периода входит в полуинтервал, а дата окончания нет,\n",
    "        то есть '2020-01-01' <= date < '2020-01-08'.\n",
    "    filters - dict, словарь с фильтрами. Ключ - название поля, по которому фильтруем, значение - список значений,\n",
    "        которые нужно оставить. Например, {'user_id': [111, 123, 943]}.\n",
    "        Если None, то фильтровать не нужно.\n",
    "\n",
    "    return - pd.DataFrame, в индексах все даты из указанного периода отсортированные по возрастанию, \n",
    "        столбцы - метрики ['revenue', 'number_purchases', 'average_check', 'average_number_items'].\n",
    "        Формат данных столбцов - float, формат данных индекса - datetime64[ns].\n",
    "    \"\"\"\n",
    "    # YOUR_CODE_HERE\n",
    "    if filters is not None:\n",
    "        for col_to_filter in filters:\n",
    "            df = df.query(f\"{col_to_filter} in {filters[col_to_filter]}\")\n",
    "    \n",
    "    full_date_range = pd.date_range(start=period['begin'], end=period['end'], freq='D', closed='left')\n",
    "    full_date_range_df = pd.DataFrame({date_name: full_date_range})\n",
    "    \n",
    "    df[date_name] = pd.to_datetime(df[date_name])\n",
    "    df = full_date_range_df.merge(df, on=date_name, how='left')\n",
    "    \n",
    "    ans_df = df.groupby(date_name).agg(revenue=(cost_name, 'sum')\n",
    "                                    ,number_purchases=(sale_id_name, 'nunique')\n",
    "                                    ,number_items=(sale_id_name, 'count')\n",
    "                                   )\n",
    "    ans_df[['revenue', 'number_purchases','number_items']] = ans_df[['revenue', 'number_purchases','number_items']].astype(float)\n",
    "    ans_df['average_check'] = 0.\n",
    "    ans_df['average_number_items'] = 0.\n",
    "    \n",
    "    non_zero_purchases = ans_df.number_purchases > 0\n",
    "    ans_df.loc[non_zero_purchases, 'average_check'] = \\\n",
    "        ans_df.loc[non_zero_purchases, 'revenue'] / ans_df.loc[non_zero_purchases, 'number_purchases']\n",
    "    ans_df.loc[non_zero_purchases, 'average_number_items'] = \\\n",
    "        ans_df.loc[non_zero_purchases, 'number_items'] / ans_df.loc[non_zero_purchases, 'number_purchases']\n",
    "    \n",
    "    return ans_df[['revenue', 'number_purchases', 'average_check', 'average_number_items']]"
   ]
  },
  {
   "cell_type": "code",
   "execution_count": 28,
   "metadata": {
    "ExecuteTime": {
     "end_time": "2021-06-05T22:15:48.440147Z",
     "start_time": "2021-06-05T22:15:48.426149Z"
    }
   },
   "outputs": [
    {
     "data": {
      "text/plain": [
       "DatetimeIndex(['2020-01-07', '2020-01-08', '2020-01-09', '2020-01-10'], dtype='datetime64[ns]', freq='D')"
      ]
     },
     "execution_count": 28,
     "metadata": {},
     "output_type": "execute_result"
    }
   ],
   "source": [
    "size = 20\n",
    "dates = pd.date_range(start='2020-01-07', end='2020-01-10', freq='D')\n",
    "dates"
   ]
  },
  {
   "cell_type": "code",
   "execution_count": 29,
   "metadata": {
    "ExecuteTime": {
     "end_time": "2021-06-05T22:15:48.672221Z",
     "start_time": "2021-06-05T22:15:48.665222Z"
    }
   },
   "outputs": [],
   "source": [
    "dates = pd.Series(dates, name='date').sample(size, replace=True).reset_index(drop=True)"
   ]
  },
  {
   "cell_type": "code",
   "execution_count": 30,
   "metadata": {
    "ExecuteTime": {
     "end_time": "2021-06-05T22:15:48.859932Z",
     "start_time": "2021-06-05T22:15:48.856931Z"
    }
   },
   "outputs": [],
   "source": [
    "costs = np.random.uniform(10,20,size).round(2)"
   ]
  },
  {
   "cell_type": "code",
   "execution_count": 31,
   "metadata": {
    "ExecuteTime": {
     "end_time": "2021-06-05T22:15:49.064000Z",
     "start_time": "2021-06-05T22:15:49.049001Z"
    }
   },
   "outputs": [
    {
     "data": {
      "text/plain": [
       "(8,)"
      ]
     },
     "execution_count": 31,
     "metadata": {},
     "output_type": "execute_result"
    }
   ],
   "source": [
    "sale_ids = np.random.randint(100,110,size)\n",
    "np.unique(sale_ids).shape"
   ]
  },
  {
   "cell_type": "code",
   "execution_count": 32,
   "metadata": {
    "ExecuteTime": {
     "end_time": "2021-06-05T22:15:49.220025Z",
     "start_time": "2021-06-05T22:15:49.218025Z"
    }
   },
   "outputs": [],
   "source": [
    "user_ids = np.random.randint(1,4,size)"
   ]
  },
  {
   "cell_type": "code",
   "execution_count": 38,
   "metadata": {
    "ExecuteTime": {
     "end_time": "2021-06-05T22:17:34.707217Z",
     "start_time": "2021-06-05T22:17:34.689647Z"
    }
   },
   "outputs": [
    {
     "data": {
      "text/html": [
       "<div>\n",
       "<style scoped>\n",
       "    .dataframe tbody tr th:only-of-type {\n",
       "        vertical-align: middle;\n",
       "    }\n",
       "\n",
       "    .dataframe tbody tr th {\n",
       "        vertical-align: top;\n",
       "    }\n",
       "\n",
       "    .dataframe thead th {\n",
       "        text-align: right;\n",
       "    }\n",
       "</style>\n",
       "<table border=\"1\" class=\"dataframe\">\n",
       "  <thead>\n",
       "    <tr style=\"text-align: right;\">\n",
       "      <th></th>\n",
       "      <th>date</th>\n",
       "      <th>cost</th>\n",
       "      <th>sale_id</th>\n",
       "      <th>user_id</th>\n",
       "    </tr>\n",
       "  </thead>\n",
       "  <tbody>\n",
       "    <tr>\n",
       "      <th>0</th>\n",
       "      <td>2020-01-08</td>\n",
       "      <td>11.05</td>\n",
       "      <td>104</td>\n",
       "      <td>1</td>\n",
       "    </tr>\n",
       "    <tr>\n",
       "      <th>1</th>\n",
       "      <td>2020-01-07</td>\n",
       "      <td>14.60</td>\n",
       "      <td>102</td>\n",
       "      <td>2</td>\n",
       "    </tr>\n",
       "    <tr>\n",
       "      <th>2</th>\n",
       "      <td>2020-01-10</td>\n",
       "      <td>14.29</td>\n",
       "      <td>109</td>\n",
       "      <td>3</td>\n",
       "    </tr>\n",
       "    <tr>\n",
       "      <th>3</th>\n",
       "      <td>2020-01-07</td>\n",
       "      <td>18.82</td>\n",
       "      <td>104</td>\n",
       "      <td>3</td>\n",
       "    </tr>\n",
       "    <tr>\n",
       "      <th>4</th>\n",
       "      <td>2020-01-07</td>\n",
       "      <td>18.04</td>\n",
       "      <td>109</td>\n",
       "      <td>2</td>\n",
       "    </tr>\n",
       "    <tr>\n",
       "      <th>5</th>\n",
       "      <td>2020-01-08</td>\n",
       "      <td>10.29</td>\n",
       "      <td>103</td>\n",
       "      <td>3</td>\n",
       "    </tr>\n",
       "    <tr>\n",
       "      <th>6</th>\n",
       "      <td>2020-01-10</td>\n",
       "      <td>12.91</td>\n",
       "      <td>107</td>\n",
       "      <td>3</td>\n",
       "    </tr>\n",
       "    <tr>\n",
       "      <th>7</th>\n",
       "      <td>2020-01-09</td>\n",
       "      <td>17.99</td>\n",
       "      <td>108</td>\n",
       "      <td>2</td>\n",
       "    </tr>\n",
       "    <tr>\n",
       "      <th>8</th>\n",
       "      <td>2020-01-07</td>\n",
       "      <td>18.00</td>\n",
       "      <td>103</td>\n",
       "      <td>1</td>\n",
       "    </tr>\n",
       "    <tr>\n",
       "      <th>9</th>\n",
       "      <td>2020-01-09</td>\n",
       "      <td>14.98</td>\n",
       "      <td>109</td>\n",
       "      <td>3</td>\n",
       "    </tr>\n",
       "    <tr>\n",
       "      <th>10</th>\n",
       "      <td>2020-01-07</td>\n",
       "      <td>11.45</td>\n",
       "      <td>101</td>\n",
       "      <td>1</td>\n",
       "    </tr>\n",
       "    <tr>\n",
       "      <th>11</th>\n",
       "      <td>2020-01-08</td>\n",
       "      <td>10.29</td>\n",
       "      <td>109</td>\n",
       "      <td>1</td>\n",
       "    </tr>\n",
       "    <tr>\n",
       "      <th>12</th>\n",
       "      <td>2020-01-07</td>\n",
       "      <td>14.24</td>\n",
       "      <td>109</td>\n",
       "      <td>3</td>\n",
       "    </tr>\n",
       "    <tr>\n",
       "      <th>13</th>\n",
       "      <td>2020-01-08</td>\n",
       "      <td>14.23</td>\n",
       "      <td>102</td>\n",
       "      <td>3</td>\n",
       "    </tr>\n",
       "    <tr>\n",
       "      <th>14</th>\n",
       "      <td>2020-01-10</td>\n",
       "      <td>11.07</td>\n",
       "      <td>106</td>\n",
       "      <td>3</td>\n",
       "    </tr>\n",
       "    <tr>\n",
       "      <th>15</th>\n",
       "      <td>2020-01-07</td>\n",
       "      <td>12.70</td>\n",
       "      <td>109</td>\n",
       "      <td>2</td>\n",
       "    </tr>\n",
       "    <tr>\n",
       "      <th>16</th>\n",
       "      <td>2020-01-08</td>\n",
       "      <td>13.65</td>\n",
       "      <td>104</td>\n",
       "      <td>3</td>\n",
       "    </tr>\n",
       "    <tr>\n",
       "      <th>17</th>\n",
       "      <td>2020-01-09</td>\n",
       "      <td>15.53</td>\n",
       "      <td>101</td>\n",
       "      <td>3</td>\n",
       "    </tr>\n",
       "    <tr>\n",
       "      <th>18</th>\n",
       "      <td>2020-01-09</td>\n",
       "      <td>15.86</td>\n",
       "      <td>102</td>\n",
       "      <td>2</td>\n",
       "    </tr>\n",
       "    <tr>\n",
       "      <th>19</th>\n",
       "      <td>2020-01-07</td>\n",
       "      <td>10.40</td>\n",
       "      <td>101</td>\n",
       "      <td>2</td>\n",
       "    </tr>\n",
       "  </tbody>\n",
       "</table>\n",
       "</div>"
      ],
      "text/plain": [
       "         date   cost  sale_id  user_id\n",
       "0  2020-01-08  11.05      104        1\n",
       "1  2020-01-07  14.60      102        2\n",
       "2  2020-01-10  14.29      109        3\n",
       "3  2020-01-07  18.82      104        3\n",
       "4  2020-01-07  18.04      109        2\n",
       "5  2020-01-08  10.29      103        3\n",
       "6  2020-01-10  12.91      107        3\n",
       "7  2020-01-09  17.99      108        2\n",
       "8  2020-01-07  18.00      103        1\n",
       "9  2020-01-09  14.98      109        3\n",
       "10 2020-01-07  11.45      101        1\n",
       "11 2020-01-08  10.29      109        1\n",
       "12 2020-01-07  14.24      109        3\n",
       "13 2020-01-08  14.23      102        3\n",
       "14 2020-01-10  11.07      106        3\n",
       "15 2020-01-07  12.70      109        2\n",
       "16 2020-01-08  13.65      104        3\n",
       "17 2020-01-09  15.53      101        3\n",
       "18 2020-01-09  15.86      102        2\n",
       "19 2020-01-07  10.40      101        2"
      ]
     },
     "execution_count": 38,
     "metadata": {},
     "output_type": "execute_result"
    }
   ],
   "source": [
    "df = pd.DataFrame({'date': dates.values, 'cost': costs, 'sale_id': sale_ids, 'user_id': user_ids})\n",
    "df"
   ]
  },
  {
   "cell_type": "code",
   "execution_count": 39,
   "metadata": {
    "ExecuteTime": {
     "end_time": "2021-06-05T22:17:37.761186Z",
     "start_time": "2021-06-05T22:17:37.753674Z"
    }
   },
   "outputs": [
    {
     "data": {
      "text/plain": [
       "date       datetime64[ns]\n",
       "cost              float64\n",
       "sale_id             int32\n",
       "user_id             int32\n",
       "dtype: object"
      ]
     },
     "execution_count": 39,
     "metadata": {},
     "output_type": "execute_result"
    }
   ],
   "source": [
    "df.dtypes"
   ]
  },
  {
   "cell_type": "code",
   "execution_count": 34,
   "metadata": {
    "ExecuteTime": {
     "end_time": "2021-06-05T22:15:51.272858Z",
     "start_time": "2021-06-05T22:15:51.257859Z"
    }
   },
   "outputs": [
    {
     "data": {
      "text/html": [
       "<div>\n",
       "<style scoped>\n",
       "    .dataframe tbody tr th:only-of-type {\n",
       "        vertical-align: middle;\n",
       "    }\n",
       "\n",
       "    .dataframe tbody tr th {\n",
       "        vertical-align: top;\n",
       "    }\n",
       "\n",
       "    .dataframe thead th {\n",
       "        text-align: right;\n",
       "    }\n",
       "</style>\n",
       "<table border=\"1\" class=\"dataframe\">\n",
       "  <thead>\n",
       "    <tr style=\"text-align: right;\">\n",
       "      <th></th>\n",
       "      <th>date</th>\n",
       "      <th>cost</th>\n",
       "      <th>sale_id</th>\n",
       "      <th>user_id</th>\n",
       "    </tr>\n",
       "  </thead>\n",
       "  <tbody>\n",
       "    <tr>\n",
       "      <th>0</th>\n",
       "      <td>2020-01-08</td>\n",
       "      <td>11.05</td>\n",
       "      <td>104</td>\n",
       "      <td>1</td>\n",
       "    </tr>\n",
       "    <tr>\n",
       "      <th>2</th>\n",
       "      <td>2020-01-10</td>\n",
       "      <td>14.29</td>\n",
       "      <td>109</td>\n",
       "      <td>3</td>\n",
       "    </tr>\n",
       "    <tr>\n",
       "      <th>3</th>\n",
       "      <td>2020-01-07</td>\n",
       "      <td>18.82</td>\n",
       "      <td>104</td>\n",
       "      <td>3</td>\n",
       "    </tr>\n",
       "    <tr>\n",
       "      <th>5</th>\n",
       "      <td>2020-01-08</td>\n",
       "      <td>10.29</td>\n",
       "      <td>103</td>\n",
       "      <td>3</td>\n",
       "    </tr>\n",
       "    <tr>\n",
       "      <th>6</th>\n",
       "      <td>2020-01-10</td>\n",
       "      <td>12.91</td>\n",
       "      <td>107</td>\n",
       "      <td>3</td>\n",
       "    </tr>\n",
       "    <tr>\n",
       "      <th>8</th>\n",
       "      <td>2020-01-07</td>\n",
       "      <td>18.00</td>\n",
       "      <td>103</td>\n",
       "      <td>1</td>\n",
       "    </tr>\n",
       "    <tr>\n",
       "      <th>9</th>\n",
       "      <td>2020-01-09</td>\n",
       "      <td>14.98</td>\n",
       "      <td>109</td>\n",
       "      <td>3</td>\n",
       "    </tr>\n",
       "    <tr>\n",
       "      <th>10</th>\n",
       "      <td>2020-01-07</td>\n",
       "      <td>11.45</td>\n",
       "      <td>101</td>\n",
       "      <td>1</td>\n",
       "    </tr>\n",
       "    <tr>\n",
       "      <th>11</th>\n",
       "      <td>2020-01-08</td>\n",
       "      <td>10.29</td>\n",
       "      <td>109</td>\n",
       "      <td>1</td>\n",
       "    </tr>\n",
       "    <tr>\n",
       "      <th>12</th>\n",
       "      <td>2020-01-07</td>\n",
       "      <td>14.24</td>\n",
       "      <td>109</td>\n",
       "      <td>3</td>\n",
       "    </tr>\n",
       "    <tr>\n",
       "      <th>13</th>\n",
       "      <td>2020-01-08</td>\n",
       "      <td>14.23</td>\n",
       "      <td>102</td>\n",
       "      <td>3</td>\n",
       "    </tr>\n",
       "    <tr>\n",
       "      <th>14</th>\n",
       "      <td>2020-01-10</td>\n",
       "      <td>11.07</td>\n",
       "      <td>106</td>\n",
       "      <td>3</td>\n",
       "    </tr>\n",
       "    <tr>\n",
       "      <th>16</th>\n",
       "      <td>2020-01-08</td>\n",
       "      <td>13.65</td>\n",
       "      <td>104</td>\n",
       "      <td>3</td>\n",
       "    </tr>\n",
       "    <tr>\n",
       "      <th>17</th>\n",
       "      <td>2020-01-09</td>\n",
       "      <td>15.53</td>\n",
       "      <td>101</td>\n",
       "      <td>3</td>\n",
       "    </tr>\n",
       "  </tbody>\n",
       "</table>\n",
       "</div>"
      ],
      "text/plain": [
       "         date   cost  sale_id  user_id\n",
       "0  2020-01-08  11.05      104        1\n",
       "2  2020-01-10  14.29      109        3\n",
       "3  2020-01-07  18.82      104        3\n",
       "5  2020-01-08  10.29      103        3\n",
       "6  2020-01-10  12.91      107        3\n",
       "8  2020-01-07  18.00      103        1\n",
       "9  2020-01-09  14.98      109        3\n",
       "10 2020-01-07  11.45      101        1\n",
       "11 2020-01-08  10.29      109        1\n",
       "12 2020-01-07  14.24      109        3\n",
       "13 2020-01-08  14.23      102        3\n",
       "14 2020-01-10  11.07      106        3\n",
       "16 2020-01-08  13.65      104        3\n",
       "17 2020-01-09  15.53      101        3"
      ]
     },
     "execution_count": 34,
     "metadata": {},
     "output_type": "execute_result"
    }
   ],
   "source": [
    "df.query(\"user_id in [1,3]\")"
   ]
  },
  {
   "cell_type": "code",
   "execution_count": 35,
   "metadata": {
    "ExecuteTime": {
     "end_time": "2021-06-05T22:15:51.522000Z",
     "start_time": "2021-06-05T22:15:51.513001Z"
    }
   },
   "outputs": [
    {
     "data": {
      "text/plain": [
       "(102, 103, 108, 104)"
      ]
     },
     "execution_count": 35,
     "metadata": {},
     "output_type": "execute_result"
    }
   ],
   "source": [
    "102, 103, 108, 104"
   ]
  },
  {
   "cell_type": "code",
   "execution_count": 36,
   "metadata": {
    "ExecuteTime": {
     "end_time": "2021-06-05T22:15:53.096487Z",
     "start_time": "2021-06-05T22:15:53.082300Z"
    }
   },
   "outputs": [],
   "source": [
    "period = {'begin': '2020-01-08', 'end': '2020-01-15'}\n",
    "filters = {'user_id': [1,3]}"
   ]
  },
  {
   "cell_type": "code",
   "execution_count": 48,
   "metadata": {
    "ExecuteTime": {
     "end_time": "2021-06-05T22:19:07.539567Z",
     "start_time": "2021-06-05T22:19:07.505385Z"
    }
   },
   "outputs": [
    {
     "name": "stderr",
     "output_type": "stream",
     "text": [
      "C:\\ProgramData\\Anaconda3\\lib\\site-packages\\ipykernel_launcher.py:36: SettingWithCopyWarning: \n",
      "A value is trying to be set on a copy of a slice from a DataFrame.\n",
      "Try using .loc[row_indexer,col_indexer] = value instead\n",
      "\n",
      "See the caveats in the documentation: https://pandas.pydata.org/pandas-docs/stable/user_guide/indexing.html#returning-a-view-versus-a-copy\n"
     ]
    },
    {
     "data": {
      "text/html": [
       "<div>\n",
       "<style scoped>\n",
       "    .dataframe tbody tr th:only-of-type {\n",
       "        vertical-align: middle;\n",
       "    }\n",
       "\n",
       "    .dataframe tbody tr th {\n",
       "        vertical-align: top;\n",
       "    }\n",
       "\n",
       "    .dataframe thead th {\n",
       "        text-align: right;\n",
       "    }\n",
       "</style>\n",
       "<table border=\"1\" class=\"dataframe\">\n",
       "  <thead>\n",
       "    <tr style=\"text-align: right;\">\n",
       "      <th></th>\n",
       "      <th>revenue</th>\n",
       "      <th>number_purchases</th>\n",
       "      <th>average_check</th>\n",
       "      <th>average_number_items</th>\n",
       "    </tr>\n",
       "    <tr>\n",
       "      <th>date</th>\n",
       "      <th></th>\n",
       "      <th></th>\n",
       "      <th></th>\n",
       "      <th></th>\n",
       "    </tr>\n",
       "  </thead>\n",
       "  <tbody>\n",
       "    <tr>\n",
       "      <th>2020-01-08</th>\n",
       "      <td>59.51</td>\n",
       "      <td>4.0</td>\n",
       "      <td>14.877500</td>\n",
       "      <td>1.25</td>\n",
       "    </tr>\n",
       "    <tr>\n",
       "      <th>2020-01-09</th>\n",
       "      <td>30.51</td>\n",
       "      <td>2.0</td>\n",
       "      <td>15.255000</td>\n",
       "      <td>1.00</td>\n",
       "    </tr>\n",
       "    <tr>\n",
       "      <th>2020-01-10</th>\n",
       "      <td>38.27</td>\n",
       "      <td>3.0</td>\n",
       "      <td>12.756667</td>\n",
       "      <td>1.00</td>\n",
       "    </tr>\n",
       "    <tr>\n",
       "      <th>2020-01-11</th>\n",
       "      <td>0.00</td>\n",
       "      <td>0.0</td>\n",
       "      <td>0.000000</td>\n",
       "      <td>0.00</td>\n",
       "    </tr>\n",
       "    <tr>\n",
       "      <th>2020-01-12</th>\n",
       "      <td>0.00</td>\n",
       "      <td>0.0</td>\n",
       "      <td>0.000000</td>\n",
       "      <td>0.00</td>\n",
       "    </tr>\n",
       "    <tr>\n",
       "      <th>2020-01-13</th>\n",
       "      <td>0.00</td>\n",
       "      <td>0.0</td>\n",
       "      <td>0.000000</td>\n",
       "      <td>0.00</td>\n",
       "    </tr>\n",
       "    <tr>\n",
       "      <th>2020-01-14</th>\n",
       "      <td>0.00</td>\n",
       "      <td>0.0</td>\n",
       "      <td>0.000000</td>\n",
       "      <td>0.00</td>\n",
       "    </tr>\n",
       "  </tbody>\n",
       "</table>\n",
       "</div>"
      ],
      "text/plain": [
       "            revenue  number_purchases  average_check  average_number_items\n",
       "date                                                                      \n",
       "2020-01-08    59.51               4.0      14.877500                  1.25\n",
       "2020-01-09    30.51               2.0      15.255000                  1.00\n",
       "2020-01-10    38.27               3.0      12.756667                  1.00\n",
       "2020-01-11     0.00               0.0       0.000000                  0.00\n",
       "2020-01-12     0.00               0.0       0.000000                  0.00\n",
       "2020-01-13     0.00               0.0       0.000000                  0.00\n",
       "2020-01-14     0.00               0.0       0.000000                  0.00"
      ]
     },
     "execution_count": 48,
     "metadata": {},
     "output_type": "execute_result"
    }
   ],
   "source": [
    "calculate_sales_metrics(df, 'cost', 'date', 'sale_id', period, filters=filters)"
   ]
  },
  {
   "cell_type": "code",
   "execution_count": 11,
   "metadata": {
    "ExecuteTime": {
     "end_time": "2021-06-05T22:13:15.709769Z",
     "start_time": "2021-06-05T22:13:15.694770Z"
    }
   },
   "outputs": [],
   "source": [
    "if filters is not None:\n",
    "    for col_to_filter in filters:\n",
    "        df = df.query(f\"{col_to_filter} in {filters[col_to_filter]}\")"
   ]
  },
  {
   "cell_type": "code",
   "execution_count": 12,
   "metadata": {
    "ExecuteTime": {
     "end_time": "2021-06-05T22:13:15.725768Z",
     "start_time": "2021-06-05T22:13:15.710770Z"
    }
   },
   "outputs": [
    {
     "data": {
      "text/html": [
       "<div>\n",
       "<style scoped>\n",
       "    .dataframe tbody tr th:only-of-type {\n",
       "        vertical-align: middle;\n",
       "    }\n",
       "\n",
       "    .dataframe tbody tr th {\n",
       "        vertical-align: top;\n",
       "    }\n",
       "\n",
       "    .dataframe thead th {\n",
       "        text-align: right;\n",
       "    }\n",
       "</style>\n",
       "<table border=\"1\" class=\"dataframe\">\n",
       "  <thead>\n",
       "    <tr style=\"text-align: right;\">\n",
       "      <th></th>\n",
       "      <th>date</th>\n",
       "      <th>cost</th>\n",
       "      <th>sale_id</th>\n",
       "      <th>user_id</th>\n",
       "    </tr>\n",
       "  </thead>\n",
       "  <tbody>\n",
       "    <tr>\n",
       "      <th>1</th>\n",
       "      <td>2020-01-10</td>\n",
       "      <td>13.03</td>\n",
       "      <td>102</td>\n",
       "      <td>1</td>\n",
       "    </tr>\n",
       "    <tr>\n",
       "      <th>4</th>\n",
       "      <td>2020-01-09</td>\n",
       "      <td>18.22</td>\n",
       "      <td>107</td>\n",
       "      <td>3</td>\n",
       "    </tr>\n",
       "    <tr>\n",
       "      <th>5</th>\n",
       "      <td>2020-01-10</td>\n",
       "      <td>15.62</td>\n",
       "      <td>103</td>\n",
       "      <td>3</td>\n",
       "    </tr>\n",
       "    <tr>\n",
       "      <th>6</th>\n",
       "      <td>2020-01-07</td>\n",
       "      <td>17.60</td>\n",
       "      <td>105</td>\n",
       "      <td>1</td>\n",
       "    </tr>\n",
       "    <tr>\n",
       "      <th>7</th>\n",
       "      <td>2020-01-09</td>\n",
       "      <td>18.60</td>\n",
       "      <td>109</td>\n",
       "      <td>3</td>\n",
       "    </tr>\n",
       "    <tr>\n",
       "      <th>8</th>\n",
       "      <td>2020-01-10</td>\n",
       "      <td>10.83</td>\n",
       "      <td>108</td>\n",
       "      <td>1</td>\n",
       "    </tr>\n",
       "    <tr>\n",
       "      <th>9</th>\n",
       "      <td>2020-01-10</td>\n",
       "      <td>12.56</td>\n",
       "      <td>104</td>\n",
       "      <td>1</td>\n",
       "    </tr>\n",
       "    <tr>\n",
       "      <th>10</th>\n",
       "      <td>2020-01-07</td>\n",
       "      <td>14.76</td>\n",
       "      <td>100</td>\n",
       "      <td>3</td>\n",
       "    </tr>\n",
       "    <tr>\n",
       "      <th>11</th>\n",
       "      <td>2020-01-08</td>\n",
       "      <td>12.07</td>\n",
       "      <td>103</td>\n",
       "      <td>1</td>\n",
       "    </tr>\n",
       "    <tr>\n",
       "      <th>12</th>\n",
       "      <td>2020-01-09</td>\n",
       "      <td>13.24</td>\n",
       "      <td>100</td>\n",
       "      <td>1</td>\n",
       "    </tr>\n",
       "    <tr>\n",
       "      <th>13</th>\n",
       "      <td>2020-01-08</td>\n",
       "      <td>15.43</td>\n",
       "      <td>107</td>\n",
       "      <td>1</td>\n",
       "    </tr>\n",
       "    <tr>\n",
       "      <th>14</th>\n",
       "      <td>2020-01-07</td>\n",
       "      <td>17.96</td>\n",
       "      <td>105</td>\n",
       "      <td>1</td>\n",
       "    </tr>\n",
       "    <tr>\n",
       "      <th>15</th>\n",
       "      <td>2020-01-07</td>\n",
       "      <td>18.65</td>\n",
       "      <td>107</td>\n",
       "      <td>1</td>\n",
       "    </tr>\n",
       "    <tr>\n",
       "      <th>16</th>\n",
       "      <td>2020-01-08</td>\n",
       "      <td>10.05</td>\n",
       "      <td>105</td>\n",
       "      <td>1</td>\n",
       "    </tr>\n",
       "    <tr>\n",
       "      <th>18</th>\n",
       "      <td>2020-01-08</td>\n",
       "      <td>11.00</td>\n",
       "      <td>100</td>\n",
       "      <td>3</td>\n",
       "    </tr>\n",
       "    <tr>\n",
       "      <th>19</th>\n",
       "      <td>2020-01-07</td>\n",
       "      <td>15.03</td>\n",
       "      <td>104</td>\n",
       "      <td>3</td>\n",
       "    </tr>\n",
       "  </tbody>\n",
       "</table>\n",
       "</div>"
      ],
      "text/plain": [
       "         date   cost  sale_id  user_id\n",
       "1  2020-01-10  13.03      102        1\n",
       "4  2020-01-09  18.22      107        3\n",
       "5  2020-01-10  15.62      103        3\n",
       "6  2020-01-07  17.60      105        1\n",
       "7  2020-01-09  18.60      109        3\n",
       "8  2020-01-10  10.83      108        1\n",
       "9  2020-01-10  12.56      104        1\n",
       "10 2020-01-07  14.76      100        3\n",
       "11 2020-01-08  12.07      103        1\n",
       "12 2020-01-09  13.24      100        1\n",
       "13 2020-01-08  15.43      107        1\n",
       "14 2020-01-07  17.96      105        1\n",
       "15 2020-01-07  18.65      107        1\n",
       "16 2020-01-08  10.05      105        1\n",
       "18 2020-01-08  11.00      100        3\n",
       "19 2020-01-07  15.03      104        3"
      ]
     },
     "execution_count": 12,
     "metadata": {},
     "output_type": "execute_result"
    }
   ],
   "source": [
    "df"
   ]
  },
  {
   "cell_type": "code",
   "execution_count": 13,
   "metadata": {
    "ExecuteTime": {
     "end_time": "2021-06-05T22:13:15.741769Z",
     "start_time": "2021-06-05T22:13:15.726771Z"
    }
   },
   "outputs": [
    {
     "data": {
      "text/plain": [
       "DatetimeIndex(['2020-01-08', '2020-01-09', '2020-01-10', '2020-01-11',\n",
       "               '2020-01-12', '2020-01-13', '2020-01-14'],\n",
       "              dtype='datetime64[ns]', freq='D')"
      ]
     },
     "execution_count": 13,
     "metadata": {},
     "output_type": "execute_result"
    }
   ],
   "source": [
    "full_date_range = pd.date_range(start=period['begin'], end=period['end'], freq='D', closed='left')\n",
    "full_date_range"
   ]
  },
  {
   "cell_type": "code",
   "execution_count": 14,
   "metadata": {
    "ExecuteTime": {
     "end_time": "2021-06-05T22:13:15.757769Z",
     "start_time": "2021-06-05T22:13:15.742769Z"
    }
   },
   "outputs": [
    {
     "data": {
      "text/html": [
       "<div>\n",
       "<style scoped>\n",
       "    .dataframe tbody tr th:only-of-type {\n",
       "        vertical-align: middle;\n",
       "    }\n",
       "\n",
       "    .dataframe tbody tr th {\n",
       "        vertical-align: top;\n",
       "    }\n",
       "\n",
       "    .dataframe thead th {\n",
       "        text-align: right;\n",
       "    }\n",
       "</style>\n",
       "<table border=\"1\" class=\"dataframe\">\n",
       "  <thead>\n",
       "    <tr style=\"text-align: right;\">\n",
       "      <th></th>\n",
       "      <th>date</th>\n",
       "    </tr>\n",
       "  </thead>\n",
       "  <tbody>\n",
       "    <tr>\n",
       "      <th>0</th>\n",
       "      <td>2020-01-08</td>\n",
       "    </tr>\n",
       "    <tr>\n",
       "      <th>1</th>\n",
       "      <td>2020-01-09</td>\n",
       "    </tr>\n",
       "    <tr>\n",
       "      <th>2</th>\n",
       "      <td>2020-01-10</td>\n",
       "    </tr>\n",
       "    <tr>\n",
       "      <th>3</th>\n",
       "      <td>2020-01-11</td>\n",
       "    </tr>\n",
       "    <tr>\n",
       "      <th>4</th>\n",
       "      <td>2020-01-12</td>\n",
       "    </tr>\n",
       "    <tr>\n",
       "      <th>5</th>\n",
       "      <td>2020-01-13</td>\n",
       "    </tr>\n",
       "    <tr>\n",
       "      <th>6</th>\n",
       "      <td>2020-01-14</td>\n",
       "    </tr>\n",
       "  </tbody>\n",
       "</table>\n",
       "</div>"
      ],
      "text/plain": [
       "        date\n",
       "0 2020-01-08\n",
       "1 2020-01-09\n",
       "2 2020-01-10\n",
       "3 2020-01-11\n",
       "4 2020-01-12\n",
       "5 2020-01-13\n",
       "6 2020-01-14"
      ]
     },
     "execution_count": 14,
     "metadata": {},
     "output_type": "execute_result"
    }
   ],
   "source": [
    "full_date_range_df = pd.DataFrame({'date': full_date_range})\n",
    "full_date_range_df"
   ]
  },
  {
   "cell_type": "code",
   "execution_count": 15,
   "metadata": {
    "ExecuteTime": {
     "end_time": "2021-06-05T22:13:15.773768Z",
     "start_time": "2021-06-05T22:13:15.758770Z"
    }
   },
   "outputs": [
    {
     "data": {
      "text/html": [
       "<div>\n",
       "<style scoped>\n",
       "    .dataframe tbody tr th:only-of-type {\n",
       "        vertical-align: middle;\n",
       "    }\n",
       "\n",
       "    .dataframe tbody tr th {\n",
       "        vertical-align: top;\n",
       "    }\n",
       "\n",
       "    .dataframe thead th {\n",
       "        text-align: right;\n",
       "    }\n",
       "</style>\n",
       "<table border=\"1\" class=\"dataframe\">\n",
       "  <thead>\n",
       "    <tr style=\"text-align: right;\">\n",
       "      <th></th>\n",
       "      <th>date</th>\n",
       "      <th>cost</th>\n",
       "      <th>sale_id</th>\n",
       "      <th>user_id</th>\n",
       "    </tr>\n",
       "  </thead>\n",
       "  <tbody>\n",
       "    <tr>\n",
       "      <th>0</th>\n",
       "      <td>2020-01-08</td>\n",
       "      <td>12.07</td>\n",
       "      <td>103.0</td>\n",
       "      <td>1.0</td>\n",
       "    </tr>\n",
       "    <tr>\n",
       "      <th>1</th>\n",
       "      <td>2020-01-08</td>\n",
       "      <td>15.43</td>\n",
       "      <td>107.0</td>\n",
       "      <td>1.0</td>\n",
       "    </tr>\n",
       "    <tr>\n",
       "      <th>2</th>\n",
       "      <td>2020-01-08</td>\n",
       "      <td>10.05</td>\n",
       "      <td>105.0</td>\n",
       "      <td>1.0</td>\n",
       "    </tr>\n",
       "    <tr>\n",
       "      <th>3</th>\n",
       "      <td>2020-01-08</td>\n",
       "      <td>11.00</td>\n",
       "      <td>100.0</td>\n",
       "      <td>3.0</td>\n",
       "    </tr>\n",
       "    <tr>\n",
       "      <th>4</th>\n",
       "      <td>2020-01-09</td>\n",
       "      <td>18.22</td>\n",
       "      <td>107.0</td>\n",
       "      <td>3.0</td>\n",
       "    </tr>\n",
       "    <tr>\n",
       "      <th>5</th>\n",
       "      <td>2020-01-09</td>\n",
       "      <td>18.60</td>\n",
       "      <td>109.0</td>\n",
       "      <td>3.0</td>\n",
       "    </tr>\n",
       "    <tr>\n",
       "      <th>6</th>\n",
       "      <td>2020-01-09</td>\n",
       "      <td>13.24</td>\n",
       "      <td>100.0</td>\n",
       "      <td>1.0</td>\n",
       "    </tr>\n",
       "    <tr>\n",
       "      <th>7</th>\n",
       "      <td>2020-01-10</td>\n",
       "      <td>13.03</td>\n",
       "      <td>102.0</td>\n",
       "      <td>1.0</td>\n",
       "    </tr>\n",
       "    <tr>\n",
       "      <th>8</th>\n",
       "      <td>2020-01-10</td>\n",
       "      <td>15.62</td>\n",
       "      <td>103.0</td>\n",
       "      <td>3.0</td>\n",
       "    </tr>\n",
       "    <tr>\n",
       "      <th>9</th>\n",
       "      <td>2020-01-10</td>\n",
       "      <td>10.83</td>\n",
       "      <td>108.0</td>\n",
       "      <td>1.0</td>\n",
       "    </tr>\n",
       "    <tr>\n",
       "      <th>10</th>\n",
       "      <td>2020-01-10</td>\n",
       "      <td>12.56</td>\n",
       "      <td>104.0</td>\n",
       "      <td>1.0</td>\n",
       "    </tr>\n",
       "    <tr>\n",
       "      <th>11</th>\n",
       "      <td>2020-01-11</td>\n",
       "      <td>NaN</td>\n",
       "      <td>NaN</td>\n",
       "      <td>NaN</td>\n",
       "    </tr>\n",
       "    <tr>\n",
       "      <th>12</th>\n",
       "      <td>2020-01-12</td>\n",
       "      <td>NaN</td>\n",
       "      <td>NaN</td>\n",
       "      <td>NaN</td>\n",
       "    </tr>\n",
       "    <tr>\n",
       "      <th>13</th>\n",
       "      <td>2020-01-13</td>\n",
       "      <td>NaN</td>\n",
       "      <td>NaN</td>\n",
       "      <td>NaN</td>\n",
       "    </tr>\n",
       "    <tr>\n",
       "      <th>14</th>\n",
       "      <td>2020-01-14</td>\n",
       "      <td>NaN</td>\n",
       "      <td>NaN</td>\n",
       "      <td>NaN</td>\n",
       "    </tr>\n",
       "  </tbody>\n",
       "</table>\n",
       "</div>"
      ],
      "text/plain": [
       "         date   cost  sale_id  user_id\n",
       "0  2020-01-08  12.07    103.0      1.0\n",
       "1  2020-01-08  15.43    107.0      1.0\n",
       "2  2020-01-08  10.05    105.0      1.0\n",
       "3  2020-01-08  11.00    100.0      3.0\n",
       "4  2020-01-09  18.22    107.0      3.0\n",
       "5  2020-01-09  18.60    109.0      3.0\n",
       "6  2020-01-09  13.24    100.0      1.0\n",
       "7  2020-01-10  13.03    102.0      1.0\n",
       "8  2020-01-10  15.62    103.0      3.0\n",
       "9  2020-01-10  10.83    108.0      1.0\n",
       "10 2020-01-10  12.56    104.0      1.0\n",
       "11 2020-01-11    NaN      NaN      NaN\n",
       "12 2020-01-12    NaN      NaN      NaN\n",
       "13 2020-01-13    NaN      NaN      NaN\n",
       "14 2020-01-14    NaN      NaN      NaN"
      ]
     },
     "execution_count": 15,
     "metadata": {},
     "output_type": "execute_result"
    }
   ],
   "source": [
    "df_combined = full_date_range_df.merge(df, on='date', how='left')\n",
    "df_combined"
   ]
  },
  {
   "cell_type": "code",
   "execution_count": 16,
   "metadata": {
    "ExecuteTime": {
     "end_time": "2021-06-05T22:13:15.789780Z",
     "start_time": "2021-06-05T22:13:15.774771Z"
    }
   },
   "outputs": [],
   "source": [
    "# revenue\n",
    "# number_purchases - count(sale_ids)\n",
    "# "
   ]
  },
  {
   "cell_type": "code",
   "execution_count": 17,
   "metadata": {
    "ExecuteTime": {
     "end_time": "2021-06-05T22:13:15.821768Z",
     "start_time": "2021-06-05T22:13:15.790770Z"
    }
   },
   "outputs": [
    {
     "data": {
      "text/html": [
       "<div>\n",
       "<style scoped>\n",
       "    .dataframe tbody tr th:only-of-type {\n",
       "        vertical-align: middle;\n",
       "    }\n",
       "\n",
       "    .dataframe tbody tr th {\n",
       "        vertical-align: top;\n",
       "    }\n",
       "\n",
       "    .dataframe thead th {\n",
       "        text-align: right;\n",
       "    }\n",
       "</style>\n",
       "<table border=\"1\" class=\"dataframe\">\n",
       "  <thead>\n",
       "    <tr style=\"text-align: right;\">\n",
       "      <th></th>\n",
       "      <th>revenue</th>\n",
       "      <th>number_purchases</th>\n",
       "      <th>number_items</th>\n",
       "    </tr>\n",
       "    <tr>\n",
       "      <th>date</th>\n",
       "      <th></th>\n",
       "      <th></th>\n",
       "      <th></th>\n",
       "    </tr>\n",
       "  </thead>\n",
       "  <tbody>\n",
       "    <tr>\n",
       "      <th>2020-01-08</th>\n",
       "      <td>48.55</td>\n",
       "      <td>4</td>\n",
       "      <td>4</td>\n",
       "    </tr>\n",
       "    <tr>\n",
       "      <th>2020-01-09</th>\n",
       "      <td>50.06</td>\n",
       "      <td>3</td>\n",
       "      <td>3</td>\n",
       "    </tr>\n",
       "    <tr>\n",
       "      <th>2020-01-10</th>\n",
       "      <td>52.04</td>\n",
       "      <td>4</td>\n",
       "      <td>4</td>\n",
       "    </tr>\n",
       "    <tr>\n",
       "      <th>2020-01-11</th>\n",
       "      <td>0.00</td>\n",
       "      <td>0</td>\n",
       "      <td>0</td>\n",
       "    </tr>\n",
       "    <tr>\n",
       "      <th>2020-01-12</th>\n",
       "      <td>0.00</td>\n",
       "      <td>0</td>\n",
       "      <td>0</td>\n",
       "    </tr>\n",
       "    <tr>\n",
       "      <th>2020-01-13</th>\n",
       "      <td>0.00</td>\n",
       "      <td>0</td>\n",
       "      <td>0</td>\n",
       "    </tr>\n",
       "    <tr>\n",
       "      <th>2020-01-14</th>\n",
       "      <td>0.00</td>\n",
       "      <td>0</td>\n",
       "      <td>0</td>\n",
       "    </tr>\n",
       "  </tbody>\n",
       "</table>\n",
       "</div>"
      ],
      "text/plain": [
       "            revenue  number_purchases  number_items\n",
       "date                                               \n",
       "2020-01-08    48.55                 4             4\n",
       "2020-01-09    50.06                 3             3\n",
       "2020-01-10    52.04                 4             4\n",
       "2020-01-11     0.00                 0             0\n",
       "2020-01-12     0.00                 0             0\n",
       "2020-01-13     0.00                 0             0\n",
       "2020-01-14     0.00                 0             0"
      ]
     },
     "execution_count": 17,
     "metadata": {},
     "output_type": "execute_result"
    }
   ],
   "source": [
    "ans_df = df_combined.groupby('date').agg(revenue=('cost', 'sum')\n",
    "                                ,number_purchases=('sale_id', 'nunique')\n",
    "                                ,number_items=('sale_id', 'count')\n",
    "                               )\n",
    "ans_df"
   ]
  },
  {
   "cell_type": "code",
   "execution_count": 18,
   "metadata": {
    "ExecuteTime": {
     "end_time": "2021-06-05T22:13:15.837769Z",
     "start_time": "2021-06-05T22:13:15.822770Z"
    }
   },
   "outputs": [],
   "source": [
    "ans_df[['revenue', 'number_purchases','number_items']] = ans_df[['revenue', 'number_purchases','number_items']].astype(float)"
   ]
  },
  {
   "cell_type": "code",
   "execution_count": 19,
   "metadata": {
    "ExecuteTime": {
     "end_time": "2021-06-05T22:13:15.852771Z",
     "start_time": "2021-06-05T22:13:15.838769Z"
    }
   },
   "outputs": [],
   "source": [
    "ans_df['average_check'] = 0\n",
    "ans_df['average_number_items'] = 0"
   ]
  },
  {
   "cell_type": "code",
   "execution_count": 20,
   "metadata": {
    "ExecuteTime": {
     "end_time": "2021-06-05T22:13:15.867768Z",
     "start_time": "2021-06-05T22:13:15.853771Z"
    }
   },
   "outputs": [],
   "source": [
    "non_zero_purchases = ans_df.number_purchases > 0\n",
    "ans_df.loc[non_zero_purchases, 'average_check'] = \\\n",
    "        ans_df.loc[non_zero_purchases, 'revenue'] / ans_df.loc[non_zero_purchases, 'number_purchases']"
   ]
  },
  {
   "cell_type": "code",
   "execution_count": 21,
   "metadata": {
    "ExecuteTime": {
     "end_time": "2021-06-05T22:13:15.883856Z",
     "start_time": "2021-06-05T22:13:15.868771Z"
    }
   },
   "outputs": [],
   "source": [
    "non_zero_purchases = ans_df.number_purchases > 0\n",
    "ans_df.loc[non_zero_purchases, 'average_number_items'] = \\\n",
    "        ans_df.loc[non_zero_purchases, 'number_items'] / ans_df.loc[non_zero_purchases, 'number_purchases']"
   ]
  },
  {
   "cell_type": "code",
   "execution_count": 22,
   "metadata": {
    "ExecuteTime": {
     "end_time": "2021-06-05T22:13:15.899317Z",
     "start_time": "2021-06-05T22:13:15.884314Z"
    }
   },
   "outputs": [
    {
     "data": {
      "text/html": [
       "<div>\n",
       "<style scoped>\n",
       "    .dataframe tbody tr th:only-of-type {\n",
       "        vertical-align: middle;\n",
       "    }\n",
       "\n",
       "    .dataframe tbody tr th {\n",
       "        vertical-align: top;\n",
       "    }\n",
       "\n",
       "    .dataframe thead th {\n",
       "        text-align: right;\n",
       "    }\n",
       "</style>\n",
       "<table border=\"1\" class=\"dataframe\">\n",
       "  <thead>\n",
       "    <tr style=\"text-align: right;\">\n",
       "      <th></th>\n",
       "      <th>revenue</th>\n",
       "      <th>number_purchases</th>\n",
       "      <th>average_check</th>\n",
       "      <th>average_number_items</th>\n",
       "    </tr>\n",
       "    <tr>\n",
       "      <th>date</th>\n",
       "      <th></th>\n",
       "      <th></th>\n",
       "      <th></th>\n",
       "      <th></th>\n",
       "    </tr>\n",
       "  </thead>\n",
       "  <tbody>\n",
       "    <tr>\n",
       "      <th>2020-01-08</th>\n",
       "      <td>48.55</td>\n",
       "      <td>4.0</td>\n",
       "      <td>12.137500</td>\n",
       "      <td>1.0</td>\n",
       "    </tr>\n",
       "    <tr>\n",
       "      <th>2020-01-09</th>\n",
       "      <td>50.06</td>\n",
       "      <td>3.0</td>\n",
       "      <td>16.686667</td>\n",
       "      <td>1.0</td>\n",
       "    </tr>\n",
       "    <tr>\n",
       "      <th>2020-01-10</th>\n",
       "      <td>52.04</td>\n",
       "      <td>4.0</td>\n",
       "      <td>13.010000</td>\n",
       "      <td>1.0</td>\n",
       "    </tr>\n",
       "    <tr>\n",
       "      <th>2020-01-11</th>\n",
       "      <td>0.00</td>\n",
       "      <td>0.0</td>\n",
       "      <td>0.000000</td>\n",
       "      <td>0.0</td>\n",
       "    </tr>\n",
       "    <tr>\n",
       "      <th>2020-01-12</th>\n",
       "      <td>0.00</td>\n",
       "      <td>0.0</td>\n",
       "      <td>0.000000</td>\n",
       "      <td>0.0</td>\n",
       "    </tr>\n",
       "    <tr>\n",
       "      <th>2020-01-13</th>\n",
       "      <td>0.00</td>\n",
       "      <td>0.0</td>\n",
       "      <td>0.000000</td>\n",
       "      <td>0.0</td>\n",
       "    </tr>\n",
       "    <tr>\n",
       "      <th>2020-01-14</th>\n",
       "      <td>0.00</td>\n",
       "      <td>0.0</td>\n",
       "      <td>0.000000</td>\n",
       "      <td>0.0</td>\n",
       "    </tr>\n",
       "  </tbody>\n",
       "</table>\n",
       "</div>"
      ],
      "text/plain": [
       "            revenue  number_purchases  average_check  average_number_items\n",
       "date                                                                      \n",
       "2020-01-08    48.55               4.0      12.137500                   1.0\n",
       "2020-01-09    50.06               3.0      16.686667                   1.0\n",
       "2020-01-10    52.04               4.0      13.010000                   1.0\n",
       "2020-01-11     0.00               0.0       0.000000                   0.0\n",
       "2020-01-12     0.00               0.0       0.000000                   0.0\n",
       "2020-01-13     0.00               0.0       0.000000                   0.0\n",
       "2020-01-14     0.00               0.0       0.000000                   0.0"
      ]
     },
     "execution_count": 22,
     "metadata": {},
     "output_type": "execute_result"
    }
   ],
   "source": [
    "ans_df[['revenue', 'number_purchases', 'average_check', 'average_number_items']]"
   ]
  },
  {
   "cell_type": "code",
   "execution_count": 23,
   "metadata": {
    "ExecuteTime": {
     "end_time": "2021-06-05T22:13:15.915318Z",
     "start_time": "2021-06-05T22:13:15.901321Z"
    }
   },
   "outputs": [
    {
     "data": {
      "text/html": [
       "<div>\n",
       "<style scoped>\n",
       "    .dataframe tbody tr th:only-of-type {\n",
       "        vertical-align: middle;\n",
       "    }\n",
       "\n",
       "    .dataframe tbody tr th {\n",
       "        vertical-align: top;\n",
       "    }\n",
       "\n",
       "    .dataframe thead th {\n",
       "        text-align: right;\n",
       "    }\n",
       "</style>\n",
       "<table border=\"1\" class=\"dataframe\">\n",
       "  <thead>\n",
       "    <tr style=\"text-align: right;\">\n",
       "      <th></th>\n",
       "      <th></th>\n",
       "      <th>average_number_items</th>\n",
       "    </tr>\n",
       "    <tr>\n",
       "      <th>date</th>\n",
       "      <th>sale_id</th>\n",
       "      <th></th>\n",
       "    </tr>\n",
       "  </thead>\n",
       "  <tbody>\n",
       "    <tr>\n",
       "      <th rowspan=\"4\" valign=\"top\">2020-01-08</th>\n",
       "      <th>100.0</th>\n",
       "      <td>1</td>\n",
       "    </tr>\n",
       "    <tr>\n",
       "      <th>103.0</th>\n",
       "      <td>1</td>\n",
       "    </tr>\n",
       "    <tr>\n",
       "      <th>105.0</th>\n",
       "      <td>1</td>\n",
       "    </tr>\n",
       "    <tr>\n",
       "      <th>107.0</th>\n",
       "      <td>1</td>\n",
       "    </tr>\n",
       "    <tr>\n",
       "      <th rowspan=\"3\" valign=\"top\">2020-01-09</th>\n",
       "      <th>100.0</th>\n",
       "      <td>1</td>\n",
       "    </tr>\n",
       "    <tr>\n",
       "      <th>107.0</th>\n",
       "      <td>1</td>\n",
       "    </tr>\n",
       "    <tr>\n",
       "      <th>109.0</th>\n",
       "      <td>1</td>\n",
       "    </tr>\n",
       "    <tr>\n",
       "      <th rowspan=\"4\" valign=\"top\">2020-01-10</th>\n",
       "      <th>102.0</th>\n",
       "      <td>1</td>\n",
       "    </tr>\n",
       "    <tr>\n",
       "      <th>103.0</th>\n",
       "      <td>1</td>\n",
       "    </tr>\n",
       "    <tr>\n",
       "      <th>104.0</th>\n",
       "      <td>1</td>\n",
       "    </tr>\n",
       "    <tr>\n",
       "      <th>108.0</th>\n",
       "      <td>1</td>\n",
       "    </tr>\n",
       "  </tbody>\n",
       "</table>\n",
       "</div>"
      ],
      "text/plain": [
       "                    average_number_items\n",
       "date       sale_id                      \n",
       "2020-01-08 100.0                       1\n",
       "           103.0                       1\n",
       "           105.0                       1\n",
       "           107.0                       1\n",
       "2020-01-09 100.0                       1\n",
       "           107.0                       1\n",
       "           109.0                       1\n",
       "2020-01-10 102.0                       1\n",
       "           103.0                       1\n",
       "           104.0                       1\n",
       "           108.0                       1"
      ]
     },
     "execution_count": 23,
     "metadata": {},
     "output_type": "execute_result"
    }
   ],
   "source": [
    "df_combined.groupby(['date', 'sale_id']).agg(average_number_items=('cost', 'count'))"
   ]
  },
  {
   "cell_type": "code",
   "execution_count": null,
   "metadata": {},
   "outputs": [],
   "source": []
  }
 ],
 "metadata": {
  "kernelspec": {
   "display_name": "Python 3",
   "language": "python",
   "name": "python3"
  },
  "language_info": {
   "codemirror_mode": {
    "name": "ipython",
    "version": 3
   },
   "file_extension": ".py",
   "mimetype": "text/x-python",
   "name": "python",
   "nbconvert_exporter": "python",
   "pygments_lexer": "ipython3",
   "version": "3.7.6"
  }
 },
 "nbformat": 4,
 "nbformat_minor": 4
}
