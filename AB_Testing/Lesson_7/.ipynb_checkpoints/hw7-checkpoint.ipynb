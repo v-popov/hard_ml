{
 "cells": [
  {
   "cell_type": "code",
   "execution_count": 62,
   "metadata": {
    "ExecuteTime": {
     "end_time": "2021-06-23T00:57:29.322585Z",
     "start_time": "2021-06-23T00:57:29.310575Z"
    }
   },
   "outputs": [],
   "source": [
    "import numpy as np\n",
    "import hashlib\n",
    "\n",
    "class ABSplitter:\n",
    "    def __init__(self, count_slots, salt_one, salt_two):\n",
    "        self.count_slots = count_slots\n",
    "        self.salt_one = salt_one\n",
    "        self.salt_two = salt_two\n",
    "\n",
    "        self.slots = np.arange(count_slots)\n",
    "        self.experiments = []\n",
    "        self.experiment_to_slots = dict()\n",
    "        self.slot_to_experiments = dict()\n",
    "\n",
    "    def split_experiments(self, experiments):\n",
    "        \"\"\"Устанавливает множество экспериментов, распределяет их по слотам.\n",
    "\n",
    "        Нужно определить атрибуты класса:\n",
    "            self.experiments - список словарей с экспериментами\n",
    "            self.experiment_to_slots - словарь, {эксперимент: слоты}\n",
    "            self.slot_to_experiments - словарь, {слот: эксперименты}\n",
    "        experiments - список словарей, описывающих пилот. Словари содержит три ключа:\n",
    "            experiment_id - идентификатор пилота,\n",
    "            count_slots - необходимое кол-во слотов,\n",
    "            conflict_experiments - list, идентификаторы несовместных экспериментов.\n",
    "            Пример: {'experiment_id': 'exp_16', 'count_slots': 3, 'conflict_experiments': ['exp_13']}\n",
    "        return: List[dict], список экспериментов, которые не удалось разместить по слотам.\n",
    "            Возвращает пустой список, если всем экспериментам хватило слотов.\n",
    "        \"\"\"\n",
    "        self.experiments = experiments\n",
    "        experiments = sorted(experiments, key=lambda x: len(x['conflict_experiments']), reverse=True)\n",
    "\n",
    "        self.slot_to_experiments = {slot: [] for slot in self.slots}\n",
    "        self.experiment_to_slots = {experiment['experiment_id']: [] for experiment in experiments}\n",
    "        unassigned_experiments = []\n",
    "        for experiment in experiments:\n",
    "            if experiment['count_slots'] > len(self.slots):\n",
    "                print(f'ERROR: experiment_id={experiment[\"experiment_id\"]} needs too many slots.')\n",
    "                unassigned_experiments.append(experiment)\n",
    "                continue\n",
    "\n",
    "            # найдём доступные слоты\n",
    "            notavailable_slots = []\n",
    "            for conflict_experiment_id in experiment['conflict_experiments']:\n",
    "                notavailable_slots += self.experiment_to_slots[conflict_experiment_id]\n",
    "            available_slots = list(set(self.slots) - set(notavailable_slots))\n",
    "\n",
    "            if experiment['count_slots'] > len(available_slots):\n",
    "                print(f'ERROR: experiment_id=\"{experiment[\"experiment_id\"]}\" not enough available slots.')\n",
    "                unassigned_experiments.append(experiment)\n",
    "                continue\n",
    "\n",
    "            # shuffle - чтобы внести случайность, иначе они все упорядочены будут по номеру slot\n",
    "            # np.random.shuffle(available_slots)\n",
    "            #         print(f'available_slots: {available_slots}')\n",
    "            #         print(f'self.slot_to_experiments: {self.slot_to_experiments}')\n",
    "            available_slots_orderby_count_experiment = sorted(\n",
    "                available_slots,\n",
    "                key=lambda x: len(self.slot_to_experiments[x]), reverse=True\n",
    "            )\n",
    "            #         print(f'available_slots_orderby_count_experiment: {available_slots_orderby_count_experiment}')\n",
    "\n",
    "            experiment_slots = available_slots_orderby_count_experiment[:experiment['count_slots']]\n",
    "            self.experiment_to_slots[experiment['experiment_id']] = experiment_slots\n",
    "            for slot in experiment_slots:\n",
    "                self.slot_to_experiments[slot].append(experiment['experiment_id'])\n",
    "        return unassigned_experiments\n",
    "\n",
    "    \n",
    "    def process_user(self, user_id: str):\n",
    "        \"\"\"Определяет в какие эксперименты попадает пользователь.\n",
    "\n",
    "        Сначала нужно определить слот пользователя.\n",
    "        Затем для каждого эксперимента в этом слоте выбрать пилотную или контрольную группу.\n",
    "\n",
    "        user_id - идентификатор пользователя.\n",
    "\n",
    "        return - (int, List[tuple]), слот и список пар (experiment_id, pilot/control group).\n",
    "            Example: (2, [('exp 3', 'pilot'), ('exp 5', 'control')]).\n",
    "        \"\"\"\n",
    "        # YOUR_CODE_HERE\n",
    "        hash_value = int(hashlib.md5(str.encode(user_id + str(self.salt_one))).hexdigest(), 16)\n",
    "        slot = hash_value % self.count_slots\n",
    "        assignments = []\n",
    "        for experiment_id in self.slot_to_experiments[slot]:\n",
    "            for experiment in self.experiments:\n",
    "                if experiment_id == experiment['experiment_id']:\n",
    "                    combined_id = str(user_id) + str(experiment_id) + str(self.salt_two)\n",
    "                    hash_value = int(hashlib.md5(str.encode(combined_id)).hexdigest(), 16)\n",
    "                    is_pilot = hash_value % 2\n",
    "                    assignments.append((experiment_id, 'pilot' if is_pilot else 'control'))\n",
    "        return (slot, assignments)"
   ]
  },
  {
   "cell_type": "code",
   "execution_count": 68,
   "metadata": {
    "ExecuteTime": {
     "end_time": "2021-06-23T00:57:35.407823Z",
     "start_time": "2021-06-23T00:57:35.390806Z"
    }
   },
   "outputs": [],
   "source": [
    "splitter = ABSplitter(4, \"A\", \"B\")"
   ]
  },
  {
   "cell_type": "code",
   "execution_count": 69,
   "metadata": {
    "ExecuteTime": {
     "end_time": "2021-06-23T00:57:35.686433Z",
     "start_time": "2021-06-23T00:57:35.669576Z"
    }
   },
   "outputs": [
    {
     "name": "stdout",
     "output_type": "stream",
     "text": [
      "[]\n"
     ]
    }
   ],
   "source": [
    "# две группы пилотов, которые не должны пересекаться\n",
    "group_one = ['pilot 1', 'pilot 2']#, 'pilot 3']\n",
    "group_two = ['pilot 4', 'pilot 5']\n",
    "\n",
    "experiments = [\n",
    "    {'experiment_id': 'pilot 1', 'count_slots': 2, 'conflict_experiments': group_two},\n",
    "    {'experiment_id': 'pilot 2', 'count_slots': 2, 'conflict_experiments': group_two},\n",
    "    {'experiment_id': 'pilot 3', 'count_slots': 2, 'conflict_experiments': group_two},\n",
    "    {'experiment_id': 'pilot 4', 'count_slots': 2, 'conflict_experiments': group_one},\n",
    "    {'experiment_id': 'pilot 5', 'count_slots': 2, 'conflict_experiments': group_one},\n",
    "]\n",
    "\n",
    "\n",
    "unassigned_experiments = splitter.split_experiments(experiments)\n",
    "print(unassigned_experiments)"
   ]
  },
  {
   "cell_type": "code",
   "execution_count": 70,
   "metadata": {
    "ExecuteTime": {
     "end_time": "2021-06-23T00:57:36.126278Z",
     "start_time": "2021-06-23T00:57:36.109834Z"
    }
   },
   "outputs": [
    {
     "data": {
      "text/plain": [
       "['pilot 1', 'pilot 2', 'pilot 3']"
      ]
     },
     "execution_count": 70,
     "metadata": {},
     "output_type": "execute_result"
    }
   ],
   "source": [
    "splitter.slot_to_experiments[0]"
   ]
  },
  {
   "cell_type": "code",
   "execution_count": 71,
   "metadata": {
    "ExecuteTime": {
     "end_time": "2021-06-23T00:57:36.716675Z",
     "start_time": "2021-06-23T00:57:36.702803Z"
    }
   },
   "outputs": [],
   "source": [
    "q = splitter.process_user('abc')"
   ]
  },
  {
   "cell_type": "code",
   "execution_count": 72,
   "metadata": {
    "ExecuteTime": {
     "end_time": "2021-06-23T00:57:38.148961Z",
     "start_time": "2021-06-23T00:57:38.134828Z"
    }
   },
   "outputs": [
    {
     "data": {
      "text/plain": [
       "(2, [('pilot 4', 'pilot'), ('pilot 5', 'control')])"
      ]
     },
     "execution_count": 72,
     "metadata": {},
     "output_type": "execute_result"
    }
   ],
   "source": [
    "q"
   ]
  },
  {
   "cell_type": "code",
   "execution_count": 23,
   "metadata": {
    "ExecuteTime": {
     "end_time": "2021-06-22T15:40:33.034293Z",
     "start_time": "2021-06-22T15:40:33.023293Z"
    }
   },
   "outputs": [
    {
     "data": {
      "text/plain": [
       "[{'experiment_id': 'pilot 1',\n",
       "  'count_slots': 2,\n",
       "  'conflict_experiments': ['pilot 4', 'pilot 5']},\n",
       " {'experiment_id': 'pilot 2',\n",
       "  'count_slots': 2,\n",
       "  'conflict_experiments': ['pilot 4', 'pilot 5']},\n",
       " {'experiment_id': 'pilot 3',\n",
       "  'count_slots': 2,\n",
       "  'conflict_experiments': ['pilot 4', 'pilot 5']}]"
      ]
     },
     "execution_count": 23,
     "metadata": {},
     "output_type": "execute_result"
    }
   ],
   "source": [
    "unassigned_experiments"
   ]
  },
  {
   "cell_type": "code",
   "execution_count": null,
   "metadata": {},
   "outputs": [],
   "source": [
    "experiments = [{'experiment_id': 'exp1'\n",
    "               ,'count_slots': 3,\n",
    "               ,'conflict_experiments': ['exp13, exp2']}]"
   ]
  },
  {
   "cell_type": "code",
   "execution_count": 8,
   "metadata": {
    "ExecuteTime": {
     "end_time": "2021-06-22T15:33:33.904170Z",
     "start_time": "2021-06-22T15:33:33.888827Z"
    }
   },
   "outputs": [
    {
     "name": "stdout",
     "output_type": "stream",
     "text": [
      "available_slots: [4, 3, 2, 1]\n",
      "slot_to_experiment: {1: [], 2: [], 3: [], 4: []}\n",
      "available_slots_orderby_count_experiment: [4, 3, 2, 1]\n",
      "\n",
      "available_slots: [1, 2, 4, 3]\n",
      "slot_to_experiment: {1: [], 2: [], 3: ['pilot 4'], 4: ['pilot 4']}\n",
      "available_slots_orderby_count_experiment: [4, 3, 1, 2]\n",
      "\n",
      "available_slots: [2, 1]\n",
      "slot_to_experiment: {1: [], 2: [], 3: ['pilot 4', 'pilot 5'], 4: ['pilot 4', 'pilot 5']}\n",
      "available_slots_orderby_count_experiment: [2, 1]\n",
      "\n",
      "available_slots: [2, 1]\n",
      "slot_to_experiment: {1: ['pilot 1'], 2: ['pilot 1'], 3: ['pilot 4', 'pilot 5'], 4: ['pilot 4', 'pilot 5']}\n",
      "available_slots_orderby_count_experiment: [2, 1]\n",
      "\n",
      "available_slots: [2, 1]\n",
      "slot_to_experiment: {1: ['pilot 1', 'pilot 2'], 2: ['pilot 1', 'pilot 2'], 3: ['pilot 4', 'pilot 5'], 4: ['pilot 4', 'pilot 5']}\n",
      "available_slots_orderby_count_experiment: [2, 1]\n",
      "\n"
     ]
    },
    {
     "data": {
      "text/plain": [
       "{1: ['pilot 1', 'pilot 2', 'pilot 3'],\n",
       " 2: ['pilot 1', 'pilot 2', 'pilot 3'],\n",
       " 3: ['pilot 4', 'pilot 5'],\n",
       " 4: ['pilot 4', 'pilot 5']}"
      ]
     },
     "execution_count": 8,
     "metadata": {},
     "output_type": "execute_result"
    }
   ],
   "source": [
    "def get_hash_modulo(value: str, modulo: int, salt: str = '0'):\n",
    "    \"\"\"Вычисляем остаток от деления: (hash(value) + salt) % modulo.\"\"\"\n",
    "    hash_value = int(hashlib.md5(str.encode(str(value) + str(salt))).hexdigest(), 16)\n",
    "    return hash_value % modulo\n",
    "\n",
    "def match_pilot_slot_four(experiments: list, slots: list):\n",
    "    \"\"\"Функция распределяет пилоты по слотам.\n",
    "\n",
    "    experiments: список словарей, описывающих пилот. Содержит ключи:\n",
    "        pilot_id - идентификатор пилота,\n",
    "        count_slots - необходимое кол-во слотов,\n",
    "        conflict_experiments - list, идентификаторы несовместных пилотов.\n",
    "    slots: список с идентификаторами слотов.\n",
    "\n",
    "    return: словарь соответствия на каких слотах какие пилоты запускаются,\n",
    "        {slot_id: list_pilot_id, ...}\n",
    "    \"\"\"\n",
    "    experiments = sorted(experiments, key=lambda x: len(x['conflict_experiments']), reverse=True)\n",
    "\n",
    "    self.slot_to_experiment = {slot: [] for slot in slots}\n",
    "    self.experiment_to_slots = {experiment['experiment_id']: [] for experiment in experiments}\n",
    "    unassigned_experiments = []\n",
    "    for experiment in experiments:\n",
    "        if experiment['count_slots'] > len(slots):\n",
    "            print(f'ERROR: experiment_id={experiment[\"experiment_id\"]} needs too many slots.')\n",
    "            unassigned_experiments.append(experiment)\n",
    "            continue\n",
    "\n",
    "        # найдём доступные слоты\n",
    "        notavailable_slots = []\n",
    "        for conflict_experiment_id in experiment['conflict_experiments']:\n",
    "            notavailable_slots += self.experiment_to_slots[conflict_experiment_id]\n",
    "        available_slots = list(set(slots) - set(notavailable_slots))\n",
    "\n",
    "        if experiment['count_slots'] > len(available_slots):\n",
    "            print(f'ERROR: experiment_id=\"{experiment[\"experiment_id\"]}\" not enough available slots.')\n",
    "            unassigned_experiments.append(experiment)\n",
    "            continue\n",
    "\n",
    "        # shuffle - чтобы внести случайность, иначе они все упорядочены будут по номеру slot\n",
    "        np.random.shuffle(available_slots)\n",
    "#         print(f'available_slots: {available_slots}')\n",
    "#         print(f'self.slot_to_experiment: {self.slot_to_experiment}')\n",
    "        available_slots_orderby_count_experiment = sorted(\n",
    "            available_slots,\n",
    "            key=lambda x: len(slot_to_experiment[x]), reverse=True\n",
    "        )\n",
    "#         print(f'available_slots_orderby_count_experiment: {available_slots_orderby_count_experiment}')\n",
    "        \n",
    "        experiment_slots = available_slots_orderby_count_experiment[:experiment['count_slots']]\n",
    "        self.experiment_to_slots[experiment['experiment_id']] = experiment_slots\n",
    "        for slot in experiment_slots:\n",
    "            self.slot_to_experiment[slot].append(experiment['experiment_id'])\n",
    "        print()\n",
    "    return unassigned_experiments\n",
    "\n",
    "\n",
    "# две группы пилотов, которые не должны пересекаться\n",
    "group_one = ['pilot 1', 'pilot 2', 'pilot 3']\n",
    "group_two = ['pilot 4', 'pilot 5']\n",
    "\n",
    "experiments = [\n",
    "    {'experiment_id': 'pilot 1', 'count_slots': 2, 'conflict_experiments': group_two},\n",
    "    {'experiment_id': 'pilot 2', 'count_slots': 2, 'conflict_experiments': group_two},\n",
    "    {'experiment_id': 'pilot 3', 'count_slots': 2, 'conflict_experiments': group_two},\n",
    "    {'experiment_id': 'pilot 4', 'count_slots': 2, 'conflict_experiments': group_one},\n",
    "    {'experiment_id': 'pilot 5', 'count_slots': 2, 'conflict_experiments': group_one},\n",
    "]\n",
    "\n",
    "slots = [i for i in range(1, 5)]\n",
    "\n",
    "match_pilot_slot_four(experiments, slots)"
   ]
  },
  {
   "cell_type": "code",
   "execution_count": 2,
   "metadata": {
    "ExecuteTime": {
     "end_time": "2021-06-22T15:24:32.203877Z",
     "start_time": "2021-06-22T15:24:32.188860Z"
    }
   },
   "outputs": [
    {
     "data": {
      "text/plain": [
       "[{'pilot_id': 'pilot 4',\n",
       "  'count_slots': 2,\n",
       "  'conflict_experiments': ['pilot 1', 'pilot 2', 'pilot 3']},\n",
       " {'pilot_id': 'pilot 5',\n",
       "  'count_slots': 2,\n",
       "  'conflict_experiments': ['pilot 1', 'pilot 2', 'pilot 3']},\n",
       " {'pilot_id': 'pilot 1',\n",
       "  'count_slots': 2,\n",
       "  'conflict_experiments': ['pilot 4', 'pilot 5']},\n",
       " {'pilot_id': 'pilot 2',\n",
       "  'count_slots': 2,\n",
       "  'conflict_experiments': ['pilot 4', 'pilot 5']},\n",
       " {'pilot_id': 'pilot 3',\n",
       "  'count_slots': 2,\n",
       "  'conflict_experiments': ['pilot 4', 'pilot 5']}]"
      ]
     },
     "execution_count": 2,
     "metadata": {},
     "output_type": "execute_result"
    }
   ],
   "source": [
    "group_one = ['pilot 1', 'pilot 2', 'pilot 3']\n",
    "group_two = ['pilot 4', 'pilot 5']\n",
    "\n",
    "experiments = [\n",
    "    {'pilot_id': 'pilot 1', 'count_slots': 2, 'conflict_experiments': group_two},\n",
    "    {'pilot_id': 'pilot 2', 'count_slots': 2, 'conflict_experiments': group_two},\n",
    "    {'pilot_id': 'pilot 3', 'count_slots': 2, 'conflict_experiments': group_two},\n",
    "    {'pilot_id': 'pilot 4', 'count_slots': 2, 'conflict_experiments': group_one},\n",
    "    {'pilot_id': 'pilot 5', 'count_slots': 2, 'conflict_experiments': group_one},\n",
    "]\n",
    "\n",
    "experiments = sorted(experiments, key=lambda x: len(x['conflict_experiments']), reverse=True)\n",
    "experiments"
   ]
  },
  {
   "cell_type": "code",
   "execution_count": null,
   "metadata": {},
   "outputs": [],
   "source": []
  }
 ],
 "metadata": {
  "kernelspec": {
   "display_name": "Python 3",
   "language": "python",
   "name": "python3"
  },
  "language_info": {
   "codemirror_mode": {
    "name": "ipython",
    "version": 3
   },
   "file_extension": ".py",
   "mimetype": "text/x-python",
   "name": "python",
   "nbconvert_exporter": "python",
   "pygments_lexer": "ipython3",
   "version": "3.7.6"
  }
 },
 "nbformat": 4,
 "nbformat_minor": 4
}
