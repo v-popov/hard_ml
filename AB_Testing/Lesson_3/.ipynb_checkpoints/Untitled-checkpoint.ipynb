{
 "cells": [
  {
   "cell_type": "code",
   "execution_count": 69,
   "metadata": {
    "ExecuteTime": {
     "end_time": "2021-06-07T01:22:33.540357Z",
     "start_time": "2021-06-07T01:22:33.523357Z"
    }
   },
   "outputs": [
    {
     "data": {
      "text/html": [
       "<div>\n",
       "<style scoped>\n",
       "    .dataframe tbody tr th:only-of-type {\n",
       "        vertical-align: middle;\n",
       "    }\n",
       "\n",
       "    .dataframe tbody tr th {\n",
       "        vertical-align: top;\n",
       "    }\n",
       "\n",
       "    .dataframe thead th {\n",
       "        text-align: right;\n",
       "    }\n",
       "</style>\n",
       "<table border=\"1\" class=\"dataframe\">\n",
       "  <thead>\n",
       "    <tr style=\"text-align: right;\">\n",
       "      <th></th>\n",
       "      <th>c1</th>\n",
       "    </tr>\n",
       "  </thead>\n",
       "  <tbody>\n",
       "    <tr>\n",
       "      <th>0</th>\n",
       "      <td>50.544144</td>\n",
       "    </tr>\n",
       "    <tr>\n",
       "      <th>1</th>\n",
       "      <td>52.357441</td>\n",
       "    </tr>\n",
       "    <tr>\n",
       "      <th>2</th>\n",
       "      <td>52.994211</td>\n",
       "    </tr>\n",
       "    <tr>\n",
       "      <th>3</th>\n",
       "      <td>51.669300</td>\n",
       "    </tr>\n",
       "    <tr>\n",
       "      <th>4</th>\n",
       "      <td>48.857733</td>\n",
       "    </tr>\n",
       "    <tr>\n",
       "      <th>...</th>\n",
       "      <td>...</td>\n",
       "    </tr>\n",
       "    <tr>\n",
       "      <th>995</th>\n",
       "      <td>48.034286</td>\n",
       "    </tr>\n",
       "    <tr>\n",
       "      <th>996</th>\n",
       "      <td>39.046614</td>\n",
       "    </tr>\n",
       "    <tr>\n",
       "      <th>997</th>\n",
       "      <td>42.190209</td>\n",
       "    </tr>\n",
       "    <tr>\n",
       "      <th>998</th>\n",
       "      <td>37.756242</td>\n",
       "    </tr>\n",
       "    <tr>\n",
       "      <th>999</th>\n",
       "      <td>51.323819</td>\n",
       "    </tr>\n",
       "  </tbody>\n",
       "</table>\n",
       "<p>1000 rows × 1 columns</p>\n",
       "</div>"
      ],
      "text/plain": [
       "            c1\n",
       "0    50.544144\n",
       "1    52.357441\n",
       "2    52.994211\n",
       "3    51.669300\n",
       "4    48.857733\n",
       "..         ...\n",
       "995  48.034286\n",
       "996  39.046614\n",
       "997  42.190209\n",
       "998  37.756242\n",
       "999  51.323819\n",
       "\n",
       "[1000 rows x 1 columns]"
      ]
     },
     "execution_count": 69,
     "metadata": {},
     "output_type": "execute_result"
    }
   ],
   "source": [
    "size=1000\n",
    "df = pd.DataFrame({'c1': np.random.normal(50,7,size)})\n",
    "df"
   ]
  },
  {
   "cell_type": "code",
   "execution_count": 73,
   "metadata": {
    "ExecuteTime": {
     "end_time": "2021-06-07T01:22:51.874253Z",
     "start_time": "2021-06-07T01:22:51.860212Z"
    }
   },
   "outputs": [],
   "source": [
    "import numpy as np\n",
    "import pandas as pd\n",
    "from scipy.stats import norm\n",
    "\n",
    "def estimate_sample_size(df, metric_name, effects, alpha=0.05, beta=0.2):\n",
    "    \"\"\"Оцениваем sample size для списка эффектов.\n",
    "\n",
    "    df - pd.DataFrame, датафрейм с данными\n",
    "    metric_name - str, название столбца с целевой метрикой\n",
    "    effects - List[float], список ожидаемых эффектов. Например, [1.03] - увеличение на 3%\n",
    "    alpha - float, ошибка первого рода\n",
    "    beta - float, ошибка второго рода\n",
    "\n",
    "    return - pd.DataFrame со столбцами ['effect', 'sample_size']    \n",
    "    \"\"\"\n",
    "    # YOUR_CODE_HERE\n",
    "    mu = df[metric_name].mean()\n",
    "    std = df[metric_name].std(ddof=0)\n",
    "    \n",
    "    t_alpha = norm.ppf(1-alpha/2, loc=0, scale=1)\n",
    "    t_beta = norm.ppf(1-beta, loc=0, scale=1)\n",
    "    t_a_b = (t_alpha + t_beta) ** 2\n",
    "    num = t_a_b * 2 * (std ** 2)\n",
    "    \n",
    "    sample_sizes = []\n",
    "    for effect in effects:\n",
    "        eps = mu * (effect - 1)\n",
    "        sample_sizes.append(num / (eps ** 2))\n",
    "    return pd.DataFrame({'effect': effects, 'sample_size': np.ceil(sample_sizes).astype(int)})"
   ]
  },
  {
   "cell_type": "code",
   "execution_count": 74,
   "metadata": {
    "ExecuteTime": {
     "end_time": "2021-06-07T01:22:52.157864Z",
     "start_time": "2021-06-07T01:22:52.139890Z"
    }
   },
   "outputs": [
    {
     "data": {
      "text/html": [
       "<div>\n",
       "<style scoped>\n",
       "    .dataframe tbody tr th:only-of-type {\n",
       "        vertical-align: middle;\n",
       "    }\n",
       "\n",
       "    .dataframe tbody tr th {\n",
       "        vertical-align: top;\n",
       "    }\n",
       "\n",
       "    .dataframe thead th {\n",
       "        text-align: right;\n",
       "    }\n",
       "</style>\n",
       "<table border=\"1\" class=\"dataframe\">\n",
       "  <thead>\n",
       "    <tr style=\"text-align: right;\">\n",
       "      <th></th>\n",
       "      <th>effect</th>\n",
       "      <th>sample_size</th>\n",
       "    </tr>\n",
       "  </thead>\n",
       "  <tbody>\n",
       "    <tr>\n",
       "      <th>0</th>\n",
       "      <td>1.03</td>\n",
       "      <td>1</td>\n",
       "    </tr>\n",
       "    <tr>\n",
       "      <th>1</th>\n",
       "      <td>1.10</td>\n",
       "      <td>1</td>\n",
       "    </tr>\n",
       "  </tbody>\n",
       "</table>\n",
       "</div>"
      ],
      "text/plain": [
       "   effect  sample_size\n",
       "0    1.03            1\n",
       "1    1.10            1"
      ]
     },
     "execution_count": 74,
     "metadata": {},
     "output_type": "execute_result"
    }
   ],
   "source": [
    "sample_sizes = estimate_sample_size(df, 'c1', [1.03, 1.1])\n",
    "sample_sizes"
   ]
  },
  {
   "cell_type": "code",
   "execution_count": 72,
   "metadata": {
    "ExecuteTime": {
     "end_time": "2021-06-07T01:22:43.340973Z",
     "start_time": "2021-06-07T01:22:36.226975Z"
    }
   },
   "outputs": [
    {
     "name": "stdout",
     "output_type": "stream",
     "text": [
      "effect: 1.03; calculated sample_size: 327\n",
      "error_first: 0.0528; error_second: 0.19920000000000004\n",
      "\n",
      "effect: 1.1; calculated sample_size: 30\n",
      "error_first: 0.0508; error_second: 0.19940000000000002\n",
      "\n"
     ]
    }
   ],
   "source": [
    "metric_name = 'c1'\n",
    "mu = df[metric_name].mean()\n",
    "std = df[metric_name].std()\n",
    "alpha = 0.05\n",
    "\n",
    "\n",
    "for row in sample_sizes.iterrows():\n",
    "    effect, sample_size = row[1]\n",
    "    sample_size = int(sample_size)\n",
    "    result_aa = []\n",
    "    result_ab = []\n",
    "    for _ in range(10000):\n",
    "        a_one = np.random.normal(mu, std, sample_size)\n",
    "        a_two = np.random.normal(mu, std, sample_size)\n",
    "        b = np.random.normal(mu*effect, std, sample_size)\n",
    "        \n",
    "        _, p_val = ttest_ind(a_one, a_two)\n",
    "        result_aa.append(int(p_val < alpha))\n",
    "        \n",
    "        _, p_val = ttest_ind(a_one, b)\n",
    "        result_ab.append(int(p_val < alpha))\n",
    "        \n",
    "    error_first = np.mean(result_aa)\n",
    "    error_second = 1 - np.mean(result_ab)\n",
    "    print(f'effect: {effect}; calculated sample_size: {sample_size}')\n",
    "    print(f'error_first: {error_first}; error_second: {error_second}\\n')"
   ]
  }
 ],
 "metadata": {
  "kernelspec": {
   "display_name": "Python 3",
   "language": "python",
   "name": "python3"
  },
  "language_info": {
   "codemirror_mode": {
    "name": "ipython",
    "version": 3
   },
   "file_extension": ".py",
   "mimetype": "text/x-python",
   "name": "python",
   "nbconvert_exporter": "python",
   "pygments_lexer": "ipython3",
   "version": "3.7.6"
  }
 },
 "nbformat": 4,
 "nbformat_minor": 4
}
