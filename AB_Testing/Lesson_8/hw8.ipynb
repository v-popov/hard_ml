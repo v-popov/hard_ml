{
 "cells": [
  {
   "cell_type": "code",
   "execution_count": 1,
   "metadata": {
    "ExecuteTime": {
     "end_time": "2021-06-25T15:41:24.724341Z",
     "start_time": "2021-06-25T15:41:23.959759Z"
    }
   },
   "outputs": [],
   "source": [
    "import numpy as np\n",
    "import pandas as pd\n",
    "import scipy.stats as stats\n",
    "from scipy.stats import norm\n",
    "\n",
    "class SequentialTester:\n",
    "    def __init__(\n",
    "        self, metric_name, time_column_name,\n",
    "        alpha, beta, pdf_one, pdf_two\n",
    "    ):\n",
    "        \"\"\"Создаём класс для проверки гипотезы о равенстве средних тестом Вальда.\n",
    "\n",
    "        Предполагается, что среднее значение метрики у распределения альтернативной\n",
    "        гипотезы с плотность pdf_two больше.\n",
    "\n",
    "        :param metric_name: str, название стобца со значениями измерений.\n",
    "        :param time_column_name: str, названия столбца с датой и временем измерения.\n",
    "        :param alpha: float, допустимая ошибка первого рода.\n",
    "        :param beta: float, допустимая ошибка второго рода.\n",
    "        :param pdf_one: function, функция плотности распределения метрики при H0.\n",
    "        :param pdf_two: function, функция плотности распределения метрики при H1.\n",
    "        \"\"\"\n",
    "        self.metric_name = metric_name\n",
    "        self.time_column_name = time_column_name\n",
    "        self.alpha = alpha\n",
    "        self.beta = beta\n",
    "        self.pdf_one = pdf_one\n",
    "        self.pdf_two = pdf_two\n",
    "        # YOUR_CODE_HERE\n",
    "        self.data_control = pd.DataFrame()\n",
    "        self.data_pilot = pd.DataFrame()\n",
    "\n",
    "    \n",
    "    def _run_test(self, data_control, data_pilot):\n",
    "        length = len(data_control)\n",
    "        \n",
    "        lower_bound = np.log(self.beta / (1 - self.alpha))\n",
    "        upper_bound = np.log((1 - self.beta) / self.alpha)\n",
    "\n",
    "        delta_data = data_pilot[self.metric_name] - data_control[self.metric_name]\n",
    "\n",
    "        pdf_one_values = self.pdf_one(delta_data)\n",
    "        pdf_two_values = self.pdf_two(delta_data)\n",
    "\n",
    "        z = np.cumsum(np.log(pdf_two_values / pdf_one_values))\n",
    "\n",
    "        indexes_lower = np.arange(length)[z < lower_bound]\n",
    "        indexes_upper = np.arange(length)[z > upper_bound]\n",
    "        first_index_lower = indexes_lower[0] if len(indexes_lower) > 0 else length + 1\n",
    "        first_index_upper = indexes_upper[0] if len(indexes_upper) > 0 else length + 1\n",
    "\n",
    "        if first_index_lower < first_index_upper:\n",
    "            return 0., first_index_lower + 1\n",
    "        elif first_index_lower > first_index_upper:\n",
    "            return 1., first_index_upper + 1\n",
    "        else:\n",
    "            return 0.5, length\n",
    "    \n",
    "\n",
    "    def run_test(self, data_control, data_pilot):\n",
    "        \"\"\"Запускаем новый тест, проверяет гипотезу о равенстве средних.\n",
    "        \n",
    "        :param data_control: pd.DataFrame, данные контрольной группы.\n",
    "        :param data_pilot: pd.DataFrame, данные пилотной группы.\n",
    "        \n",
    "        :return (result, length):\n",
    "            result: float,\n",
    "                0 - отклоняем H1,\n",
    "                1 - отклоняем H0,\n",
    "                0.5 - недостаточно данных для принятия решения\n",
    "            length: int, сколько потребовалось данных для принятия решения. Если данных \n",
    "                недостаточно, то возвращает текущее кол-во данных. Кол-во данных - это\n",
    "                кол-во элементов в одном из наборов data_control или data_pilot.\n",
    "                Гарантируется, что они равны.\n",
    "        \"\"\"\n",
    "        # YOUR_CODE_HERE\n",
    "#         data_control_sorted = data_control.sort_values(by=self.time_column_name).reset_index(drop=True)\n",
    "#         data_pilot_sorted = data_pilot.sort_values(by=self.time_column_name).reset_index(drop=True)\n",
    "\n",
    "        self.data_control = pd.concat((self.data_control, data_control), axis=0, ignore_index=True)\n",
    "        self.data_pilot = pd.concat((self.data_pilot, data_pilot), axis=0, ignore_index=True)\n",
    "        \n",
    "        return self._run_test(data_control, data_pilot)\n",
    "        \n",
    "\n",
    "    def add_data(self, data_control, data_pilot):\n",
    "        \"\"\"Добавляет новые данные, проверяет гипотезу о равенстве средних.\n",
    "        \n",
    "        Гарантируется, что данные новые и не дублируют ранее добавленные.\n",
    "        \n",
    "        :param data_control: pd.DataFrame, новые данные контрольной группы.\n",
    "        :param data_pilot: pd.DataFrame, новые данные пилотной группы.\n",
    "        \n",
    "        :return (result, length):\n",
    "            result: float,\n",
    "                0 - отклоняем H1,\n",
    "                1 - отклоняем H0,\n",
    "                0.5 - недостаточно данных для принятия решения\n",
    "            length: int, сколько потребовалось данных для принятия решения. Если данных \n",
    "                недостаточно, то возвращает текущее кол-во данных. Кол-во данных - это\n",
    "                кол-во элементов в одном из наборов data_control или data_pilot.\n",
    "                Гарантируется, что они равны.\n",
    "        \"\"\"\n",
    "        # YOUR_CODE_HERE\n",
    "#         data_control_new = data_control.sort_values(by=self.time_column_name)\n",
    "#         data_pilot_new = data_pilot.sort_values(by=self.time_column_name)\n",
    "        \n",
    "        self.data_control = pd.concat((self.data_control, data_control), axis=0, ignore_index=True)\n",
    "        self.data_pilot = pd.concat((self.data_pilot, data_pilot), axis=0, ignore_index=True)\n",
    "        return self._run_test(self.data_control, self.data_pilot)"
   ]
  },
  {
   "cell_type": "code",
   "execution_count": 2,
   "metadata": {
    "ExecuteTime": {
     "end_time": "2021-06-25T15:41:24.959483Z",
     "start_time": "2021-06-25T15:41:24.943469Z"
    }
   },
   "outputs": [],
   "source": [
    "STD = 1\n",
    "MEAN = 1\n",
    "EFFECT = 1.1\n",
    "def pdf_one(x):\n",
    "    \"\"\"Функция плотности разницы средних при верности нулевой гипотезы.\"\"\"\n",
    "    return stats.norm.pdf(x, 0, np.sqrt(2) * STD) # np.sqrt(2) * STD = sqrt(2 * VAR)\n",
    "\n",
    "def pdf_two(x):\n",
    "    \"\"\"Функция плотности разницы средних при верности альтернативной гипотезы.\"\"\"\n",
    "    return stats.norm.pdf(x, MEAN * (EFFECT - 1), np.sqrt(2) * STD) # MEAN * (EFFECT - 1) -> абсолютный эффект"
   ]
  },
  {
   "cell_type": "code",
   "execution_count": 3,
   "metadata": {
    "ExecuteTime": {
     "end_time": "2021-06-25T15:41:25.272478Z",
     "start_time": "2021-06-25T15:41:25.263478Z"
    }
   },
   "outputs": [],
   "source": [
    "size = 120\n",
    "value_name2 = 'value_name2'\n",
    "user_id_name2 = 'user_id_name2'\n",
    "date_name2 = 'date_name2'\n",
    "period2 = {'begin': pd.to_datetime('2017-05-05'), 'end': pd.to_datetime('2019-09-09')}"
   ]
  },
  {
   "cell_type": "code",
   "execution_count": 4,
   "metadata": {
    "ExecuteTime": {
     "end_time": "2021-06-25T15:41:25.552359Z",
     "start_time": "2021-06-25T15:41:25.543343Z"
    }
   },
   "outputs": [],
   "source": [
    "def get_df(mu, size):\n",
    "    return pd.DataFrame({value_name2: np.random.normal(mu,STD,size=size),\n",
    "                   user_id_name2: np.random.choice(np.unique(np.random.randint(5000,5010, size**2)), \n",
    "                                                    replace=True, size=size),\n",
    "                   date_name2: np.random.choice([x.date() for x in pd.date_range('2019-01-01', '2020-01-01')], \n",
    "                                                 replace=True, size=size)})"
   ]
  },
  {
   "cell_type": "code",
   "execution_count": 5,
   "metadata": {
    "ExecuteTime": {
     "end_time": "2021-06-25T15:41:25.848828Z",
     "start_time": "2021-06-25T15:41:25.838818Z"
    }
   },
   "outputs": [],
   "source": [
    "df = get_df(1, size)\n",
    "df2 = get_df(1.5, size)\n",
    "df3 = get_df(1, size)\n",
    "df4 = get_df(1.5, size)"
   ]
  },
  {
   "cell_type": "code",
   "execution_count": 6,
   "metadata": {
    "ExecuteTime": {
     "end_time": "2021-06-25T15:41:27.001707Z",
     "start_time": "2021-06-25T15:41:26.967776Z"
    }
   },
   "outputs": [
    {
     "data": {
      "text/plain": [
       "(0.5, 120)"
      ]
     },
     "execution_count": 6,
     "metadata": {},
     "output_type": "execute_result"
    }
   ],
   "source": [
    "st = SequentialTester(value_name2, date_name2, 0.05, 0.2, pdf_one, pdf_two)\n",
    "reject_null, num_obs = st.run_test(df, df3)\n",
    "reject_null, num_obs"
   ]
  },
  {
   "cell_type": "code",
   "execution_count": 383,
   "metadata": {
    "ExecuteTime": {
     "end_time": "2021-06-25T05:36:30.096938Z",
     "start_time": "2021-06-25T05:36:30.014905Z"
    }
   },
   "outputs": [
    {
     "data": {
      "text/plain": [
       "<matplotlib.axes._subplots.AxesSubplot at 0x2ee2dbf3d48>"
      ]
     },
     "execution_count": 383,
     "metadata": {},
     "output_type": "execute_result"
    },
    {
     "data": {
      "image/png": "[encoded data removed]",
      "text/plain": [
       "<Figure size 432x288 with 1 Axes>"
      ]
     },
     "metadata": {
      "needs_background": "light"
     },
     "output_type": "display_data"
    }
   ],
   "source": [
    "df2[value_name2].hist(alpha=0.5)\n",
    "df4[value_name2].hist(alpha=0.5)"
   ]
  },
  {
   "cell_type": "code",
   "execution_count": 8,
   "metadata": {
    "ExecuteTime": {
     "end_time": "2021-06-25T15:41:41.196734Z",
     "start_time": "2021-06-25T15:41:41.191737Z"
    }
   },
   "outputs": [
    {
     "data": {
      "text/plain": [
       "(0.0, 286)"
      ]
     },
     "execution_count": 8,
     "metadata": {},
     "output_type": "execute_result"
    }
   ],
   "source": [
    "st.add_data(df, df3)"
   ]
  },
  {
   "cell_type": "code",
   "execution_count": 411,
   "metadata": {
    "ExecuteTime": {
     "end_time": "2021-06-25T05:37:43.450221Z",
     "start_time": "2021-06-25T05:37:43.438706Z"
    }
   },
   "outputs": [
    {
     "data": {
      "text/plain": [
       "(0.0, 1363)"
      ]
     },
     "execution_count": 411,
     "metadata": {},
     "output_type": "execute_result"
    }
   ],
   "source": [
    "st.add_data(get_df(1, size), get_df(1., size))"
   ]
  },
  {
   "cell_type": "code",
   "execution_count": 229,
   "metadata": {
    "ExecuteTime": {
     "end_time": "2021-06-25T03:55:37.804158Z",
     "start_time": "2021-06-25T03:55:37.795151Z"
    }
   },
   "outputs": [
    {
     "name": "stdout",
     "output_type": "stream",
     "text": [
      "      value_name2  user_id_name2  date_name2\n",
      "0       -0.374713           5008  2019-12-04\n",
      "1        1.258591           5000  2019-01-13\n",
      "2        0.553469           5007  2019-08-30\n",
      "3        1.867175           5008  2019-10-20\n",
      "4        0.704059           5002  2019-12-20\n",
      "...           ...            ...         ...\n",
      "3995    -0.062188           5002  2019-09-09\n",
      "3996     3.504220           5001  2019-11-12\n",
      "3997    -0.300577           5008  2019-04-05\n",
      "3998     1.361058           5005  2019-09-22\n",
      "3999     0.870421           5009  2019-06-20\n",
      "\n",
      "[4000 rows x 3 columns]\n"
     ]
    },
    {
     "data": {
      "text/plain": [
       "(1.0, 120)"
      ]
     },
     "execution_count": 229,
     "metadata": {},
     "output_type": "execute_result"
    }
   ],
   "source": [
    "st.add_data(df3, df4)"
   ]
  },
  {
   "cell_type": "code",
   "execution_count": 412,
   "metadata": {
    "ExecuteTime": {
     "end_time": "2021-06-25T05:40:42.034802Z",
     "start_time": "2021-06-25T05:40:42.025802Z"
    }
   },
   "outputs": [
    {
     "data": {
      "text/html": [
       "<div>\n",
       "<style scoped>\n",
       "    .dataframe tbody tr th:only-of-type {\n",
       "        vertical-align: middle;\n",
       "    }\n",
       "\n",
       "    .dataframe tbody tr th {\n",
       "        vertical-align: top;\n",
       "    }\n",
       "\n",
       "    .dataframe thead th {\n",
       "        text-align: right;\n",
       "    }\n",
       "</style>\n",
       "<table border=\"1\" class=\"dataframe\">\n",
       "  <thead>\n",
       "    <tr style=\"text-align: right;\">\n",
       "      <th></th>\n",
       "      <th>value_name2</th>\n",
       "      <th>user_id_name2</th>\n",
       "      <th>date_name2</th>\n",
       "    </tr>\n",
       "  </thead>\n",
       "  <tbody>\n",
       "    <tr>\n",
       "      <th>0</th>\n",
       "      <td>-0.325384</td>\n",
       "      <td>5009</td>\n",
       "      <td>2019-11-19</td>\n",
       "    </tr>\n",
       "    <tr>\n",
       "      <th>1</th>\n",
       "      <td>2.378469</td>\n",
       "      <td>5003</td>\n",
       "      <td>2019-04-04</td>\n",
       "    </tr>\n",
       "    <tr>\n",
       "      <th>2</th>\n",
       "      <td>0.402318</td>\n",
       "      <td>5008</td>\n",
       "      <td>2019-08-11</td>\n",
       "    </tr>\n",
       "    <tr>\n",
       "      <th>3</th>\n",
       "      <td>-0.372035</td>\n",
       "      <td>5003</td>\n",
       "      <td>2019-04-21</td>\n",
       "    </tr>\n",
       "    <tr>\n",
       "      <th>4</th>\n",
       "      <td>1.671733</td>\n",
       "      <td>5007</td>\n",
       "      <td>2019-12-21</td>\n",
       "    </tr>\n",
       "    <tr>\n",
       "      <th>...</th>\n",
       "      <td>...</td>\n",
       "      <td>...</td>\n",
       "      <td>...</td>\n",
       "    </tr>\n",
       "    <tr>\n",
       "      <th>1795</th>\n",
       "      <td>0.949468</td>\n",
       "      <td>5006</td>\n",
       "      <td>2019-04-29</td>\n",
       "    </tr>\n",
       "    <tr>\n",
       "      <th>1796</th>\n",
       "      <td>0.253523</td>\n",
       "      <td>5002</td>\n",
       "      <td>2019-12-09</td>\n",
       "    </tr>\n",
       "    <tr>\n",
       "      <th>1797</th>\n",
       "      <td>1.320904</td>\n",
       "      <td>5008</td>\n",
       "      <td>2019-11-06</td>\n",
       "    </tr>\n",
       "    <tr>\n",
       "      <th>1798</th>\n",
       "      <td>-0.573110</td>\n",
       "      <td>5007</td>\n",
       "      <td>2019-08-06</td>\n",
       "    </tr>\n",
       "    <tr>\n",
       "      <th>1799</th>\n",
       "      <td>1.651496</td>\n",
       "      <td>5009</td>\n",
       "      <td>2019-09-06</td>\n",
       "    </tr>\n",
       "  </tbody>\n",
       "</table>\n",
       "<p>1800 rows × 3 columns</p>\n",
       "</div>"
      ],
      "text/plain": [
       "      value_name2  user_id_name2  date_name2\n",
       "0       -0.325384           5009  2019-11-19\n",
       "1        2.378469           5003  2019-04-04\n",
       "2        0.402318           5008  2019-08-11\n",
       "3       -0.372035           5003  2019-04-21\n",
       "4        1.671733           5007  2019-12-21\n",
       "...           ...            ...         ...\n",
       "1795     0.949468           5006  2019-04-29\n",
       "1796     0.253523           5002  2019-12-09\n",
       "1797     1.320904           5008  2019-11-06\n",
       "1798    -0.573110           5007  2019-08-06\n",
       "1799     1.651496           5009  2019-09-06\n",
       "\n",
       "[1800 rows x 3 columns]"
      ]
     },
     "execution_count": 412,
     "metadata": {},
     "output_type": "execute_result"
    }
   ],
   "source": [
    "st.data_control"
   ]
  },
  {
   "cell_type": "code",
   "execution_count": 77,
   "metadata": {
    "ExecuteTime": {
     "end_time": "2021-06-25T03:14:52.197904Z",
     "start_time": "2021-06-25T03:14:52.180893Z"
    }
   },
   "outputs": [
    {
     "data": {
      "text/html": [
       "<div>\n",
       "<style scoped>\n",
       "    .dataframe tbody tr th:only-of-type {\n",
       "        vertical-align: middle;\n",
       "    }\n",
       "\n",
       "    .dataframe tbody tr th {\n",
       "        vertical-align: top;\n",
       "    }\n",
       "\n",
       "    .dataframe thead th {\n",
       "        text-align: right;\n",
       "    }\n",
       "</style>\n",
       "<table border=\"1\" class=\"dataframe\">\n",
       "  <thead>\n",
       "    <tr style=\"text-align: right;\">\n",
       "      <th></th>\n",
       "      <th>value_name2</th>\n",
       "      <th>user_id_name2</th>\n",
       "      <th>date_name2</th>\n",
       "    </tr>\n",
       "  </thead>\n",
       "  <tbody>\n",
       "    <tr>\n",
       "      <th>0</th>\n",
       "      <td>1.096702</td>\n",
       "      <td>5001</td>\n",
       "      <td>2019-09-30</td>\n",
       "    </tr>\n",
       "    <tr>\n",
       "      <th>1</th>\n",
       "      <td>2.264091</td>\n",
       "      <td>5005</td>\n",
       "      <td>2019-04-23</td>\n",
       "    </tr>\n",
       "    <tr>\n",
       "      <th>2</th>\n",
       "      <td>2.560656</td>\n",
       "      <td>5007</td>\n",
       "      <td>2019-05-27</td>\n",
       "    </tr>\n",
       "    <tr>\n",
       "      <th>3</th>\n",
       "      <td>1.376425</td>\n",
       "      <td>5007</td>\n",
       "      <td>2019-07-15</td>\n",
       "    </tr>\n",
       "    <tr>\n",
       "      <th>4</th>\n",
       "      <td>0.299960</td>\n",
       "      <td>5007</td>\n",
       "      <td>2019-12-09</td>\n",
       "    </tr>\n",
       "    <tr>\n",
       "      <th>5</th>\n",
       "      <td>1.596593</td>\n",
       "      <td>5001</td>\n",
       "      <td>2019-08-04</td>\n",
       "    </tr>\n",
       "    <tr>\n",
       "      <th>6</th>\n",
       "      <td>-0.415550</td>\n",
       "      <td>5004</td>\n",
       "      <td>2019-05-10</td>\n",
       "    </tr>\n",
       "    <tr>\n",
       "      <th>7</th>\n",
       "      <td>-1.053034</td>\n",
       "      <td>5002</td>\n",
       "      <td>2019-11-11</td>\n",
       "    </tr>\n",
       "    <tr>\n",
       "      <th>8</th>\n",
       "      <td>0.152390</td>\n",
       "      <td>5004</td>\n",
       "      <td>2019-09-26</td>\n",
       "    </tr>\n",
       "    <tr>\n",
       "      <th>9</th>\n",
       "      <td>1.820766</td>\n",
       "      <td>5002</td>\n",
       "      <td>2019-11-21</td>\n",
       "    </tr>\n",
       "    <tr>\n",
       "      <th>10</th>\n",
       "      <td>2.336503</td>\n",
       "      <td>5007</td>\n",
       "      <td>2019-08-29</td>\n",
       "    </tr>\n",
       "    <tr>\n",
       "      <th>11</th>\n",
       "      <td>2.187776</td>\n",
       "      <td>5004</td>\n",
       "      <td>2019-11-18</td>\n",
       "    </tr>\n",
       "    <tr>\n",
       "      <th>12</th>\n",
       "      <td>1.015664</td>\n",
       "      <td>5008</td>\n",
       "      <td>2019-02-06</td>\n",
       "    </tr>\n",
       "    <tr>\n",
       "      <th>13</th>\n",
       "      <td>1.422624</td>\n",
       "      <td>5008</td>\n",
       "      <td>2019-12-16</td>\n",
       "    </tr>\n",
       "    <tr>\n",
       "      <th>14</th>\n",
       "      <td>1.408307</td>\n",
       "      <td>5007</td>\n",
       "      <td>2019-11-15</td>\n",
       "    </tr>\n",
       "    <tr>\n",
       "      <th>15</th>\n",
       "      <td>1.121833</td>\n",
       "      <td>5002</td>\n",
       "      <td>2019-01-10</td>\n",
       "    </tr>\n",
       "    <tr>\n",
       "      <th>16</th>\n",
       "      <td>-0.809351</td>\n",
       "      <td>5009</td>\n",
       "      <td>2019-10-22</td>\n",
       "    </tr>\n",
       "    <tr>\n",
       "      <th>17</th>\n",
       "      <td>1.072217</td>\n",
       "      <td>5001</td>\n",
       "      <td>2019-07-21</td>\n",
       "    </tr>\n",
       "    <tr>\n",
       "      <th>18</th>\n",
       "      <td>-0.015498</td>\n",
       "      <td>5003</td>\n",
       "      <td>2019-11-10</td>\n",
       "    </tr>\n",
       "    <tr>\n",
       "      <th>19</th>\n",
       "      <td>1.143548</td>\n",
       "      <td>5008</td>\n",
       "      <td>2019-07-17</td>\n",
       "    </tr>\n",
       "  </tbody>\n",
       "</table>\n",
       "</div>"
      ],
      "text/plain": [
       "    value_name2  user_id_name2  date_name2\n",
       "0      1.096702           5001  2019-09-30\n",
       "1      2.264091           5005  2019-04-23\n",
       "2      2.560656           5007  2019-05-27\n",
       "3      1.376425           5007  2019-07-15\n",
       "4      0.299960           5007  2019-12-09\n",
       "5      1.596593           5001  2019-08-04\n",
       "6     -0.415550           5004  2019-05-10\n",
       "7     -1.053034           5002  2019-11-11\n",
       "8      0.152390           5004  2019-09-26\n",
       "9      1.820766           5002  2019-11-21\n",
       "10     2.336503           5007  2019-08-29\n",
       "11     2.187776           5004  2019-11-18\n",
       "12     1.015664           5008  2019-02-06\n",
       "13     1.422624           5008  2019-12-16\n",
       "14     1.408307           5007  2019-11-15\n",
       "15     1.121833           5002  2019-01-10\n",
       "16    -0.809351           5009  2019-10-22\n",
       "17     1.072217           5001  2019-07-21\n",
       "18    -0.015498           5003  2019-11-10\n",
       "19     1.143548           5008  2019-07-17"
      ]
     },
     "execution_count": 77,
     "metadata": {},
     "output_type": "execute_result"
    }
   ],
   "source": [
    "df"
   ]
  },
  {
   "cell_type": "code",
   "execution_count": 100,
   "metadata": {
    "ExecuteTime": {
     "end_time": "2021-06-25T03:23:02.526483Z",
     "start_time": "2021-06-25T03:23:02.509468Z"
    }
   },
   "outputs": [
    {
     "data": {
      "text/html": [
       "<div>\n",
       "<style scoped>\n",
       "    .dataframe tbody tr th:only-of-type {\n",
       "        vertical-align: middle;\n",
       "    }\n",
       "\n",
       "    .dataframe tbody tr th {\n",
       "        vertical-align: top;\n",
       "    }\n",
       "\n",
       "    .dataframe thead th {\n",
       "        text-align: right;\n",
       "    }\n",
       "</style>\n",
       "<table border=\"1\" class=\"dataframe\">\n",
       "  <thead>\n",
       "    <tr style=\"text-align: right;\">\n",
       "      <th></th>\n",
       "      <th>value_name2</th>\n",
       "      <th>user_id_name2</th>\n",
       "      <th>date_name2</th>\n",
       "    </tr>\n",
       "  </thead>\n",
       "  <tbody>\n",
       "    <tr>\n",
       "      <th>0</th>\n",
       "      <td>1.830058</td>\n",
       "      <td>5007</td>\n",
       "      <td>2019-01-04</td>\n",
       "    </tr>\n",
       "    <tr>\n",
       "      <th>1</th>\n",
       "      <td>1.213870</td>\n",
       "      <td>5008</td>\n",
       "      <td>2019-09-26</td>\n",
       "    </tr>\n",
       "    <tr>\n",
       "      <th>2</th>\n",
       "      <td>-0.202773</td>\n",
       "      <td>5001</td>\n",
       "      <td>2019-03-10</td>\n",
       "    </tr>\n",
       "    <tr>\n",
       "      <th>3</th>\n",
       "      <td>0.715600</td>\n",
       "      <td>5009</td>\n",
       "      <td>2019-10-03</td>\n",
       "    </tr>\n",
       "    <tr>\n",
       "      <th>4</th>\n",
       "      <td>2.365647</td>\n",
       "      <td>5003</td>\n",
       "      <td>2019-09-22</td>\n",
       "    </tr>\n",
       "    <tr>\n",
       "      <th>...</th>\n",
       "      <td>...</td>\n",
       "      <td>...</td>\n",
       "      <td>...</td>\n",
       "    </tr>\n",
       "    <tr>\n",
       "      <th>395</th>\n",
       "      <td>-1.001600</td>\n",
       "      <td>5003</td>\n",
       "      <td>2019-05-09</td>\n",
       "    </tr>\n",
       "    <tr>\n",
       "      <th>396</th>\n",
       "      <td>1.054553</td>\n",
       "      <td>5005</td>\n",
       "      <td>2019-05-20</td>\n",
       "    </tr>\n",
       "    <tr>\n",
       "      <th>397</th>\n",
       "      <td>1.044445</td>\n",
       "      <td>5002</td>\n",
       "      <td>2019-10-18</td>\n",
       "    </tr>\n",
       "    <tr>\n",
       "      <th>398</th>\n",
       "      <td>0.693326</td>\n",
       "      <td>5006</td>\n",
       "      <td>2019-08-01</td>\n",
       "    </tr>\n",
       "    <tr>\n",
       "      <th>399</th>\n",
       "      <td>1.003829</td>\n",
       "      <td>5002</td>\n",
       "      <td>2019-05-18</td>\n",
       "    </tr>\n",
       "  </tbody>\n",
       "</table>\n",
       "<p>400 rows × 3 columns</p>\n",
       "</div>"
      ],
      "text/plain": [
       "     value_name2  user_id_name2  date_name2\n",
       "0       1.830058           5007  2019-01-04\n",
       "1       1.213870           5008  2019-09-26\n",
       "2      -0.202773           5001  2019-03-10\n",
       "3       0.715600           5009  2019-10-03\n",
       "4       2.365647           5003  2019-09-22\n",
       "..           ...            ...         ...\n",
       "395    -1.001600           5003  2019-05-09\n",
       "396     1.054553           5005  2019-05-20\n",
       "397     1.044445           5002  2019-10-18\n",
       "398     0.693326           5006  2019-08-01\n",
       "399     1.003829           5002  2019-05-18\n",
       "\n",
       "[400 rows x 3 columns]"
      ]
     },
     "execution_count": 100,
     "metadata": {},
     "output_type": "execute_result"
    }
   ],
   "source": [
    "st.data_control"
   ]
  },
  {
   "cell_type": "code",
   "execution_count": 101,
   "metadata": {
    "ExecuteTime": {
     "end_time": "2021-06-25T03:23:03.918177Z",
     "start_time": "2021-06-25T03:23:03.909170Z"
    }
   },
   "outputs": [
    {
     "data": {
      "text/html": [
       "<div>\n",
       "<style scoped>\n",
       "    .dataframe tbody tr th:only-of-type {\n",
       "        vertical-align: middle;\n",
       "    }\n",
       "\n",
       "    .dataframe tbody tr th {\n",
       "        vertical-align: top;\n",
       "    }\n",
       "\n",
       "    .dataframe thead th {\n",
       "        text-align: right;\n",
       "    }\n",
       "</style>\n",
       "<table border=\"1\" class=\"dataframe\">\n",
       "  <thead>\n",
       "    <tr style=\"text-align: right;\">\n",
       "      <th></th>\n",
       "      <th>value_name2</th>\n",
       "      <th>user_id_name2</th>\n",
       "      <th>date_name2</th>\n",
       "    </tr>\n",
       "  </thead>\n",
       "  <tbody>\n",
       "    <tr>\n",
       "      <th>0</th>\n",
       "      <td>1.670266</td>\n",
       "      <td>5008</td>\n",
       "      <td>2019-07-01</td>\n",
       "    </tr>\n",
       "    <tr>\n",
       "      <th>1</th>\n",
       "      <td>0.807260</td>\n",
       "      <td>5008</td>\n",
       "      <td>2019-08-31</td>\n",
       "    </tr>\n",
       "    <tr>\n",
       "      <th>2</th>\n",
       "      <td>-0.460852</td>\n",
       "      <td>5004</td>\n",
       "      <td>2019-12-07</td>\n",
       "    </tr>\n",
       "    <tr>\n",
       "      <th>3</th>\n",
       "      <td>1.310054</td>\n",
       "      <td>5003</td>\n",
       "      <td>2019-05-03</td>\n",
       "    </tr>\n",
       "    <tr>\n",
       "      <th>4</th>\n",
       "      <td>0.791168</td>\n",
       "      <td>5005</td>\n",
       "      <td>2019-10-16</td>\n",
       "    </tr>\n",
       "    <tr>\n",
       "      <th>...</th>\n",
       "      <td>...</td>\n",
       "      <td>...</td>\n",
       "      <td>...</td>\n",
       "    </tr>\n",
       "    <tr>\n",
       "      <th>395</th>\n",
       "      <td>0.579372</td>\n",
       "      <td>5003</td>\n",
       "      <td>2019-04-22</td>\n",
       "    </tr>\n",
       "    <tr>\n",
       "      <th>396</th>\n",
       "      <td>0.429116</td>\n",
       "      <td>5000</td>\n",
       "      <td>2019-12-18</td>\n",
       "    </tr>\n",
       "    <tr>\n",
       "      <th>397</th>\n",
       "      <td>0.557291</td>\n",
       "      <td>5000</td>\n",
       "      <td>2019-10-15</td>\n",
       "    </tr>\n",
       "    <tr>\n",
       "      <th>398</th>\n",
       "      <td>1.481414</td>\n",
       "      <td>5009</td>\n",
       "      <td>2019-09-08</td>\n",
       "    </tr>\n",
       "    <tr>\n",
       "      <th>399</th>\n",
       "      <td>2.213452</td>\n",
       "      <td>5005</td>\n",
       "      <td>2019-07-21</td>\n",
       "    </tr>\n",
       "  </tbody>\n",
       "</table>\n",
       "<p>400 rows × 3 columns</p>\n",
       "</div>"
      ],
      "text/plain": [
       "     value_name2  user_id_name2  date_name2\n",
       "0       1.670266           5008  2019-07-01\n",
       "1       0.807260           5008  2019-08-31\n",
       "2      -0.460852           5004  2019-12-07\n",
       "3       1.310054           5003  2019-05-03\n",
       "4       0.791168           5005  2019-10-16\n",
       "..           ...            ...         ...\n",
       "395     0.579372           5003  2019-04-22\n",
       "396     0.429116           5000  2019-12-18\n",
       "397     0.557291           5000  2019-10-15\n",
       "398     1.481414           5009  2019-09-08\n",
       "399     2.213452           5005  2019-07-21\n",
       "\n",
       "[400 rows x 3 columns]"
      ]
     },
     "execution_count": 101,
     "metadata": {},
     "output_type": "execute_result"
    }
   ],
   "source": [
    "st.data_pilot"
   ]
  },
  {
   "cell_type": "code",
   "execution_count": null,
   "metadata": {},
   "outputs": [],
   "source": []
  }
 ],
 "metadata": {
  "kernelspec": {
   "display_name": "Python 3 (ipykernel)",
   "language": "python",
   "name": "python3"
  },
  "language_info": {
   "codemirror_mode": {
    "name": "ipython",
    "version": 3
   },
   "file_extension": ".py",
   "mimetype": "text/x-python",
   "name": "python",
   "nbconvert_exporter": "python",
   "pygments_lexer": "ipython3",
   "version": "3.9.12"
  }
 },
 "nbformat": 4,
 "nbformat_minor": 4
}
