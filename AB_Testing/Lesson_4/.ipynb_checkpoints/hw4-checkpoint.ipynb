{
 "cells": [
  {
   "cell_type": "code",
   "execution_count": 398,
   "metadata": {
    "ExecuteTime": {
     "end_time": "2021-06-10T02:39:55.122721Z",
     "start_time": "2021-06-10T02:39:55.099922Z"
    }
   },
   "outputs": [],
   "source": [
    "import numpy as np\n",
    "import pandas as pd\n",
    "\n",
    "def select_stratified_groups(data, strat_columns, group_size, weights=None, seed=None):\n",
    "    \"\"\"Подбирает стратифицированные группы для эксперимента.\n",
    "\n",
    "    data - pd.DataFrame, датафрейм с описанием объектов, содержит атрибуты для стратификации.\n",
    "    strat_columns - List[str], список названий столбцов, по которым нужно стратифицировать.\n",
    "    group_size - int, размеры групп.\n",
    "    weights - dict, словарь весов страт {strat: weight}, где strat - tuple значений элементов страт,\n",
    "        например, для strat_columns=['os', 'gender', 'birth_year'] будет ('ios', 'man', 1992).\n",
    "        Если None, определить веса пропорционально доле страт в датафрейме data.\n",
    "    seed - int, исходное состояние генератора случайных чисел для воспроизводимости\n",
    "        результатов. Если None, то состояние генератора не устанавливается.\n",
    "\n",
    "    return (data_pilot, data_control) - два датафрейма того же формата что и data\n",
    "        c пилотной и контрольной группами.\n",
    "    \"\"\"\n",
    "    # YOUR_CODE_HERE\n",
    "    result = None\n",
    "    for strat_column in strat_columns:\n",
    "        if result is None:\n",
    "            result = data[strat_column].astype(str)\n",
    "        else:\n",
    "            result = result + '_' + data[strat_column].astype(str)\n",
    "    data['strat_key'] = result\n",
    "\n",
    "    if weights is None:\n",
    "        weights = data.strat_key.value_counts(normalize=True).to_dict()\n",
    "    else: \n",
    "        new_weights = {}\n",
    "        if isinstance(list(weights.keys())[0], tuple):\n",
    "            for weight in weights:\n",
    "                key = ''\n",
    "                for value in weight:\n",
    "                    key = f'{key}_{value}'\n",
    "                new_weights[key[1:]] = weights[weight]\n",
    "        else:\n",
    "            for weight in weights:\n",
    "                new_weights[str(weight)] = weights[weight]\n",
    "        weights = new_weights\n",
    "    \n",
    "    weights = dict(sorted(weights.items(), key=lambda item: item[1]))\n",
    "    \n",
    "    strat_names = list(weights.keys())\n",
    "    weight_values = np.array(list(weights.values()))\n",
    "    print(f'strat_names: {strat_names}')\n",
    "    print(f'weight_values: {weight_values}')\n",
    "    #stratum_sizes = (np.ceil(weight_values * group_size) * 2).astype(int)\n",
    "    stratum_sizes = (np.ceil(weight_values * group_size)).astype(int)\n",
    "    print(f'stratum_sizes: {stratum_sizes}')\n",
    "    delta = group_size - np.sum(stratum_sizes)\n",
    "    \n",
    "    \n",
    "    print(f'delta: {delta}')\n",
    "    extra_deltas = delta * weight_values\n",
    "    print(f'extra_deltas: {extra_deltas}')\n",
    "    extra_deltas_copy = extra_deltas.copy()\n",
    "\n",
    "    for i in range(len(extra_deltas)):\n",
    "        extra_deltas_copy = extra_deltas.copy()\n",
    "        extra_deltas_copy[:i] = np.floor(extra_deltas_copy[:i])\n",
    "        extra_deltas_copy[i:] = np.ceil(extra_deltas_copy[i:])\n",
    "        print(f'extra_deltas_copy sum: {extra_deltas_copy.sum()}')\n",
    "        if int(extra_deltas_copy.sum()) == delta:\n",
    "            break\n",
    "            \n",
    "    print(f'stratum_sizes: {stratum_sizes}; extra_deltas_copy: {extra_deltas_copy}')\n",
    "    stratum_sizes += extra_deltas_copy.astype(int)\n",
    "    print(f'stratum_sizes new: {stratum_sizes}')\n",
    "    \n",
    "#     print(f'delta: {delta}')\n",
    "#     extra_term = weight_values / np.sum(weight_values)\n",
    "#     deltas = np.floor(delta * weight_values + extra_term).astype(int)\n",
    "#     delta -= np.sum(deltas)\n",
    "#     while delta > 1:\n",
    "#         print(f'\\ndelta: {delta}; deltas: {deltas}')\n",
    "#         extra_deltas = np.floor(delta * weight_values + extra_term).astype(int)\n",
    "#         print(f'extra_deltas: {extra_deltas}')\n",
    "#         deltas += extra_deltas\n",
    "#         delta -= np.sum(extra_deltas)\n",
    "#     print(f'Adding {delta} to the final category')\n",
    "#     deltas[-1] += delta\n",
    "#     print(f'FINAL: delta: {delta}; deltas: {deltas}; total deltas: {np.sum(deltas)}')\n",
    "#     print(f'stratum_sizes: old: {stratum_sizes}; new: {stratum_sizes+deltas}')\n",
    "#     stratum_sizes+=deltas\n",
    "    \n",
    "    pilot = pd.DataFrame()\n",
    "    control = pd.DataFrame()\n",
    "    sizes_count = 0\n",
    "    for i, k in enumerate(weights):\n",
    "        strat_size_both = stratum_sizes[i] * 2#2 * np.ceil(group_size * weights[k]).astype(int)\n",
    "        sizes_count += strat_size_both\n",
    "        if i == len(weights)-1 and sizes_count != group_size * 2:\n",
    "            print(f'Updating original strat_size_both of {strat_size_both}')\n",
    "            strat_size_both += group_size * 2 - sizes_count\n",
    "        sub_df = data[data['strat_key'] == k]\n",
    "        sample = sub_df.sample(n=int(strat_size_both), random_state=seed)\n",
    "        print(f'sample shape for stratum {k}: {sample.shape}')\n",
    "        pilot = pd.concat((pilot, sample.iloc[:len(sample) // 2]), ignore_index=True)\n",
    "        control = pd.concat((control, sample.iloc[len(sample) // 2:]), ignore_index=True)\n",
    "        \n",
    "    data.drop(columns=['strat_key'], inplace=True)\n",
    "    pilot.drop(columns=['strat_key'], inplace=True)\n",
    "    control.drop(columns=['strat_key'], inplace=True)\n",
    "    \n",
    "    return (pilot, control)"
   ]
  },
  {
   "cell_type": "code",
   "execution_count": null,
   "metadata": {},
   "outputs": [],
   "source": [
    "    \n",
    "#     # in data not in pilot\n",
    "#     pilot_control = pd.concat((pilot, control), axis=0).reset_index(drop=True)\n",
    "#     print(f'pilot_control shape: {pilot_control.shape}')\n",
    "#     col_names = ['df1_' + i + '_df2_' + j for i, j in zip(data, pilot_control)]\n",
    "#     data.columns = col_names\n",
    "#     pilot_control.columns = col_names\n",
    "#     data_not_pc = pd.concat([pilot_control, data, data], sort=False).drop_duplicates(keep=False)\n",
    "#     print(f'data_not_pc shape: {data_not_pc.shape}')"
   ]
  },
  {
   "cell_type": "code",
   "execution_count": 80,
   "metadata": {
    "ExecuteTime": {
     "end_time": "2021-06-09T03:39:10.155586Z",
     "start_time": "2021-06-09T03:39:10.133587Z"
    }
   },
   "outputs": [
    {
     "data": {
      "text/html": [
       "<div>\n",
       "<style scoped>\n",
       "    .dataframe tbody tr th:only-of-type {\n",
       "        vertical-align: middle;\n",
       "    }\n",
       "\n",
       "    .dataframe tbody tr th {\n",
       "        vertical-align: top;\n",
       "    }\n",
       "\n",
       "    .dataframe thead th {\n",
       "        text-align: right;\n",
       "    }\n",
       "</style>\n",
       "<table border=\"1\" class=\"dataframe\">\n",
       "  <thead>\n",
       "    <tr style=\"text-align: right;\">\n",
       "      <th></th>\n",
       "      <th>c0</th>\n",
       "      <th>c1</th>\n",
       "      <th>c2</th>\n",
       "      <th>c3</th>\n",
       "    </tr>\n",
       "  </thead>\n",
       "  <tbody>\n",
       "    <tr>\n",
       "      <th>0</th>\n",
       "      <td>w</td>\n",
       "      <td>b</td>\n",
       "      <td>e</td>\n",
       "      <td>r</td>\n",
       "    </tr>\n",
       "    <tr>\n",
       "      <th>1</th>\n",
       "      <td>w</td>\n",
       "      <td>b</td>\n",
       "      <td>d</td>\n",
       "      <td>y</td>\n",
       "    </tr>\n",
       "    <tr>\n",
       "      <th>2</th>\n",
       "      <td>w</td>\n",
       "      <td>a</td>\n",
       "      <td>e</td>\n",
       "      <td>y</td>\n",
       "    </tr>\n",
       "    <tr>\n",
       "      <th>3</th>\n",
       "      <td>w</td>\n",
       "      <td>a</td>\n",
       "      <td>e</td>\n",
       "      <td>r</td>\n",
       "    </tr>\n",
       "    <tr>\n",
       "      <th>4</th>\n",
       "      <td>w</td>\n",
       "      <td>b</td>\n",
       "      <td>d</td>\n",
       "      <td>y</td>\n",
       "    </tr>\n",
       "    <tr>\n",
       "      <th>...</th>\n",
       "      <td>...</td>\n",
       "      <td>...</td>\n",
       "      <td>...</td>\n",
       "      <td>...</td>\n",
       "    </tr>\n",
       "    <tr>\n",
       "      <th>994</th>\n",
       "      <td>w</td>\n",
       "      <td>b</td>\n",
       "      <td>d</td>\n",
       "      <td>t</td>\n",
       "    </tr>\n",
       "    <tr>\n",
       "      <th>995</th>\n",
       "      <td>w</td>\n",
       "      <td>b</td>\n",
       "      <td>d</td>\n",
       "      <td>t</td>\n",
       "    </tr>\n",
       "    <tr>\n",
       "      <th>996</th>\n",
       "      <td>w</td>\n",
       "      <td>b</td>\n",
       "      <td>d</td>\n",
       "      <td>y</td>\n",
       "    </tr>\n",
       "    <tr>\n",
       "      <th>997</th>\n",
       "      <td>q</td>\n",
       "      <td>a</td>\n",
       "      <td>d</td>\n",
       "      <td>r</td>\n",
       "    </tr>\n",
       "    <tr>\n",
       "      <th>998</th>\n",
       "      <td>w</td>\n",
       "      <td>a</td>\n",
       "      <td>d</td>\n",
       "      <td>r</td>\n",
       "    </tr>\n",
       "  </tbody>\n",
       "</table>\n",
       "<p>999 rows × 4 columns</p>\n",
       "</div>"
      ],
      "text/plain": [
       "    c0 c1 c2 c3\n",
       "0    w  b  e  r\n",
       "1    w  b  d  y\n",
       "2    w  a  e  y\n",
       "3    w  a  e  r\n",
       "4    w  b  d  y\n",
       "..  .. .. .. ..\n",
       "994  w  b  d  t\n",
       "995  w  b  d  t\n",
       "996  w  b  d  y\n",
       "997  q  a  d  r\n",
       "998  w  a  d  r\n",
       "\n",
       "[999 rows x 4 columns]"
      ]
     },
     "execution_count": 80,
     "metadata": {},
     "output_type": "execute_result"
    }
   ],
   "source": [
    "size = 999\n",
    "strat_columns2 = ['c1', 'c2']\n",
    "df2 = pd.DataFrame({'c0': np.random.choice(['q', 'w'], replace=True, size=size), \n",
    "    'c1': np.random.choice(['a', 'b'], replace=True, size=size), \n",
    "                   'c2': np.random.choice(['d', 'e'], replace=True, size=size),\n",
    "                   'c3': np.random.choice(['r', 't', 'y'], replace=True, size=size)\n",
    "                  })\n",
    "df2"
   ]
  },
  {
   "cell_type": "code",
   "execution_count": 118,
   "metadata": {
    "ExecuteTime": {
     "end_time": "2021-06-10T01:28:43.798867Z",
     "start_time": "2021-06-10T01:28:43.792867Z"
    }
   },
   "outputs": [
    {
     "data": {
      "text/plain": [
       "a    0.547445\n",
       "b    0.452555\n",
       "Name: c0, dtype: float64"
      ]
     },
     "execution_count": 118,
     "metadata": {},
     "output_type": "execute_result"
    }
   ],
   "source": [
    "df2['c0'].value_counts() / df2['c0'].count()"
   ]
  },
  {
   "cell_type": "code",
   "execution_count": 119,
   "metadata": {
    "ExecuteTime": {
     "end_time": "2021-06-10T01:28:52.983136Z",
     "start_time": "2021-06-10T01:28:52.973135Z"
    }
   },
   "outputs": [
    {
     "data": {
      "text/plain": [
       "a    0.547445\n",
       "b    0.452555\n",
       "Name: c0, dtype: float64"
      ]
     },
     "execution_count": 119,
     "metadata": {},
     "output_type": "execute_result"
    }
   ],
   "source": [
    "df2['c0'].value_counts(normalize=True)"
   ]
  },
  {
   "cell_type": "code",
   "execution_count": 161,
   "metadata": {
    "ExecuteTime": {
     "end_time": "2021-06-09T06:02:06.986736Z",
     "start_time": "2021-06-09T06:02:06.975736Z"
    }
   },
   "outputs": [
    {
     "data": {
      "text/html": [
       "<div>\n",
       "<style scoped>\n",
       "    .dataframe tbody tr th:only-of-type {\n",
       "        vertical-align: middle;\n",
       "    }\n",
       "\n",
       "    .dataframe tbody tr th {\n",
       "        vertical-align: top;\n",
       "    }\n",
       "\n",
       "    .dataframe thead th {\n",
       "        text-align: right;\n",
       "    }\n",
       "</style>\n",
       "<table border=\"1\" class=\"dataframe\">\n",
       "  <thead>\n",
       "    <tr style=\"text-align: right;\">\n",
       "      <th></th>\n",
       "      <th>c0</th>\n",
       "      <th>c1</th>\n",
       "      <th>c11</th>\n",
       "      <th>c2</th>\n",
       "      <th>5</th>\n",
       "    </tr>\n",
       "  </thead>\n",
       "  <tbody>\n",
       "    <tr>\n",
       "      <th>0</th>\n",
       "      <td>b</td>\n",
       "      <td>2</td>\n",
       "      <td>0</td>\n",
       "      <td>e</td>\n",
       "      <td>t</td>\n",
       "    </tr>\n",
       "    <tr>\n",
       "      <th>1</th>\n",
       "      <td>a</td>\n",
       "      <td>2</td>\n",
       "      <td>1</td>\n",
       "      <td>e</td>\n",
       "      <td>t</td>\n",
       "    </tr>\n",
       "    <tr>\n",
       "      <th>2</th>\n",
       "      <td>a</td>\n",
       "      <td>1</td>\n",
       "      <td>2</td>\n",
       "      <td>e</td>\n",
       "      <td>t</td>\n",
       "    </tr>\n",
       "    <tr>\n",
       "      <th>3</th>\n",
       "      <td>a</td>\n",
       "      <td>2</td>\n",
       "      <td>3</td>\n",
       "      <td>e</td>\n",
       "      <td>t</td>\n",
       "    </tr>\n",
       "    <tr>\n",
       "      <th>4</th>\n",
       "      <td>b</td>\n",
       "      <td>2</td>\n",
       "      <td>4</td>\n",
       "      <td>e</td>\n",
       "      <td>r</td>\n",
       "    </tr>\n",
       "    <tr>\n",
       "      <th>...</th>\n",
       "      <td>...</td>\n",
       "      <td>...</td>\n",
       "      <td>...</td>\n",
       "      <td>...</td>\n",
       "      <td>...</td>\n",
       "    </tr>\n",
       "    <tr>\n",
       "      <th>994</th>\n",
       "      <td>b</td>\n",
       "      <td>1</td>\n",
       "      <td>994</td>\n",
       "      <td>e</td>\n",
       "      <td>r</td>\n",
       "    </tr>\n",
       "    <tr>\n",
       "      <th>995</th>\n",
       "      <td>b</td>\n",
       "      <td>1</td>\n",
       "      <td>995</td>\n",
       "      <td>e</td>\n",
       "      <td>t</td>\n",
       "    </tr>\n",
       "    <tr>\n",
       "      <th>996</th>\n",
       "      <td>b</td>\n",
       "      <td>2</td>\n",
       "      <td>996</td>\n",
       "      <td>d</td>\n",
       "      <td>t</td>\n",
       "    </tr>\n",
       "    <tr>\n",
       "      <th>997</th>\n",
       "      <td>a</td>\n",
       "      <td>1</td>\n",
       "      <td>997</td>\n",
       "      <td>e</td>\n",
       "      <td>t</td>\n",
       "    </tr>\n",
       "    <tr>\n",
       "      <th>998</th>\n",
       "      <td>b</td>\n",
       "      <td>1</td>\n",
       "      <td>998</td>\n",
       "      <td>d</td>\n",
       "      <td>t</td>\n",
       "    </tr>\n",
       "  </tbody>\n",
       "</table>\n",
       "<p>999 rows × 5 columns</p>\n",
       "</div>"
      ],
      "text/plain": [
       "    c0  c1  c11 c2  5\n",
       "0    b   2    0  e  t\n",
       "1    a   2    1  e  t\n",
       "2    a   1    2  e  t\n",
       "3    a   2    3  e  t\n",
       "4    b   2    4  e  r\n",
       "..  ..  ..  ... .. ..\n",
       "994  b   1  994  e  r\n",
       "995  b   1  995  e  t\n",
       "996  b   2  996  d  t\n",
       "997  a   1  997  e  t\n",
       "998  b   1  998  d  t\n",
       "\n",
       "[999 rows x 5 columns]"
      ]
     },
     "execution_count": 161,
     "metadata": {},
     "output_type": "execute_result"
    }
   ],
   "source": [
    "df2.astype(df2.dtypes.to_dict())"
   ]
  },
  {
   "cell_type": "code",
   "execution_count": 324,
   "metadata": {
    "ExecuteTime": {
     "end_time": "2021-06-10T02:12:39.095395Z",
     "start_time": "2021-06-10T02:12:39.086398Z"
    }
   },
   "outputs": [],
   "source": [
    "np.random.seed(None)\n",
    "size = 10001\n",
    "strat_columns2 = ['c1', 'c2']\n",
    "df2 = pd.DataFrame({'c0': np.random.choice(['a', 'b'], replace=True, size=size),\n",
    "                    'c1': np.random.choice([1,2], replace=True, size=size),\n",
    "                    'c11': np.arange(size),\n",
    "                    'c2': np.random.choice(['d', 'e'], replace=True, size=size),\n",
    "                    5: np.random.choice(['r', 't'], replace=True, size=size)\n",
    "                    })\n",
    "\n",
    "df2.loc[np.random.randint(0, len(df2), size=size//10), 'c0'] = 'a'\n",
    "df2.loc[np.random.randint(0, len(df2), size=size//10), 'c2'] = 'e'"
   ]
  },
  {
   "cell_type": "code",
   "execution_count": 157,
   "metadata": {
    "ExecuteTime": {
     "end_time": "2021-06-10T01:46:14.501512Z",
     "start_time": "2021-06-10T01:46:14.489136Z"
    }
   },
   "outputs": [],
   "source": []
  },
  {
   "cell_type": "code",
   "execution_count": 345,
   "metadata": {
    "ExecuteTime": {
     "end_time": "2021-06-10T02:19:34.472185Z",
     "start_time": "2021-06-10T02:19:34.453187Z"
    }
   },
   "outputs": [
    {
     "data": {
      "text/plain": [
       "c0  c2\n",
       "a   d     0.243976\n",
       "    e     0.303770\n",
       "b   d     0.203880\n",
       "    e     0.248375\n",
       "Name: c0, dtype: float64"
      ]
     },
     "execution_count": 345,
     "metadata": {},
     "output_type": "execute_result"
    }
   ],
   "source": [
    "df2.groupby(['c0', 'c2'])['c0'].count() / size"
   ]
  },
  {
   "cell_type": "code",
   "execution_count": 343,
   "metadata": {
    "ExecuteTime": {
     "end_time": "2021-06-10T02:19:27.646033Z",
     "start_time": "2021-06-10T02:19:27.637525Z"
    }
   },
   "outputs": [],
   "source": [
    "# weights = []\n",
    "# num_weights = 4\n",
    "# cumsum = 1\n",
    "# for i in range(num_weights-1):\n",
    "#     w = round(np.random.uniform(0, cumsum),2)\n",
    "#     cumsum -= w\n",
    "#     weights.append(w)\n",
    "# weights.append(round(1 - np.sum(weights), 2))\n",
    "# weights = sorted(weights)\n",
    "# weights = np.array(weights)\n",
    "# print(weights, np.sum(weights))"
   ]
  },
  {
   "cell_type": "code",
   "execution_count": 344,
   "metadata": {
    "ExecuteTime": {
     "end_time": "2021-06-10T02:19:29.678036Z",
     "start_time": "2021-06-10T02:19:29.669524Z"
    }
   },
   "outputs": [],
   "source": [
    "# delta = 5\n",
    "\n",
    "# deltas = np.floor(delta * weights + 0.5).astype(int)\n",
    "# delta -= np.sum(deltas)\n",
    "# while delta > 1:\n",
    "#     print(f'\\ndelta: {delta}; deltas: {deltas}')\n",
    "#     extra_deltas = np.floor(delta * weights + 0.5).astype(int)\n",
    "#     print(f'extra_deltas: {extra_deltas}')\n",
    "#     deltas += extra_deltas\n",
    "#     delta -= np.sum(extra_deltas)\n",
    "# print(f'Adding {delta} to the final category')\n",
    "# deltas[-1] += delta\n",
    "# print(f'FINAL: delta: {delta}; deltas: {deltas}; total deltas: {np.sum(deltas)}')"
   ]
  },
  {
   "cell_type": "code",
   "execution_count": 399,
   "metadata": {
    "ExecuteTime": {
     "end_time": "2021-06-10T02:39:59.066144Z",
     "start_time": "2021-06-10T02:39:58.955724Z"
    }
   },
   "outputs": [
    {
     "name": "stdout",
     "output_type": "stream",
     "text": [
      "strat_names: ['a_e', 'b_e', 'a_d', 'b_d']\n",
      "weight_values: [0.13 0.22 0.29 0.34]\n",
      "stratum_sizes: [ 39  66  87 103]\n",
      "delta: 5\n",
      "extra_deltas: [0.65 1.1  1.45 1.7 ]\n",
      "extra_deltas_copy sum: 7.0\n",
      "extra_deltas_copy sum: 6.0\n",
      "extra_deltas_copy sum: 5.0\n",
      "stratum_sizes: [ 39  66  87 103]; extra_deltas_copy: [0. 1. 2. 2.]\n",
      "stratum_sizes new: [ 40  67  88 105]\n",
      "sample shape for stratum a_e: (80, 6)\n",
      "sample shape for stratum b_e: (134, 6)\n",
      "sample shape for stratum a_d: (176, 6)\n",
      "sample shape for stratum b_d: (210, 6)\n",
      "p shape: (300, 5)\n",
      "  c0  c1    c11 c2  5\n",
      "0  a   1  63662  e  r\n",
      "1  a   1  22738  e  r\n",
      "2  a   1   8837  e  t\n",
      "3  a   2  70267  e  r\n",
      "4  a   2  99309  e  r\n"
     ]
    },
    {
     "data": {
      "text/plain": [
       "b_d    0.350000\n",
       "a_d    0.293333\n",
       "b_e    0.223333\n",
       "a_e    0.133333\n",
       "Name: strat_key, dtype: float64"
      ]
     },
     "execution_count": 399,
     "metadata": {},
     "output_type": "execute_result"
    }
   ],
   "source": [
    "np.random.seed(1)\n",
    "size = 100001\n",
    "strat_columns2 = ['c1', 'c2']\n",
    "df2 = pd.DataFrame({'c0': np.random.choice(['a', 'b'], replace=True, size=size),\n",
    "                    'c1': np.random.choice([1,2], replace=True, size=size),\n",
    "                    'c11': np.arange(size),\n",
    "                    'c2': np.random.choice(['d', 'e'], replace=True, size=size),\n",
    "                    5: np.random.choice(['r', 't'], replace=True, size=size)\n",
    "                    })\n",
    "\n",
    "df2.loc[np.random.randint(0, len(df2), size=size//10), 'c0'] = 'a'\n",
    "df2.loc[np.random.randint(0, len(df2), size=size//10), 'c2'] = 'e'\n",
    "\n",
    "\n",
    "p, c = select_stratified_groups(data=df2, strat_columns=['c0', 'c2'], group_size=300\n",
    "                                ,weights={('a', 'e'): 0.13, ('a', 'd'): 0.29, ('b', 'e'): 0.22, ('b', 'd'): 0.34}\n",
    "                                ,seed=1)\n",
    "\n",
    "# p, c = select_stratified_groups(data=df2.copy(), strat_columns=['c0', 'c2'], group_size=100, \n",
    "#                                 weights=None, \n",
    "#                                 seed=1)\n",
    "print(f'p shape: {p.shape}')\n",
    "print(p.head())\n",
    "p['strat_key'] = p.c0.astype(str) + '_' + p.c2.astype(str)\n",
    "p.strat_key.value_counts(normalize=True)"
   ]
  },
  {
   "cell_type": "code",
   "execution_count": 396,
   "metadata": {
    "ExecuteTime": {
     "end_time": "2021-06-10T02:39:00.449505Z",
     "start_time": "2021-06-10T02:39:00.442536Z"
    }
   },
   "outputs": [
    {
     "data": {
      "text/plain": [
       "0.006666666666666667"
      ]
     },
     "execution_count": 396,
     "metadata": {},
     "output_type": "execute_result"
    }
   ],
   "source": [
    "2 / 300"
   ]
  },
  {
   "cell_type": "code",
   "execution_count": 381,
   "metadata": {
    "ExecuteTime": {
     "end_time": "2021-06-10T02:34:10.631496Z",
     "start_time": "2021-06-10T02:34:10.619498Z"
    }
   },
   "outputs": [
    {
     "name": "stdout",
     "output_type": "stream",
     "text": [
      "delta: 17\n",
      "extra_deltas: [2.21 3.74 4.93 5.78]\n",
      "extra_deltas_copy sum: 18.0\n",
      "extra_deltas_copy sum: 17.0\n"
     ]
    }
   ],
   "source": [
    "group_size=115\n",
    "stratum_sizes = np.array([[13, 22, 29, 34]])\n",
    "weights = np.array([0.13, 0.22, 0.29, 0.34])\n",
    "\n",
    "delta = group_size - stratum_sizes.sum()\n",
    "print(f'delta: {delta}')\n",
    "extra_deltas = delta * weights\n",
    "print(f'extra_deltas: {extra_deltas}')\n",
    "extra_deltas_copy = extra_deltas.copy()\n",
    "\n",
    "for i in range(len(extra_deltas)):\n",
    "    extra_deltas_copy = extra_deltas.copy()\n",
    "    extra_deltas_copy[:i] = np.floor(extra_deltas_copy[:i])\n",
    "    extra_deltas_copy[i:] = np.ceil(extra_deltas_copy[i:])\n",
    "    print(f'extra_deltas_copy sum: {extra_deltas_copy.sum()}')\n",
    "    if int(extra_deltas_copy.sum()) == delta:\n",
    "        break\n",
    "\n",
    "# next_int_distance = np.ceil(extra_deltas_copy) - extra_deltas_copy\n",
    "# print(f'next_int_distance: {next_int_distance}')"
   ]
  },
  {
   "cell_type": "code",
   "execution_count": 382,
   "metadata": {
    "ExecuteTime": {
     "end_time": "2021-06-10T02:34:11.020064Z",
     "start_time": "2021-06-10T02:34:11.011063Z"
    }
   },
   "outputs": [
    {
     "data": {
      "text/plain": [
       "array([2., 4., 5., 6.])"
      ]
     },
     "execution_count": 382,
     "metadata": {},
     "output_type": "execute_result"
    }
   ],
   "source": [
    "extra_deltas_copy"
   ]
  },
  {
   "cell_type": "code",
   "execution_count": 366,
   "metadata": {
    "ExecuteTime": {
     "end_time": "2021-06-10T02:26:52.827521Z",
     "start_time": "2021-06-10T02:26:52.819548Z"
    }
   },
   "outputs": [
    {
     "data": {
      "text/plain": [
       "2.5"
      ]
     },
     "execution_count": 366,
     "metadata": {},
     "output_type": "execute_result"
    }
   ],
   "source": [
    "10 * 0.25"
   ]
  },
  {
   "cell_type": "code",
   "execution_count": 350,
   "metadata": {
    "ExecuteTime": {
     "end_time": "2021-06-10T02:20:35.306992Z",
     "start_time": "2021-06-10T02:20:35.294019Z"
    }
   },
   "outputs": [
    {
     "data": {
      "text/plain": [
       "0.006666666666666667"
      ]
     },
     "execution_count": 350,
     "metadata": {},
     "output_type": "execute_result"
    }
   ],
   "source": [
    "2 / 300"
   ]
  },
  {
   "cell_type": "code",
   "execution_count": 337,
   "metadata": {
    "ExecuteTime": {
     "end_time": "2021-06-10T02:17:20.054213Z",
     "start_time": "2021-06-10T02:17:20.045704Z"
    }
   },
   "outputs": [
    {
     "data": {
      "text/plain": [
       "300"
      ]
     },
     "execution_count": 337,
     "metadata": {},
     "output_type": "execute_result"
    }
   ],
   "source": [
    "np.sum([ 40,  67,  88 ,105])"
   ]
  },
  {
   "cell_type": "code",
   "execution_count": 342,
   "metadata": {
    "ExecuteTime": {
     "end_time": "2021-06-10T02:19:14.910667Z",
     "start_time": "2021-06-10T02:19:14.901663Z"
    }
   },
   "outputs": [
    {
     "name": "stdout",
     "output_type": "stream",
     "text": [
      "c shape: (300, 5)\n",
      "  c0  c1   c11 c2  5\n",
      "0  b   2  9263  d  t\n",
      "1  b   1  9196  d  r\n",
      "2  b   1  7625  d  t\n",
      "3  b   1  1021  d  r\n",
      "4  b   2  3616  d  t\n"
     ]
    },
    {
     "data": {
      "text/plain": [
       "a_e    0.306667\n",
       "b_e    0.246667\n",
       "a_d    0.243333\n",
       "b_d    0.203333\n",
       "Name: strat_key, dtype: float64"
      ]
     },
     "execution_count": 342,
     "metadata": {},
     "output_type": "execute_result"
    }
   ],
   "source": [
    "print(f'c shape: {c.shape}')\n",
    "print(c.head())\n",
    "c['strat_key'] = c.c0.astype(str) + '_' + c.c2.astype(str)\n",
    "c.strat_key.value_counts(normalize=True)"
   ]
  },
  {
   "cell_type": "code",
   "execution_count": 9,
   "metadata": {
    "ExecuteTime": {
     "end_time": "2021-06-10T00:36:36.848664Z",
     "start_time": "2021-06-10T00:36:36.843636Z"
    }
   },
   "outputs": [
    {
     "data": {
      "text/plain": [
       "c0     object\n",
       "c1      int32\n",
       "c11     int32\n",
       "c2     object\n",
       "5      object\n",
       "dtype: object"
      ]
     },
     "execution_count": 9,
     "metadata": {},
     "output_type": "execute_result"
    }
   ],
   "source": [
    "df2.dtypes"
   ]
  },
  {
   "cell_type": "code",
   "execution_count": 10,
   "metadata": {
    "ExecuteTime": {
     "end_time": "2021-06-10T00:36:39.366127Z",
     "start_time": "2021-06-10T00:36:39.348149Z"
    }
   },
   "outputs": [
    {
     "name": "stdout",
     "output_type": "stream",
     "text": [
      "sample shape: (40, 6)\n",
      "sample shape: (160, 6)\n",
      "  c0  c1  c11 c2  5\n",
      "0  b   1  498  e  r\n",
      "1  b   1  800  d  r\n",
      "2  a   1  565  e  t\n",
      "3  b   1  567  e  t\n",
      "4  a   1  592  d  t\n"
     ]
    },
    {
     "data": {
      "text/plain": [
       "2    0.8\n",
       "1    0.2\n",
       "Name: strat_key, dtype: float64"
      ]
     },
     "execution_count": 10,
     "metadata": {},
     "output_type": "execute_result"
    }
   ],
   "source": [
    "p, c = select_stratified_groups(data=df2.copy(), strat_columns=['c1'], group_size=100, \n",
    "                                weights={(1): 0.2, (2): 0.8}, \n",
    "                                seed=None)\n",
    "\n",
    "print(p.head())\n",
    "p['strat_key'] = p.c1.astype(str)# + '_' + p.c2.astype(str)\n",
    "p.strat_key.value_counts(normalize=True)"
   ]
  },
  {
   "cell_type": "code",
   "execution_count": 98,
   "metadata": {
    "ExecuteTime": {
     "end_time": "2021-06-09T03:42:45.605340Z",
     "start_time": "2021-06-09T03:42:45.580650Z"
    }
   },
   "outputs": [
    {
     "name": "stdout",
     "output_type": "stream",
     "text": [
      "weights: {'d': 0.2, 'e': 0.8}\n",
      "  c0  c1  c11 c2 c3\n",
      "0  b   1    4  d  r\n",
      "1  b   2    3  d  r\n",
      "2  b   2    3  d  r\n",
      "3  a   2    4  d  r\n",
      "4  a   1    4  d  r\n"
     ]
    },
    {
     "data": {
      "text/plain": [
       "e    0.8\n",
       "d    0.2\n",
       "Name: strat_key, dtype: float64"
      ]
     },
     "execution_count": 98,
     "metadata": {},
     "output_type": "execute_result"
    }
   ],
   "source": [
    "p, c = select_stratified_groups(data=df2.copy(), strat_columns=['c2'], group_size=100, \n",
    "                                weights={('d'): 0.2, ('e'): 0.8}, \n",
    "                                seed=None)\n",
    "\n",
    "print(p.head())\n",
    "p['strat_key'] = p.c2.astype(str)# + '_' + p.c2.astype(str)\n",
    "p.strat_key.value_counts(normalize=True)"
   ]
  },
  {
   "cell_type": "code",
   "execution_count": 83,
   "metadata": {
    "ExecuteTime": {
     "end_time": "2021-06-09T03:39:21.768220Z",
     "start_time": "2021-06-09T03:39:21.750221Z"
    }
   },
   "outputs": [
    {
     "data": {
      "text/html": [
       "<div>\n",
       "<style scoped>\n",
       "    .dataframe tbody tr th:only-of-type {\n",
       "        vertical-align: middle;\n",
       "    }\n",
       "\n",
       "    .dataframe tbody tr th {\n",
       "        vertical-align: top;\n",
       "    }\n",
       "\n",
       "    .dataframe thead th {\n",
       "        text-align: right;\n",
       "    }\n",
       "</style>\n",
       "<table border=\"1\" class=\"dataframe\">\n",
       "  <thead>\n",
       "    <tr style=\"text-align: right;\">\n",
       "      <th></th>\n",
       "      <th>c0</th>\n",
       "      <th>c1</th>\n",
       "      <th>c11</th>\n",
       "      <th>c2</th>\n",
       "      <th>c3</th>\n",
       "    </tr>\n",
       "  </thead>\n",
       "  <tbody>\n",
       "    <tr>\n",
       "      <th>0</th>\n",
       "      <td>a</td>\n",
       "      <td>2</td>\n",
       "      <td>4</td>\n",
       "      <td>e</td>\n",
       "      <td>t</td>\n",
       "    </tr>\n",
       "    <tr>\n",
       "      <th>1</th>\n",
       "      <td>a</td>\n",
       "      <td>1</td>\n",
       "      <td>3</td>\n",
       "      <td>e</td>\n",
       "      <td>r</td>\n",
       "    </tr>\n",
       "    <tr>\n",
       "      <th>2</th>\n",
       "      <td>a</td>\n",
       "      <td>1</td>\n",
       "      <td>4</td>\n",
       "      <td>e</td>\n",
       "      <td>y</td>\n",
       "    </tr>\n",
       "    <tr>\n",
       "      <th>3</th>\n",
       "      <td>a</td>\n",
       "      <td>1</td>\n",
       "      <td>3</td>\n",
       "      <td>e</td>\n",
       "      <td>y</td>\n",
       "    </tr>\n",
       "    <tr>\n",
       "      <th>4</th>\n",
       "      <td>a</td>\n",
       "      <td>2</td>\n",
       "      <td>3</td>\n",
       "      <td>e</td>\n",
       "      <td>t</td>\n",
       "    </tr>\n",
       "    <tr>\n",
       "      <th>5</th>\n",
       "      <td>a</td>\n",
       "      <td>1</td>\n",
       "      <td>4</td>\n",
       "      <td>e</td>\n",
       "      <td>y</td>\n",
       "    </tr>\n",
       "    <tr>\n",
       "      <th>6</th>\n",
       "      <td>a</td>\n",
       "      <td>1</td>\n",
       "      <td>4</td>\n",
       "      <td>e</td>\n",
       "      <td>r</td>\n",
       "    </tr>\n",
       "    <tr>\n",
       "      <th>7</th>\n",
       "      <td>a</td>\n",
       "      <td>1</td>\n",
       "      <td>4</td>\n",
       "      <td>e</td>\n",
       "      <td>t</td>\n",
       "    </tr>\n",
       "    <tr>\n",
       "      <th>8</th>\n",
       "      <td>a</td>\n",
       "      <td>2</td>\n",
       "      <td>3</td>\n",
       "      <td>e</td>\n",
       "      <td>t</td>\n",
       "    </tr>\n",
       "    <tr>\n",
       "      <th>9</th>\n",
       "      <td>a</td>\n",
       "      <td>1</td>\n",
       "      <td>4</td>\n",
       "      <td>e</td>\n",
       "      <td>t</td>\n",
       "    </tr>\n",
       "    <tr>\n",
       "      <th>10</th>\n",
       "      <td>a</td>\n",
       "      <td>1</td>\n",
       "      <td>4</td>\n",
       "      <td>d</td>\n",
       "      <td>y</td>\n",
       "    </tr>\n",
       "    <tr>\n",
       "      <th>11</th>\n",
       "      <td>a</td>\n",
       "      <td>2</td>\n",
       "      <td>3</td>\n",
       "      <td>d</td>\n",
       "      <td>t</td>\n",
       "    </tr>\n",
       "    <tr>\n",
       "      <th>12</th>\n",
       "      <td>a</td>\n",
       "      <td>2</td>\n",
       "      <td>3</td>\n",
       "      <td>d</td>\n",
       "      <td>y</td>\n",
       "    </tr>\n",
       "    <tr>\n",
       "      <th>13</th>\n",
       "      <td>a</td>\n",
       "      <td>2</td>\n",
       "      <td>4</td>\n",
       "      <td>d</td>\n",
       "      <td>t</td>\n",
       "    </tr>\n",
       "    <tr>\n",
       "      <th>14</th>\n",
       "      <td>a</td>\n",
       "      <td>1</td>\n",
       "      <td>4</td>\n",
       "      <td>d</td>\n",
       "      <td>r</td>\n",
       "    </tr>\n",
       "    <tr>\n",
       "      <th>15</th>\n",
       "      <td>a</td>\n",
       "      <td>1</td>\n",
       "      <td>4</td>\n",
       "      <td>d</td>\n",
       "      <td>y</td>\n",
       "    </tr>\n",
       "    <tr>\n",
       "      <th>16</th>\n",
       "      <td>a</td>\n",
       "      <td>1</td>\n",
       "      <td>3</td>\n",
       "      <td>d</td>\n",
       "      <td>r</td>\n",
       "    </tr>\n",
       "    <tr>\n",
       "      <th>17</th>\n",
       "      <td>a</td>\n",
       "      <td>2</td>\n",
       "      <td>3</td>\n",
       "      <td>d</td>\n",
       "      <td>y</td>\n",
       "    </tr>\n",
       "    <tr>\n",
       "      <th>18</th>\n",
       "      <td>a</td>\n",
       "      <td>1</td>\n",
       "      <td>4</td>\n",
       "      <td>d</td>\n",
       "      <td>y</td>\n",
       "    </tr>\n",
       "    <tr>\n",
       "      <th>19</th>\n",
       "      <td>a</td>\n",
       "      <td>1</td>\n",
       "      <td>3</td>\n",
       "      <td>d</td>\n",
       "      <td>t</td>\n",
       "    </tr>\n",
       "    <tr>\n",
       "      <th>20</th>\n",
       "      <td>a</td>\n",
       "      <td>1</td>\n",
       "      <td>4</td>\n",
       "      <td>d</td>\n",
       "      <td>t</td>\n",
       "    </tr>\n",
       "    <tr>\n",
       "      <th>21</th>\n",
       "      <td>a</td>\n",
       "      <td>1</td>\n",
       "      <td>3</td>\n",
       "      <td>d</td>\n",
       "      <td>y</td>\n",
       "    </tr>\n",
       "    <tr>\n",
       "      <th>22</th>\n",
       "      <td>a</td>\n",
       "      <td>2</td>\n",
       "      <td>4</td>\n",
       "      <td>d</td>\n",
       "      <td>t</td>\n",
       "    </tr>\n",
       "    <tr>\n",
       "      <th>23</th>\n",
       "      <td>a</td>\n",
       "      <td>1</td>\n",
       "      <td>3</td>\n",
       "      <td>d</td>\n",
       "      <td>r</td>\n",
       "    </tr>\n",
       "    <tr>\n",
       "      <th>24</th>\n",
       "      <td>a</td>\n",
       "      <td>1</td>\n",
       "      <td>4</td>\n",
       "      <td>d</td>\n",
       "      <td>t</td>\n",
       "    </tr>\n",
       "    <tr>\n",
       "      <th>25</th>\n",
       "      <td>b</td>\n",
       "      <td>2</td>\n",
       "      <td>3</td>\n",
       "      <td>e</td>\n",
       "      <td>t</td>\n",
       "    </tr>\n",
       "    <tr>\n",
       "      <th>26</th>\n",
       "      <td>b</td>\n",
       "      <td>1</td>\n",
       "      <td>4</td>\n",
       "      <td>e</td>\n",
       "      <td>t</td>\n",
       "    </tr>\n",
       "    <tr>\n",
       "      <th>27</th>\n",
       "      <td>b</td>\n",
       "      <td>1</td>\n",
       "      <td>3</td>\n",
       "      <td>e</td>\n",
       "      <td>t</td>\n",
       "    </tr>\n",
       "    <tr>\n",
       "      <th>28</th>\n",
       "      <td>b</td>\n",
       "      <td>1</td>\n",
       "      <td>3</td>\n",
       "      <td>e</td>\n",
       "      <td>y</td>\n",
       "    </tr>\n",
       "    <tr>\n",
       "      <th>29</th>\n",
       "      <td>b</td>\n",
       "      <td>2</td>\n",
       "      <td>4</td>\n",
       "      <td>e</td>\n",
       "      <td>y</td>\n",
       "    </tr>\n",
       "    <tr>\n",
       "      <th>30</th>\n",
       "      <td>b</td>\n",
       "      <td>1</td>\n",
       "      <td>3</td>\n",
       "      <td>d</td>\n",
       "      <td>t</td>\n",
       "    </tr>\n",
       "    <tr>\n",
       "      <th>31</th>\n",
       "      <td>b</td>\n",
       "      <td>2</td>\n",
       "      <td>3</td>\n",
       "      <td>d</td>\n",
       "      <td>t</td>\n",
       "    </tr>\n",
       "    <tr>\n",
       "      <th>32</th>\n",
       "      <td>b</td>\n",
       "      <td>2</td>\n",
       "      <td>4</td>\n",
       "      <td>d</td>\n",
       "      <td>y</td>\n",
       "    </tr>\n",
       "    <tr>\n",
       "      <th>33</th>\n",
       "      <td>b</td>\n",
       "      <td>1</td>\n",
       "      <td>3</td>\n",
       "      <td>d</td>\n",
       "      <td>t</td>\n",
       "    </tr>\n",
       "    <tr>\n",
       "      <th>34</th>\n",
       "      <td>b</td>\n",
       "      <td>1</td>\n",
       "      <td>4</td>\n",
       "      <td>d</td>\n",
       "      <td>r</td>\n",
       "    </tr>\n",
       "    <tr>\n",
       "      <th>35</th>\n",
       "      <td>b</td>\n",
       "      <td>1</td>\n",
       "      <td>4</td>\n",
       "      <td>d</td>\n",
       "      <td>r</td>\n",
       "    </tr>\n",
       "    <tr>\n",
       "      <th>36</th>\n",
       "      <td>b</td>\n",
       "      <td>1</td>\n",
       "      <td>4</td>\n",
       "      <td>d</td>\n",
       "      <td>r</td>\n",
       "    </tr>\n",
       "    <tr>\n",
       "      <th>37</th>\n",
       "      <td>b</td>\n",
       "      <td>2</td>\n",
       "      <td>4</td>\n",
       "      <td>d</td>\n",
       "      <td>y</td>\n",
       "    </tr>\n",
       "    <tr>\n",
       "      <th>38</th>\n",
       "      <td>b</td>\n",
       "      <td>2</td>\n",
       "      <td>3</td>\n",
       "      <td>d</td>\n",
       "      <td>t</td>\n",
       "    </tr>\n",
       "    <tr>\n",
       "      <th>39</th>\n",
       "      <td>b</td>\n",
       "      <td>1</td>\n",
       "      <td>3</td>\n",
       "      <td>d</td>\n",
       "      <td>y</td>\n",
       "    </tr>\n",
       "    <tr>\n",
       "      <th>40</th>\n",
       "      <td>b</td>\n",
       "      <td>1</td>\n",
       "      <td>3</td>\n",
       "      <td>d</td>\n",
       "      <td>y</td>\n",
       "    </tr>\n",
       "    <tr>\n",
       "      <th>41</th>\n",
       "      <td>b</td>\n",
       "      <td>1</td>\n",
       "      <td>3</td>\n",
       "      <td>d</td>\n",
       "      <td>y</td>\n",
       "    </tr>\n",
       "    <tr>\n",
       "      <th>42</th>\n",
       "      <td>b</td>\n",
       "      <td>1</td>\n",
       "      <td>3</td>\n",
       "      <td>d</td>\n",
       "      <td>y</td>\n",
       "    </tr>\n",
       "    <tr>\n",
       "      <th>43</th>\n",
       "      <td>b</td>\n",
       "      <td>2</td>\n",
       "      <td>3</td>\n",
       "      <td>d</td>\n",
       "      <td>y</td>\n",
       "    </tr>\n",
       "    <tr>\n",
       "      <th>44</th>\n",
       "      <td>b</td>\n",
       "      <td>1</td>\n",
       "      <td>3</td>\n",
       "      <td>d</td>\n",
       "      <td>r</td>\n",
       "    </tr>\n",
       "    <tr>\n",
       "      <th>45</th>\n",
       "      <td>b</td>\n",
       "      <td>2</td>\n",
       "      <td>4</td>\n",
       "      <td>d</td>\n",
       "      <td>t</td>\n",
       "    </tr>\n",
       "    <tr>\n",
       "      <th>46</th>\n",
       "      <td>b</td>\n",
       "      <td>1</td>\n",
       "      <td>4</td>\n",
       "      <td>d</td>\n",
       "      <td>t</td>\n",
       "    </tr>\n",
       "    <tr>\n",
       "      <th>47</th>\n",
       "      <td>b</td>\n",
       "      <td>1</td>\n",
       "      <td>4</td>\n",
       "      <td>d</td>\n",
       "      <td>r</td>\n",
       "    </tr>\n",
       "    <tr>\n",
       "      <th>48</th>\n",
       "      <td>b</td>\n",
       "      <td>1</td>\n",
       "      <td>4</td>\n",
       "      <td>d</td>\n",
       "      <td>t</td>\n",
       "    </tr>\n",
       "    <tr>\n",
       "      <th>49</th>\n",
       "      <td>b</td>\n",
       "      <td>2</td>\n",
       "      <td>3</td>\n",
       "      <td>d</td>\n",
       "      <td>r</td>\n",
       "    </tr>\n",
       "  </tbody>\n",
       "</table>\n",
       "</div>"
      ],
      "text/plain": [
       "   c0  c1  c11 c2 c3\n",
       "0   a   2    4  e  t\n",
       "1   a   1    3  e  r\n",
       "2   a   1    4  e  y\n",
       "3   a   1    3  e  y\n",
       "4   a   2    3  e  t\n",
       "5   a   1    4  e  y\n",
       "6   a   1    4  e  r\n",
       "7   a   1    4  e  t\n",
       "8   a   2    3  e  t\n",
       "9   a   1    4  e  t\n",
       "10  a   1    4  d  y\n",
       "11  a   2    3  d  t\n",
       "12  a   2    3  d  y\n",
       "13  a   2    4  d  t\n",
       "14  a   1    4  d  r\n",
       "15  a   1    4  d  y\n",
       "16  a   1    3  d  r\n",
       "17  a   2    3  d  y\n",
       "18  a   1    4  d  y\n",
       "19  a   1    3  d  t\n",
       "20  a   1    4  d  t\n",
       "21  a   1    3  d  y\n",
       "22  a   2    4  d  t\n",
       "23  a   1    3  d  r\n",
       "24  a   1    4  d  t\n",
       "25  b   2    3  e  t\n",
       "26  b   1    4  e  t\n",
       "27  b   1    3  e  t\n",
       "28  b   1    3  e  y\n",
       "29  b   2    4  e  y\n",
       "30  b   1    3  d  t\n",
       "31  b   2    3  d  t\n",
       "32  b   2    4  d  y\n",
       "33  b   1    3  d  t\n",
       "34  b   1    4  d  r\n",
       "35  b   1    4  d  r\n",
       "36  b   1    4  d  r\n",
       "37  b   2    4  d  y\n",
       "38  b   2    3  d  t\n",
       "39  b   1    3  d  y\n",
       "40  b   1    3  d  y\n",
       "41  b   1    3  d  y\n",
       "42  b   1    3  d  y\n",
       "43  b   2    3  d  y\n",
       "44  b   1    3  d  r\n",
       "45  b   2    4  d  t\n",
       "46  b   1    4  d  t\n",
       "47  b   1    4  d  r\n",
       "48  b   1    4  d  t\n",
       "49  b   2    3  d  r"
      ]
     },
     "execution_count": 83,
     "metadata": {},
     "output_type": "execute_result"
    }
   ],
   "source": [
    "p"
   ]
  },
  {
   "cell_type": "code",
   "execution_count": 85,
   "metadata": {
    "ExecuteTime": {
     "end_time": "2021-06-09T03:39:31.537686Z",
     "start_time": "2021-06-09T03:39:31.524670Z"
    }
   },
   "outputs": [
    {
     "data": {
      "text/plain": [
       "1_d    0.46\n",
       "2_d    0.24\n",
       "1_e    0.20\n",
       "2_e    0.10\n",
       "Name: strat_key, dtype: float64"
      ]
     },
     "execution_count": 85,
     "metadata": {},
     "output_type": "execute_result"
    }
   ],
   "source": [
    "p['strat_key'] = p.c1.astype(str) + '_' + p.c2.astype(str)\n",
    "p.strat_key.value_counts(normalize=True)"
   ]
  },
  {
   "cell_type": "code",
   "execution_count": 34,
   "metadata": {
    "ExecuteTime": {
     "end_time": "2021-06-09T03:26:37.650627Z",
     "start_time": "2021-06-09T03:26:37.638655Z"
    }
   },
   "outputs": [
    {
     "data": {
      "text/plain": [
       "(50, 5)"
      ]
     },
     "execution_count": 34,
     "metadata": {},
     "output_type": "execute_result"
    }
   ],
   "source": [
    "p.shape"
   ]
  },
  {
   "cell_type": "code",
   "execution_count": 35,
   "metadata": {
    "ExecuteTime": {
     "end_time": "2021-06-09T03:26:38.150490Z",
     "start_time": "2021-06-09T03:26:38.135685Z"
    }
   },
   "outputs": [
    {
     "data": {
      "text/plain": [
       "b_d    0.4\n",
       "a_d    0.3\n",
       "a_e    0.2\n",
       "b_e    0.1\n",
       "Name: strat_key, dtype: float64"
      ]
     },
     "execution_count": 35,
     "metadata": {},
     "output_type": "execute_result"
    }
   ],
   "source": [
    "c['strat_key'] = c.c1 + '_' + c.c2\n",
    "c.strat_key.value_counts(normalize=True)"
   ]
  },
  {
   "cell_type": "code",
   "execution_count": 36,
   "metadata": {
    "ExecuteTime": {
     "end_time": "2021-06-09T03:26:39.324340Z",
     "start_time": "2021-06-09T03:26:39.319309Z"
    }
   },
   "outputs": [
    {
     "data": {
      "text/plain": [
       "(50, 5)"
      ]
     },
     "execution_count": 36,
     "metadata": {},
     "output_type": "execute_result"
    }
   ],
   "source": [
    "c.shape"
   ]
  },
  {
   "cell_type": "code",
   "execution_count": 9,
   "metadata": {
    "ExecuteTime": {
     "end_time": "2021-06-09T03:17:12.484939Z",
     "start_time": "2021-06-09T03:17:12.438173Z"
    }
   },
   "outputs": [
    {
     "ename": "NameError",
     "evalue": "name 'qwe' is not defined",
     "output_type": "error",
     "traceback": [
      "\u001b[1;31m---------------------------------------------------------------------------\u001b[0m",
      "\u001b[1;31mNameError\u001b[0m                                 Traceback (most recent call last)",
      "\u001b[1;32m<ipython-input-9-c71de136f937>\u001b[0m in \u001b[0;36m<module>\u001b[1;34m\u001b[0m\n\u001b[1;32m----> 1\u001b[1;33m \u001b[0mqwe\u001b[0m\u001b[1;33m\u001b[0m\u001b[1;33m\u001b[0m\u001b[0m\n\u001b[0m",
      "\u001b[1;31mNameError\u001b[0m: name 'qwe' is not defined"
     ]
    }
   ],
   "source": [
    "qwe"
   ]
  },
  {
   "cell_type": "code",
   "execution_count": null,
   "metadata": {
    "ExecuteTime": {
     "end_time": "2021-06-09T03:17:12.485913Z",
     "start_time": "2021-06-09T03:17:12.099Z"
    }
   },
   "outputs": [],
   "source": [
    "empirical_weights = {}\n",
    "for strat_column in strat_columns:\n",
    "    q = df.groupby(strat_column).agg(cnt=(strat_column, 'count'))\n",
    "    q = q / q.sum()\n",
    "    empirical_weights[strat_column] = q.to_dict()['cnt']\n",
    "empirical_weights"
   ]
  },
  {
   "cell_type": "code",
   "execution_count": null,
   "metadata": {
    "ExecuteTime": {
     "end_time": "2021-06-09T03:17:12.485913Z",
     "start_time": "2021-06-09T03:17:12.100Z"
    }
   },
   "outputs": [],
   "source": [
    "result = None\n",
    "for strat_column in strat_columns:\n",
    "    if result is None:\n",
    "        result = df[strat_column].astype(str)\n",
    "    else:\n",
    "        result = result + '_' + df[strat_column].astype(str)\n",
    "df['strat_key'] = result\n",
    "df"
   ]
  },
  {
   "cell_type": "code",
   "execution_count": null,
   "metadata": {
    "ExecuteTime": {
     "end_time": "2021-06-09T03:17:12.486913Z",
     "start_time": "2021-06-09T03:17:12.101Z"
    }
   },
   "outputs": [],
   "source": [
    "weights = {('a', 'e'): 0.2, ('a', '')}"
   ]
  },
  {
   "cell_type": "code",
   "execution_count": null,
   "metadata": {
    "ExecuteTime": {
     "end_time": "2021-06-09T03:17:12.486913Z",
     "start_time": "2021-06-09T03:17:12.102Z"
    }
   },
   "outputs": [],
   "source": [
    "df.strat_key.value_counts(normalize=True).to_dict()"
   ]
  },
  {
   "cell_type": "code",
   "execution_count": null,
   "metadata": {
    "ExecuteTime": {
     "end_time": "2021-06-09T03:17:12.487913Z",
     "start_time": "2021-06-09T03:17:12.102Z"
    }
   },
   "outputs": [],
   "source": [
    "weights = {('a', 'e'): 0.2, ('a', 'd'): 0.3, ('b', 'e'): 0.1, ('b', 'd'): 0.4}\n",
    "#weights\n",
    "{'_'.join(weight): weights[weight] for weight in weights}"
   ]
  },
  {
   "cell_type": "code",
   "execution_count": null,
   "metadata": {
    "ExecuteTime": {
     "end_time": "2021-06-09T03:17:12.488913Z",
     "start_time": "2021-06-09T03:17:12.103Z"
    }
   },
   "outputs": [],
   "source": [
    "seed=None\n",
    "group_size = 200\n",
    "chunks = []\n",
    "pilot = pd.DataFrame()\n",
    "control = pd.DataFrame()\n",
    "for weight in weights:\n",
    "    strat_key = '_'.join(weight)\n",
    "    strat_size_both = np.ceil(group_size * weights[weight]).astype(int)\n",
    "    print(weight, strat_size_both)\n",
    "    sub_df = df[df.strat_key == strat_key]\n",
    "    print(sub_df)\n",
    "    sample = sub_df.sample(n=int(strat_size_both), random_state=seed)\n",
    "    pilot = pd.concat((pilot, sample.iloc[:len(sample)//2]), ignore_index=True)\n",
    "    control = pd.concat((control, sample.iloc[len(sample)//2:]), ignore_index=True)"
   ]
  },
  {
   "cell_type": "code",
   "execution_count": null,
   "metadata": {
    "ExecuteTime": {
     "end_time": "2021-06-09T03:17:12.488913Z",
     "start_time": "2021-06-09T03:17:12.104Z"
    }
   },
   "outputs": [],
   "source": [
    "pilot.strat_key.value_counts()"
   ]
  },
  {
   "cell_type": "code",
   "execution_count": null,
   "metadata": {
    "ExecuteTime": {
     "end_time": "2021-06-09T03:17:12.489912Z",
     "start_time": "2021-06-09T03:17:12.105Z"
    }
   },
   "outputs": [],
   "source": [
    "control.strat_key.value_counts()"
   ]
  },
  {
   "cell_type": "code",
   "execution_count": null,
   "metadata": {
    "ExecuteTime": {
     "end_time": "2021-06-09T03:17:12.489912Z",
     "start_time": "2021-06-09T03:17:12.106Z"
    }
   },
   "outputs": [],
   "source": [
    "pilot"
   ]
  },
  {
   "cell_type": "code",
   "execution_count": null,
   "metadata": {
    "ExecuteTime": {
     "end_time": "2021-06-09T03:17:12.490912Z",
     "start_time": "2021-06-09T03:17:12.107Z"
    }
   },
   "outputs": [],
   "source": [
    "control"
   ]
  },
  {
   "cell_type": "code",
   "execution_count": null,
   "metadata": {},
   "outputs": [],
   "source": []
  }
 ],
 "metadata": {
  "kernelspec": {
   "display_name": "Python 3",
   "language": "python",
   "name": "python3"
  },
  "language_info": {
   "codemirror_mode": {
    "name": "ipython",
    "version": 3
   },
   "file_extension": ".py",
   "mimetype": "text/x-python",
   "name": "python",
   "nbconvert_exporter": "python",
   "pygments_lexer": "ipython3",
   "version": "3.7.6"
  }
 },
 "nbformat": 4,
 "nbformat_minor": 4
}
