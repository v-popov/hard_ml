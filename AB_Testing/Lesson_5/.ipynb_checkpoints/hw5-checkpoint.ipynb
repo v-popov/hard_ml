{
 "cells": [
  {
   "cell_type": "code",
   "execution_count": 32,
   "metadata": {
    "ExecuteTime": {
     "end_time": "2021-06-14T15:28:08.878520Z",
     "start_time": "2021-06-14T15:28:08.862011Z"
    }
   },
   "outputs": [],
   "source": [
    "import numpy as np\n",
    "import pandas as pd\n",
    "\n",
    "\n",
    "def calculate_metric(\n",
    "    df, value_name, user_id_name, list_user_id, date_name, period, metric_name\n",
    "):\n",
    "    \"\"\"Вычисляет значение метрики для списка пользователей в определённый период.\n",
    "    \n",
    "    df - pd.DataFrame, датафрейм с данными\n",
    "    value_name - str, название столбца со значениями для вычисления целевой метрики\n",
    "    user_id_name - str, название столбца с идентификаторами пользователей\n",
    "    list_user_id - List[int], список идентификаторов пользователей, для которых нужно посчитать метрики\n",
    "    date_name - str, название столбца с датами\n",
    "    period - dict, словарь с датами начала и конца периода, за который нужно посчитать метрики.\n",
    "        Пример, {'begin': '2020-01-01', 'end': '2020-01-08'}. Дата начала периода входит нужный\n",
    "        полуинтервал, а дата окончание нет, то есть '2020-01-01' <= date < '2020-01-08'.\n",
    "    metric_name - str, название полученной метрики\n",
    "\n",
    "    return - pd.DataFrame, со столбцами [user_id_name, metric_name], кол-во строк должно быть равно\n",
    "        кол-ву элементов в списке list_user_id.\n",
    "    \"\"\"\n",
    "    # YOUR_CODE_HERE \n",
    "    date_filter = (period['begin'] <= df[date_name]) & (df[date_name] < period['end'])\n",
    "    sub_df = df[date_filter]\n",
    "    \n",
    "    sub_df = sub_df.query(f\"{user_id_name} in @list_user_id\")\n",
    "    \n",
    "    ans = sub_df.groupby(user_id_name)[value_name].sum().reset_index()#.to_dict()\n",
    "    ans.columns = [user_id_name, metric_name]\n",
    "    remaining_user_ids = np.array(list_user_id)[np.isin(list_user_id, ans[user_id_name], invert=True)]\n",
    "    ans = pd.concat((ans, pd.DataFrame({user_id_name: remaining_user_ids, metric_name: 0.})))\n",
    "\n",
    "    return ans.reset_index(drop=True)\n",
    "\n",
    "\n",
    "\n",
    "def calculate_metric_cuped(\n",
    "    df, value_name, user_id_name, list_user_id, date_name, periods, metric_name\n",
    "):\n",
    "    \"\"\"Вычисляет метрики во время пилота, коварианту и преобразованную метрику cuped.\n",
    "    \n",
    "    df - pd.DataFrame, датафрейм с данными\n",
    "    value_name - str, название столбца со значениями для вычисления целевой метрики\n",
    "    user_id_name - str, название столбца с идентификаторами пользователей\n",
    "    list_user_id - List[int], список идентификаторов пользователей, для которых нужно посчитать метрики\n",
    "    date_name - str, название столбца с датами\n",
    "    periods - dict, словарь с датами начала и конца периода пилота и препилота.\n",
    "        Пример, {\n",
    "            'prepilot': {'begin': '2020-01-01', 'end': '2020-01-08'},\n",
    "            'pilot': {'begin': '2020-01-08', 'end': '2020-01-15'}\n",
    "        }.\n",
    "        Дата начала периода входит в полуинтервал, а дата окончания нет,\n",
    "        то есть '2020-01-01' <= date < '2020-01-08'.\n",
    "    metric_name - str, название полученной метрики\n",
    "\n",
    "    return - pd.DataFrame, со столбцами\n",
    "        [user_id_name, metric_name, f'{metric_name}_prepilot', f'{metric_name}_cuped'],\n",
    "        кол-во строк должно быть равно кол-ву элементов в списке list_user_id.\n",
    "    \"\"\"\n",
    "    # YOUR_CODE_HERE\n",
    "    df_prepilot = calculate_metric(df, value_name, user_id_name, list_user_id, date_name, \n",
    "                                   periods['prepilot'], f'{metric_name}_prepilot')\n",
    "    df_pilot = calculate_metric(df, value_name, user_id_name, list_user_id, date_name, \n",
    "                                periods['pilot'], metric_name)\n",
    "    \n",
    "    df_combo = df_pilot.merge(df_prepilot, on=user_id_name)\n",
    "    df_combo.fillna(0., inplace=True)\n",
    "    \n",
    "    cov = np.cov([df_combo[f'{metric_name}_prepilot'], df_combo[metric_name]])[0, 1]\n",
    "    theta = cov / np.var(df_combo[f'{metric_name}_prepilot'])\n",
    "    \n",
    "    df_combo[f'{metric_name}_cuped'] = df_combo[metric_name] - theta * df_combo[f'{metric_name}_prepilot']\n",
    "    return df_combo"
   ]
  },
  {
   "cell_type": "code",
   "execution_count": 2,
   "metadata": {
    "ExecuteTime": {
     "end_time": "2021-06-14T15:20:26.074863Z",
     "start_time": "2021-06-14T15:20:26.056886Z"
    }
   },
   "outputs": [
    {
     "data": {
      "text/html": [
       "<div>\n",
       "<style scoped>\n",
       "    .dataframe tbody tr th:only-of-type {\n",
       "        vertical-align: middle;\n",
       "    }\n",
       "\n",
       "    .dataframe tbody tr th {\n",
       "        vertical-align: top;\n",
       "    }\n",
       "\n",
       "    .dataframe thead th {\n",
       "        text-align: right;\n",
       "    }\n",
       "</style>\n",
       "<table border=\"1\" class=\"dataframe\">\n",
       "  <thead>\n",
       "    <tr style=\"text-align: right;\">\n",
       "      <th></th>\n",
       "      <th>value_name2</th>\n",
       "      <th>user_id_name2</th>\n",
       "      <th>date_name2</th>\n",
       "    </tr>\n",
       "  </thead>\n",
       "  <tbody>\n",
       "    <tr>\n",
       "      <th>0</th>\n",
       "      <td>6</td>\n",
       "      <td>5009</td>\n",
       "      <td>2019-07-05</td>\n",
       "    </tr>\n",
       "    <tr>\n",
       "      <th>1</th>\n",
       "      <td>4</td>\n",
       "      <td>5007</td>\n",
       "      <td>2019-05-26</td>\n",
       "    </tr>\n",
       "    <tr>\n",
       "      <th>2</th>\n",
       "      <td>19</td>\n",
       "      <td>5002</td>\n",
       "      <td>2019-12-04</td>\n",
       "    </tr>\n",
       "    <tr>\n",
       "      <th>3</th>\n",
       "      <td>11</td>\n",
       "      <td>5000</td>\n",
       "      <td>2019-02-01</td>\n",
       "    </tr>\n",
       "    <tr>\n",
       "      <th>4</th>\n",
       "      <td>17</td>\n",
       "      <td>5001</td>\n",
       "      <td>2019-10-11</td>\n",
       "    </tr>\n",
       "    <tr>\n",
       "      <th>5</th>\n",
       "      <td>18</td>\n",
       "      <td>5004</td>\n",
       "      <td>2019-05-01</td>\n",
       "    </tr>\n",
       "    <tr>\n",
       "      <th>6</th>\n",
       "      <td>8</td>\n",
       "      <td>5006</td>\n",
       "      <td>2019-01-10</td>\n",
       "    </tr>\n",
       "    <tr>\n",
       "      <th>7</th>\n",
       "      <td>8</td>\n",
       "      <td>5007</td>\n",
       "      <td>2019-04-17</td>\n",
       "    </tr>\n",
       "    <tr>\n",
       "      <th>8</th>\n",
       "      <td>18</td>\n",
       "      <td>5003</td>\n",
       "      <td>2019-04-03</td>\n",
       "    </tr>\n",
       "    <tr>\n",
       "      <th>9</th>\n",
       "      <td>2</td>\n",
       "      <td>5002</td>\n",
       "      <td>2019-07-19</td>\n",
       "    </tr>\n",
       "    <tr>\n",
       "      <th>10</th>\n",
       "      <td>13</td>\n",
       "      <td>5001</td>\n",
       "      <td>2019-07-06</td>\n",
       "    </tr>\n",
       "    <tr>\n",
       "      <th>11</th>\n",
       "      <td>18</td>\n",
       "      <td>5005</td>\n",
       "      <td>2019-12-30</td>\n",
       "    </tr>\n",
       "    <tr>\n",
       "      <th>12</th>\n",
       "      <td>13</td>\n",
       "      <td>5002</td>\n",
       "      <td>2019-10-22</td>\n",
       "    </tr>\n",
       "    <tr>\n",
       "      <th>13</th>\n",
       "      <td>7</td>\n",
       "      <td>5000</td>\n",
       "      <td>2019-10-30</td>\n",
       "    </tr>\n",
       "    <tr>\n",
       "      <th>14</th>\n",
       "      <td>14</td>\n",
       "      <td>5007</td>\n",
       "      <td>2019-02-18</td>\n",
       "    </tr>\n",
       "    <tr>\n",
       "      <th>15</th>\n",
       "      <td>1</td>\n",
       "      <td>5009</td>\n",
       "      <td>2019-11-04</td>\n",
       "    </tr>\n",
       "    <tr>\n",
       "      <th>16</th>\n",
       "      <td>17</td>\n",
       "      <td>5001</td>\n",
       "      <td>2019-07-30</td>\n",
       "    </tr>\n",
       "    <tr>\n",
       "      <th>17</th>\n",
       "      <td>10</td>\n",
       "      <td>5002</td>\n",
       "      <td>2019-06-22</td>\n",
       "    </tr>\n",
       "    <tr>\n",
       "      <th>18</th>\n",
       "      <td>12</td>\n",
       "      <td>5008</td>\n",
       "      <td>2019-01-05</td>\n",
       "    </tr>\n",
       "    <tr>\n",
       "      <th>19</th>\n",
       "      <td>6</td>\n",
       "      <td>5001</td>\n",
       "      <td>2019-07-01</td>\n",
       "    </tr>\n",
       "  </tbody>\n",
       "</table>\n",
       "</div>"
      ],
      "text/plain": [
       "    value_name2  user_id_name2  date_name2\n",
       "0             6           5009  2019-07-05\n",
       "1             4           5007  2019-05-26\n",
       "2            19           5002  2019-12-04\n",
       "3            11           5000  2019-02-01\n",
       "4            17           5001  2019-10-11\n",
       "5            18           5004  2019-05-01\n",
       "6             8           5006  2019-01-10\n",
       "7             8           5007  2019-04-17\n",
       "8            18           5003  2019-04-03\n",
       "9             2           5002  2019-07-19\n",
       "10           13           5001  2019-07-06\n",
       "11           18           5005  2019-12-30\n",
       "12           13           5002  2019-10-22\n",
       "13            7           5000  2019-10-30\n",
       "14           14           5007  2019-02-18\n",
       "15            1           5009  2019-11-04\n",
       "16           17           5001  2019-07-30\n",
       "17           10           5002  2019-06-22\n",
       "18           12           5008  2019-01-05\n",
       "19            6           5001  2019-07-01"
      ]
     },
     "execution_count": 2,
     "metadata": {},
     "output_type": "execute_result"
    }
   ],
   "source": [
    "size = 20\n",
    "value_name2 = 'value_name2'\n",
    "user_id_name2 = 'user_id_name2'\n",
    "date_name2 = 'date_name2'\n",
    "period2 = {'begin': pd.to_datetime('2017-05-05'), 'end': pd.to_datetime('2019-09-09')}\n",
    "\n",
    "df = pd.DataFrame({value_name2: np.random.randint(1,20,size=size),\n",
    "                   user_id_name2: np.random.choice(np.unique(np.random.randint(5000,5010, size**2)), \n",
    "                                                    replace=True, size=size),\n",
    "                   date_name2: np.random.choice([x.date() for x in pd.date_range('2019-01-01', '2020-01-01')], \n",
    "                                                 replace=True, size=size)})\n",
    "df"
   ]
  },
  {
   "cell_type": "code",
   "execution_count": 3,
   "metadata": {
    "ExecuteTime": {
     "end_time": "2021-06-14T15:20:30.230032Z",
     "start_time": "2021-06-14T15:20:30.215426Z"
    }
   },
   "outputs": [],
   "source": [
    "metric_name2 = 'metric_name2'"
   ]
  },
  {
   "cell_type": "code",
   "execution_count": 30,
   "metadata": {
    "ExecuteTime": {
     "end_time": "2021-06-14T15:26:34.590661Z",
     "start_time": "2021-06-14T15:26:34.582281Z"
    }
   },
   "outputs": [
    {
     "data": {
      "text/plain": [
       "array([5000, 5004, 5008])"
      ]
     },
     "execution_count": 30,
     "metadata": {},
     "output_type": "execute_result"
    }
   ],
   "source": [
    "list_user_id2 = np.random.choice(df[user_id_name2].unique(), replace=False, size=3)\n",
    "list_user_id2"
   ]
  },
  {
   "cell_type": "code",
   "execution_count": 31,
   "metadata": {
    "ExecuteTime": {
     "end_time": "2021-06-14T15:26:34.777275Z",
     "start_time": "2021-06-14T15:26:34.758292Z"
    }
   },
   "outputs": [
    {
     "data": {
      "text/html": [
       "<div>\n",
       "<style scoped>\n",
       "    .dataframe tbody tr th:only-of-type {\n",
       "        vertical-align: middle;\n",
       "    }\n",
       "\n",
       "    .dataframe tbody tr th {\n",
       "        vertical-align: top;\n",
       "    }\n",
       "\n",
       "    .dataframe thead th {\n",
       "        text-align: right;\n",
       "    }\n",
       "</style>\n",
       "<table border=\"1\" class=\"dataframe\">\n",
       "  <thead>\n",
       "    <tr style=\"text-align: right;\">\n",
       "      <th></th>\n",
       "      <th>user_id_name2</th>\n",
       "      <th>metric_name2</th>\n",
       "    </tr>\n",
       "  </thead>\n",
       "  <tbody>\n",
       "    <tr>\n",
       "      <th>0</th>\n",
       "      <td>5000</td>\n",
       "      <td>11.0</td>\n",
       "    </tr>\n",
       "    <tr>\n",
       "      <th>1</th>\n",
       "      <td>5004</td>\n",
       "      <td>18.0</td>\n",
       "    </tr>\n",
       "    <tr>\n",
       "      <th>2</th>\n",
       "      <td>5008</td>\n",
       "      <td>12.0</td>\n",
       "    </tr>\n",
       "  </tbody>\n",
       "</table>\n",
       "</div>"
      ],
      "text/plain": [
       "   user_id_name2  metric_name2\n",
       "0           5000          11.0\n",
       "1           5004          18.0\n",
       "2           5008          12.0"
      ]
     },
     "execution_count": 31,
     "metadata": {},
     "output_type": "execute_result"
    }
   ],
   "source": [
    "ans = calculate_metric(df, value_name2, user_id_name2, list_user_id2, date_name2, period2, metric_name2)\n",
    "ans"
   ]
  },
  {
   "cell_type": "code",
   "execution_count": 33,
   "metadata": {
    "ExecuteTime": {
     "end_time": "2021-06-14T15:28:15.601117Z",
     "start_time": "2021-06-14T15:28:15.558049Z"
    }
   },
   "outputs": [
    {
     "data": {
      "text/html": [
       "<div>\n",
       "<style scoped>\n",
       "    .dataframe tbody tr th:only-of-type {\n",
       "        vertical-align: middle;\n",
       "    }\n",
       "\n",
       "    .dataframe tbody tr th {\n",
       "        vertical-align: top;\n",
       "    }\n",
       "\n",
       "    .dataframe thead th {\n",
       "        text-align: right;\n",
       "    }\n",
       "</style>\n",
       "<table border=\"1\" class=\"dataframe\">\n",
       "  <thead>\n",
       "    <tr style=\"text-align: right;\">\n",
       "      <th></th>\n",
       "      <th>user_id_name2</th>\n",
       "      <th>metric_name2</th>\n",
       "      <th>metric_name2_prepilot</th>\n",
       "      <th>metric_name2_cuped</th>\n",
       "    </tr>\n",
       "  </thead>\n",
       "  <tbody>\n",
       "    <tr>\n",
       "      <th>0</th>\n",
       "      <td>5000</td>\n",
       "      <td>7.0</td>\n",
       "      <td>11.0</td>\n",
       "      <td>17.744186</td>\n",
       "    </tr>\n",
       "    <tr>\n",
       "      <th>1</th>\n",
       "      <td>5004</td>\n",
       "      <td>0.0</td>\n",
       "      <td>18.0</td>\n",
       "      <td>17.581395</td>\n",
       "    </tr>\n",
       "    <tr>\n",
       "      <th>2</th>\n",
       "      <td>5008</td>\n",
       "      <td>0.0</td>\n",
       "      <td>12.0</td>\n",
       "      <td>11.720930</td>\n",
       "    </tr>\n",
       "  </tbody>\n",
       "</table>\n",
       "</div>"
      ],
      "text/plain": [
       "   user_id_name2  metric_name2  metric_name2_prepilot  metric_name2_cuped\n",
       "0           5000           7.0                   11.0           17.744186\n",
       "1           5004           0.0                   18.0           17.581395\n",
       "2           5008           0.0                   12.0           11.720930"
      ]
     },
     "execution_count": 33,
     "metadata": {},
     "output_type": "execute_result"
    }
   ],
   "source": [
    "periods = {'prepilot': period2, \n",
    "           'pilot': {'begin': pd.to_datetime('2019-10-10'),\n",
    "                     'end': pd.to_datetime('2020-10-10')}}\n",
    "calculate_metric_cuped(df, value_name2, user_id_name2, list_user_id2, date_name2, periods, metric_name2)"
   ]
  },
  {
   "cell_type": "code",
   "execution_count": 6,
   "metadata": {
    "ExecuteTime": {
     "end_time": "2021-06-13T22:15:10.983255Z",
     "start_time": "2021-06-13T22:15:10.936364Z"
    }
   },
   "outputs": [
    {
     "ename": "NameError",
     "evalue": "name 'qwe' is not defined",
     "output_type": "error",
     "traceback": [
      "\u001b[1;31m---------------------------------------------------------------------------\u001b[0m",
      "\u001b[1;31mNameError\u001b[0m                                 Traceback (most recent call last)",
      "\u001b[1;32m<ipython-input-6-c71de136f937>\u001b[0m in \u001b[0;36m<module>\u001b[1;34m\u001b[0m\n\u001b[1;32m----> 1\u001b[1;33m \u001b[0mqwe\u001b[0m\u001b[1;33m\u001b[0m\u001b[1;33m\u001b[0m\u001b[0m\n\u001b[0m",
      "\u001b[1;31mNameError\u001b[0m: name 'qwe' is not defined"
     ]
    }
   ],
   "source": [
    "qwe"
   ]
  },
  {
   "cell_type": "code",
   "execution_count": null,
   "metadata": {
    "ExecuteTime": {
     "end_time": "2021-06-13T22:15:10.996251Z",
     "start_time": "2021-06-13T22:15:10.636Z"
    }
   },
   "outputs": [],
   "source": [
    "for k in ['begin', 'end']:\n",
    "    period[k] = pd.to_datetime(period[k], format='%Y-%m-%d').date()\n",
    "period"
   ]
  },
  {
   "cell_type": "code",
   "execution_count": null,
   "metadata": {
    "ExecuteTime": {
     "end_time": "2021-06-13T22:15:10.996251Z",
     "start_time": "2021-06-13T22:15:10.638Z"
    }
   },
   "outputs": [],
   "source": [
    "date_filter = (period['begin'] <= df[date_name]) & (df[date_name] < period['end'])\n",
    "sub_df = df[date_filter]\n",
    "sub_df"
   ]
  },
  {
   "cell_type": "code",
   "execution_count": null,
   "metadata": {
    "ExecuteTime": {
     "end_time": "2021-06-13T22:15:10.997225Z",
     "start_time": "2021-06-13T22:15:10.639Z"
    }
   },
   "outputs": [],
   "source": [
    "sub_df[sub_df.user_id_name.isin(list_user_id).values]"
   ]
  },
  {
   "cell_type": "code",
   "execution_count": null,
   "metadata": {
    "ExecuteTime": {
     "end_time": "2021-06-13T22:15:10.997225Z",
     "start_time": "2021-06-13T22:15:10.640Z"
    }
   },
   "outputs": [],
   "source": [
    "sub_df = sub_df.query(f\"{user_id_name} in @list_user_id\")\n",
    "sub_df"
   ]
  },
  {
   "cell_type": "code",
   "execution_count": null,
   "metadata": {
    "ExecuteTime": {
     "end_time": "2021-06-13T22:09:22.378404Z",
     "start_time": "2021-06-13T22:09:22.365696Z"
    }
   },
   "outputs": [],
   "source": []
  },
  {
   "cell_type": "code",
   "execution_count": null,
   "metadata": {
    "ExecuteTime": {
     "end_time": "2021-06-13T22:15:10.998226Z",
     "start_time": "2021-06-13T22:15:10.642Z"
    }
   },
   "outputs": [],
   "source": [
    "ans = sub_df.groupby(user_id_name)[value_name].sum().to_dict()#reset_index()\n",
    "for k in list_user_id:\n",
    "    if k not in ans:\n",
    "        ans[k] = 0\n",
    "        \n",
    "ans = pd.DataFrame.from_dict(ans, orient='index').reset_index()\n",
    "ans.columns = [user_id_name, metric_name]"
   ]
  },
  {
   "cell_type": "code",
   "execution_count": null,
   "metadata": {
    "ExecuteTime": {
     "end_time": "2021-06-13T22:15:10.998226Z",
     "start_time": "2021-06-13T22:15:10.642Z"
    }
   },
   "outputs": [],
   "source": [
    "ans"
   ]
  },
  {
   "cell_type": "code",
   "execution_count": null,
   "metadata": {
    "ExecuteTime": {
     "end_time": "2021-06-13T22:15:10.999225Z",
     "start_time": "2021-06-13T22:15:10.643Z"
    }
   },
   "outputs": [],
   "source": [
    "\n",
    "ans"
   ]
  },
  {
   "cell_type": "code",
   "execution_count": null,
   "metadata": {
    "ExecuteTime": {
     "end_time": "2021-06-13T22:15:10.999225Z",
     "start_time": "2021-06-13T22:15:10.644Z"
    }
   },
   "outputs": [],
   "source": [
    "ans.columns = [user_id_name, metric_name]"
   ]
  },
  {
   "cell_type": "code",
   "execution_count": null,
   "metadata": {
    "ExecuteTime": {
     "end_time": "2021-06-13T22:15:11.000225Z",
     "start_time": "2021-06-13T22:15:10.644Z"
    }
   },
   "outputs": [],
   "source": [
    "ans"
   ]
  },
  {
   "cell_type": "code",
   "execution_count": null,
   "metadata": {},
   "outputs": [],
   "source": []
  }
 ],
 "metadata": {
  "kernelspec": {
   "display_name": "Python 3",
   "language": "python",
   "name": "python3"
  },
  "language_info": {
   "codemirror_mode": {
    "name": "ipython",
    "version": 3
   },
   "file_extension": ".py",
   "mimetype": "text/x-python",
   "name": "python",
   "nbconvert_exporter": "python",
   "pygments_lexer": "ipython3",
   "version": "3.7.6"
  }
 },
 "nbformat": 4,
 "nbformat_minor": 4
}
