{
 "cells": [
  {
   "cell_type": "code",
   "execution_count": 66,
   "metadata": {
    "ExecuteTime": {
     "end_time": "2021-06-14T00:55:29.144522Z",
     "start_time": "2021-06-14T00:55:29.132536Z"
    }
   },
   "outputs": [],
   "source": [
    "import numpy as np\n",
    "import pandas as pd\n",
    "\n",
    "\n",
    "def calculate_metric(\n",
    "    df, value_name, user_id_name, list_user_id, date_name, period, metric_name\n",
    "):\n",
    "    \"\"\"Вычисляет значение метрики для списка пользователей в определённый период.\n",
    "    \n",
    "    df - pd.DataFrame, датафрейм с данными\n",
    "    value_name - str, название столбца со значениями для вычисления целевой метрики\n",
    "    user_id_name - str, название столбца с идентификаторами пользователей\n",
    "    list_user_id - List[int], список идентификаторов пользователей, для которых нужно посчитать метрики\n",
    "    date_name - str, название столбца с датами\n",
    "    period - dict, словарь с датами начала и конца периода, за который нужно посчитать метрики.\n",
    "        Пример, {'begin': '2020-01-01', 'end': '2020-01-08'}. Дата начала периода входит нужный\n",
    "        полуинтервал, а дата окончание нет, то есть '2020-01-01' <= date < '2020-01-08'.\n",
    "    metric_name - str, название полученной метрики\n",
    "\n",
    "    return - pd.DataFrame, со столбцами [user_id_name, metric_name], кол-во строк должно быть равно\n",
    "        кол-ву элементов в списке list_user_id.\n",
    "    \"\"\"\n",
    "    # YOUR_CODE_HERE \n",
    "    date_filter = (period['begin'] <= df[date_name]) & (df[date_name] < period['end'])\n",
    "    sub_df = df[date_filter]\n",
    "    \n",
    "    sub_df = sub_df.query(f\"{user_id_name} in @list_user_id\")\n",
    "    \n",
    "    ans = sub_df.groupby(user_id_name)[value_name].sum().to_dict()\n",
    "    print(ans)\n",
    "    for k in list_user_id:\n",
    "        if k not in ans:\n",
    "            ans[k] = 0\n",
    "\n",
    "    ans = pd.DataFrame.from_dict(ans, orient='index').reset_index()\n",
    "    ans.columns = [user_id_name, metric_name]\n",
    "    return ans\n",
    "\n",
    "\n",
    "\n",
    "def calculate_metric_cuped(\n",
    "    df, value_name, user_id_name, list_user_id, date_name, periods, metric_name\n",
    "):\n",
    "    \"\"\"Вычисляет метрики во время пилота, коварианту и преобразованную метрику cuped.\n",
    "    \n",
    "    df - pd.DataFrame, датафрейм с данными\n",
    "    value_name - str, название столбца со значениями для вычисления целевой метрики\n",
    "    user_id_name - str, название столбца с идентификаторами пользователей\n",
    "    list_user_id - List[int], список идентификаторов пользователей, для которых нужно посчитать метрики\n",
    "    date_name - str, название столбца с датами\n",
    "    periods - dict, словарь с датами начала и конца периода пилота и препилота.\n",
    "        Пример, {\n",
    "            'prepilot': {'begin': '2020-01-01', 'end': '2020-01-08'},\n",
    "            'pilot': {'begin': '2020-01-08', 'end': '2020-01-15'}\n",
    "        }.\n",
    "        Дата начала периода входит в полуинтервал, а дата окончания нет,\n",
    "        то есть '2020-01-01' <= date < '2020-01-08'.\n",
    "    metric_name - str, название полученной метрики\n",
    "\n",
    "    return - pd.DataFrame, со столбцами\n",
    "        [user_id_name, metric_name, f'{metric_name}_prepilot', f'{metric_name}_cuped'],\n",
    "        кол-во строк должно быть равно кол-ву элементов в списке list_user_id.\n",
    "    \"\"\"\n",
    "    # YOUR_CODE_HERE\n",
    "    df_prepilot = calculate_metric(df, value_name, user_id_name, list_user_id, date_name, \n",
    "                                   periods['prepilot'], f'{metric_name}_prepilot')\n",
    "    df_pilot = calculate_metric(df, value_name, user_id_name, list_user_id, date_name, \n",
    "                                periods['pilot'], metric_name)\n",
    "    \n",
    "    df_combo = df_pilot.merge(df_prepilot, on=user_id_name)\n",
    "    df_combo.fillna(0, inplace=True)\n",
    "    \n",
    "    cov = np.cov([df_combo[f'{metric_name}_prepilot'], df_combo[metric_name]])[0, 1]\n",
    "    theta = cov / np.var(df_combo[f'{metric_name}_prepilot'])\n",
    "    \n",
    "    df_combo[f'{metric_name}_cuped'] = df_combo[metric_name] - theta * df_combo[f'{metric_name}_prepilot']\n",
    "    return df_combo"
   ]
  },
  {
   "cell_type": "code",
   "execution_count": 51,
   "metadata": {
    "ExecuteTime": {
     "end_time": "2021-06-13T22:30:16.760460Z",
     "start_time": "2021-06-13T22:30:16.746459Z"
    }
   },
   "outputs": [
    {
     "data": {
      "text/html": [
       "<div>\n",
       "<style scoped>\n",
       "    .dataframe tbody tr th:only-of-type {\n",
       "        vertical-align: middle;\n",
       "    }\n",
       "\n",
       "    .dataframe tbody tr th {\n",
       "        vertical-align: top;\n",
       "    }\n",
       "\n",
       "    .dataframe thead th {\n",
       "        text-align: right;\n",
       "    }\n",
       "</style>\n",
       "<table border=\"1\" class=\"dataframe\">\n",
       "  <thead>\n",
       "    <tr style=\"text-align: right;\">\n",
       "      <th></th>\n",
       "      <th>value_name2</th>\n",
       "      <th>user_id_name2</th>\n",
       "      <th>date_name2</th>\n",
       "    </tr>\n",
       "  </thead>\n",
       "  <tbody>\n",
       "    <tr>\n",
       "      <th>0</th>\n",
       "      <td>6</td>\n",
       "      <td>5006</td>\n",
       "      <td>2019-11-13</td>\n",
       "    </tr>\n",
       "    <tr>\n",
       "      <th>1</th>\n",
       "      <td>1</td>\n",
       "      <td>5006</td>\n",
       "      <td>2019-11-14</td>\n",
       "    </tr>\n",
       "    <tr>\n",
       "      <th>2</th>\n",
       "      <td>15</td>\n",
       "      <td>5006</td>\n",
       "      <td>2019-09-18</td>\n",
       "    </tr>\n",
       "    <tr>\n",
       "      <th>3</th>\n",
       "      <td>8</td>\n",
       "      <td>5006</td>\n",
       "      <td>2019-01-16</td>\n",
       "    </tr>\n",
       "    <tr>\n",
       "      <th>4</th>\n",
       "      <td>18</td>\n",
       "      <td>5006</td>\n",
       "      <td>2019-07-30</td>\n",
       "    </tr>\n",
       "    <tr>\n",
       "      <th>5</th>\n",
       "      <td>3</td>\n",
       "      <td>5002</td>\n",
       "      <td>2019-09-26</td>\n",
       "    </tr>\n",
       "    <tr>\n",
       "      <th>6</th>\n",
       "      <td>19</td>\n",
       "      <td>5000</td>\n",
       "      <td>2019-10-08</td>\n",
       "    </tr>\n",
       "    <tr>\n",
       "      <th>7</th>\n",
       "      <td>3</td>\n",
       "      <td>5004</td>\n",
       "      <td>2019-11-21</td>\n",
       "    </tr>\n",
       "    <tr>\n",
       "      <th>8</th>\n",
       "      <td>17</td>\n",
       "      <td>5000</td>\n",
       "      <td>2019-11-05</td>\n",
       "    </tr>\n",
       "    <tr>\n",
       "      <th>9</th>\n",
       "      <td>16</td>\n",
       "      <td>5007</td>\n",
       "      <td>2019-04-02</td>\n",
       "    </tr>\n",
       "    <tr>\n",
       "      <th>10</th>\n",
       "      <td>13</td>\n",
       "      <td>5002</td>\n",
       "      <td>2019-05-24</td>\n",
       "    </tr>\n",
       "    <tr>\n",
       "      <th>11</th>\n",
       "      <td>15</td>\n",
       "      <td>5007</td>\n",
       "      <td>2019-06-18</td>\n",
       "    </tr>\n",
       "    <tr>\n",
       "      <th>12</th>\n",
       "      <td>7</td>\n",
       "      <td>5007</td>\n",
       "      <td>2019-11-30</td>\n",
       "    </tr>\n",
       "    <tr>\n",
       "      <th>13</th>\n",
       "      <td>11</td>\n",
       "      <td>5001</td>\n",
       "      <td>2019-07-16</td>\n",
       "    </tr>\n",
       "    <tr>\n",
       "      <th>14</th>\n",
       "      <td>8</td>\n",
       "      <td>5004</td>\n",
       "      <td>2019-10-22</td>\n",
       "    </tr>\n",
       "    <tr>\n",
       "      <th>15</th>\n",
       "      <td>11</td>\n",
       "      <td>5006</td>\n",
       "      <td>2019-05-11</td>\n",
       "    </tr>\n",
       "    <tr>\n",
       "      <th>16</th>\n",
       "      <td>6</td>\n",
       "      <td>5002</td>\n",
       "      <td>2019-12-23</td>\n",
       "    </tr>\n",
       "    <tr>\n",
       "      <th>17</th>\n",
       "      <td>19</td>\n",
       "      <td>5006</td>\n",
       "      <td>2019-02-07</td>\n",
       "    </tr>\n",
       "    <tr>\n",
       "      <th>18</th>\n",
       "      <td>12</td>\n",
       "      <td>5001</td>\n",
       "      <td>2019-07-03</td>\n",
       "    </tr>\n",
       "    <tr>\n",
       "      <th>19</th>\n",
       "      <td>19</td>\n",
       "      <td>5003</td>\n",
       "      <td>2019-01-26</td>\n",
       "    </tr>\n",
       "  </tbody>\n",
       "</table>\n",
       "</div>"
      ],
      "text/plain": [
       "    value_name2  user_id_name2  date_name2\n",
       "0             6           5006  2019-11-13\n",
       "1             1           5006  2019-11-14\n",
       "2            15           5006  2019-09-18\n",
       "3             8           5006  2019-01-16\n",
       "4            18           5006  2019-07-30\n",
       "5             3           5002  2019-09-26\n",
       "6            19           5000  2019-10-08\n",
       "7             3           5004  2019-11-21\n",
       "8            17           5000  2019-11-05\n",
       "9            16           5007  2019-04-02\n",
       "10           13           5002  2019-05-24\n",
       "11           15           5007  2019-06-18\n",
       "12            7           5007  2019-11-30\n",
       "13           11           5001  2019-07-16\n",
       "14            8           5004  2019-10-22\n",
       "15           11           5006  2019-05-11\n",
       "16            6           5002  2019-12-23\n",
       "17           19           5006  2019-02-07\n",
       "18           12           5001  2019-07-03\n",
       "19           19           5003  2019-01-26"
      ]
     },
     "execution_count": 51,
     "metadata": {},
     "output_type": "execute_result"
    }
   ],
   "source": [
    "size = 20\n",
    "value_name2 = 'value_name2'\n",
    "user_id_name2 = 'user_id_name2'\n",
    "date_name2 = 'date_name2'\n",
    "period2 = {'begin': pd.to_datetime('2017-05-05'), 'end': pd.to_datetime('2019-09-09')}\n",
    "\n",
    "df = pd.DataFrame({value_name2: np.random.randint(1,20,size=size),\n",
    "                   user_id_name2: np.random.choice(np.unique(np.random.randint(5000,5010, size**2)), \n",
    "                                                    replace=True, size=size),\n",
    "                   date_name2: np.random.choice([x.date() for x in pd.date_range('2019-01-01', '2020-01-01')], \n",
    "                                                 replace=True, size=size)})\n",
    "df"
   ]
  },
  {
   "cell_type": "code",
   "execution_count": 52,
   "metadata": {
    "ExecuteTime": {
     "end_time": "2021-06-13T22:30:18.041750Z",
     "start_time": "2021-06-13T22:30:18.025753Z"
    }
   },
   "outputs": [],
   "source": [
    "metric_name2 = 'metric_name2'"
   ]
  },
  {
   "cell_type": "code",
   "execution_count": 72,
   "metadata": {
    "ExecuteTime": {
     "end_time": "2021-06-14T00:55:42.971113Z",
     "start_time": "2021-06-14T00:55:42.956278Z"
    }
   },
   "outputs": [
    {
     "data": {
      "text/plain": [
       "array([5002, 5006, 5004])"
      ]
     },
     "execution_count": 72,
     "metadata": {},
     "output_type": "execute_result"
    }
   ],
   "source": [
    "list_user_id2 = np.random.choice(df[user_id_name2].unique(), replace=False, size=3)\n",
    "list_user_id2"
   ]
  },
  {
   "cell_type": "code",
   "execution_count": 54,
   "metadata": {
    "ExecuteTime": {
     "end_time": "2021-06-13T22:30:18.715886Z",
     "start_time": "2021-06-13T22:30:18.699887Z"
    }
   },
   "outputs": [
    {
     "name": "stdout",
     "output_type": "stream",
     "text": [
      "{5003: 19, 5006: 56, 5007: 31}\n"
     ]
    },
    {
     "data": {
      "text/html": [
       "<div>\n",
       "<style scoped>\n",
       "    .dataframe tbody tr th:only-of-type {\n",
       "        vertical-align: middle;\n",
       "    }\n",
       "\n",
       "    .dataframe tbody tr th {\n",
       "        vertical-align: top;\n",
       "    }\n",
       "\n",
       "    .dataframe thead th {\n",
       "        text-align: right;\n",
       "    }\n",
       "</style>\n",
       "<table border=\"1\" class=\"dataframe\">\n",
       "  <thead>\n",
       "    <tr style=\"text-align: right;\">\n",
       "      <th></th>\n",
       "      <th>user_id_name2</th>\n",
       "      <th>metric_name2</th>\n",
       "    </tr>\n",
       "  </thead>\n",
       "  <tbody>\n",
       "    <tr>\n",
       "      <th>0</th>\n",
       "      <td>5003</td>\n",
       "      <td>19</td>\n",
       "    </tr>\n",
       "    <tr>\n",
       "      <th>1</th>\n",
       "      <td>5006</td>\n",
       "      <td>56</td>\n",
       "    </tr>\n",
       "    <tr>\n",
       "      <th>2</th>\n",
       "      <td>5007</td>\n",
       "      <td>31</td>\n",
       "    </tr>\n",
       "  </tbody>\n",
       "</table>\n",
       "</div>"
      ],
      "text/plain": [
       "   user_id_name2  metric_name2\n",
       "0           5003            19\n",
       "1           5006            56\n",
       "2           5007            31"
      ]
     },
     "execution_count": 54,
     "metadata": {},
     "output_type": "execute_result"
    }
   ],
   "source": [
    "ans = calculate_metric(df, value_name2, user_id_name2, list_user_id2, date_name2, period2, metric_name2)\n",
    "ans"
   ]
  },
  {
   "cell_type": "code",
   "execution_count": 73,
   "metadata": {
    "ExecuteTime": {
     "end_time": "2021-06-14T00:55:43.969674Z",
     "start_time": "2021-06-14T00:55:43.939993Z"
    }
   },
   "outputs": [
    {
     "name": "stdout",
     "output_type": "stream",
     "text": [
      "{5002: 13, 5006: 56}\n",
      "{5002: 6, 5004: 11, 5006: 7}\n",
      "-0.07159487776484284 -41.0\n"
     ]
    },
    {
     "data": {
      "text/html": [
       "<div>\n",
       "<style scoped>\n",
       "    .dataframe tbody tr th:only-of-type {\n",
       "        vertical-align: middle;\n",
       "    }\n",
       "\n",
       "    .dataframe tbody tr th {\n",
       "        vertical-align: top;\n",
       "    }\n",
       "\n",
       "    .dataframe thead th {\n",
       "        text-align: right;\n",
       "    }\n",
       "</style>\n",
       "<table border=\"1\" class=\"dataframe\">\n",
       "  <thead>\n",
       "    <tr style=\"text-align: right;\">\n",
       "      <th></th>\n",
       "      <th>user_id_name2</th>\n",
       "      <th>metric_name2</th>\n",
       "      <th>metric_name2_prepilot</th>\n",
       "      <th>metric_name2_cuped</th>\n",
       "    </tr>\n",
       "  </thead>\n",
       "  <tbody>\n",
       "    <tr>\n",
       "      <th>0</th>\n",
       "      <td>5002</td>\n",
       "      <td>6</td>\n",
       "      <td>13</td>\n",
       "      <td>6.930733</td>\n",
       "    </tr>\n",
       "    <tr>\n",
       "      <th>1</th>\n",
       "      <td>5004</td>\n",
       "      <td>11</td>\n",
       "      <td>0</td>\n",
       "      <td>11.000000</td>\n",
       "    </tr>\n",
       "    <tr>\n",
       "      <th>2</th>\n",
       "      <td>5006</td>\n",
       "      <td>7</td>\n",
       "      <td>56</td>\n",
       "      <td>11.009313</td>\n",
       "    </tr>\n",
       "  </tbody>\n",
       "</table>\n",
       "</div>"
      ],
      "text/plain": [
       "   user_id_name2  metric_name2  metric_name2_prepilot  metric_name2_cuped\n",
       "0           5002             6                     13            6.930733\n",
       "1           5004            11                      0           11.000000\n",
       "2           5006             7                     56           11.009313"
      ]
     },
     "execution_count": 73,
     "metadata": {},
     "output_type": "execute_result"
    }
   ],
   "source": [
    "periods = {'prepilot': period2, \n",
    "           'pilot': {'begin': pd.to_datetime('2019-10-10'),\n",
    "                     'end': pd.to_datetime('2020-10-10')}}\n",
    "calculate_metric_cuped(df, value_name2, user_id_name2, list_user_id2, date_name2, periods, metric_name2)"
   ]
  },
  {
   "cell_type": "code",
   "execution_count": 6,
   "metadata": {
    "ExecuteTime": {
     "end_time": "2021-06-13T22:15:10.983255Z",
     "start_time": "2021-06-13T22:15:10.936364Z"
    }
   },
   "outputs": [
    {
     "ename": "NameError",
     "evalue": "name 'qwe' is not defined",
     "output_type": "error",
     "traceback": [
      "\u001b[1;31m---------------------------------------------------------------------------\u001b[0m",
      "\u001b[1;31mNameError\u001b[0m                                 Traceback (most recent call last)",
      "\u001b[1;32m<ipython-input-6-c71de136f937>\u001b[0m in \u001b[0;36m<module>\u001b[1;34m\u001b[0m\n\u001b[1;32m----> 1\u001b[1;33m \u001b[0mqwe\u001b[0m\u001b[1;33m\u001b[0m\u001b[1;33m\u001b[0m\u001b[0m\n\u001b[0m",
      "\u001b[1;31mNameError\u001b[0m: name 'qwe' is not defined"
     ]
    }
   ],
   "source": [
    "qwe"
   ]
  },
  {
   "cell_type": "code",
   "execution_count": null,
   "metadata": {
    "ExecuteTime": {
     "end_time": "2021-06-13T22:15:10.996251Z",
     "start_time": "2021-06-13T22:15:10.636Z"
    }
   },
   "outputs": [],
   "source": [
    "for k in ['begin', 'end']:\n",
    "    period[k] = pd.to_datetime(period[k], format='%Y-%m-%d').date()\n",
    "period"
   ]
  },
  {
   "cell_type": "code",
   "execution_count": null,
   "metadata": {
    "ExecuteTime": {
     "end_time": "2021-06-13T22:15:10.996251Z",
     "start_time": "2021-06-13T22:15:10.638Z"
    }
   },
   "outputs": [],
   "source": [
    "date_filter = (period['begin'] <= df[date_name]) & (df[date_name] < period['end'])\n",
    "sub_df = df[date_filter]\n",
    "sub_df"
   ]
  },
  {
   "cell_type": "code",
   "execution_count": null,
   "metadata": {
    "ExecuteTime": {
     "end_time": "2021-06-13T22:15:10.997225Z",
     "start_time": "2021-06-13T22:15:10.639Z"
    }
   },
   "outputs": [],
   "source": [
    "sub_df[sub_df.user_id_name.isin(list_user_id).values]"
   ]
  },
  {
   "cell_type": "code",
   "execution_count": null,
   "metadata": {
    "ExecuteTime": {
     "end_time": "2021-06-13T22:15:10.997225Z",
     "start_time": "2021-06-13T22:15:10.640Z"
    }
   },
   "outputs": [],
   "source": [
    "sub_df = sub_df.query(f\"{user_id_name} in @list_user_id\")\n",
    "sub_df"
   ]
  },
  {
   "cell_type": "code",
   "execution_count": null,
   "metadata": {
    "ExecuteTime": {
     "end_time": "2021-06-13T22:09:22.378404Z",
     "start_time": "2021-06-13T22:09:22.365696Z"
    }
   },
   "outputs": [],
   "source": []
  },
  {
   "cell_type": "code",
   "execution_count": null,
   "metadata": {
    "ExecuteTime": {
     "end_time": "2021-06-13T22:15:10.998226Z",
     "start_time": "2021-06-13T22:15:10.642Z"
    }
   },
   "outputs": [],
   "source": [
    "ans = sub_df.groupby(user_id_name)[value_name].sum().to_dict()#reset_index()\n",
    "for k in list_user_id:\n",
    "    if k not in ans:\n",
    "        ans[k] = 0\n",
    "        \n",
    "ans = pd.DataFrame.from_dict(ans, orient='index').reset_index()\n",
    "ans.columns = [user_id_name, metric_name]"
   ]
  },
  {
   "cell_type": "code",
   "execution_count": null,
   "metadata": {
    "ExecuteTime": {
     "end_time": "2021-06-13T22:15:10.998226Z",
     "start_time": "2021-06-13T22:15:10.642Z"
    }
   },
   "outputs": [],
   "source": [
    "ans"
   ]
  },
  {
   "cell_type": "code",
   "execution_count": null,
   "metadata": {
    "ExecuteTime": {
     "end_time": "2021-06-13T22:15:10.999225Z",
     "start_time": "2021-06-13T22:15:10.643Z"
    }
   },
   "outputs": [],
   "source": [
    "\n",
    "ans"
   ]
  },
  {
   "cell_type": "code",
   "execution_count": null,
   "metadata": {
    "ExecuteTime": {
     "end_time": "2021-06-13T22:15:10.999225Z",
     "start_time": "2021-06-13T22:15:10.644Z"
    }
   },
   "outputs": [],
   "source": [
    "ans.columns = [user_id_name, metric_name]"
   ]
  },
  {
   "cell_type": "code",
   "execution_count": null,
   "metadata": {
    "ExecuteTime": {
     "end_time": "2021-06-13T22:15:11.000225Z",
     "start_time": "2021-06-13T22:15:10.644Z"
    }
   },
   "outputs": [],
   "source": [
    "ans"
   ]
  },
  {
   "cell_type": "code",
   "execution_count": null,
   "metadata": {},
   "outputs": [],
   "source": []
  }
 ],
 "metadata": {
  "kernelspec": {
   "display_name": "Python 3",
   "language": "python",
   "name": "python3"
  },
  "language_info": {
   "codemirror_mode": {
    "name": "ipython",
    "version": 3
   },
   "file_extension": ".py",
   "mimetype": "text/x-python",
   "name": "python",
   "nbconvert_exporter": "python",
   "pygments_lexer": "ipython3",
   "version": "3.7.6"
  }
 },
 "nbformat": 4,
 "nbformat_minor": 4
}
